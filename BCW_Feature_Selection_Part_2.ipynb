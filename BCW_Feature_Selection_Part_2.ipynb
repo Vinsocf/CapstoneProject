{
  "nbformat": 4,
  "nbformat_minor": 0,
  "metadata": {
    "kernelspec": {
      "display_name": "Python 3",
      "language": "python",
      "name": "python3"
    },
    "language_info": {
      "codemirror_mode": {
        "name": "ipython",
        "version": 3
      },
      "file_extension": ".py",
      "mimetype": "text/x-python",
      "name": "python",
      "nbconvert_exporter": "python",
      "pygments_lexer": "ipython3",
      "version": "3.7.1"
    },
    "colab": {
      "name": "BCW_Feature_Selection_Part 2.ipynb",
      "provenance": [],
      "include_colab_link": true
    }
  },
  "cells": [
    {
      "cell_type": "markdown",
      "metadata": {
        "id": "view-in-github",
        "colab_type": "text"
      },
      "source": [
        "<a href=\"https://colab.research.google.com/github/Vinsocf/CapstoneProject/blob/main/BCW_Feature_Selection_Part_2.ipynb\" target=\"_parent\"><img src=\"https://colab.research.google.com/assets/colab-badge.svg\" alt=\"Open In Colab\"/></a>"
      ]
    },
    {
      "cell_type": "markdown",
      "metadata": {
        "id": "jcog8LMIeQzw"
      },
      "source": [
        "# Building Machine Learning Model to predict whether the cancer is benign or malignant on Breast Cancer Wisconsin Data Set !! Part 2"
      ]
    },
    {
      "cell_type": "markdown",
      "metadata": {
        "id": "WoWymCrleQzy"
      },
      "source": [
        "We will follow the below Macine Learning pipeline steps:\n",
        "\n",
        "    1. Step 1: Define Problem Statement\n",
        "    2. Step 2: Data Collection\n",
        "    3. Step 3: Cleaning the Data\n",
        "    4. Step 4: Data Analysis and Exploration\n",
        "    5. Step 5: Feature Selection\n",
        "    6. Step 6: Data Modelling\n",
        "    7. Step 7: Mode Validation\n",
        "    8. Step 8: Deployment\n",
        "\n",
        "#### This is the notebook for step 5 : FeatureSelection\n",
        "\n",
        "We are using the Breast Cancer Wisconsin dataset available on UCI Machine Learning Repository.\n",
        "\n",
        "=================================================================================================="
      ]
    },
    {
      "cell_type": "markdown",
      "metadata": {
        "id": "De6EQ1-IeQzz"
      },
      "source": [
        "### Predicting whether the cancer is benign or malignant\n",
        "\n",
        "Our objective is to identify which features are most helpful in predicting malignant or benign cancer and to classify whether the breast cancer is benign or malignant"
      ]
    },
    {
      "cell_type": "markdown",
      "metadata": {
        "id": "AQkRqogleQz0"
      },
      "source": [
        "# Part 2 \n",
        "### Step 5 : Feature Selection Techniques in Predictive modeling using Python\n",
        "#### A vote based approach to reduce the number of Features in a Dataset with Python"
      ]
    },
    {
      "cell_type": "markdown",
      "metadata": {
        "id": "50Wjv1WieQz0"
      },
      "source": [
        "In the following cells, we will select a group of variables, the most predictive ones, to build our machine learning models. Feature Selection is the process where you automatically or manually select those features which contribute most to your prediction variable or output in which you are interested in. Having irrelevant features in your data can decrease the accuracy of the models and make your model learn based on irrelevant features. The selection of relevant features may also get benefitted from the right domain knowledge.\n",
        "\n",
        "### Why do we need to select variables?\n",
        "\n",
        "1. For production: Fewer variables mean smaller client input requirements (e.g. customers filling out a form on a website or mobile app), and hence less code for error handling. This reduces the chances of bugs.\n",
        "2. For model performance: Fewer variables mean simpler, more interpretable, less over-fitted models"
      ]
    },
    {
      "cell_type": "markdown",
      "metadata": {
        "id": "SRblZoDDeQz0"
      },
      "source": [
        "In this part we will select feature with different methods that are \n",
        "\n",
        "#### 1. Feature selection with correlation \n",
        "#### 2. Univariate feature selection (Chi-square)\n",
        "#### 3. Recursive feature elimination (RFE) with random forest\n",
        "#### 4. Recursive feature elimination with cross validation(RFECV) with random forest\n",
        "#### 5. Tree based feature selection with random forest classification\n",
        "#### 6. L1-based feature selection (LinearSVC)\n",
        "#### 7. Tree-based feature selection (ExtraTrees)\n",
        "#### 8. Vote based feature selection\n",
        "\n",
        "We will use random forest classification in order to train our model and predict."
      ]
    },
    {
      "cell_type": "markdown",
      "metadata": {
        "id": "yY3Ln6_teQz1"
      },
      "source": [
        "#### Import libraries"
      ]
    },
    {
      "cell_type": "code",
      "metadata": {
        "id": "JRqTt9b-eQz2"
      },
      "source": [
        "# importing the libraries\n",
        "# linear algebra\n",
        "import numpy as np \n",
        "# data processing, CSV file I/O\n",
        "import pandas as pd \n",
        "# data visualization library\n",
        "import seaborn as sns  \n",
        "import matplotlib.pyplot as plt\n",
        "from pandas import DataFrame\n",
        "import time\n",
        "#from subprocess import check_output\n",
        "#print(check_output([\"ls\", \"../input\"]).decode(\"utf8\"))"
      ],
      "execution_count": 1,
      "outputs": []
    },
    {
      "cell_type": "markdown",
      "metadata": {
        "id": "TlndCU8oeQz3"
      },
      "source": [
        "#### Import dataset"
      ]
    },
    {
      "cell_type": "code",
      "metadata": {
        "id": "2bvuwXAseQz3"
      },
      "source": [
        "dataset = pd.read_csv('https://raw.githubusercontent.com/Muhd-Shahid/Breast-Cancer-Wisconsin/master/data_breast-cancer-wiscons.csv')"
      ],
      "execution_count": 2,
      "outputs": []
    },
    {
      "cell_type": "markdown",
      "metadata": {
        "id": "KwWnZPwZeQz4"
      },
      "source": [
        "#### Drop unnecessary columns in a dataset"
      ]
    },
    {
      "cell_type": "code",
      "metadata": {
        "colab": {
          "base_uri": "https://localhost:8080/",
          "height": 244
        },
        "id": "SBnTRCUZeQz4",
        "outputId": "700f6f26-39d9-4593-d994-ba725a70b66a"
      },
      "source": [
        "# y includes our labels and x includes our features\n",
        "y = dataset.diagnosis                          # M or B \n",
        "d_list = ['Unnamed: 32','id','diagnosis']\n",
        "x = dataset.drop(d_list,axis = 1 )\n",
        "x.head()"
      ],
      "execution_count": 3,
      "outputs": [
        {
          "output_type": "execute_result",
          "data": {
            "text/html": [
              "<div>\n",
              "<style scoped>\n",
              "    .dataframe tbody tr th:only-of-type {\n",
              "        vertical-align: middle;\n",
              "    }\n",
              "\n",
              "    .dataframe tbody tr th {\n",
              "        vertical-align: top;\n",
              "    }\n",
              "\n",
              "    .dataframe thead th {\n",
              "        text-align: right;\n",
              "    }\n",
              "</style>\n",
              "<table border=\"1\" class=\"dataframe\">\n",
              "  <thead>\n",
              "    <tr style=\"text-align: right;\">\n",
              "      <th></th>\n",
              "      <th>radius_mean</th>\n",
              "      <th>texture_mean</th>\n",
              "      <th>perimeter_mean</th>\n",
              "      <th>area_mean</th>\n",
              "      <th>smoothness_mean</th>\n",
              "      <th>compactness_mean</th>\n",
              "      <th>concavity_mean</th>\n",
              "      <th>concave points_mean</th>\n",
              "      <th>symmetry_mean</th>\n",
              "      <th>fractal_dimension_mean</th>\n",
              "      <th>radius_se</th>\n",
              "      <th>texture_se</th>\n",
              "      <th>perimeter_se</th>\n",
              "      <th>area_se</th>\n",
              "      <th>smoothness_se</th>\n",
              "      <th>compactness_se</th>\n",
              "      <th>concavity_se</th>\n",
              "      <th>concave points_se</th>\n",
              "      <th>symmetry_se</th>\n",
              "      <th>fractal_dimension_se</th>\n",
              "      <th>radius_worst</th>\n",
              "      <th>texture_worst</th>\n",
              "      <th>perimeter_worst</th>\n",
              "      <th>area_worst</th>\n",
              "      <th>smoothness_worst</th>\n",
              "      <th>compactness_worst</th>\n",
              "      <th>concavity_worst</th>\n",
              "      <th>concave points_worst</th>\n",
              "      <th>symmetry_worst</th>\n",
              "      <th>fractal_dimension_worst</th>\n",
              "    </tr>\n",
              "  </thead>\n",
              "  <tbody>\n",
              "    <tr>\n",
              "      <th>0</th>\n",
              "      <td>17.99</td>\n",
              "      <td>10.38</td>\n",
              "      <td>122.80</td>\n",
              "      <td>1001.0</td>\n",
              "      <td>0.11840</td>\n",
              "      <td>0.27760</td>\n",
              "      <td>0.3001</td>\n",
              "      <td>0.14710</td>\n",
              "      <td>0.2419</td>\n",
              "      <td>0.07871</td>\n",
              "      <td>1.0950</td>\n",
              "      <td>0.9053</td>\n",
              "      <td>8.589</td>\n",
              "      <td>153.40</td>\n",
              "      <td>0.006399</td>\n",
              "      <td>0.04904</td>\n",
              "      <td>0.05373</td>\n",
              "      <td>0.01587</td>\n",
              "      <td>0.03003</td>\n",
              "      <td>0.006193</td>\n",
              "      <td>25.38</td>\n",
              "      <td>17.33</td>\n",
              "      <td>184.60</td>\n",
              "      <td>2019.0</td>\n",
              "      <td>0.1622</td>\n",
              "      <td>0.6656</td>\n",
              "      <td>0.7119</td>\n",
              "      <td>0.2654</td>\n",
              "      <td>0.4601</td>\n",
              "      <td>0.11890</td>\n",
              "    </tr>\n",
              "    <tr>\n",
              "      <th>1</th>\n",
              "      <td>20.57</td>\n",
              "      <td>17.77</td>\n",
              "      <td>132.90</td>\n",
              "      <td>1326.0</td>\n",
              "      <td>0.08474</td>\n",
              "      <td>0.07864</td>\n",
              "      <td>0.0869</td>\n",
              "      <td>0.07017</td>\n",
              "      <td>0.1812</td>\n",
              "      <td>0.05667</td>\n",
              "      <td>0.5435</td>\n",
              "      <td>0.7339</td>\n",
              "      <td>3.398</td>\n",
              "      <td>74.08</td>\n",
              "      <td>0.005225</td>\n",
              "      <td>0.01308</td>\n",
              "      <td>0.01860</td>\n",
              "      <td>0.01340</td>\n",
              "      <td>0.01389</td>\n",
              "      <td>0.003532</td>\n",
              "      <td>24.99</td>\n",
              "      <td>23.41</td>\n",
              "      <td>158.80</td>\n",
              "      <td>1956.0</td>\n",
              "      <td>0.1238</td>\n",
              "      <td>0.1866</td>\n",
              "      <td>0.2416</td>\n",
              "      <td>0.1860</td>\n",
              "      <td>0.2750</td>\n",
              "      <td>0.08902</td>\n",
              "    </tr>\n",
              "    <tr>\n",
              "      <th>2</th>\n",
              "      <td>19.69</td>\n",
              "      <td>21.25</td>\n",
              "      <td>130.00</td>\n",
              "      <td>1203.0</td>\n",
              "      <td>0.10960</td>\n",
              "      <td>0.15990</td>\n",
              "      <td>0.1974</td>\n",
              "      <td>0.12790</td>\n",
              "      <td>0.2069</td>\n",
              "      <td>0.05999</td>\n",
              "      <td>0.7456</td>\n",
              "      <td>0.7869</td>\n",
              "      <td>4.585</td>\n",
              "      <td>94.03</td>\n",
              "      <td>0.006150</td>\n",
              "      <td>0.04006</td>\n",
              "      <td>0.03832</td>\n",
              "      <td>0.02058</td>\n",
              "      <td>0.02250</td>\n",
              "      <td>0.004571</td>\n",
              "      <td>23.57</td>\n",
              "      <td>25.53</td>\n",
              "      <td>152.50</td>\n",
              "      <td>1709.0</td>\n",
              "      <td>0.1444</td>\n",
              "      <td>0.4245</td>\n",
              "      <td>0.4504</td>\n",
              "      <td>0.2430</td>\n",
              "      <td>0.3613</td>\n",
              "      <td>0.08758</td>\n",
              "    </tr>\n",
              "    <tr>\n",
              "      <th>3</th>\n",
              "      <td>11.42</td>\n",
              "      <td>20.38</td>\n",
              "      <td>77.58</td>\n",
              "      <td>386.1</td>\n",
              "      <td>0.14250</td>\n",
              "      <td>0.28390</td>\n",
              "      <td>0.2414</td>\n",
              "      <td>0.10520</td>\n",
              "      <td>0.2597</td>\n",
              "      <td>0.09744</td>\n",
              "      <td>0.4956</td>\n",
              "      <td>1.1560</td>\n",
              "      <td>3.445</td>\n",
              "      <td>27.23</td>\n",
              "      <td>0.009110</td>\n",
              "      <td>0.07458</td>\n",
              "      <td>0.05661</td>\n",
              "      <td>0.01867</td>\n",
              "      <td>0.05963</td>\n",
              "      <td>0.009208</td>\n",
              "      <td>14.91</td>\n",
              "      <td>26.50</td>\n",
              "      <td>98.87</td>\n",
              "      <td>567.7</td>\n",
              "      <td>0.2098</td>\n",
              "      <td>0.8663</td>\n",
              "      <td>0.6869</td>\n",
              "      <td>0.2575</td>\n",
              "      <td>0.6638</td>\n",
              "      <td>0.17300</td>\n",
              "    </tr>\n",
              "    <tr>\n",
              "      <th>4</th>\n",
              "      <td>20.29</td>\n",
              "      <td>14.34</td>\n",
              "      <td>135.10</td>\n",
              "      <td>1297.0</td>\n",
              "      <td>0.10030</td>\n",
              "      <td>0.13280</td>\n",
              "      <td>0.1980</td>\n",
              "      <td>0.10430</td>\n",
              "      <td>0.1809</td>\n",
              "      <td>0.05883</td>\n",
              "      <td>0.7572</td>\n",
              "      <td>0.7813</td>\n",
              "      <td>5.438</td>\n",
              "      <td>94.44</td>\n",
              "      <td>0.011490</td>\n",
              "      <td>0.02461</td>\n",
              "      <td>0.05688</td>\n",
              "      <td>0.01885</td>\n",
              "      <td>0.01756</td>\n",
              "      <td>0.005115</td>\n",
              "      <td>22.54</td>\n",
              "      <td>16.67</td>\n",
              "      <td>152.20</td>\n",
              "      <td>1575.0</td>\n",
              "      <td>0.1374</td>\n",
              "      <td>0.2050</td>\n",
              "      <td>0.4000</td>\n",
              "      <td>0.1625</td>\n",
              "      <td>0.2364</td>\n",
              "      <td>0.07678</td>\n",
              "    </tr>\n",
              "  </tbody>\n",
              "</table>\n",
              "</div>"
            ],
            "text/plain": [
              "   radius_mean  texture_mean  ...  symmetry_worst  fractal_dimension_worst\n",
              "0        17.99         10.38  ...          0.4601                  0.11890\n",
              "1        20.57         17.77  ...          0.2750                  0.08902\n",
              "2        19.69         21.25  ...          0.3613                  0.08758\n",
              "3        11.42         20.38  ...          0.6638                  0.17300\n",
              "4        20.29         14.34  ...          0.2364                  0.07678\n",
              "\n",
              "[5 rows x 30 columns]"
            ]
          },
          "metadata": {},
          "execution_count": 3
        }
      ]
    },
    {
      "cell_type": "markdown",
      "metadata": {
        "id": "bvy4N-t2eQz6"
      },
      "source": [
        "#### 1) Feature selection with correlation"
      ]
    },
    {
      "cell_type": "markdown",
      "metadata": {
        "id": "F5cCSUimeQz6"
      },
      "source": [
        "As it can be seen in map heat figure radius_mean, perimeter_mean and area_mean are correlated with each other so we will use only area_mean. If you ask how i choose area_mean as a feature to use, well actually there is no correct answer, I just look at swarm plots and area_mean looks like clear for me but we cannot make exact separation among other correlated features without trying. So lets find other correlated features and look accuracy with random forest classifier.\n",
        "\n",
        "Compactness_mean, concavity_mean and concave points_mean are correlated with each other.Therefore I only choose concavity_mean. Apart from these, radius_se, perimeter_se and area_se are correlated and I only use area_se. radius_worst, perimeter_worst and area_worst are correlated so I use area_worst. Compactness_worst, concavity_worst and concave points_worst so I use concavity_worst. Compactness_se, concavity_se and concave points_se so I use concavity_se. texture_mean and texture_worst are correlated and I use texture_mean. area_worst and area_mean are correlated, I use area_mean."
      ]
    },
    {
      "cell_type": "markdown",
      "metadata": {
        "id": "OfPnR3fDeQz6"
      },
      "source": [
        "#### Drop high correlated columns in a dataset"
      ]
    },
    {
      "cell_type": "code",
      "metadata": {
        "colab": {
          "base_uri": "https://localhost:8080/",
          "height": 550
        },
        "id": "1jI6V8zxeQz7",
        "outputId": "10919039-8591-4e8b-dc44-065bf278612c"
      },
      "source": [
        "drop_list_cor = ['perimeter_mean','radius_mean','compactness_mean','concave points_mean','radius_se','perimeter_se','radius_worst','perimeter_worst','compactness_worst','concave points_worst','compactness_se','concave points_se','texture_worst','area_worst']\n",
        "x_1 = x.drop(drop_list_cor,axis = 1 )        # do not modify x, we will use it later \n",
        "x_1.head()\n",
        "selected_feature_corr=x_1.columns\n",
        "fs_corr = np.ones(len(x_1.columns)).astype(int)\n",
        "fs_corr = DataFrame(fs_corr, columns = [\"Corr\"], index=x_1.columns)\n",
        "fs_corr"
      ],
      "execution_count": 4,
      "outputs": [
        {
          "output_type": "execute_result",
          "data": {
            "text/html": [
              "<div>\n",
              "<style scoped>\n",
              "    .dataframe tbody tr th:only-of-type {\n",
              "        vertical-align: middle;\n",
              "    }\n",
              "\n",
              "    .dataframe tbody tr th {\n",
              "        vertical-align: top;\n",
              "    }\n",
              "\n",
              "    .dataframe thead th {\n",
              "        text-align: right;\n",
              "    }\n",
              "</style>\n",
              "<table border=\"1\" class=\"dataframe\">\n",
              "  <thead>\n",
              "    <tr style=\"text-align: right;\">\n",
              "      <th></th>\n",
              "      <th>Corr</th>\n",
              "    </tr>\n",
              "  </thead>\n",
              "  <tbody>\n",
              "    <tr>\n",
              "      <th>texture_mean</th>\n",
              "      <td>1</td>\n",
              "    </tr>\n",
              "    <tr>\n",
              "      <th>area_mean</th>\n",
              "      <td>1</td>\n",
              "    </tr>\n",
              "    <tr>\n",
              "      <th>smoothness_mean</th>\n",
              "      <td>1</td>\n",
              "    </tr>\n",
              "    <tr>\n",
              "      <th>concavity_mean</th>\n",
              "      <td>1</td>\n",
              "    </tr>\n",
              "    <tr>\n",
              "      <th>symmetry_mean</th>\n",
              "      <td>1</td>\n",
              "    </tr>\n",
              "    <tr>\n",
              "      <th>fractal_dimension_mean</th>\n",
              "      <td>1</td>\n",
              "    </tr>\n",
              "    <tr>\n",
              "      <th>texture_se</th>\n",
              "      <td>1</td>\n",
              "    </tr>\n",
              "    <tr>\n",
              "      <th>area_se</th>\n",
              "      <td>1</td>\n",
              "    </tr>\n",
              "    <tr>\n",
              "      <th>smoothness_se</th>\n",
              "      <td>1</td>\n",
              "    </tr>\n",
              "    <tr>\n",
              "      <th>concavity_se</th>\n",
              "      <td>1</td>\n",
              "    </tr>\n",
              "    <tr>\n",
              "      <th>symmetry_se</th>\n",
              "      <td>1</td>\n",
              "    </tr>\n",
              "    <tr>\n",
              "      <th>fractal_dimension_se</th>\n",
              "      <td>1</td>\n",
              "    </tr>\n",
              "    <tr>\n",
              "      <th>smoothness_worst</th>\n",
              "      <td>1</td>\n",
              "    </tr>\n",
              "    <tr>\n",
              "      <th>concavity_worst</th>\n",
              "      <td>1</td>\n",
              "    </tr>\n",
              "    <tr>\n",
              "      <th>symmetry_worst</th>\n",
              "      <td>1</td>\n",
              "    </tr>\n",
              "    <tr>\n",
              "      <th>fractal_dimension_worst</th>\n",
              "      <td>1</td>\n",
              "    </tr>\n",
              "  </tbody>\n",
              "</table>\n",
              "</div>"
            ],
            "text/plain": [
              "                         Corr\n",
              "texture_mean                1\n",
              "area_mean                   1\n",
              "smoothness_mean             1\n",
              "concavity_mean              1\n",
              "symmetry_mean               1\n",
              "fractal_dimension_mean      1\n",
              "texture_se                  1\n",
              "area_se                     1\n",
              "smoothness_se               1\n",
              "concavity_se                1\n",
              "symmetry_se                 1\n",
              "fractal_dimension_se        1\n",
              "smoothness_worst            1\n",
              "concavity_worst             1\n",
              "symmetry_worst              1\n",
              "fractal_dimension_worst     1"
            ]
          },
          "metadata": {},
          "execution_count": 4
        }
      ]
    },
    {
      "cell_type": "code",
      "metadata": {
        "id": "GqDulYpoeQz7"
      },
      "source": [
        "fs_corr = fs_corr.reset_index()"
      ],
      "execution_count": 5,
      "outputs": []
    },
    {
      "cell_type": "code",
      "metadata": {
        "colab": {
          "base_uri": "https://localhost:8080/",
          "height": 206
        },
        "id": "jUNqkc-KeQz7",
        "outputId": "66bde2e8-3502-412e-d7c9-1edb2273a054"
      },
      "source": [
        "fs_corr.head()"
      ],
      "execution_count": 6,
      "outputs": [
        {
          "output_type": "execute_result",
          "data": {
            "text/html": [
              "<div>\n",
              "<style scoped>\n",
              "    .dataframe tbody tr th:only-of-type {\n",
              "        vertical-align: middle;\n",
              "    }\n",
              "\n",
              "    .dataframe tbody tr th {\n",
              "        vertical-align: top;\n",
              "    }\n",
              "\n",
              "    .dataframe thead th {\n",
              "        text-align: right;\n",
              "    }\n",
              "</style>\n",
              "<table border=\"1\" class=\"dataframe\">\n",
              "  <thead>\n",
              "    <tr style=\"text-align: right;\">\n",
              "      <th></th>\n",
              "      <th>index</th>\n",
              "      <th>Corr</th>\n",
              "    </tr>\n",
              "  </thead>\n",
              "  <tbody>\n",
              "    <tr>\n",
              "      <th>0</th>\n",
              "      <td>texture_mean</td>\n",
              "      <td>1</td>\n",
              "    </tr>\n",
              "    <tr>\n",
              "      <th>1</th>\n",
              "      <td>area_mean</td>\n",
              "      <td>1</td>\n",
              "    </tr>\n",
              "    <tr>\n",
              "      <th>2</th>\n",
              "      <td>smoothness_mean</td>\n",
              "      <td>1</td>\n",
              "    </tr>\n",
              "    <tr>\n",
              "      <th>3</th>\n",
              "      <td>concavity_mean</td>\n",
              "      <td>1</td>\n",
              "    </tr>\n",
              "    <tr>\n",
              "      <th>4</th>\n",
              "      <td>symmetry_mean</td>\n",
              "      <td>1</td>\n",
              "    </tr>\n",
              "  </tbody>\n",
              "</table>\n",
              "</div>"
            ],
            "text/plain": [
              "             index  Corr\n",
              "0     texture_mean     1\n",
              "1        area_mean     1\n",
              "2  smoothness_mean     1\n",
              "3   concavity_mean     1\n",
              "4    symmetry_mean     1"
            ]
          },
          "metadata": {},
          "execution_count": 6
        }
      ]
    },
    {
      "cell_type": "markdown",
      "metadata": {
        "id": "2NvYum9HeQz7"
      },
      "source": [
        "After drop correlated features, as it can be seen in below correlation matrix, there are no more correlated features. Actually, I know and you see there is correlation value 0.9 but lets see together what happen if we do not drop it."
      ]
    },
    {
      "cell_type": "code",
      "metadata": {
        "colab": {
          "base_uri": "https://localhost:8080/",
          "height": 942
        },
        "id": "mTDe51EKeQz7",
        "outputId": "e9717230-7997-4037-830b-ac7d9b57d7c7"
      },
      "source": [
        "#correlation map\n",
        "f,ax = plt.subplots(figsize=(14, 14))\n",
        "sns.heatmap(x_1.corr(), annot=True, linewidths=.5, fmt= '.1f',ax=ax)"
      ],
      "execution_count": 7,
      "outputs": [
        {
          "output_type": "execute_result",
          "data": {
            "text/plain": [
              "<matplotlib.axes._subplots.AxesSubplot at 0x7faa9db73250>"
            ]
          },
          "metadata": {},
          "execution_count": 7
        },
        {
          "output_type": "display_data",
          "data": {
            "image/png": "[encoded data removed]",
            "text/plain": [
              "<Figure size 1008x1008 with 2 Axes>"
            ]
          },
          "metadata": {
            "needs_background": "light"
          }
        }
      ]
    },
    {
      "cell_type": "markdown",
      "metadata": {
        "id": "VyTUM6TLeQz8"
      },
      "source": [
        "Well, we choose our features but did we choose correctly ? Lets use random forest and find accuracy according to chosen features."
      ]
    },
    {
      "cell_type": "code",
      "metadata": {
        "colab": {
          "base_uri": "https://localhost:8080/",
          "height": 300
        },
        "id": "QRD9NG90eQz8",
        "outputId": "ac009a88-1674-4770-c766-f8d3fecd0364"
      },
      "source": [
        "from sklearn.model_selection import train_test_split\n",
        "from sklearn.ensemble import RandomForestClassifier\n",
        "from sklearn.metrics import f1_score,confusion_matrix\n",
        "from sklearn.metrics import accuracy_score\n",
        "\n",
        "# split data train 70 % and test 30 %\n",
        "x_train, x_test, y_train, y_test = train_test_split(x_1, y, test_size=0.3, random_state=42)\n",
        "\n",
        "#random forest classifier with n_estimators=10 (default)\n",
        "clf_rf = RandomForestClassifier(random_state=43)      \n",
        "clr_rf = clf_rf.fit(x_train,y_train)\n",
        "\n",
        "ac = accuracy_score(y_test,clf_rf.predict(x_test))\n",
        "print('Accuracy is: ',ac)\n",
        "cm = confusion_matrix(y_test,clf_rf.predict(x_test))\n",
        "sns.heatmap(cm,annot=True,fmt=\"d\")"
      ],
      "execution_count": 8,
      "outputs": [
        {
          "output_type": "stream",
          "name": "stdout",
          "text": [
            "Accuracy is:  0.9649122807017544\n"
          ]
        },
        {
          "output_type": "execute_result",
          "data": {
            "text/plain": [
              "<matplotlib.axes._subplots.AxesSubplot at 0x7faa8f5c86d0>"
            ]
          },
          "metadata": {},
          "execution_count": 8
        },
        {
          "output_type": "display_data",
          "data": {
            "image/png": "[encoded data removed]",
            "text/plain": [
              "<Figure size 432x288 with 2 Axes>"
            ]
          },
          "metadata": {
            "needs_background": "light"
          }
        }
      ]
    },
    {
      "cell_type": "markdown",
      "metadata": {
        "id": "i0u7BwRQeQz8"
      },
      "source": [
        "Accuracy is almost 95% and as it can be seen in confusion matrix, we make few wrong prediction. Now lets see other feature selection methods to find better results."
      ]
    },
    {
      "cell_type": "markdown",
      "metadata": {
        "id": "sDpXMdEYeQz8"
      },
      "source": [
        "#### 2. Univariate feature selection (Chi-square)"
      ]
    },
    {
      "cell_type": "markdown",
      "metadata": {
        "id": "KdH5SqXueQz8"
      },
      "source": [
        "In univariate feature selection, we will use SelectKBest that removes all but the k highest scoring features. http://scikit-learn.org/stable/modules/generated/sklearn.feature_selection.SelectKBest.html#sklearn.feature_selection.SelectKBest"
      ]
    },
    {
      "cell_type": "markdown",
      "metadata": {
        "id": "bSV8OgN6eQz9"
      },
      "source": [
        "In this method we need to choose how many features we will use. For example, will k (number of features) be 5 or 10 or 15? The answer is only trying or intuitively. I do not try all combinations but I only choose k = 10 and find best 10 features."
      ]
    },
    {
      "cell_type": "code",
      "metadata": {
        "id": "p60gK6YMeQz9"
      },
      "source": [
        "from sklearn.feature_selection import SelectKBest\n",
        "from sklearn.feature_selection import chi2\n",
        "# find best scored 10 features\n",
        "select_feature = SelectKBest(chi2, k=10).fit(x_train, y_train)"
      ],
      "execution_count": 9,
      "outputs": []
    },
    {
      "cell_type": "code",
      "metadata": {
        "colab": {
          "base_uri": "https://localhost:8080/"
        },
        "id": "2Xe_DjkdeQz9",
        "outputId": "9e601a22-a91c-4562-f6b8-00a86f5373f5"
      },
      "source": [
        "import numpy\n",
        "numpy.set_printoptions(suppress=True)\n",
        "print('Score list:', select_feature.scores_)\n",
        "#print('Total feature list:', x_train.columns)"
      ],
      "execution_count": 10,
      "outputs": [
        {
          "output_type": "stream",
          "name": "stdout",
          "text": [
            "Score list: [   60.69164331 36689.9556596      0.10001518    13.05476497\n",
            "     0.19598285     0.00034258     0.0407131   6127.41067039\n",
            "     0.0013247      0.69289672     0.00139558     0.00265927\n",
            "     0.26322631    25.88581167     1.00635138     0.12308735]\n"
          ]
        }
      ]
    },
    {
      "cell_type": "code",
      "metadata": {
        "id": "aWPeMMbHeQz9"
      },
      "source": [
        "from pandas import DataFrame\n",
        "pd.options.display.float_format = '{:.2f}'.format\n",
        "fs_chi2 = DataFrame(select_feature.scores_, columns = [\"Chi_Square\"], index=x_train.columns)"
      ],
      "execution_count": 11,
      "outputs": []
    },
    {
      "cell_type": "code",
      "metadata": {
        "id": "1Y2GwOVTeQz9"
      },
      "source": [
        "fs_chi2 = fs_chi2.reset_index()"
      ],
      "execution_count": 12,
      "outputs": []
    },
    {
      "cell_type": "code",
      "metadata": {
        "colab": {
          "base_uri": "https://localhost:8080/",
          "height": 550
        },
        "id": "VBIH9QLveQz9",
        "outputId": "88e0c8a2-9210-495f-9928-1f2fd6c12b9b"
      },
      "source": [
        "fs_chi2 = fs_chi2.sort_values('Chi_Square',ascending=0)\n",
        "fs_chi2"
      ],
      "execution_count": 13,
      "outputs": [
        {
          "output_type": "execute_result",
          "data": {
            "text/html": [
              "<div>\n",
              "<style scoped>\n",
              "    .dataframe tbody tr th:only-of-type {\n",
              "        vertical-align: middle;\n",
              "    }\n",
              "\n",
              "    .dataframe tbody tr th {\n",
              "        vertical-align: top;\n",
              "    }\n",
              "\n",
              "    .dataframe thead th {\n",
              "        text-align: right;\n",
              "    }\n",
              "</style>\n",
              "<table border=\"1\" class=\"dataframe\">\n",
              "  <thead>\n",
              "    <tr style=\"text-align: right;\">\n",
              "      <th></th>\n",
              "      <th>index</th>\n",
              "      <th>Chi_Square</th>\n",
              "    </tr>\n",
              "  </thead>\n",
              "  <tbody>\n",
              "    <tr>\n",
              "      <th>1</th>\n",
              "      <td>area_mean</td>\n",
              "      <td>36689.96</td>\n",
              "    </tr>\n",
              "    <tr>\n",
              "      <th>7</th>\n",
              "      <td>area_se</td>\n",
              "      <td>6127.41</td>\n",
              "    </tr>\n",
              "    <tr>\n",
              "      <th>0</th>\n",
              "      <td>texture_mean</td>\n",
              "      <td>60.69</td>\n",
              "    </tr>\n",
              "    <tr>\n",
              "      <th>13</th>\n",
              "      <td>concavity_worst</td>\n",
              "      <td>25.89</td>\n",
              "    </tr>\n",
              "    <tr>\n",
              "      <th>3</th>\n",
              "      <td>concavity_mean</td>\n",
              "      <td>13.05</td>\n",
              "    </tr>\n",
              "    <tr>\n",
              "      <th>14</th>\n",
              "      <td>symmetry_worst</td>\n",
              "      <td>1.01</td>\n",
              "    </tr>\n",
              "    <tr>\n",
              "      <th>9</th>\n",
              "      <td>concavity_se</td>\n",
              "      <td>0.69</td>\n",
              "    </tr>\n",
              "    <tr>\n",
              "      <th>12</th>\n",
              "      <td>smoothness_worst</td>\n",
              "      <td>0.26</td>\n",
              "    </tr>\n",
              "    <tr>\n",
              "      <th>4</th>\n",
              "      <td>symmetry_mean</td>\n",
              "      <td>0.20</td>\n",
              "    </tr>\n",
              "    <tr>\n",
              "      <th>15</th>\n",
              "      <td>fractal_dimension_worst</td>\n",
              "      <td>0.12</td>\n",
              "    </tr>\n",
              "    <tr>\n",
              "      <th>2</th>\n",
              "      <td>smoothness_mean</td>\n",
              "      <td>0.10</td>\n",
              "    </tr>\n",
              "    <tr>\n",
              "      <th>6</th>\n",
              "      <td>texture_se</td>\n",
              "      <td>0.04</td>\n",
              "    </tr>\n",
              "    <tr>\n",
              "      <th>11</th>\n",
              "      <td>fractal_dimension_se</td>\n",
              "      <td>0.00</td>\n",
              "    </tr>\n",
              "    <tr>\n",
              "      <th>10</th>\n",
              "      <td>symmetry_se</td>\n",
              "      <td>0.00</td>\n",
              "    </tr>\n",
              "    <tr>\n",
              "      <th>8</th>\n",
              "      <td>smoothness_se</td>\n",
              "      <td>0.00</td>\n",
              "    </tr>\n",
              "    <tr>\n",
              "      <th>5</th>\n",
              "      <td>fractal_dimension_mean</td>\n",
              "      <td>0.00</td>\n",
              "    </tr>\n",
              "  </tbody>\n",
              "</table>\n",
              "</div>"
            ],
            "text/plain": [
              "                      index  Chi_Square\n",
              "1                 area_mean    36689.96\n",
              "7                   area_se     6127.41\n",
              "0              texture_mean       60.69\n",
              "13          concavity_worst       25.89\n",
              "3            concavity_mean       13.05\n",
              "14           symmetry_worst        1.01\n",
              "9              concavity_se        0.69\n",
              "12         smoothness_worst        0.26\n",
              "4             symmetry_mean        0.20\n",
              "15  fractal_dimension_worst        0.12\n",
              "2           smoothness_mean        0.10\n",
              "6                texture_se        0.04\n",
              "11     fractal_dimension_se        0.00\n",
              "10              symmetry_se        0.00\n",
              "8             smoothness_se        0.00\n",
              "5    fractal_dimension_mean        0.00"
            ]
          },
          "metadata": {},
          "execution_count": 13
        }
      ]
    },
    {
      "cell_type": "code",
      "metadata": {
        "id": "20ECSYhueQz9"
      },
      "source": [
        "#x_train_2 = select_feature.transform(x_train)\n",
        "#x_test_2 = select_feature.transform(x_test)\n",
        "#random forest classifier with n_estimators=10 (default)\n",
        "#clf_rf_2 = RandomForestClassifier()      \n",
        "#clr_rf_2 = clf_rf_2.fit(x_train_2,y_train)\n",
        "#ac_2 = accuracy_score(y_test,clf_rf_2.predict(x_test_2))\n",
        "#print('Accuracy is: ',ac_2)\n",
        "#cm_2 = confusion_matrix(y_test,clf_rf_2.predict(x_test_2))\n",
        "#sns.heatmap(cm_2,annot=True,fmt=\"d\")"
      ],
      "execution_count": 14,
      "outputs": []
    },
    {
      "cell_type": "markdown",
      "metadata": {
        "id": "6WxnYc8beQz-"
      },
      "source": [
        "#### 3. Recursive feature elimination (RFE) with random forest"
      ]
    },
    {
      "cell_type": "markdown",
      "metadata": {
        "id": "fNv9Sj2MeQz-"
      },
      "source": [
        "http://scikit-learn.org/stable/modules/generated/sklearn.feature_selection.RFE.html Basically, it uses one of the classification methods (random forest in our example), assign weights to each of features. Whose absolute weights are the smallest are pruned from the current set features. That procedure is recursively repeated on the pruned set until the desired number of features\n",
        "\n",
        "Like previous method, we will use 10 features. However, which 10 features will we use ? We will choose them with RFE method."
      ]
    },
    {
      "cell_type": "code",
      "metadata": {
        "id": "AFca9HQfeQz-"
      },
      "source": [
        "from sklearn.feature_selection import RFE\n",
        "# Create the RFE object and rank each pixel\n",
        "clf_rf_3 = RandomForestClassifier()      \n",
        "rfe = RFE(estimator=clf_rf_3, n_features_to_select=10, step=1)\n",
        "rfe = rfe.fit(x_train, y_train)"
      ],
      "execution_count": 15,
      "outputs": []
    },
    {
      "cell_type": "code",
      "metadata": {
        "colab": {
          "base_uri": "https://localhost:8080/"
        },
        "id": "rXLRmtRneQz-",
        "outputId": "fcb7480b-0337-4b2e-e530-61f9b30fe3ee"
      },
      "source": [
        "# let's print the number of total and selected features\n",
        "fs_rfe = DataFrame(rfe.support_, columns = [\"RFE\"], index=x_train.columns)\n",
        "fs_rfe = fs_rfe.reset_index()\n",
        "# this is how we can make a list of the selected features\n",
        "# let's print some stats\n",
        "print('total features: {}'.format((x_train.shape[1])))\n",
        "print('selected features: {}'.format(len(x_train.columns[rfe.support_])))\n",
        "print('Chosen best 10 feature by rfe:',x_train.columns[rfe.support_])"
      ],
      "execution_count": 16,
      "outputs": [
        {
          "output_type": "stream",
          "name": "stdout",
          "text": [
            "total features: 16\n",
            "selected features: 10\n",
            "Chosen best 10 feature by rfe: Index(['texture_mean', 'area_mean', 'smoothness_mean', 'concavity_mean',\n",
            "       'fractal_dimension_mean', 'area_se', 'concavity_se', 'smoothness_worst',\n",
            "       'concavity_worst', 'symmetry_worst'],\n",
            "      dtype='object')\n"
          ]
        }
      ]
    },
    {
      "cell_type": "markdown",
      "metadata": {
        "id": "qQ86XZWceQz_"
      },
      "source": [
        "Chosen 10 best features by rfe is texture_mean, area_mean, smoothness_mean, concavity_mean, area_se, concavity_se, fractal_dimension_se, concavity_worst,symmetry_worst,fractal_dimension_worst. They are similar with previous (selectkBest) method. Therefore we do not need to calculate accuracy again. Shortly, we can say that we make good feature selection with rfe and selectkBest methods. However as you can see there is a problem, okey I except we find best 10 feature with two different method and these features are almost same but why it is 10. Maybe if we use best 5 or best 12 feature we will have better accuracy. Therefore lets see how many feature we need to use with rfecv method."
      ]
    },
    {
      "cell_type": "markdown",
      "metadata": {
        "id": "yQ9e8j_meQz_"
      },
      "source": [
        "#### 4.  Recursive feature elimination with cross validation(RFECV) with random forest"
      ]
    },
    {
      "cell_type": "markdown",
      "metadata": {
        "id": "Pa20X_5xeQz_"
      },
      "source": [
        "http://scikit-learn.org/stable/modules/generated/sklearn.feature_selection.RFECV.html Now we will not only find best features but we also find how many features do we need for best accuracy."
      ]
    },
    {
      "cell_type": "code",
      "metadata": {
        "id": "6WO8Dm42eQz_"
      },
      "source": [
        "from sklearn.feature_selection import RFECV\n",
        "\n",
        "# The \"accuracy\" scoring is proportional to the number of correct classifications\n",
        "clf_rf_4 = RandomForestClassifier() \n",
        "rfecv = RFECV(estimator=clf_rf_4, step=1, cv=5,scoring='accuracy')   #5-fold cross-validation\n",
        "rfecv = rfecv.fit(x_train, y_train)"
      ],
      "execution_count": 17,
      "outputs": []
    },
    {
      "cell_type": "code",
      "metadata": {
        "colab": {
          "base_uri": "https://localhost:8080/"
        },
        "id": "gbCy2Ac3eQz_",
        "outputId": "c44fbe51-8854-4cfe-cf1e-600b0c1b713a"
      },
      "source": [
        "# let's print the number of total and selected features\n",
        "fs_rfecv = DataFrame(rfecv.support_, columns = [\"RFECV\"], index=x_train.columns)\n",
        "fs_rfecv = fs_rfecv.reset_index()\n",
        "# this is how we can make a list of the selected features\n",
        "# let's print some stats\n",
        "print('total features: {}'.format((x_train.shape[1])))\n",
        "print('selected features: {}'.format(len(x_train.columns[rfecv.support_])))\n",
        "print('Optimal number of features :', rfecv.n_features_)\n",
        "print('Best features by rfecv:',x_train.columns[rfecv.support_])"
      ],
      "execution_count": 18,
      "outputs": [
        {
          "output_type": "stream",
          "name": "stdout",
          "text": [
            "total features: 16\n",
            "selected features: 11\n",
            "Optimal number of features : 11\n",
            "Best features by rfecv: Index(['texture_mean', 'area_mean', 'smoothness_mean', 'concavity_mean',\n",
            "       'fractal_dimension_mean', 'area_se', 'concavity_se', 'smoothness_worst',\n",
            "       'concavity_worst', 'symmetry_worst', 'fractal_dimension_worst'],\n",
            "      dtype='object')\n"
          ]
        }
      ]
    },
    {
      "cell_type": "markdown",
      "metadata": {
        "id": "bCBMvoLQeQ0A"
      },
      "source": [
        "Finally, we find best 9 features that are 'texture_mean', 'area_mean', 'concavity_mean', 'fractal_dimension_mean',\n",
        "       'area_se', 'concavity_se', 'fractal_dimension_se', 'concavity_worst',\n",
        "       and 'symmetry_worst' for best classification. Lets look at best accuracy with plot."
      ]
    },
    {
      "cell_type": "code",
      "metadata": {
        "colab": {
          "base_uri": "https://localhost:8080/",
          "height": 304
        },
        "id": "ce4SoGXUeQ0A",
        "outputId": "bf327c0a-eaa8-4cf2-d098-f9352b1c42ac"
      },
      "source": [
        "# Plot number of features VS. cross-validation scores\n",
        "import matplotlib.pyplot as plt\n",
        "plt.figure()\n",
        "plt.xlabel(\"Number of features selected\")\n",
        "plt.ylabel(\"Cross validation score of number of selected features\")\n",
        "plt.plot(range(1, len(rfecv.grid_scores_) + 1), rfecv.grid_scores_)\n",
        "plt.show()"
      ],
      "execution_count": 19,
      "outputs": [
        {
          "output_type": "display_data",
          "data": {
            "image/png": "[encoded data removed]",
            "text/plain": [
              "<Figure size 432x288 with 1 Axes>"
            ]
          },
          "metadata": {
            "needs_background": "light"
          }
        }
      ]
    },
    {
      "cell_type": "markdown",
      "metadata": {
        "id": "GAe5QImaeQ0A"
      },
      "source": [
        "Lets look at what we did up to this point. Lets accept that this data is very easy to classification. However, our first purpose is actually not finding good accuracy. Our purpose is learning how to make feature selection and understanding data. "
      ]
    },
    {
      "cell_type": "markdown",
      "metadata": {
        "id": "Z5fRKvQneQ0A"
      },
      "source": [
        "#### 5. Tree based feature selection and random forest classification "
      ]
    },
    {
      "cell_type": "markdown",
      "metadata": {
        "id": "lpFbM8L-eQ0A"
      },
      "source": [
        "http://scikit-learn.org/stable/modules/generated/sklearn.ensemble.RandomForestClassifier.html In random forest classification method there is a featureimportances attributes that is the feature importances (the higher, the more important the feature). !!! To use feature_importance method, in training data there should not be correlated features. Random forest choose randomly at each iteration, therefore sequence of feature importance list can change."
      ]
    },
    {
      "cell_type": "code",
      "metadata": {
        "colab": {
          "base_uri": "https://localhost:8080/",
          "height": 1000
        },
        "id": "hUY4DBCqeQ0A",
        "outputId": "92694a88-7716-405d-b594-2df5657b0cdf"
      },
      "source": [
        "clf_rf_5 = RandomForestClassifier()      \n",
        "clr_rf_5 = clf_rf_5.fit(x_train,y_train)\n",
        "importances = clr_rf_5.feature_importances_\n",
        "std = np.std([tree.feature_importances_ for tree in clf_rf.estimators_],\n",
        "             axis=0)\n",
        "indices = np.argsort(importances)[::-1]\n",
        "\n",
        "# Print the feature ranking\n",
        "print(\"Feature ranking:\")\n",
        "\n",
        "for f in range(x_train.shape[1]):\n",
        "    print(\"%d. feature %d (%f)\" % (f + 1, indices[f], importances[indices[f]]))\n",
        "\n",
        "# Plot the feature importances of the forest\n",
        "\n",
        "plt.figure(1, figsize=(14, 13))\n",
        "plt.title(\"Feature importances\")\n",
        "plt.bar(range(x_train.shape[1]), importances[indices],\n",
        "       color=\"g\", yerr=std[indices], align=\"center\")\n",
        "plt.xticks(range(x_train.shape[1]), x_train.columns[indices],rotation=90)\n",
        "plt.xlim([-1, x_train.shape[1]])\n",
        "plt.show()"
      ],
      "execution_count": 20,
      "outputs": [
        {
          "output_type": "stream",
          "name": "stdout",
          "text": [
            "Feature ranking:\n",
            "1. feature 3 (0.210367)\n",
            "2. feature 1 (0.194111)\n",
            "3. feature 7 (0.173664)\n",
            "4. feature 13 (0.147555)\n",
            "5. feature 14 (0.046195)\n",
            "6. feature 0 (0.042191)\n",
            "7. feature 12 (0.030038)\n",
            "8. feature 9 (0.026613)\n",
            "9. feature 2 (0.021050)\n",
            "10. feature 5 (0.020148)\n",
            "11. feature 15 (0.018097)\n",
            "12. feature 8 (0.016719)\n",
            "13. feature 11 (0.015640)\n",
            "14. feature 10 (0.014936)\n",
            "15. feature 4 (0.013493)\n",
            "16. feature 6 (0.009184)\n"
          ]
        },
        {
          "output_type": "display_data",
          "data": {
            "image/png": "[encoded data removed]",
            "text/plain": [
              "<Figure size 1008x936 with 1 Axes>"
            ]
          },
          "metadata": {
            "needs_background": "light"
          }
        }
      ]
    },
    {
      "cell_type": "markdown",
      "metadata": {
        "id": "eO9LqhedeQ0A"
      },
      "source": [
        "As you can seen in plot above, after 6 best features importance of features decrease. Therefore we can focus these 6 features. "
      ]
    },
    {
      "cell_type": "code",
      "metadata": {
        "colab": {
          "base_uri": "https://localhost:8080/"
        },
        "id": "1ifFXFnheQ0B",
        "outputId": "35264ff8-c597-4b29-a02a-f368cc4d8164"
      },
      "source": [
        "indices = np.argsort(importances)[::-1]\n",
        "indices\n",
        "importances[indices]"
      ],
      "execution_count": 21,
      "outputs": [
        {
          "output_type": "execute_result",
          "data": {
            "text/plain": [
              "array([0.21036654, 0.19411128, 0.17366391, 0.147555  , 0.04619463,\n",
              "       0.0421913 , 0.03003792, 0.02661285, 0.02105014, 0.02014802,\n",
              "       0.01809721, 0.01671913, 0.0156397 , 0.01493578, 0.0134927 ,\n",
              "       0.00918388])"
            ]
          },
          "metadata": {},
          "execution_count": 21
        }
      ]
    },
    {
      "cell_type": "code",
      "metadata": {
        "colab": {
          "base_uri": "https://localhost:8080/"
        },
        "id": "Z7GEZtN9eQ0B",
        "outputId": "511cff0b-394a-4582-a281-f169cbe6300a"
      },
      "source": [
        "# let's print the number of total and selected features\n",
        "# let's print some stats\n",
        "print('total features: {}'.format((x_train.shape[1])))\n",
        "#print('Chosen optimal features by rf:',selected_feature_rf[1:10])"
      ],
      "execution_count": 22,
      "outputs": [
        {
          "output_type": "stream",
          "name": "stdout",
          "text": [
            "total features: 16\n"
          ]
        }
      ]
    },
    {
      "cell_type": "code",
      "metadata": {
        "id": "cPB2JXGXeQ0B"
      },
      "source": [
        "fs_rf = DataFrame(clr_rf_5.feature_importances_, columns = [\"RF\"], index=x_train.columns)\n",
        "fs_rf = fs_rf.reset_index()"
      ],
      "execution_count": 23,
      "outputs": []
    },
    {
      "cell_type": "code",
      "metadata": {
        "colab": {
          "base_uri": "https://localhost:8080/",
          "height": 550
        },
        "id": "FfjA48cheQ0G",
        "outputId": "5cef3f64-7031-43ac-c17d-e425dca4a830"
      },
      "source": [
        "fs_rf = fs_rf.sort_values('RF',ascending=0)\n",
        "fs_rf"
      ],
      "execution_count": 24,
      "outputs": [
        {
          "output_type": "execute_result",
          "data": {
            "text/html": [
              "<div>\n",
              "<style scoped>\n",
              "    .dataframe tbody tr th:only-of-type {\n",
              "        vertical-align: middle;\n",
              "    }\n",
              "\n",
              "    .dataframe tbody tr th {\n",
              "        vertical-align: top;\n",
              "    }\n",
              "\n",
              "    .dataframe thead th {\n",
              "        text-align: right;\n",
              "    }\n",
              "</style>\n",
              "<table border=\"1\" class=\"dataframe\">\n",
              "  <thead>\n",
              "    <tr style=\"text-align: right;\">\n",
              "      <th></th>\n",
              "      <th>index</th>\n",
              "      <th>RF</th>\n",
              "    </tr>\n",
              "  </thead>\n",
              "  <tbody>\n",
              "    <tr>\n",
              "      <th>3</th>\n",
              "      <td>concavity_mean</td>\n",
              "      <td>0.21</td>\n",
              "    </tr>\n",
              "    <tr>\n",
              "      <th>1</th>\n",
              "      <td>area_mean</td>\n",
              "      <td>0.19</td>\n",
              "    </tr>\n",
              "    <tr>\n",
              "      <th>7</th>\n",
              "      <td>area_se</td>\n",
              "      <td>0.17</td>\n",
              "    </tr>\n",
              "    <tr>\n",
              "      <th>13</th>\n",
              "      <td>concavity_worst</td>\n",
              "      <td>0.15</td>\n",
              "    </tr>\n",
              "    <tr>\n",
              "      <th>14</th>\n",
              "      <td>symmetry_worst</td>\n",
              "      <td>0.05</td>\n",
              "    </tr>\n",
              "    <tr>\n",
              "      <th>0</th>\n",
              "      <td>texture_mean</td>\n",
              "      <td>0.04</td>\n",
              "    </tr>\n",
              "    <tr>\n",
              "      <th>12</th>\n",
              "      <td>smoothness_worst</td>\n",
              "      <td>0.03</td>\n",
              "    </tr>\n",
              "    <tr>\n",
              "      <th>9</th>\n",
              "      <td>concavity_se</td>\n",
              "      <td>0.03</td>\n",
              "    </tr>\n",
              "    <tr>\n",
              "      <th>2</th>\n",
              "      <td>smoothness_mean</td>\n",
              "      <td>0.02</td>\n",
              "    </tr>\n",
              "    <tr>\n",
              "      <th>5</th>\n",
              "      <td>fractal_dimension_mean</td>\n",
              "      <td>0.02</td>\n",
              "    </tr>\n",
              "    <tr>\n",
              "      <th>15</th>\n",
              "      <td>fractal_dimension_worst</td>\n",
              "      <td>0.02</td>\n",
              "    </tr>\n",
              "    <tr>\n",
              "      <th>8</th>\n",
              "      <td>smoothness_se</td>\n",
              "      <td>0.02</td>\n",
              "    </tr>\n",
              "    <tr>\n",
              "      <th>11</th>\n",
              "      <td>fractal_dimension_se</td>\n",
              "      <td>0.02</td>\n",
              "    </tr>\n",
              "    <tr>\n",
              "      <th>10</th>\n",
              "      <td>symmetry_se</td>\n",
              "      <td>0.01</td>\n",
              "    </tr>\n",
              "    <tr>\n",
              "      <th>4</th>\n",
              "      <td>symmetry_mean</td>\n",
              "      <td>0.01</td>\n",
              "    </tr>\n",
              "    <tr>\n",
              "      <th>6</th>\n",
              "      <td>texture_se</td>\n",
              "      <td>0.01</td>\n",
              "    </tr>\n",
              "  </tbody>\n",
              "</table>\n",
              "</div>"
            ],
            "text/plain": [
              "                      index   RF\n",
              "3            concavity_mean 0.21\n",
              "1                 area_mean 0.19\n",
              "7                   area_se 0.17\n",
              "13          concavity_worst 0.15\n",
              "14           symmetry_worst 0.05\n",
              "0              texture_mean 0.04\n",
              "12         smoothness_worst 0.03\n",
              "9              concavity_se 0.03\n",
              "2           smoothness_mean 0.02\n",
              "5    fractal_dimension_mean 0.02\n",
              "15  fractal_dimension_worst 0.02\n",
              "8             smoothness_se 0.02\n",
              "11     fractal_dimension_se 0.02\n",
              "10              symmetry_se 0.01\n",
              "4             symmetry_mean 0.01\n",
              "6                texture_se 0.01"
            ]
          },
          "metadata": {},
          "execution_count": 24
        }
      ]
    },
    {
      "cell_type": "markdown",
      "metadata": {
        "id": "Qo3dDFLCeQ0H"
      },
      "source": [
        "#### 6. L1-based feature selection (LinearSVC)"
      ]
    },
    {
      "cell_type": "code",
      "metadata": {
        "colab": {
          "base_uri": "https://localhost:8080/"
        },
        "id": "NElAMyzReQ0H",
        "outputId": "2f20c3ca-f51b-4c4e-b282-7e05bca4d6b6"
      },
      "source": [
        "from sklearn.svm import LinearSVC\n",
        "from sklearn.feature_selection import SelectFromModel\n",
        "lsvc = LinearSVC(C=0.01, penalty=\"l1\", dual=False,max_iter=2000).fit(x_train, y_train) \n",
        "model = SelectFromModel(lsvc, prefit=True) \n",
        "x_new = model.transform(x_train) \n",
        "print(x_train.columns[model.get_support()]) "
      ],
      "execution_count": 25,
      "outputs": [
        {
          "output_type": "stream",
          "name": "stdout",
          "text": [
            "Index(['texture_mean', 'area_mean', 'area_se'], dtype='object')\n"
          ]
        }
      ]
    },
    {
      "cell_type": "code",
      "metadata": {
        "colab": {
          "base_uri": "https://localhost:8080/"
        },
        "id": "1AZBknQSeQ0I",
        "outputId": "1213eb2c-1294-496d-85e2-48da39ef7f98"
      },
      "source": [
        "# let's print the number of total and selected features\n",
        "fs_l1 = DataFrame(model.get_support(), columns = [\"L1\"], index=x_train.columns)\n",
        "fs_l1 = fs_l1.reset_index()\n",
        "# this is how we can make a list of the selected fes\n",
        "selected_feature_lsvc = x_train.columns[model.get_support()]\n",
        "\n",
        "# let's print some stats\n",
        "print('total features: {}'.format((x_train.shape[1])))\n",
        "print('selected features: {}'.format(len(selected_feature_lsvc)))\n",
        "print('Best features by lsvc:',x_train.columns[model.get_support()])"
      ],
      "execution_count": 26,
      "outputs": [
        {
          "output_type": "stream",
          "name": "stdout",
          "text": [
            "total features: 16\n",
            "selected features: 3\n",
            "Best features by lsvc: Index(['texture_mean', 'area_mean', 'area_se'], dtype='object')\n"
          ]
        }
      ]
    },
    {
      "cell_type": "markdown",
      "metadata": {
        "id": "zSmikAnjeQ0I"
      },
      "source": [
        "#### 7. Tree-based feature selection (ExtraTrees)"
      ]
    },
    {
      "cell_type": "code",
      "metadata": {
        "colab": {
          "base_uri": "https://localhost:8080/",
          "height": 1000
        },
        "id": "308rq1PleQ0J",
        "outputId": "b95afcd9-067a-4a27-8a88-36ede3a6273b"
      },
      "source": [
        "from sklearn.ensemble import ExtraTreesClassifier\n",
        "from sklearn.feature_selection import SelectFromModel\n",
        "# Build a forest and compute the impurity-based feature importances\n",
        "clf = ExtraTreesClassifier(n_estimators=32,random_state=0)\n",
        "clf.fit(x_train, y_train)\n",
        "clf.feature_importances_ \n",
        "importances = clf.feature_importances_\n",
        "std = np.std([tree.feature_importances_ for tree in clf.estimators_],\n",
        "             axis=0)\n",
        "indices = np.argsort(importances)[::-1]\n",
        "\n",
        "# Print the feature ranking\n",
        "print(\"Feature ranking:\")\n",
        "\n",
        "for f in range(x_train.shape[1]):\n",
        "    print(\"%d. feature %d (%f)\" % (f + 1, indices[f], importances[indices[f]]))\n",
        "\n",
        "# Plot the impurity-based feature importances of the forest\n",
        "plt.figure(1, figsize=(14, 13))\n",
        "plt.title(\"Feature importances\")\n",
        "plt.bar(range(x_train.shape[1]), importances[indices],\n",
        "        color=\"r\", yerr=std[indices], align=\"center\")\n",
        "plt.xticks(range(x_train.shape[1]), x_train.columns[indices],rotation=90)\n",
        "plt.xlim([-1, x_train.shape[1]])\n",
        "plt.show()        "
      ],
      "execution_count": 27,
      "outputs": [
        {
          "output_type": "stream",
          "name": "stdout",
          "text": [
            "Feature ranking:\n",
            "1. feature 3 (0.191527)\n",
            "2. feature 1 (0.170634)\n",
            "3. feature 13 (0.169116)\n",
            "4. feature 7 (0.123651)\n",
            "5. feature 0 (0.056858)\n",
            "6. feature 14 (0.039312)\n",
            "7. feature 12 (0.035452)\n",
            "8. feature 15 (0.032071)\n",
            "9. feature 9 (0.030526)\n",
            "10. feature 5 (0.029508)\n",
            "11. feature 4 (0.028988)\n",
            "12. feature 2 (0.022375)\n",
            "13. feature 11 (0.020679)\n",
            "14. feature 10 (0.017656)\n",
            "15. feature 6 (0.016700)\n",
            "16. feature 8 (0.014947)\n"
          ]
        },
        {
          "output_type": "display_data",
          "data": {
            "image/png": "[encoded data removed]",
            "text/plain": [
              "<Figure size 1008x936 with 1 Axes>"
            ]
          },
          "metadata": {
            "needs_background": "light"
          }
        }
      ]
    },
    {
      "cell_type": "code",
      "metadata": {
        "colab": {
          "base_uri": "https://localhost:8080/"
        },
        "id": "ETmKSDH9eQ0L",
        "outputId": "2bd903ca-260e-4682-ba5b-17db46d7827a"
      },
      "source": [
        "# let's print the number of total and selected features\n",
        "\n",
        "# this is how we can make a list of the selected features\n",
        "selected_feature_extraTrees = x_train.columns[model.get_support()]\n",
        "\n",
        "# let's print some stats\n",
        "print('total features: {}'.format((x_train.shape[1])))\n",
        "print('selected features: {}'.format(len(selected_feature_extraTrees)))\n",
        "print('Best features by ExtraTrees:',x_train.columns[model.get_support()])"
      ],
      "execution_count": 28,
      "outputs": [
        {
          "output_type": "stream",
          "name": "stdout",
          "text": [
            "total features: 16\n",
            "selected features: 3\n",
            "Best features by ExtraTrees: Index(['texture_mean', 'area_mean', 'area_se'], dtype='object')\n"
          ]
        }
      ]
    },
    {
      "cell_type": "code",
      "metadata": {
        "id": "lb8NqQe9eQ0M"
      },
      "source": [
        "fs_extratrees=DataFrame(clf.feature_importances_, columns = [\"Extratrees\"], index=x_train.columns)"
      ],
      "execution_count": 29,
      "outputs": []
    },
    {
      "cell_type": "code",
      "metadata": {
        "id": "M5VwyphTeQ0N"
      },
      "source": [
        "fs_extratrees = fs_extratrees.reset_index()"
      ],
      "execution_count": 30,
      "outputs": []
    },
    {
      "cell_type": "code",
      "metadata": {
        "colab": {
          "base_uri": "https://localhost:8080/",
          "height": 550
        },
        "id": "hvbwVGcceQ0N",
        "outputId": "d05c676d-278c-4a22-afe6-8a88536f81c7"
      },
      "source": [
        "fs_extratrees = fs_extratrees.sort_values(['Extratrees'],ascending=0)\n",
        "fs_extratrees"
      ],
      "execution_count": 31,
      "outputs": [
        {
          "output_type": "execute_result",
          "data": {
            "text/html": [
              "<div>\n",
              "<style scoped>\n",
              "    .dataframe tbody tr th:only-of-type {\n",
              "        vertical-align: middle;\n",
              "    }\n",
              "\n",
              "    .dataframe tbody tr th {\n",
              "        vertical-align: top;\n",
              "    }\n",
              "\n",
              "    .dataframe thead th {\n",
              "        text-align: right;\n",
              "    }\n",
              "</style>\n",
              "<table border=\"1\" class=\"dataframe\">\n",
              "  <thead>\n",
              "    <tr style=\"text-align: right;\">\n",
              "      <th></th>\n",
              "      <th>index</th>\n",
              "      <th>Extratrees</th>\n",
              "    </tr>\n",
              "  </thead>\n",
              "  <tbody>\n",
              "    <tr>\n",
              "      <th>3</th>\n",
              "      <td>concavity_mean</td>\n",
              "      <td>0.19</td>\n",
              "    </tr>\n",
              "    <tr>\n",
              "      <th>1</th>\n",
              "      <td>area_mean</td>\n",
              "      <td>0.17</td>\n",
              "    </tr>\n",
              "    <tr>\n",
              "      <th>13</th>\n",
              "      <td>concavity_worst</td>\n",
              "      <td>0.17</td>\n",
              "    </tr>\n",
              "    <tr>\n",
              "      <th>7</th>\n",
              "      <td>area_se</td>\n",
              "      <td>0.12</td>\n",
              "    </tr>\n",
              "    <tr>\n",
              "      <th>0</th>\n",
              "      <td>texture_mean</td>\n",
              "      <td>0.06</td>\n",
              "    </tr>\n",
              "    <tr>\n",
              "      <th>14</th>\n",
              "      <td>symmetry_worst</td>\n",
              "      <td>0.04</td>\n",
              "    </tr>\n",
              "    <tr>\n",
              "      <th>12</th>\n",
              "      <td>smoothness_worst</td>\n",
              "      <td>0.04</td>\n",
              "    </tr>\n",
              "    <tr>\n",
              "      <th>15</th>\n",
              "      <td>fractal_dimension_worst</td>\n",
              "      <td>0.03</td>\n",
              "    </tr>\n",
              "    <tr>\n",
              "      <th>9</th>\n",
              "      <td>concavity_se</td>\n",
              "      <td>0.03</td>\n",
              "    </tr>\n",
              "    <tr>\n",
              "      <th>5</th>\n",
              "      <td>fractal_dimension_mean</td>\n",
              "      <td>0.03</td>\n",
              "    </tr>\n",
              "    <tr>\n",
              "      <th>4</th>\n",
              "      <td>symmetry_mean</td>\n",
              "      <td>0.03</td>\n",
              "    </tr>\n",
              "    <tr>\n",
              "      <th>2</th>\n",
              "      <td>smoothness_mean</td>\n",
              "      <td>0.02</td>\n",
              "    </tr>\n",
              "    <tr>\n",
              "      <th>11</th>\n",
              "      <td>fractal_dimension_se</td>\n",
              "      <td>0.02</td>\n",
              "    </tr>\n",
              "    <tr>\n",
              "      <th>10</th>\n",
              "      <td>symmetry_se</td>\n",
              "      <td>0.02</td>\n",
              "    </tr>\n",
              "    <tr>\n",
              "      <th>6</th>\n",
              "      <td>texture_se</td>\n",
              "      <td>0.02</td>\n",
              "    </tr>\n",
              "    <tr>\n",
              "      <th>8</th>\n",
              "      <td>smoothness_se</td>\n",
              "      <td>0.01</td>\n",
              "    </tr>\n",
              "  </tbody>\n",
              "</table>\n",
              "</div>"
            ],
            "text/plain": [
              "                      index  Extratrees\n",
              "3            concavity_mean        0.19\n",
              "1                 area_mean        0.17\n",
              "13          concavity_worst        0.17\n",
              "7                   area_se        0.12\n",
              "0              texture_mean        0.06\n",
              "14           symmetry_worst        0.04\n",
              "12         smoothness_worst        0.04\n",
              "15  fractal_dimension_worst        0.03\n",
              "9              concavity_se        0.03\n",
              "5    fractal_dimension_mean        0.03\n",
              "4             symmetry_mean        0.03\n",
              "2           smoothness_mean        0.02\n",
              "11     fractal_dimension_se        0.02\n",
              "10              symmetry_se        0.02\n",
              "6                texture_se        0.02\n",
              "8             smoothness_se        0.01"
            ]
          },
          "metadata": {},
          "execution_count": 31
        }
      ]
    },
    {
      "cell_type": "markdown",
      "metadata": {
        "id": "-GdTD635eQ0O"
      },
      "source": [
        "#### 8. Vote based feature selection\n",
        "#### Combine all together"
      ]
    },
    {
      "cell_type": "code",
      "metadata": {
        "colab": {
          "base_uri": "https://localhost:8080/"
        },
        "id": "kCqKcxareQ0P",
        "outputId": "6f9e8618-456f-439c-d24d-0f052f767141"
      },
      "source": [
        "fs_extratrees.shape"
      ],
      "execution_count": 32,
      "outputs": [
        {
          "output_type": "execute_result",
          "data": {
            "text/plain": [
              "(16, 2)"
            ]
          },
          "metadata": {},
          "execution_count": 32
        }
      ]
    },
    {
      "cell_type": "code",
      "metadata": {
        "id": "K_Rf20zQeQ0P"
      },
      "source": [
        "from functools import reduce\n",
        "dfs = [fs_corr, fs_chi2, fs_rfe, fs_rfecv, fs_rf, fs_l1, fs_extratrees]\n",
        "final_results = reduce(lambda left,right: pd.merge(left,right,on='index'), dfs)"
      ],
      "execution_count": 33,
      "outputs": []
    },
    {
      "cell_type": "code",
      "metadata": {
        "colab": {
          "base_uri": "https://localhost:8080/",
          "height": 206
        },
        "id": "WA14M9QMeQ0P",
        "outputId": "c2220627-da85-4c54-c522-3686f1751f4a"
      },
      "source": [
        "final_results.head()"
      ],
      "execution_count": 34,
      "outputs": [
        {
          "output_type": "execute_result",
          "data": {
            "text/html": [
              "<div>\n",
              "<style scoped>\n",
              "    .dataframe tbody tr th:only-of-type {\n",
              "        vertical-align: middle;\n",
              "    }\n",
              "\n",
              "    .dataframe tbody tr th {\n",
              "        vertical-align: top;\n",
              "    }\n",
              "\n",
              "    .dataframe thead th {\n",
              "        text-align: right;\n",
              "    }\n",
              "</style>\n",
              "<table border=\"1\" class=\"dataframe\">\n",
              "  <thead>\n",
              "    <tr style=\"text-align: right;\">\n",
              "      <th></th>\n",
              "      <th>index</th>\n",
              "      <th>Corr</th>\n",
              "      <th>Chi_Square</th>\n",
              "      <th>RFE</th>\n",
              "      <th>RFECV</th>\n",
              "      <th>RF</th>\n",
              "      <th>L1</th>\n",
              "      <th>Extratrees</th>\n",
              "    </tr>\n",
              "  </thead>\n",
              "  <tbody>\n",
              "    <tr>\n",
              "      <th>0</th>\n",
              "      <td>texture_mean</td>\n",
              "      <td>1</td>\n",
              "      <td>60.69</td>\n",
              "      <td>True</td>\n",
              "      <td>True</td>\n",
              "      <td>0.04</td>\n",
              "      <td>True</td>\n",
              "      <td>0.06</td>\n",
              "    </tr>\n",
              "    <tr>\n",
              "      <th>1</th>\n",
              "      <td>area_mean</td>\n",
              "      <td>1</td>\n",
              "      <td>36689.96</td>\n",
              "      <td>True</td>\n",
              "      <td>True</td>\n",
              "      <td>0.19</td>\n",
              "      <td>True</td>\n",
              "      <td>0.17</td>\n",
              "    </tr>\n",
              "    <tr>\n",
              "      <th>2</th>\n",
              "      <td>smoothness_mean</td>\n",
              "      <td>1</td>\n",
              "      <td>0.10</td>\n",
              "      <td>True</td>\n",
              "      <td>True</td>\n",
              "      <td>0.02</td>\n",
              "      <td>False</td>\n",
              "      <td>0.02</td>\n",
              "    </tr>\n",
              "    <tr>\n",
              "      <th>3</th>\n",
              "      <td>concavity_mean</td>\n",
              "      <td>1</td>\n",
              "      <td>13.05</td>\n",
              "      <td>True</td>\n",
              "      <td>True</td>\n",
              "      <td>0.21</td>\n",
              "      <td>False</td>\n",
              "      <td>0.19</td>\n",
              "    </tr>\n",
              "    <tr>\n",
              "      <th>4</th>\n",
              "      <td>symmetry_mean</td>\n",
              "      <td>1</td>\n",
              "      <td>0.20</td>\n",
              "      <td>False</td>\n",
              "      <td>False</td>\n",
              "      <td>0.01</td>\n",
              "      <td>False</td>\n",
              "      <td>0.03</td>\n",
              "    </tr>\n",
              "  </tbody>\n",
              "</table>\n",
              "</div>"
            ],
            "text/plain": [
              "             index  Corr  Chi_Square    RFE  RFECV   RF     L1  Extratrees\n",
              "0     texture_mean     1       60.69   True   True 0.04   True        0.06\n",
              "1        area_mean     1    36689.96   True   True 0.19   True        0.17\n",
              "2  smoothness_mean     1        0.10   True   True 0.02  False        0.02\n",
              "3   concavity_mean     1       13.05   True   True 0.21  False        0.19\n",
              "4    symmetry_mean     1        0.20  False  False 0.01  False        0.03"
            ]
          },
          "metadata": {},
          "execution_count": 34
        }
      ]
    },
    {
      "cell_type": "code",
      "metadata": {
        "colab": {
          "base_uri": "https://localhost:8080/"
        },
        "id": "LvsJWerKeQ0Q",
        "outputId": "ef1c6789-e67f-4dc4-9b52-f311a44a395b"
      },
      "source": [
        "final_results.columns"
      ],
      "execution_count": 35,
      "outputs": [
        {
          "output_type": "execute_result",
          "data": {
            "text/plain": [
              "Index(['index', 'Corr', 'Chi_Square', 'RFE', 'RFECV', 'RF', 'L1',\n",
              "       'Extratrees'],\n",
              "      dtype='object')"
            ]
          },
          "metadata": {},
          "execution_count": 35
        }
      ]
    },
    {
      "cell_type": "markdown",
      "metadata": {
        "id": "o2KzecD6eQ0Q"
      },
      "source": [
        "#### Variable Score"
      ]
    },
    {
      "cell_type": "code",
      "metadata": {
        "id": "njRb2l2FeQ0R"
      },
      "source": [
        "columns = ['Chi_Square', 'RF', 'Extratrees']\n",
        "score_table = pd.DataFrame({},[])\n",
        "score_table['index'] = final_results['index']\n",
        "for i in columns:\n",
        "    score_table[i] = final_results['index'].isin(list(final_results.nlargest(10,i)['index'])).astype(int)\n",
        "\n",
        "#score_table['Corr'] = final_results['Corr'].astype(int)\n",
        "score_table['RFE'] = final_results['RFE'].astype(int)\n",
        "score_table['RFECV'] = final_results['RFECV'].astype(int)\n",
        "score_table['L1'] = final_results['L1'].astype(int)"
      ],
      "execution_count": 36,
      "outputs": []
    },
    {
      "cell_type": "code",
      "metadata": {
        "id": "KbT13a1heQ0R"
      },
      "source": [
        "score_table['final_score'] = score_table.sum(axis=1)"
      ],
      "execution_count": 37,
      "outputs": []
    },
    {
      "cell_type": "code",
      "metadata": {
        "colab": {
          "base_uri": "https://localhost:8080/",
          "height": 550
        },
        "id": "PljOktCgeQ0S",
        "outputId": "9ff03363-38c3-490f-edec-f5f775852b1b"
      },
      "source": [
        "score_table.sort_values('final_score',ascending=0)"
      ],
      "execution_count": 38,
      "outputs": [
        {
          "output_type": "execute_result",
          "data": {
            "text/html": [
              "<div>\n",
              "<style scoped>\n",
              "    .dataframe tbody tr th:only-of-type {\n",
              "        vertical-align: middle;\n",
              "    }\n",
              "\n",
              "    .dataframe tbody tr th {\n",
              "        vertical-align: top;\n",
              "    }\n",
              "\n",
              "    .dataframe thead th {\n",
              "        text-align: right;\n",
              "    }\n",
              "</style>\n",
              "<table border=\"1\" class=\"dataframe\">\n",
              "  <thead>\n",
              "    <tr style=\"text-align: right;\">\n",
              "      <th></th>\n",
              "      <th>index</th>\n",
              "      <th>Chi_Square</th>\n",
              "      <th>RF</th>\n",
              "      <th>Extratrees</th>\n",
              "      <th>RFE</th>\n",
              "      <th>RFECV</th>\n",
              "      <th>L1</th>\n",
              "      <th>final_score</th>\n",
              "    </tr>\n",
              "  </thead>\n",
              "  <tbody>\n",
              "    <tr>\n",
              "      <th>0</th>\n",
              "      <td>texture_mean</td>\n",
              "      <td>1</td>\n",
              "      <td>1</td>\n",
              "      <td>1</td>\n",
              "      <td>1</td>\n",
              "      <td>1</td>\n",
              "      <td>1</td>\n",
              "      <td>6</td>\n",
              "    </tr>\n",
              "    <tr>\n",
              "      <th>1</th>\n",
              "      <td>area_mean</td>\n",
              "      <td>1</td>\n",
              "      <td>1</td>\n",
              "      <td>1</td>\n",
              "      <td>1</td>\n",
              "      <td>1</td>\n",
              "      <td>1</td>\n",
              "      <td>6</td>\n",
              "    </tr>\n",
              "    <tr>\n",
              "      <th>7</th>\n",
              "      <td>area_se</td>\n",
              "      <td>1</td>\n",
              "      <td>1</td>\n",
              "      <td>1</td>\n",
              "      <td>1</td>\n",
              "      <td>1</td>\n",
              "      <td>1</td>\n",
              "      <td>6</td>\n",
              "    </tr>\n",
              "    <tr>\n",
              "      <th>3</th>\n",
              "      <td>concavity_mean</td>\n",
              "      <td>1</td>\n",
              "      <td>1</td>\n",
              "      <td>1</td>\n",
              "      <td>1</td>\n",
              "      <td>1</td>\n",
              "      <td>0</td>\n",
              "      <td>5</td>\n",
              "    </tr>\n",
              "    <tr>\n",
              "      <th>9</th>\n",
              "      <td>concavity_se</td>\n",
              "      <td>1</td>\n",
              "      <td>1</td>\n",
              "      <td>1</td>\n",
              "      <td>1</td>\n",
              "      <td>1</td>\n",
              "      <td>0</td>\n",
              "      <td>5</td>\n",
              "    </tr>\n",
              "    <tr>\n",
              "      <th>12</th>\n",
              "      <td>smoothness_worst</td>\n",
              "      <td>1</td>\n",
              "      <td>1</td>\n",
              "      <td>1</td>\n",
              "      <td>1</td>\n",
              "      <td>1</td>\n",
              "      <td>0</td>\n",
              "      <td>5</td>\n",
              "    </tr>\n",
              "    <tr>\n",
              "      <th>13</th>\n",
              "      <td>concavity_worst</td>\n",
              "      <td>1</td>\n",
              "      <td>1</td>\n",
              "      <td>1</td>\n",
              "      <td>1</td>\n",
              "      <td>1</td>\n",
              "      <td>0</td>\n",
              "      <td>5</td>\n",
              "    </tr>\n",
              "    <tr>\n",
              "      <th>14</th>\n",
              "      <td>symmetry_worst</td>\n",
              "      <td>1</td>\n",
              "      <td>1</td>\n",
              "      <td>1</td>\n",
              "      <td>1</td>\n",
              "      <td>1</td>\n",
              "      <td>0</td>\n",
              "      <td>5</td>\n",
              "    </tr>\n",
              "    <tr>\n",
              "      <th>5</th>\n",
              "      <td>fractal_dimension_mean</td>\n",
              "      <td>0</td>\n",
              "      <td>1</td>\n",
              "      <td>1</td>\n",
              "      <td>1</td>\n",
              "      <td>1</td>\n",
              "      <td>0</td>\n",
              "      <td>4</td>\n",
              "    </tr>\n",
              "    <tr>\n",
              "      <th>2</th>\n",
              "      <td>smoothness_mean</td>\n",
              "      <td>0</td>\n",
              "      <td>1</td>\n",
              "      <td>0</td>\n",
              "      <td>1</td>\n",
              "      <td>1</td>\n",
              "      <td>0</td>\n",
              "      <td>3</td>\n",
              "    </tr>\n",
              "    <tr>\n",
              "      <th>15</th>\n",
              "      <td>fractal_dimension_worst</td>\n",
              "      <td>1</td>\n",
              "      <td>0</td>\n",
              "      <td>1</td>\n",
              "      <td>0</td>\n",
              "      <td>1</td>\n",
              "      <td>0</td>\n",
              "      <td>3</td>\n",
              "    </tr>\n",
              "    <tr>\n",
              "      <th>4</th>\n",
              "      <td>symmetry_mean</td>\n",
              "      <td>1</td>\n",
              "      <td>0</td>\n",
              "      <td>0</td>\n",
              "      <td>0</td>\n",
              "      <td>0</td>\n",
              "      <td>0</td>\n",
              "      <td>1</td>\n",
              "    </tr>\n",
              "    <tr>\n",
              "      <th>6</th>\n",
              "      <td>texture_se</td>\n",
              "      <td>0</td>\n",
              "      <td>0</td>\n",
              "      <td>0</td>\n",
              "      <td>0</td>\n",
              "      <td>0</td>\n",
              "      <td>0</td>\n",
              "      <td>0</td>\n",
              "    </tr>\n",
              "    <tr>\n",
              "      <th>8</th>\n",
              "      <td>smoothness_se</td>\n",
              "      <td>0</td>\n",
              "      <td>0</td>\n",
              "      <td>0</td>\n",
              "      <td>0</td>\n",
              "      <td>0</td>\n",
              "      <td>0</td>\n",
              "      <td>0</td>\n",
              "    </tr>\n",
              "    <tr>\n",
              "      <th>10</th>\n",
              "      <td>symmetry_se</td>\n",
              "      <td>0</td>\n",
              "      <td>0</td>\n",
              "      <td>0</td>\n",
              "      <td>0</td>\n",
              "      <td>0</td>\n",
              "      <td>0</td>\n",
              "      <td>0</td>\n",
              "    </tr>\n",
              "    <tr>\n",
              "      <th>11</th>\n",
              "      <td>fractal_dimension_se</td>\n",
              "      <td>0</td>\n",
              "      <td>0</td>\n",
              "      <td>0</td>\n",
              "      <td>0</td>\n",
              "      <td>0</td>\n",
              "      <td>0</td>\n",
              "      <td>0</td>\n",
              "    </tr>\n",
              "  </tbody>\n",
              "</table>\n",
              "</div>"
            ],
            "text/plain": [
              "                      index  Chi_Square  RF  ...  RFECV  L1  final_score\n",
              "0              texture_mean           1   1  ...      1   1            6\n",
              "1                 area_mean           1   1  ...      1   1            6\n",
              "7                   area_se           1   1  ...      1   1            6\n",
              "3            concavity_mean           1   1  ...      1   0            5\n",
              "9              concavity_se           1   1  ...      1   0            5\n",
              "12         smoothness_worst           1   1  ...      1   0            5\n",
              "13          concavity_worst           1   1  ...      1   0            5\n",
              "14           symmetry_worst           1   1  ...      1   0            5\n",
              "5    fractal_dimension_mean           0   1  ...      1   0            4\n",
              "2           smoothness_mean           0   1  ...      1   0            3\n",
              "15  fractal_dimension_worst           1   0  ...      1   0            3\n",
              "4             symmetry_mean           1   0  ...      0   0            1\n",
              "6                texture_se           0   0  ...      0   0            0\n",
              "8             smoothness_se           0   0  ...      0   0            0\n",
              "10              symmetry_se           0   0  ...      0   0            0\n",
              "11     fractal_dimension_se           0   0  ...      0   0            0\n",
              "\n",
              "[16 rows x 8 columns]"
            ]
          },
          "metadata": {},
          "execution_count": 38
        }
      ]
    },
    {
      "cell_type": "code",
      "metadata": {
        "colab": {
          "base_uri": "https://localhost:8080/"
        },
        "id": "HhXCp2cseQ0T",
        "outputId": "558bf5d3-0ca8-4cf8-ea91-e50a6762bef8"
      },
      "source": [
        "# Voted features\n",
        "list(score_table['index'][score_table['final_score']>=2])"
      ],
      "execution_count": 39,
      "outputs": [
        {
          "output_type": "execute_result",
          "data": {
            "text/plain": [
              "['texture_mean',\n",
              " 'area_mean',\n",
              " 'smoothness_mean',\n",
              " 'concavity_mean',\n",
              " 'fractal_dimension_mean',\n",
              " 'area_se',\n",
              " 'concavity_se',\n",
              " 'smoothness_worst',\n",
              " 'concavity_worst',\n",
              " 'symmetry_worst',\n",
              " 'fractal_dimension_worst']"
            ]
          },
          "metadata": {},
          "execution_count": 39
        }
      ]
    },
    {
      "cell_type": "code",
      "metadata": {
        "colab": {
          "base_uri": "https://localhost:8080/"
        },
        "id": "Pr_WvW0XeQ0T",
        "outputId": "edf552d6-d802-4449-c430-a328305017cc"
      },
      "source": [
        "# RFE features\n",
        "list(score_table['index'][score_table['RFE']==1])"
      ],
      "execution_count": 40,
      "outputs": [
        {
          "output_type": "execute_result",
          "data": {
            "text/plain": [
              "['texture_mean',\n",
              " 'area_mean',\n",
              " 'smoothness_mean',\n",
              " 'concavity_mean',\n",
              " 'fractal_dimension_mean',\n",
              " 'area_se',\n",
              " 'concavity_se',\n",
              " 'smoothness_worst',\n",
              " 'concavity_worst',\n",
              " 'symmetry_worst']"
            ]
          },
          "metadata": {},
          "execution_count": 40
        }
      ]
    },
    {
      "cell_type": "code",
      "metadata": {
        "colab": {
          "base_uri": "https://localhost:8080/"
        },
        "id": "EXyOF00oeQ0U",
        "outputId": "2031126a-9287-483a-df32-0411fe6a751c"
      },
      "source": [
        "# RFECV features\n",
        "list(score_table['index'][score_table['RFECV']==1])"
      ],
      "execution_count": 41,
      "outputs": [
        {
          "output_type": "execute_result",
          "data": {
            "text/plain": [
              "['texture_mean',\n",
              " 'area_mean',\n",
              " 'smoothness_mean',\n",
              " 'concavity_mean',\n",
              " 'fractal_dimension_mean',\n",
              " 'area_se',\n",
              " 'concavity_se',\n",
              " 'smoothness_worst',\n",
              " 'concavity_worst',\n",
              " 'symmetry_worst',\n",
              " 'fractal_dimension_worst']"
            ]
          },
          "metadata": {},
          "execution_count": 41
        }
      ]
    },
    {
      "cell_type": "code",
      "metadata": {
        "colab": {
          "base_uri": "https://localhost:8080/"
        },
        "id": "ythOhXPAeQ0U",
        "outputId": "e2f72bbc-17fd-483a-d94a-6d6608ef15d4"
      },
      "source": [
        "# Chi-Square features\n",
        "list(score_table['index'][score_table['Chi_Square']==1])"
      ],
      "execution_count": 42,
      "outputs": [
        {
          "output_type": "execute_result",
          "data": {
            "text/plain": [
              "['texture_mean',\n",
              " 'area_mean',\n",
              " 'concavity_mean',\n",
              " 'symmetry_mean',\n",
              " 'area_se',\n",
              " 'concavity_se',\n",
              " 'smoothness_worst',\n",
              " 'concavity_worst',\n",
              " 'symmetry_worst',\n",
              " 'fractal_dimension_worst']"
            ]
          },
          "metadata": {},
          "execution_count": 42
        }
      ]
    },
    {
      "cell_type": "code",
      "metadata": {
        "colab": {
          "base_uri": "https://localhost:8080/"
        },
        "id": "Xq3FPXo9eQ0W",
        "outputId": "d423ce6a-a4a4-4ab0-c11f-339824413269"
      },
      "source": [
        "# RF features\n",
        "list(score_table['index'][score_table['RF']==1])"
      ],
      "execution_count": 43,
      "outputs": [
        {
          "output_type": "execute_result",
          "data": {
            "text/plain": [
              "['texture_mean',\n",
              " 'area_mean',\n",
              " 'smoothness_mean',\n",
              " 'concavity_mean',\n",
              " 'fractal_dimension_mean',\n",
              " 'area_se',\n",
              " 'concavity_se',\n",
              " 'smoothness_worst',\n",
              " 'concavity_worst',\n",
              " 'symmetry_worst']"
            ]
          },
          "metadata": {},
          "execution_count": 43
        }
      ]
    },
    {
      "cell_type": "code",
      "metadata": {
        "colab": {
          "base_uri": "https://localhost:8080/"
        },
        "id": "X6HAv9VoeQ0W",
        "outputId": "88a32f50-eb1b-4daa-bf7c-ba61828ea7f8"
      },
      "source": [
        "# L1 features\n",
        "list(score_table['index'][score_table['L1']==1])"
      ],
      "execution_count": 44,
      "outputs": [
        {
          "output_type": "execute_result",
          "data": {
            "text/plain": [
              "['texture_mean', 'area_mean', 'area_se']"
            ]
          },
          "metadata": {},
          "execution_count": 44
        }
      ]
    },
    {
      "cell_type": "code",
      "metadata": {
        "colab": {
          "base_uri": "https://localhost:8080/"
        },
        "id": "DCpnCyaueQ0X",
        "outputId": "ced9a675-bb4d-4d13-ae4d-8dc1c6a2a980"
      },
      "source": [
        "# ExtraTrees features\n",
        "list(score_table['index'][score_table['Extratrees']==1])"
      ],
      "execution_count": 45,
      "outputs": [
        {
          "output_type": "execute_result",
          "data": {
            "text/plain": [
              "['texture_mean',\n",
              " 'area_mean',\n",
              " 'concavity_mean',\n",
              " 'fractal_dimension_mean',\n",
              " 'area_se',\n",
              " 'concavity_se',\n",
              " 'smoothness_worst',\n",
              " 'concavity_worst',\n",
              " 'symmetry_worst',\n",
              " 'fractal_dimension_worst']"
            ]
          },
          "metadata": {},
          "execution_count": 45
        }
      ]
    },
    {
      "cell_type": "markdown",
      "metadata": {
        "id": "s0oCjdSZeQ0X"
      },
      "source": [
        "#### Multicollinearity - VIF (Addon)"
      ]
    },
    {
      "cell_type": "code",
      "metadata": {
        "colab": {
          "base_uri": "https://localhost:8080/"
        },
        "id": "jZhTepR6eQ0Y",
        "outputId": "4cacbdbe-75de-4fae-98e7-18418969467f"
      },
      "source": [
        "from statsmodels.stats.outliers_influence import variance_inflation_factor"
      ],
      "execution_count": 46,
      "outputs": [
        {
          "output_type": "stream",
          "name": "stderr",
          "text": [
            "/usr/local/lib/python3.7/dist-packages/statsmodels/tools/_testing.py:19: FutureWarning: pandas.util.testing is deprecated. Use the functions in the public API at pandas.testing instead.\n",
            "  import pandas.util.testing as tm\n"
          ]
        }
      ]
    },
    {
      "cell_type": "code",
      "metadata": {
        "id": "E4D-eLvNeQ0Y"
      },
      "source": [
        "def calculate_vif(features):\n",
        "    vif = pd.DataFrame()\n",
        "    vif[\"Features\"] = features.columns\n",
        "    vif[\"VIF\"] = [variance_inflation_factor(features.values, i) for i in range(features.shape[1])]\n",
        "    return(vif)"
      ],
      "execution_count": 47,
      "outputs": []
    },
    {
      "cell_type": "code",
      "metadata": {
        "colab": {
          "base_uri": "https://localhost:8080/"
        },
        "id": "Im1ipKuCeQ0a",
        "outputId": "36b6b76f-a1c8-4351-c007-14fc08459a35"
      },
      "source": [
        "vif = calculate_vif(x_train)\n",
        "while vif['VIF'][vif['VIF'] > 10].any():\n",
        "    remove = vif.sort_values('VIF',ascending=0)['Features'][:1]\n",
        "    x_train.drop(remove,axis=1,inplace=True)\n",
        "    vif = calculate_vif(x_train)"
      ],
      "execution_count": 48,
      "outputs": [
        {
          "output_type": "stream",
          "name": "stderr",
          "text": [
            "/usr/local/lib/python3.7/dist-packages/pandas/core/frame.py:4174: SettingWithCopyWarning: \n",
            "A value is trying to be set on a copy of a slice from a DataFrame\n",
            "\n",
            "See the caveats in the documentation: https://pandas.pydata.org/pandas-docs/stable/user_guide/indexing.html#returning-a-view-versus-a-copy\n",
            "  errors=errors,\n",
            "/usr/local/lib/python3.7/dist-packages/pandas/core/frame.py:4174: SettingWithCopyWarning: \n",
            "A value is trying to be set on a copy of a slice from a DataFrame\n",
            "\n",
            "See the caveats in the documentation: https://pandas.pydata.org/pandas-docs/stable/user_guide/indexing.html#returning-a-view-versus-a-copy\n",
            "  errors=errors,\n",
            "/usr/local/lib/python3.7/dist-packages/pandas/core/frame.py:4174: SettingWithCopyWarning: \n",
            "A value is trying to be set on a copy of a slice from a DataFrame\n",
            "\n",
            "See the caveats in the documentation: https://pandas.pydata.org/pandas-docs/stable/user_guide/indexing.html#returning-a-view-versus-a-copy\n",
            "  errors=errors,\n",
            "/usr/local/lib/python3.7/dist-packages/pandas/core/frame.py:4174: SettingWithCopyWarning: \n",
            "A value is trying to be set on a copy of a slice from a DataFrame\n",
            "\n",
            "See the caveats in the documentation: https://pandas.pydata.org/pandas-docs/stable/user_guide/indexing.html#returning-a-view-versus-a-copy\n",
            "  errors=errors,\n",
            "/usr/local/lib/python3.7/dist-packages/pandas/core/frame.py:4174: SettingWithCopyWarning: \n",
            "A value is trying to be set on a copy of a slice from a DataFrame\n",
            "\n",
            "See the caveats in the documentation: https://pandas.pydata.org/pandas-docs/stable/user_guide/indexing.html#returning-a-view-versus-a-copy\n",
            "  errors=errors,\n",
            "/usr/local/lib/python3.7/dist-packages/pandas/core/frame.py:4174: SettingWithCopyWarning: \n",
            "A value is trying to be set on a copy of a slice from a DataFrame\n",
            "\n",
            "See the caveats in the documentation: https://pandas.pydata.org/pandas-docs/stable/user_guide/indexing.html#returning-a-view-versus-a-copy\n",
            "  errors=errors,\n",
            "/usr/local/lib/python3.7/dist-packages/pandas/core/frame.py:4174: SettingWithCopyWarning: \n",
            "A value is trying to be set on a copy of a slice from a DataFrame\n",
            "\n",
            "See the caveats in the documentation: https://pandas.pydata.org/pandas-docs/stable/user_guide/indexing.html#returning-a-view-versus-a-copy\n",
            "  errors=errors,\n",
            "/usr/local/lib/python3.7/dist-packages/pandas/core/frame.py:4174: SettingWithCopyWarning: \n",
            "A value is trying to be set on a copy of a slice from a DataFrame\n",
            "\n",
            "See the caveats in the documentation: https://pandas.pydata.org/pandas-docs/stable/user_guide/indexing.html#returning-a-view-versus-a-copy\n",
            "  errors=errors,\n",
            "/usr/local/lib/python3.7/dist-packages/pandas/core/frame.py:4174: SettingWithCopyWarning: \n",
            "A value is trying to be set on a copy of a slice from a DataFrame\n",
            "\n",
            "See the caveats in the documentation: https://pandas.pydata.org/pandas-docs/stable/user_guide/indexing.html#returning-a-view-versus-a-copy\n",
            "  errors=errors,\n",
            "/usr/local/lib/python3.7/dist-packages/pandas/core/frame.py:4174: SettingWithCopyWarning: \n",
            "A value is trying to be set on a copy of a slice from a DataFrame\n",
            "\n",
            "See the caveats in the documentation: https://pandas.pydata.org/pandas-docs/stable/user_guide/indexing.html#returning-a-view-versus-a-copy\n",
            "  errors=errors,\n"
          ]
        }
      ]
    },
    {
      "cell_type": "code",
      "metadata": {
        "colab": {
          "base_uri": "https://localhost:8080/",
          "height": 237
        },
        "id": "ZcPMK4GJeQ0b",
        "outputId": "f16d8c2e-2109-4c34-9ed0-1881210c426f"
      },
      "source": [
        "vif"
      ],
      "execution_count": 49,
      "outputs": [
        {
          "output_type": "execute_result",
          "data": {
            "text/html": [
              "<div>\n",
              "<style scoped>\n",
              "    .dataframe tbody tr th:only-of-type {\n",
              "        vertical-align: middle;\n",
              "    }\n",
              "\n",
              "    .dataframe tbody tr th {\n",
              "        vertical-align: top;\n",
              "    }\n",
              "\n",
              "    .dataframe thead th {\n",
              "        text-align: right;\n",
              "    }\n",
              "</style>\n",
              "<table border=\"1\" class=\"dataframe\">\n",
              "  <thead>\n",
              "    <tr style=\"text-align: right;\">\n",
              "      <th></th>\n",
              "      <th>Features</th>\n",
              "      <th>VIF</th>\n",
              "    </tr>\n",
              "  </thead>\n",
              "  <tbody>\n",
              "    <tr>\n",
              "      <th>0</th>\n",
              "      <td>texture_se</td>\n",
              "      <td>7.74</td>\n",
              "    </tr>\n",
              "    <tr>\n",
              "      <th>1</th>\n",
              "      <td>area_se</td>\n",
              "      <td>2.01</td>\n",
              "    </tr>\n",
              "    <tr>\n",
              "      <th>2</th>\n",
              "      <td>smoothness_se</td>\n",
              "      <td>7.33</td>\n",
              "    </tr>\n",
              "    <tr>\n",
              "      <th>3</th>\n",
              "      <td>concavity_se</td>\n",
              "      <td>4.11</td>\n",
              "    </tr>\n",
              "    <tr>\n",
              "      <th>4</th>\n",
              "      <td>symmetry_se</td>\n",
              "      <td>8.41</td>\n",
              "    </tr>\n",
              "    <tr>\n",
              "      <th>5</th>\n",
              "      <td>concavity_worst</td>\n",
              "      <td>4.46</td>\n",
              "    </tr>\n",
              "  </tbody>\n",
              "</table>\n",
              "</div>"
            ],
            "text/plain": [
              "          Features  VIF\n",
              "0       texture_se 7.74\n",
              "1          area_se 2.01\n",
              "2    smoothness_se 7.33\n",
              "3     concavity_se 4.11\n",
              "4      symmetry_se 8.41\n",
              "5  concavity_worst 4.46"
            ]
          },
          "metadata": {},
          "execution_count": 49
        }
      ]
    },
    {
      "cell_type": "markdown",
      "metadata": {
        "id": "vM5-tCo2eQ0d"
      },
      "source": [
        "#### Feature Extraction using PCA"
      ]
    },
    {
      "cell_type": "markdown",
      "metadata": {
        "id": "2GmyWbeheQ0l"
      },
      "source": [
        "http://scikit-learn.org/stable/modules/generated/sklearn.decomposition.PCA.html We will use principle component analysis (PCA) for feature extraction. Before PCA, we need to normalize data for better performance of PCA."
      ]
    },
    {
      "cell_type": "code",
      "metadata": {
        "colab": {
          "base_uri": "https://localhost:8080/",
          "height": 736
        },
        "id": "JYv0BGb1eQ0m",
        "outputId": "7929ec08-2dd3-4750-e798-acd7545ef849"
      },
      "source": [
        "# split data train 70 % and test 30 %\n",
        "x_train, x_test, y_train, y_test = train_test_split(x, y, test_size=0.3, random_state=42)\n",
        "#normalization\n",
        "x_train_N = (x_train-x_train.mean())/(x_train.max()-x_train.min())\n",
        "x_test_N = (x_test-x_test.mean())/(x_test.max()-x_test.min())\n",
        "\n",
        "from sklearn.decomposition import PCA\n",
        "pca = PCA()\n",
        "pca.fit(x_train_N)\n",
        "\n",
        "plt.figure(1, figsize=(14, 13))\n",
        "plt.clf()\n",
        "plt.axes([.2, .2, .7, .7])\n",
        "plt.plot(pca.explained_variance_ratio_, linewidth=2)\n",
        "plt.axis('tight')\n",
        "plt.xlabel('n_components')\n",
        "plt.ylabel('explained_variance_ratio_')"
      ],
      "execution_count": 50,
      "outputs": [
        {
          "output_type": "execute_result",
          "data": {
            "text/plain": [
              "Text(0, 0.5, 'explained_variance_ratio_')"
            ]
          },
          "metadata": {},
          "execution_count": 50
        },
        {
          "output_type": "display_data",
          "data": {
            "image/png": "[encoded data removed]",
            "text/plain": [
              "<Figure size 1008x936 with 1 Axes>"
            ]
          },
          "metadata": {
            "needs_background": "light"
          }
        }
      ]
    },
    {
      "cell_type": "markdown",
      "metadata": {
        "id": "Izr2S284eQ0n"
      },
      "source": [
        "According to variance ration, 3 component can be chosen."
      ]
    }
  ]
}