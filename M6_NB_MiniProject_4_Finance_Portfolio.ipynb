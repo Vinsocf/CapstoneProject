{
  "nbformat": 4,
  "nbformat_minor": 0,
  "metadata": {
    "anaconda-cloud": {},
    "coursera": {
      "course_slug": "machine-learning-in-finance"
    },
    "kernelspec": {
      "display_name": "Python 3",
      "language": "python",
      "name": "python3"
    },
    "language_info": {
      "codemirror_mode": {
        "name": "ipython",
        "version": 3
      },
      "file_extension": ".py",
      "mimetype": "text/x-python",
      "name": "python",
      "nbconvert_exporter": "python",
      "pygments_lexer": "ipython3",
      "version": "3.6.0"
    },
    "colab": {
      "name": "M6_NB_MiniProject_4_Finance_Portfolio.ipynb",
      "provenance": [],
      "collapsed_sections": [],
      "toc_visible": true,
      "include_colab_link": true
    }
  },
  "cells": [
    {
      "cell_type": "markdown",
      "metadata": {
        "id": "view-in-github",
        "colab_type": "text"
      },
      "source": [
        "<a href=\"https://colab.research.google.com/github/Vinsocf/CapstoneProject/blob/main/M6_NB_MiniProject_4_Finance_Portfolio.ipynb\" target=\"_parent\"><img src=\"https://colab.research.google.com/assets/colab-badge.svg\" alt=\"Open In Colab\"/></a>"
      ]
    },
    {
      "cell_type": "markdown",
      "metadata": {
        "id": "vFGxXJv8tj5d"
      },
      "source": [
        "# Advanced Certification Program in Computational Data Science\n",
        "## A program by IISc and TalentSprint\n",
        "### MiniProject 4: Finance Portfolio"
      ]
    },
    {
      "cell_type": "markdown",
      "metadata": {
        "id": "nqqRjnCqz1-e"
      },
      "source": [
        "## Learning Objectives"
      ]
    },
    {
      "cell_type": "markdown",
      "metadata": {
        "id": "2odBo6PtImzj"
      },
      "source": [
        "At the end of the experiment, you will be able to:\n",
        "\n",
        "* build a finance portfolio\n",
        "* optimize and find the maximum return, minimum risk of a portfolio\n",
        "* cluster the asset parameters to group the similar assets\n",
        "* select the optimal portfolio of diversified assets\n"
      ]
    },
    {
      "cell_type": "markdown",
      "metadata": {
        "id": "HyXQmXWENr1i"
      },
      "source": [
        "## Dataset"
      ]
    },
    {
      "cell_type": "markdown",
      "metadata": {
        "id": "B4bMv9WSNuGi"
      },
      "source": [
        "Dataset chosen for this mini project is Dow Jones Industrial Average (DJIA) Index viz., Apple (AAPL), American Express (AXP), Boeing (BA), Caterpillar (CAT), Cisco Systems (CSCO), Chevron (CVX), Walt Disney (DIS), Goldman Sachs (GS), The Home Depot (HD), IBM (IBM), Intel (INTC), Johnson & Johnson (JNJ), JP Morgan Chase (JPM), Coca-Cola (KO), McDonald's (MCD), 3M(MMM), Merck & Co (MRK), Microsoft (MSFT), Nike (NKE), Pfizer (PFE), Procter & Gamble (PG), Travelers (TRV), United Health Group (UNH), United Technologies (UTX), Verizon (V), Verizon (VZ), Walgreens Boots Alliance (WBA), Walmart (WMT), Exxon Mobil (XOM).\n",
        "\n",
        "The data set considered is from April 11, 2014 to April 11, 2019. Fig. 3.4 illustrates a snapshot of the DJIA dataset.\n",
        "\n",
        "![img](https://github.com/PaiViji/PythonFinance-PortfolioOptimization/raw/2bb0ae9f32f44ff66302ea33f53c02e746583a05/Lesson3_HeuristicPortfolioSelection/Lesson3Fig3_4.png)\n",
        "\n",
        " "
      ]
    },
    {
      "cell_type": "markdown",
      "metadata": {
        "id": "t6VIOnrmpihg"
      },
      "source": [
        "## Information\n",
        "\n"
      ]
    },
    {
      "cell_type": "markdown",
      "metadata": {
        "id": "q9RGmSXzqeFg"
      },
      "source": [
        "The universe of stocks can truly baffle investors who wish to make the best selection of stocks for their portfolios. It is a daunting task to make a prudent selection of stocks, given the vastness of the choices and the diverse behavioural characteristics of each of these stocks with respect to itself and to one another\n",
        "\n",
        "**Portfolio Return and Risk:**\n",
        "Harry Markowtiz proposed a framework known as Mean-Variance Analysis which won him the 1990 Nobel Prize in Economics. The framework laid the foundation for what is known as the Modern Portfolio Theory, that views the *portfolio return* as the capital gain that can be expected by holding a portfolio and *portfolio risk* as the extent of capital losses that it can suffer possibly due to adverse market movements. Portfolio return and risk were modelled using the mean and variance of the portfolio's fluctuations respectively.\n",
        "\n",
        "**Diversification Index:**\n",
        "A Diversification Index quantifies diversification. There are several diversification indices discussed in the literature. Diversification Ratio proposed and patented by Yves Choueifaty in 2008 [CHO 08, CHO 13], is a diversification index of recent origin, built on the inter-dependence between assets of a portfolio. Diversification Ratio is the ratio of the weighted sum of individual asset volatilities to the portfolio's volatility.\n",
        "\n",
        "**Efficient Frontier:** An efficient frontier is a set of investment portfolios that are expected to provide the highest returns at a given level of risk. A portfolio is said to be efficient if there is no other portfolio that offers higher returns for a lower or equal amount of risk. Where portfolios are located on the efficient frontier depends on the investor’s degree of risk tolerance.\n",
        "\n",
        "**Sharpe Ratio:** The Sharpe ratio was developed by Nobel laureate William F. Sharpe and is used to help investors understand the return of an investment compared to its risk. The ratio is the average return earned in excess of the risk-free rate per unit of volatility or total risk. Volatility is a measure of the price fluctuations of an asset or portfolio."
      ]
    },
    {
      "cell_type": "markdown",
      "metadata": {
        "id": "uMWem-M0qD9A"
      },
      "source": [
        "## Objectives:\n",
        "\n",
        "* How can the investor decide on which combination of assets is the best?\n",
        "* How can diversification be ensured, when the assets belong to different sectors and therefore behave differently under varying market conditions?\n",
        "* How would an investor determine the optimal weights, which will ensure maximum return risk for the portfolio invested in ?\n",
        "* How would an investor know how much to invest in each one of the assets in the portfolio ?"
      ]
    },
    {
      "cell_type": "markdown",
      "metadata": {
        "id": "ndQNKsjS7c04"
      },
      "source": [
        "## Grading = 10 Points"
      ]
    },
    {
      "cell_type": "code",
      "metadata": {
        "id": "octTr7Dz4_rH",
        "cellView": "form"
      },
      "source": [
        "#@title Download the dataset\n",
        "!wget -qq https://cdn.iisc.talentsprint.com/CDS/MiniProjects/DJIA_Apr112014_Apr112019.csv"
      ],
      "execution_count": 141,
      "outputs": []
    },
    {
      "cell_type": "markdown",
      "metadata": {
        "id": "YRIzMfgjwcAp"
      },
      "source": [
        "### Import required Packages "
      ]
    },
    {
      "cell_type": "code",
      "metadata": {
        "id": "uSfeKXD4UbLp"
      },
      "source": [
        "import numpy as np\n",
        "import pandas as pd\n",
        "import datetime\n",
        "import matplotlib.pyplot as plt\n",
        "import seaborn as sns\n",
        "from sklearn.cluster import KMeans "
      ],
      "execution_count": 142,
      "outputs": []
    },
    {
      "cell_type": "markdown",
      "metadata": {
        "id": "ySJn1hVNtgCc"
      },
      "source": [
        "### Data Preparation (1 point)"
      ]
    },
    {
      "cell_type": "code",
      "metadata": {
        "id": "eiMf96D75q6G"
      },
      "source": [
        "#input stock dataset\n",
        "StockFileName = '/content/DJIA_Apr112014_Apr112019.csv'\n",
        "\n",
        "# YOUR CODE HERE"
      ],
      "execution_count": 143,
      "outputs": []
    },
    {
      "cell_type": "code",
      "metadata": {
        "colab": {
          "base_uri": "https://localhost:8080/"
        },
        "id": "BquzKUn9s5og",
        "outputId": "ae50df1e-a93e-4018-cfa9-b7a535d08989"
      },
      "source": [
        "Rows = 1259  #excluding header\n",
        "Columns = 29  #excluding date\n",
        "portfolioSize = Columns #set portfolio size\n",
        "#read stock prices \n",
        "df = pd.read_csv(StockFileName,  nrows= Rows)\n",
        "\n",
        "#extract asset labels\n",
        "assetLabels = df.columns[1:Columns+1].tolist()\n",
        "print('k-portfolio 1 asset labels:\\n', assetLabels)\n",
        "\n",
        "#extract stock prices excluding header and trading dates\n",
        "dfStockPrices = df.iloc[1:, 1:]\n",
        "\n",
        "#store stock prices as an array\n",
        "arStockPrices = np.asarray(dfStockPrices)\n",
        "[rows, cols]= arStockPrices.shape\n",
        "print('k-portfolio 1 dataset size:\\n', rows, cols)\n",
        "print('k-portfolio 1 stock prices:\\n', arStockPrices)"
      ],
      "execution_count": 158,
      "outputs": [
        {
          "output_type": "stream",
          "name": "stdout",
          "text": [
            "k-portfolio 1 asset labels:\n",
            " ['AAPL', 'AXP', 'BA', 'CAT', 'CSCO', 'CVX', 'DIS', 'GS', 'HD', 'IBM', 'INTC', 'JNJ', 'JPM', 'KO', 'MCD', 'MMM', 'MRK', 'MSFT', 'NKE', 'PFE', 'PG', 'TRV', 'UNH', 'UTX', 'V', 'VZ', 'WBA', 'WMT', 'XOM']\n",
            "k-portfolio 1 dataset size:\n",
            " 1258 29\n",
            "k-portfolio 1 stock prices:\n",
            " [[ 74.52571  85.5     123.25    ...  65.67     77.38     97.86   ]\n",
            " [ 73.99429  86.04    124.27    ...  66.01     76.88     98.68   ]\n",
            " [ 74.14429  87.4     126.04    ...  66.16     77.22     99.94   ]\n",
            " ...\n",
            " [199.5     109.85    369.04001 ...  54.5      98.69     81.93   ]\n",
            " [200.61999 110.16    364.94    ...  54.51     99.6      81.56   ]\n",
            " [198.95    109.85    370.16    ...  53.44    100.8      81.95   ]]\n"
          ]
        }
      ]
    },
    {
      "cell_type": "markdown",
      "metadata": {
        "id": "pG3eFpjW-TeW"
      },
      "source": [
        "#### Data Summarization\n",
        "\n",
        "* Remove Date column and summarize the data"
      ]
    },
    {
      "cell_type": "code",
      "metadata": {
        "id": "07XeEuDWbJ62",
        "colab": {
          "base_uri": "https://localhost:8080/"
        },
        "outputId": "20140dad-ee47-4a10-81f4-b30f7346647a"
      },
      "source": [
        "df.describe"
      ],
      "execution_count": 145,
      "outputs": [
        {
          "output_type": "execute_result",
          "data": {
            "text/plain": [
              "<bound method NDFrame.describe of           Date        AAPL         AXP  ...        WBA         WMT         XOM\n",
              "0     11/04/14   74.230003   84.540001  ...  64.260002   76.500000   96.720001\n",
              "1     14/04/14   74.525711   85.500000  ...  65.669998   77.379997   97.860001\n",
              "2     15/04/14   73.994286   86.040001  ...  66.010002   76.879997   98.680000\n",
              "3     16/04/14   74.144287   87.400002  ...  66.160004   77.220001   99.940002\n",
              "4     17/04/14   74.991432   86.220001  ...  66.750000   77.660004  100.419998\n",
              "...        ...         ...         ...  ...        ...         ...         ...\n",
              "1254  05/04/19  197.000000  110.959999  ...  54.689999   98.830002   82.489998\n",
              "1255  08/04/19  200.100006  110.699997  ...  55.060001   99.230003   83.000000\n",
              "1256  09/04/19  199.500000  109.849998  ...  54.500000   98.690002   81.930000\n",
              "1257  10/04/19  200.619995  110.160004  ...  54.509998   99.599998   81.559998\n",
              "1258  11/04/19  198.949997  109.849998  ...  53.439999  100.800003   81.949997\n",
              "\n",
              "[1259 rows x 30 columns]>"
            ]
          },
          "metadata": {},
          "execution_count": 145
        }
      ]
    },
    {
      "cell_type": "markdown",
      "metadata": {
        "id": "3ZTictp3-qNM"
      },
      "source": [
        "#### Compute the stock returns\n",
        "\n",
        "* Compute the mean of returns and covariance of returns"
      ]
    },
    {
      "cell_type": "code",
      "metadata": {
        "id": "OC2VIwaEtNFx"
      },
      "source": [
        "#function to compute stock returns\n",
        "def StockReturnsComputing(StockPrice, Rows, Columns):\n",
        "    \n",
        "    import numpy as np\n",
        "    \n",
        "    StockReturn = np.zeros([Rows-1, Columns])\n",
        "    for j in range(Columns):  # j: Assets\n",
        "        for i in range(Rows-1):     #i: Daily Prices\n",
        "            StockReturn[i,j]=((StockPrice[i+1, j]-StockPrice[i,j])/StockPrice[i,j])\n",
        "\n",
        "    return StockReturn"
      ],
      "execution_count": 159,
      "outputs": []
    },
    {
      "cell_type": "code",
      "metadata": {
        "id": "aDqTaY0V6mJk",
        "colab": {
          "base_uri": "https://localhost:8080/"
        },
        "outputId": "93196fe8-4113-4b47-9e71-60ce8afb0fc2"
      },
      "source": [
        "#compute asset returns\n",
        "arReturns = StockReturnsComputing(arStockPrices, rows, cols)\n",
        "arStockPrices = np.asarray(dfStockPrices)\n",
        "[Rows, Cols]=arStockPrices.shape\n",
        "arReturns = StockReturnsComputing(arStockPrices, Rows, Cols)\n",
        "print('k-portfolio 1 returns:\\n', arReturns)\n",
        "print('Size of the array of daily returns of stocks:\\n', arReturns.shape)\n",
        "print('Array of daily returns of stocks\\n',  arReturns)"
      ],
      "execution_count": 186,
      "outputs": [
        {
          "output_type": "stream",
          "name": "stdout",
          "text": [
            "k-portfolio 1 returns:\n",
            " [[-0.713  0.632  0.828 ...  0.518 -0.646  0.838]\n",
            " [ 0.203  1.581  1.424 ...  0.227  0.442  1.277]\n",
            " [ 1.143 -1.35   1.492 ...  0.892  0.57   0.48 ]\n",
            " ...\n",
            " [-0.3   -0.768 -1.463 ... -1.017 -0.544 -1.289]\n",
            " [ 0.561  0.282 -1.111 ...  0.018  0.922 -0.452]\n",
            " [-0.832 -0.281  1.43  ... -1.963  1.205  0.478]]\n",
            "Size of the array of daily returns of stocks:\n",
            " (1257, 29)\n",
            "Array of daily returns of stocks\n",
            " [[-0.713  0.632  0.828 ...  0.518 -0.646  0.838]\n",
            " [ 0.203  1.581  1.424 ...  0.227  0.442  1.277]\n",
            " [ 1.143 -1.35   1.492 ...  0.892  0.57   0.48 ]\n",
            " ...\n",
            " [-0.3   -0.768 -1.463 ... -1.017 -0.544 -1.289]\n",
            " [ 0.561  0.282 -1.111 ...  0.018  0.922 -0.452]\n",
            " [-0.832 -0.281  1.43  ... -1.963  1.205  0.478]]\n"
          ]
        }
      ]
    },
    {
      "cell_type": "code",
      "metadata": {
        "colab": {
          "base_uri": "https://localhost:8080/"
        },
        "id": "a9Q50k_9tacN",
        "outputId": "54efa2ec-9309-4ed0-81d7-b8796cdda586"
      },
      "source": [
        "#compute mean returns and variance covariance matrix of returns\n",
        "\n",
        "#set precision for printing results\n",
        "np.set_printoptions(precision=5, suppress = True)\n",
        "\n",
        "meanReturns = np.mean(arReturns, axis = 0)\n",
        "print('Mean returns of k-portfolio 1:\\n', meanReturns)\n",
        "covReturns = np.cov(arReturns, rowvar=False)\n",
        "print('\\nVariance-Covariance matrix of returns of k-portfolio 1: \\n')\n",
        "print('Size  ', covReturns.shape, '\\n', covReturns)"
      ],
      "execution_count": 161,
      "outputs": [
        {
          "output_type": "stream",
          "name": "stdout",
          "text": [
            "Mean returns of k-portfolio 1:\n",
            " [ 0.0009   0.00029  0.001    0.00039  0.00081  0.00016  0.0004   0.00033\n",
            "  0.00085 -0.00016  0.00073  0.00032  0.0006   0.00019  0.00057  0.00044\n",
            "  0.00036  0.001    0.0008   0.00034  0.00025  0.00043  0.00095  0.00019\n",
            "  0.00101  0.00023 -0.00002  0.00029 -0.00006]\n",
            "\n",
            "Variance-Covariance matrix of returns of k-portfolio 1: \n",
            "\n",
            "Size   (29, 29) \n",
            " [[0.00024 0.00007 0.0001  0.0001  0.0001  0.00007 0.00007 0.0001  0.00007\n",
            "  0.00007 0.00011 0.00005 0.00008 0.00003 0.00005 0.00007 0.00005 0.00012\n",
            "  0.00008 0.00005 0.00004 0.00005 0.00008 0.00007 0.0001  0.00003 0.00007\n",
            "  0.00004 0.00006]\n",
            " [0.00007 0.00016 0.00008 0.0001  0.00007 0.00006 0.00006 0.00011 0.00007\n",
            "  0.00007 0.00007 0.00005 0.0001  0.00003 0.00004 0.00007 0.00006 0.00008\n",
            "  0.00007 0.00005 0.00003 0.00005 0.00007 0.00007 0.00008 0.00003 0.00007\n",
            "  0.00004 0.00005]\n",
            " [0.0001  0.00008 0.00023 0.00013 0.00009 0.00008 0.00007 0.00011 0.00007\n",
            "  0.00008 0.0001  0.00006 0.0001  0.00004 0.00005 0.00009 0.00006 0.00009\n",
            "  0.00008 0.00005 0.00004 0.00006 0.00007 0.00009 0.00009 0.00004 0.00007\n",
            "  0.00005 0.00007]\n",
            " [0.0001  0.0001  0.00013 0.00027 0.0001  0.00012 0.00007 0.00013 0.00008\n",
            "  0.00009 0.00012 0.00005 0.00012 0.00004 0.00005 0.00011 0.00006 0.00011\n",
            "  0.00008 0.00006 0.00004 0.00007 0.00007 0.0001  0.0001  0.00004 0.00007\n",
            "  0.00004 0.00011]\n",
            " [0.0001  0.00007 0.00009 0.0001  0.00018 0.00008 0.00007 0.00009 0.00007\n",
            "  0.00008 0.00012 0.00006 0.00009 0.00004 0.00005 0.00008 0.00006 0.00011\n",
            "  0.00008 0.00006 0.00004 0.00006 0.00007 0.00007 0.00009 0.00005 0.00007\n",
            "  0.00006 0.00007]\n",
            " [0.00007 0.00006 0.00008 0.00012 0.00008 0.00019 0.00006 0.00009 0.00006\n",
            "  0.00007 0.00008 0.00005 0.00009 0.00004 0.00004 0.00007 0.00006 0.00008\n",
            "  0.00005 0.00005 0.00004 0.00006 0.00006 0.00006 0.00007 0.00005 0.00006\n",
            "  0.00004 0.00013]\n",
            " [0.00007 0.00006 0.00007 0.00007 0.00007 0.00006 0.00014 0.00008 0.00006\n",
            "  0.00006 0.00007 0.00004 0.00007 0.00003 0.00004 0.00006 0.00005 0.00007\n",
            "  0.00007 0.00005 0.00004 0.00005 0.00006 0.00005 0.00007 0.00004 0.00006\n",
            "  0.00004 0.00006]\n",
            " [0.0001  0.00011 0.00011 0.00013 0.00009 0.00009 0.00008 0.00021 0.00008\n",
            "  0.00008 0.0001  0.00005 0.00016 0.00003 0.00005 0.00008 0.00007 0.0001\n",
            "  0.00008 0.00006 0.00004 0.00008 0.00008 0.00008 0.0001  0.00004 0.00008\n",
            "  0.00004 0.00008]\n",
            " [0.00007 0.00007 0.00007 0.00008 0.00007 0.00006 0.00006 0.00008 0.00014\n",
            "  0.00006 0.00007 0.00005 0.00008 0.00003 0.00005 0.00006 0.00005 0.00008\n",
            "  0.00008 0.00005 0.00004 0.00005 0.00007 0.00006 0.00008 0.00004 0.00007\n",
            "  0.00006 0.00005]\n",
            " [0.00007 0.00007 0.00008 0.00009 0.00008 0.00007 0.00006 0.00008 0.00006\n",
            "  0.00016 0.00008 0.00005 0.00008 0.00004 0.00004 0.00007 0.00006 0.00009\n",
            "  0.00006 0.00005 0.00004 0.00005 0.00006 0.00007 0.00008 0.00004 0.00005\n",
            "  0.00004 0.00006]\n",
            " [0.00011 0.00007 0.0001  0.00012 0.00012 0.00008 0.00007 0.0001  0.00007\n",
            "  0.00008 0.00025 0.00006 0.00009 0.00004 0.00004 0.00009 0.00006 0.00013\n",
            "  0.00007 0.00006 0.00004 0.00006 0.00007 0.00008 0.00009 0.00005 0.00007\n",
            "  0.00005 0.00007]\n",
            " [0.00005 0.00005 0.00006 0.00005 0.00006 0.00005 0.00004 0.00005 0.00005\n",
            "  0.00005 0.00006 0.0001  0.00005 0.00004 0.00004 0.00006 0.00006 0.00006\n",
            "  0.00005 0.00006 0.00004 0.00005 0.00006 0.00005 0.00005 0.00004 0.00006\n",
            "  0.00004 0.00005]\n",
            " [0.00008 0.0001  0.0001  0.00012 0.00009 0.00009 0.00007 0.00016 0.00008\n",
            "  0.00008 0.00009 0.00005 0.00017 0.00003 0.00005 0.00008 0.00007 0.00009\n",
            "  0.00007 0.00006 0.00004 0.00008 0.00008 0.00008 0.00009 0.00004 0.00007\n",
            "  0.00004 0.00008]\n",
            " [0.00003 0.00003 0.00004 0.00004 0.00004 0.00004 0.00003 0.00003 0.00003\n",
            "  0.00004 0.00004 0.00004 0.00003 0.00008 0.00004 0.00004 0.00004 0.00004\n",
            "  0.00004 0.00003 0.00005 0.00004 0.00003 0.00003 0.00004 0.00004 0.00004\n",
            "  0.00003 0.00003]\n",
            " [0.00005 0.00004 0.00005 0.00005 0.00005 0.00004 0.00004 0.00005 0.00005\n",
            "  0.00004 0.00004 0.00004 0.00005 0.00004 0.00011 0.00004 0.00004 0.00006\n",
            "  0.00005 0.00003 0.00004 0.00004 0.00004 0.00004 0.00005 0.00004 0.00004\n",
            "  0.00004 0.00004]\n",
            " [0.00007 0.00007 0.00009 0.00011 0.00008 0.00007 0.00006 0.00008 0.00006\n",
            "  0.00007 0.00009 0.00006 0.00008 0.00004 0.00004 0.00012 0.00006 0.00008\n",
            "  0.00006 0.00006 0.00004 0.00006 0.00006 0.00007 0.00007 0.00004 0.00006\n",
            "  0.00004 0.00006]\n",
            " [0.00005 0.00006 0.00006 0.00006 0.00006 0.00006 0.00005 0.00007 0.00005\n",
            "  0.00006 0.00006 0.00006 0.00007 0.00004 0.00004 0.00006 0.00015 0.00006\n",
            "  0.00005 0.00008 0.00004 0.00005 0.00006 0.00005 0.00006 0.00005 0.00006\n",
            "  0.00005 0.00006]\n",
            " [0.00012 0.00008 0.00009 0.00011 0.00011 0.00008 0.00007 0.0001  0.00008\n",
            "  0.00009 0.00013 0.00006 0.00009 0.00004 0.00006 0.00008 0.00006 0.00021\n",
            "  0.00008 0.00007 0.00005 0.00006 0.00008 0.00008 0.00012 0.00005 0.00008\n",
            "  0.00005 0.00007]\n",
            " [0.00008 0.00007 0.00008 0.00008 0.00008 0.00005 0.00007 0.00008 0.00008\n",
            "  0.00006 0.00007 0.00005 0.00007 0.00004 0.00005 0.00006 0.00005 0.00008\n",
            "  0.00022 0.00005 0.00004 0.00005 0.00007 0.00006 0.00008 0.00004 0.00007\n",
            "  0.00005 0.00005]\n",
            " [0.00005 0.00005 0.00005 0.00006 0.00006 0.00005 0.00005 0.00006 0.00005\n",
            "  0.00005 0.00006 0.00006 0.00006 0.00003 0.00003 0.00006 0.00008 0.00007\n",
            "  0.00005 0.00012 0.00004 0.00005 0.00007 0.00005 0.00006 0.00004 0.00006\n",
            "  0.00004 0.00005]\n",
            " [0.00004 0.00003 0.00004 0.00004 0.00004 0.00004 0.00004 0.00004 0.00004\n",
            "  0.00004 0.00004 0.00004 0.00004 0.00005 0.00004 0.00004 0.00004 0.00005\n",
            "  0.00004 0.00004 0.00009 0.00004 0.00004 0.00004 0.00004 0.00004 0.00004\n",
            "  0.00004 0.00004]\n",
            " [0.00005 0.00005 0.00006 0.00007 0.00006 0.00006 0.00005 0.00008 0.00005\n",
            "  0.00005 0.00006 0.00005 0.00008 0.00004 0.00004 0.00006 0.00005 0.00006\n",
            "  0.00005 0.00005 0.00004 0.00011 0.00006 0.00006 0.00006 0.00004 0.00006\n",
            "  0.00004 0.00005]\n",
            " [0.00008 0.00007 0.00007 0.00007 0.00007 0.00006 0.00006 0.00008 0.00007\n",
            "  0.00006 0.00007 0.00006 0.00008 0.00003 0.00004 0.00006 0.00006 0.00008\n",
            "  0.00007 0.00007 0.00004 0.00006 0.00017 0.00006 0.00007 0.00004 0.00008\n",
            "  0.00005 0.00005]\n",
            " [0.00007 0.00007 0.00009 0.0001  0.00007 0.00006 0.00005 0.00008 0.00006\n",
            "  0.00007 0.00008 0.00005 0.00008 0.00003 0.00004 0.00007 0.00005 0.00008\n",
            "  0.00006 0.00005 0.00004 0.00006 0.00006 0.00013 0.00007 0.00004 0.00006\n",
            "  0.00004 0.00006]\n",
            " [0.0001  0.00008 0.00009 0.0001  0.00009 0.00007 0.00007 0.0001  0.00008\n",
            "  0.00008 0.00009 0.00005 0.00009 0.00004 0.00005 0.00007 0.00006 0.00012\n",
            "  0.00008 0.00006 0.00004 0.00006 0.00007 0.00007 0.00017 0.00003 0.00007\n",
            "  0.00004 0.00006]\n",
            " [0.00003 0.00003 0.00004 0.00004 0.00005 0.00005 0.00004 0.00004 0.00004\n",
            "  0.00004 0.00005 0.00004 0.00004 0.00004 0.00004 0.00004 0.00005 0.00005\n",
            "  0.00004 0.00004 0.00004 0.00004 0.00004 0.00004 0.00003 0.00012 0.00005\n",
            "  0.00004 0.00004]\n",
            " [0.00007 0.00007 0.00007 0.00007 0.00007 0.00006 0.00006 0.00008 0.00007\n",
            "  0.00005 0.00007 0.00006 0.00007 0.00004 0.00004 0.00006 0.00006 0.00008\n",
            "  0.00007 0.00006 0.00004 0.00006 0.00008 0.00006 0.00007 0.00005 0.00026\n",
            "  0.00006 0.00005]\n",
            " [0.00004 0.00004 0.00005 0.00004 0.00006 0.00004 0.00004 0.00004 0.00006\n",
            "  0.00004 0.00005 0.00004 0.00004 0.00003 0.00004 0.00004 0.00005 0.00005\n",
            "  0.00005 0.00004 0.00004 0.00004 0.00005 0.00004 0.00004 0.00004 0.00006\n",
            "  0.00015 0.00004]\n",
            " [0.00006 0.00005 0.00007 0.00011 0.00007 0.00013 0.00006 0.00008 0.00005\n",
            "  0.00006 0.00007 0.00005 0.00008 0.00003 0.00004 0.00006 0.00006 0.00007\n",
            "  0.00005 0.00005 0.00004 0.00005 0.00005 0.00006 0.00006 0.00004 0.00005\n",
            "  0.00004 0.00014]]\n"
          ]
        }
      ]
    },
    {
      "cell_type": "markdown",
      "metadata": {
        "id": "f_E1QZYmStF7"
      },
      "source": [
        "### Portfolio Return and Portfolio Risk ( 2 points)\n",
        "\n",
        "* Apply equal weighted portfolio construction method to portfolio\n",
        "* Obtain the annualized risk (%) and the expected annual return (%) of the portfolio"
      ]
    },
    {
      "cell_type": "markdown",
      "metadata": {
        "id": "tvYoynSOAb6K"
      },
      "source": [
        "\n",
        "\n",
        "Let P be a portfolio comprising assets $A_1, A_2,...A_N$ with weights $W_1, W_2,...W_N$ and $r_1, r_2, ...r_N$ as the asset returns. The portfolio return r determined by a weighted summation of its individual asset returns is given by,\n",
        " $$r = W_1 . r_1 + W_2 . r_2 + .. W_N . r_N = \\sum_{i=1}^N W_i . r_i $$\n",
        "\n",
        "The annualized portfolio return assuming that the number of trading days in a year were $T_y$ ( for example, 261 out of 365 days in a year), is given by,\n",
        "\n",
        "$$r_{Ann} = \\Bigg( \\sum_{i=1}^N W_i . r_i \\Bigg) . T_y$$\n",
        "\n",
        "Portfolio risk is the standard deviation of its returns and is given by,\n",
        "\n",
        "$$ \\sigma = \\sqrt{\\sum_i \\sum_j W_i . W_j . \\sigma_{ij}}$$\n",
        "\n",
        "\n",
        "where $\\sigma_{ij}$ is the covariance of returns between assets i and j of the portfolio, also referred to as the variance-covariance matrix of returns. Standard deviation is a prominent measure of dispersion of data borrowed from Statistics and describes the deviation or spread of the data from its mean. In the case of portfolios, standard deviation of its returns, which is its risk, helps to measure the consistency of the returns. The annualized portfolio risk in percentage,  $\\sigma_{Ann}$ is given by,\n",
        "\n",
        "$$ \\sigma_{Ann} = \\sqrt{ \\Bigg(\\sum_i \\sum_j W_i . W_j . \\sigma_{ij} \\Bigg) . T_y}$$\n",
        "\n",
        "where $T_y$ is the number of trading days in a year.\n",
        "\n"
      ]
    },
    {
      "cell_type": "code",
      "metadata": {
        "id": "M0CKAqyXvknD",
        "colab": {
          "base_uri": "https://localhost:8080/"
        },
        "outputId": "b097067d-821d-409e-dd22-4bdf5bad1e77"
      },
      "source": [
        "#trading days = 251\n",
        "PortfolioSize = Columns\n",
        "EqualWeightVector = np.ones((1,PortfolioSize))*(1.0/PortfolioSize)\n",
        "EqWgtPortfolioRisk = np.sqrt(np.matmul((np.matmul(EqualWeightVector,covReturns)), \\\n",
        "                     np.transpose(EqualWeightVector)))\n",
        "EqWgtAnnPortfolioRisk = EqWgtPortfolioRisk*np.sqrt(251)*100\n",
        "EqWgtPortfolioReturn = np.matmul(EqualWeightVector, np.transpose(meanReturns))\n",
        "EqWgtAnnPortfolioReturn = 251*EqWgtPortfolioReturn * 100\n",
        "\n",
        "print(\"Annualized Portfolio Risk :  %4.2f\" % EqWgtAnnPortfolioRisk, \"%\")\n",
        "print(\"\\nAnnualized Expected Portfolio Return:  %4.2f\" %  EqWgtAnnPortfolioReturn,\"%\")"
      ],
      "execution_count": 149,
      "outputs": [
        {
          "output_type": "stream",
          "name": "stdout",
          "text": [
            "Annualized Portfolio Risk :  12.84 %\n",
            "\n",
            "Annualized Expected Portfolio Return:  11.75 %\n"
          ]
        }
      ]
    },
    {
      "cell_type": "markdown",
      "metadata": {
        "id": "i33qYBoy9AdT"
      },
      "source": [
        "### Cluster the Assets using K-Means (2 points)\n",
        "\n",
        "* Prepare the data for K-Means by concatenating mean returns and covariance returns\n",
        "\n",
        "* Find the suitable k parameter and fit the model\n",
        "\n",
        "* Label the nearest assets in clusters"
      ]
    },
    {
      "cell_type": "code",
      "metadata": {
        "id": "PqTbiHYNpMoA",
        "colab": {
          "base_uri": "https://localhost:8080/"
        },
        "outputId": "0f4b2c7d-7735-43f3-dc94-78767c4d14f7"
      },
      "source": [
        "\"\"\" prepare the data for k means clustering \"\"\"\n",
        "# YOUR CODE HERE\n",
        "\n",
        "#reshape for concatenation\n",
        "meanReturns = meanReturns.reshape(len(meanReturns),1)\n",
        "assetParameters = np.concatenate([meanReturns, covReturns], axis = 1)\n",
        "print('Size of the asset parameters for clustering:\\n', assetParameters.shape)\n",
        "print('Asset parameters for clustering:\\n', assetParameters)"
      ],
      "execution_count": 150,
      "outputs": [
        {
          "output_type": "stream",
          "name": "stdout",
          "text": [
            "Size of the asset parameters for clustering:\n",
            " (29, 30)\n",
            "Asset parameters for clustering:\n",
            " [[ 0.0009   0.00024  0.00007  0.0001   0.0001   0.0001   0.00007  0.00007\n",
            "   0.0001   0.00007  0.00007  0.00011  0.00005  0.00008  0.00003  0.00005\n",
            "   0.00007  0.00005  0.00012  0.00008  0.00005  0.00004  0.00005  0.00008\n",
            "   0.00007  0.0001   0.00003  0.00007  0.00004  0.00006]\n",
            " [ 0.00029  0.00007  0.00016  0.00008  0.0001   0.00007  0.00006  0.00006\n",
            "   0.00011  0.00007  0.00007  0.00007  0.00005  0.0001   0.00003  0.00004\n",
            "   0.00007  0.00006  0.00008  0.00007  0.00005  0.00003  0.00005  0.00007\n",
            "   0.00007  0.00008  0.00003  0.00007  0.00004  0.00005]\n",
            " [ 0.001    0.0001   0.00008  0.00023  0.00013  0.00009  0.00008  0.00007\n",
            "   0.00011  0.00007  0.00008  0.0001   0.00006  0.0001   0.00004  0.00005\n",
            "   0.00009  0.00006  0.00009  0.00008  0.00005  0.00004  0.00006  0.00007\n",
            "   0.00009  0.00009  0.00004  0.00007  0.00005  0.00007]\n",
            " [ 0.00039  0.0001   0.0001   0.00013  0.00027  0.0001   0.00012  0.00007\n",
            "   0.00013  0.00008  0.00009  0.00012  0.00005  0.00012  0.00004  0.00005\n",
            "   0.00011  0.00006  0.00011  0.00008  0.00006  0.00004  0.00007  0.00007\n",
            "   0.0001   0.0001   0.00004  0.00007  0.00004  0.00011]\n",
            " [ 0.00081  0.0001   0.00007  0.00009  0.0001   0.00018  0.00008  0.00007\n",
            "   0.00009  0.00007  0.00008  0.00012  0.00006  0.00009  0.00004  0.00005\n",
            "   0.00008  0.00006  0.00011  0.00008  0.00006  0.00004  0.00006  0.00007\n",
            "   0.00007  0.00009  0.00005  0.00007  0.00006  0.00007]\n",
            " [ 0.00016  0.00007  0.00006  0.00008  0.00012  0.00008  0.00019  0.00006\n",
            "   0.00009  0.00006  0.00007  0.00008  0.00005  0.00009  0.00004  0.00004\n",
            "   0.00007  0.00006  0.00008  0.00005  0.00005  0.00004  0.00006  0.00006\n",
            "   0.00006  0.00007  0.00005  0.00006  0.00004  0.00013]\n",
            " [ 0.0004   0.00007  0.00006  0.00007  0.00007  0.00007  0.00006  0.00014\n",
            "   0.00008  0.00006  0.00006  0.00007  0.00004  0.00007  0.00003  0.00004\n",
            "   0.00006  0.00005  0.00007  0.00007  0.00005  0.00004  0.00005  0.00006\n",
            "   0.00005  0.00007  0.00004  0.00006  0.00004  0.00006]\n",
            " [ 0.00033  0.0001   0.00011  0.00011  0.00013  0.00009  0.00009  0.00008\n",
            "   0.00021  0.00008  0.00008  0.0001   0.00005  0.00016  0.00003  0.00005\n",
            "   0.00008  0.00007  0.0001   0.00008  0.00006  0.00004  0.00008  0.00008\n",
            "   0.00008  0.0001   0.00004  0.00008  0.00004  0.00008]\n",
            " [ 0.00085  0.00007  0.00007  0.00007  0.00008  0.00007  0.00006  0.00006\n",
            "   0.00008  0.00014  0.00006  0.00007  0.00005  0.00008  0.00003  0.00005\n",
            "   0.00006  0.00005  0.00008  0.00008  0.00005  0.00004  0.00005  0.00007\n",
            "   0.00006  0.00008  0.00004  0.00007  0.00006  0.00005]\n",
            " [-0.00016  0.00007  0.00007  0.00008  0.00009  0.00008  0.00007  0.00006\n",
            "   0.00008  0.00006  0.00016  0.00008  0.00005  0.00008  0.00004  0.00004\n",
            "   0.00007  0.00006  0.00009  0.00006  0.00005  0.00004  0.00005  0.00006\n",
            "   0.00007  0.00008  0.00004  0.00005  0.00004  0.00006]\n",
            " [ 0.00073  0.00011  0.00007  0.0001   0.00012  0.00012  0.00008  0.00007\n",
            "   0.0001   0.00007  0.00008  0.00025  0.00006  0.00009  0.00004  0.00004\n",
            "   0.00009  0.00006  0.00013  0.00007  0.00006  0.00004  0.00006  0.00007\n",
            "   0.00008  0.00009  0.00005  0.00007  0.00005  0.00007]\n",
            " [ 0.00032  0.00005  0.00005  0.00006  0.00005  0.00006  0.00005  0.00004\n",
            "   0.00005  0.00005  0.00005  0.00006  0.0001   0.00005  0.00004  0.00004\n",
            "   0.00006  0.00006  0.00006  0.00005  0.00006  0.00004  0.00005  0.00006\n",
            "   0.00005  0.00005  0.00004  0.00006  0.00004  0.00005]\n",
            " [ 0.0006   0.00008  0.0001   0.0001   0.00012  0.00009  0.00009  0.00007\n",
            "   0.00016  0.00008  0.00008  0.00009  0.00005  0.00017  0.00003  0.00005\n",
            "   0.00008  0.00007  0.00009  0.00007  0.00006  0.00004  0.00008  0.00008\n",
            "   0.00008  0.00009  0.00004  0.00007  0.00004  0.00008]\n",
            " [ 0.00019  0.00003  0.00003  0.00004  0.00004  0.00004  0.00004  0.00003\n",
            "   0.00003  0.00003  0.00004  0.00004  0.00004  0.00003  0.00008  0.00004\n",
            "   0.00004  0.00004  0.00004  0.00004  0.00003  0.00005  0.00004  0.00003\n",
            "   0.00003  0.00004  0.00004  0.00004  0.00003  0.00003]\n",
            " [ 0.00057  0.00005  0.00004  0.00005  0.00005  0.00005  0.00004  0.00004\n",
            "   0.00005  0.00005  0.00004  0.00004  0.00004  0.00005  0.00004  0.00011\n",
            "   0.00004  0.00004  0.00006  0.00005  0.00003  0.00004  0.00004  0.00004\n",
            "   0.00004  0.00005  0.00004  0.00004  0.00004  0.00004]\n",
            " [ 0.00044  0.00007  0.00007  0.00009  0.00011  0.00008  0.00007  0.00006\n",
            "   0.00008  0.00006  0.00007  0.00009  0.00006  0.00008  0.00004  0.00004\n",
            "   0.00012  0.00006  0.00008  0.00006  0.00006  0.00004  0.00006  0.00006\n",
            "   0.00007  0.00007  0.00004  0.00006  0.00004  0.00006]\n",
            " [ 0.00036  0.00005  0.00006  0.00006  0.00006  0.00006  0.00006  0.00005\n",
            "   0.00007  0.00005  0.00006  0.00006  0.00006  0.00007  0.00004  0.00004\n",
            "   0.00006  0.00015  0.00006  0.00005  0.00008  0.00004  0.00005  0.00006\n",
            "   0.00005  0.00006  0.00005  0.00006  0.00005  0.00006]\n",
            " [ 0.001    0.00012  0.00008  0.00009  0.00011  0.00011  0.00008  0.00007\n",
            "   0.0001   0.00008  0.00009  0.00013  0.00006  0.00009  0.00004  0.00006\n",
            "   0.00008  0.00006  0.00021  0.00008  0.00007  0.00005  0.00006  0.00008\n",
            "   0.00008  0.00012  0.00005  0.00008  0.00005  0.00007]\n",
            " [ 0.0008   0.00008  0.00007  0.00008  0.00008  0.00008  0.00005  0.00007\n",
            "   0.00008  0.00008  0.00006  0.00007  0.00005  0.00007  0.00004  0.00005\n",
            "   0.00006  0.00005  0.00008  0.00022  0.00005  0.00004  0.00005  0.00007\n",
            "   0.00006  0.00008  0.00004  0.00007  0.00005  0.00005]\n",
            " [ 0.00034  0.00005  0.00005  0.00005  0.00006  0.00006  0.00005  0.00005\n",
            "   0.00006  0.00005  0.00005  0.00006  0.00006  0.00006  0.00003  0.00003\n",
            "   0.00006  0.00008  0.00007  0.00005  0.00012  0.00004  0.00005  0.00007\n",
            "   0.00005  0.00006  0.00004  0.00006  0.00004  0.00005]\n",
            " [ 0.00025  0.00004  0.00003  0.00004  0.00004  0.00004  0.00004  0.00004\n",
            "   0.00004  0.00004  0.00004  0.00004  0.00004  0.00004  0.00005  0.00004\n",
            "   0.00004  0.00004  0.00005  0.00004  0.00004  0.00009  0.00004  0.00004\n",
            "   0.00004  0.00004  0.00004  0.00004  0.00004  0.00004]\n",
            " [ 0.00043  0.00005  0.00005  0.00006  0.00007  0.00006  0.00006  0.00005\n",
            "   0.00008  0.00005  0.00005  0.00006  0.00005  0.00008  0.00004  0.00004\n",
            "   0.00006  0.00005  0.00006  0.00005  0.00005  0.00004  0.00011  0.00006\n",
            "   0.00006  0.00006  0.00004  0.00006  0.00004  0.00005]\n",
            " [ 0.00095  0.00008  0.00007  0.00007  0.00007  0.00007  0.00006  0.00006\n",
            "   0.00008  0.00007  0.00006  0.00007  0.00006  0.00008  0.00003  0.00004\n",
            "   0.00006  0.00006  0.00008  0.00007  0.00007  0.00004  0.00006  0.00017\n",
            "   0.00006  0.00007  0.00004  0.00008  0.00005  0.00005]\n",
            " [ 0.00019  0.00007  0.00007  0.00009  0.0001   0.00007  0.00006  0.00005\n",
            "   0.00008  0.00006  0.00007  0.00008  0.00005  0.00008  0.00003  0.00004\n",
            "   0.00007  0.00005  0.00008  0.00006  0.00005  0.00004  0.00006  0.00006\n",
            "   0.00013  0.00007  0.00004  0.00006  0.00004  0.00006]\n",
            " [ 0.00101  0.0001   0.00008  0.00009  0.0001   0.00009  0.00007  0.00007\n",
            "   0.0001   0.00008  0.00008  0.00009  0.00005  0.00009  0.00004  0.00005\n",
            "   0.00007  0.00006  0.00012  0.00008  0.00006  0.00004  0.00006  0.00007\n",
            "   0.00007  0.00017  0.00003  0.00007  0.00004  0.00006]\n",
            " [ 0.00023  0.00003  0.00003  0.00004  0.00004  0.00005  0.00005  0.00004\n",
            "   0.00004  0.00004  0.00004  0.00005  0.00004  0.00004  0.00004  0.00004\n",
            "   0.00004  0.00005  0.00005  0.00004  0.00004  0.00004  0.00004  0.00004\n",
            "   0.00004  0.00003  0.00012  0.00005  0.00004  0.00004]\n",
            " [-0.00002  0.00007  0.00007  0.00007  0.00007  0.00007  0.00006  0.00006\n",
            "   0.00008  0.00007  0.00005  0.00007  0.00006  0.00007  0.00004  0.00004\n",
            "   0.00006  0.00006  0.00008  0.00007  0.00006  0.00004  0.00006  0.00008\n",
            "   0.00006  0.00007  0.00005  0.00026  0.00006  0.00005]\n",
            " [ 0.00029  0.00004  0.00004  0.00005  0.00004  0.00006  0.00004  0.00004\n",
            "   0.00004  0.00006  0.00004  0.00005  0.00004  0.00004  0.00003  0.00004\n",
            "   0.00004  0.00005  0.00005  0.00005  0.00004  0.00004  0.00004  0.00005\n",
            "   0.00004  0.00004  0.00004  0.00006  0.00015  0.00004]\n",
            " [-0.00006  0.00006  0.00005  0.00007  0.00011  0.00007  0.00013  0.00006\n",
            "   0.00008  0.00005  0.00006  0.00007  0.00005  0.00008  0.00003  0.00004\n",
            "   0.00006  0.00006  0.00007  0.00005  0.00005  0.00004  0.00005  0.00005\n",
            "   0.00006  0.00006  0.00004  0.00005  0.00004  0.00014]]\n"
          ]
        }
      ]
    },
    {
      "cell_type": "code",
      "metadata": {
        "id": "4rn1Ej8-pTe6",
        "colab": {
          "base_uri": "https://localhost:8080/"
        },
        "outputId": "9e0af500-def2-43bf-e07d-8ea88c633218"
      },
      "source": [
        "\"\"\" kmeans clustering of assets using the characteristic vector of mean return and variance-covariance vector of returns \"\"\" \n",
        "# YOUR CODE HERE\n",
        "\n",
        "clusters=15\n",
        "assetsCluster= KMeans(algorithm='auto',  max_iter=600, n_clusters=clusters)\n",
        "print('Clustering of assets completed!') \n",
        "assetsCluster.fit(assetParameters)\n",
        "centroids = assetsCluster.cluster_centers_\n",
        "labels = assetsCluster.labels_\n",
        "\n",
        "print('Centroids:\\n', centroids)\n",
        "print('Labels:\\n', labels)"
      ],
      "execution_count": 151,
      "outputs": [
        {
          "output_type": "stream",
          "name": "stdout",
          "text": [
            "Clustering of assets completed!\n",
            "Centroids:\n",
            " [[ 0.00095  0.00008  0.00007  0.00007  0.00007  0.00007  0.00006  0.00006\n",
            "   0.00008  0.00007  0.00006  0.00007  0.00006  0.00008  0.00003  0.00004\n",
            "   0.00006  0.00006  0.00008  0.00007  0.00007  0.00004  0.00006  0.00017\n",
            "   0.00006  0.00007  0.00004  0.00008  0.00005  0.00005]\n",
            " [ 0.00034  0.00005  0.00005  0.00006  0.00006  0.00006  0.00005  0.00004\n",
            "   0.00006  0.00005  0.00005  0.00006  0.00007  0.00006  0.00004  0.00004\n",
            "   0.00006  0.0001   0.00006  0.00005  0.00009  0.00004  0.00005  0.00006\n",
            "   0.00005  0.00006  0.00004  0.00006  0.00004  0.00005]\n",
            " [-0.00002  0.00007  0.00007  0.00007  0.00007  0.00007  0.00006  0.00006\n",
            "   0.00008  0.00007  0.00005  0.00007  0.00006  0.00007  0.00004  0.00004\n",
            "   0.00006  0.00006  0.00008  0.00007  0.00006  0.00004  0.00006  0.00008\n",
            "   0.00006  0.00007  0.00005  0.00026  0.00006  0.00005]\n",
            " [ 0.00033  0.0001   0.00011  0.00011  0.00013  0.00009  0.00009  0.00008\n",
            "   0.00021  0.00008  0.00008  0.0001   0.00005  0.00016  0.00003  0.00005\n",
            "   0.00008  0.00007  0.0001   0.00008  0.00006  0.00004  0.00008  0.00008\n",
            "   0.00008  0.0001   0.00004  0.00008  0.00004  0.00008]\n",
            " [-0.00011  0.00007  0.00006  0.00008  0.0001   0.00008  0.0001   0.00006\n",
            "   0.00008  0.00006  0.00011  0.00008  0.00005  0.00008  0.00004  0.00004\n",
            "   0.00007  0.00006  0.00008  0.00005  0.00005  0.00004  0.00005  0.00005\n",
            "   0.00006  0.00007  0.00004  0.00005  0.00004  0.0001 ]\n",
            " [ 0.00077  0.0001   0.00007  0.00009  0.00011  0.00015  0.00008  0.00007\n",
            "   0.0001   0.00007  0.00008  0.00018  0.00006  0.00009  0.00004  0.00005\n",
            "   0.00008  0.00006  0.00012  0.00008  0.00006  0.00004  0.00006  0.00007\n",
            "   0.00008  0.00009  0.00005  0.00007  0.00005  0.00007]\n",
            " [ 0.00042  0.00006  0.00006  0.00007  0.00008  0.00007  0.00006  0.00008\n",
            "   0.00008  0.00006  0.00006  0.00007  0.00005  0.00008  0.00004  0.00004\n",
            "   0.00008  0.00005  0.00007  0.00006  0.00005  0.00004  0.00007  0.00006\n",
            "   0.00006  0.00007  0.00004  0.00006  0.00004  0.00006]\n",
            " [ 0.00021  0.00007  0.0001   0.00008  0.00011  0.00007  0.00011  0.00006\n",
            "   0.00009  0.00006  0.00007  0.00008  0.00005  0.00009  0.00003  0.00004\n",
            "   0.00007  0.00005  0.00008  0.00006  0.00005  0.00004  0.00006  0.00006\n",
            "   0.00009  0.00008  0.00004  0.00006  0.00004  0.00008]\n",
            " [ 0.001    0.00011  0.00008  0.00014  0.00011  0.0001   0.00008  0.00007\n",
            "   0.0001   0.00008  0.00008  0.00011  0.00006  0.00009  0.00004  0.00005\n",
            "   0.00008  0.00006  0.00014  0.00008  0.00006  0.00004  0.00006  0.00008\n",
            "   0.00008  0.00013  0.00004  0.00007  0.00005  0.00007]\n",
            " [ 0.00057  0.00005  0.00004  0.00005  0.00005  0.00005  0.00004  0.00004\n",
            "   0.00005  0.00005  0.00004  0.00004  0.00004  0.00005  0.00004  0.00011\n",
            "   0.00004  0.00004  0.00006  0.00005  0.00003  0.00004  0.00004  0.00004\n",
            "   0.00004  0.00005  0.00004  0.00004  0.00004  0.00004]\n",
            " [ 0.00082  0.00008  0.00007  0.00008  0.00008  0.00008  0.00006  0.00006\n",
            "   0.00008  0.00011  0.00006  0.00007  0.00005  0.00007  0.00004  0.00005\n",
            "   0.00006  0.00005  0.00008  0.00015  0.00005  0.00004  0.00005  0.00007\n",
            "   0.00006  0.00008  0.00004  0.00007  0.00005  0.00005]\n",
            " [ 0.00024  0.00004  0.00003  0.00004  0.00004  0.00005  0.00004  0.00004\n",
            "   0.00004  0.00004  0.00004  0.00004  0.00004  0.00004  0.00005  0.00004\n",
            "   0.00004  0.00004  0.00005  0.00004  0.00004  0.00005  0.00004  0.00004\n",
            "   0.00004  0.00004  0.00006  0.00005  0.00007  0.00004]\n",
            " [ 0.0009   0.00024  0.00007  0.0001   0.0001   0.0001   0.00007  0.00007\n",
            "   0.0001   0.00007  0.00007  0.00011  0.00005  0.00008  0.00003  0.00005\n",
            "   0.00007  0.00005  0.00012  0.00008  0.00005  0.00004  0.00005  0.00008\n",
            "   0.00007  0.0001   0.00003  0.00007  0.00004  0.00006]\n",
            " [ 0.0006   0.00008  0.0001   0.0001   0.00012  0.00009  0.00009  0.00007\n",
            "   0.00016  0.00008  0.00008  0.00009  0.00005  0.00017  0.00003  0.00005\n",
            "   0.00008  0.00007  0.00009  0.00007  0.00006  0.00004  0.00008  0.00008\n",
            "   0.00008  0.00009  0.00004  0.00007  0.00004  0.00008]\n",
            " [ 0.00039  0.0001   0.0001   0.00013  0.00027  0.0001   0.00012  0.00007\n",
            "   0.00013  0.00008  0.00009  0.00012  0.00005  0.00012  0.00004  0.00005\n",
            "   0.00011  0.00006  0.00011  0.00008  0.00006  0.00004  0.00007  0.00007\n",
            "   0.0001   0.0001   0.00004  0.00007  0.00004  0.00011]]\n",
            "Labels:\n",
            " [12  7  8 14  5  7  6  3 10  4  5  1 13 11  9  6  1  8 10  1 11  6  0  7\n",
            "  8 11  2 11  4]\n"
          ]
        }
      ]
    },
    {
      "cell_type": "code",
      "metadata": {
        "id": "ry2F8mKvpmcL",
        "colab": {
          "base_uri": "https://localhost:8080/"
        },
        "outputId": "5a11a859-3708-4625-f79e-98f71ea5ac61"
      },
      "source": [
        "\"\"\" fix asset labels to cluster points \"\"\"\n",
        "# YOUR CODE HERE\n",
        "\n",
        "print('Stocks in each of the clusters:\\n',)\n",
        "assets = np.array(assetLabels)\n",
        "for i in range(clusters):\n",
        "    print('Cluster', i+1)\n",
        "    clt  = np.where(labels == i)\n",
        "    assetsCluster = assets[clt]\n",
        "    print(assetsCluster)"
      ],
      "execution_count": 152,
      "outputs": [
        {
          "output_type": "stream",
          "name": "stdout",
          "text": [
            "Stocks in each of the clusters:\n",
            "\n",
            "Cluster 1\n",
            "['UNH']\n",
            "Cluster 2\n",
            "['JNJ' 'MRK' 'PFE']\n",
            "Cluster 3\n",
            "['WBA']\n",
            "Cluster 4\n",
            "['GS']\n",
            "Cluster 5\n",
            "['IBM' 'XOM']\n",
            "Cluster 6\n",
            "['CSCO' 'INTC']\n",
            "Cluster 7\n",
            "['DIS' 'MMM' 'TRV']\n",
            "Cluster 8\n",
            "['AXP' 'CVX' 'UTX']\n",
            "Cluster 9\n",
            "['BA' 'MSFT' 'V']\n",
            "Cluster 10\n",
            "['MCD']\n",
            "Cluster 11\n",
            "['HD' 'NKE']\n",
            "Cluster 12\n",
            "['KO' 'PG' 'VZ' 'WMT']\n",
            "Cluster 13\n",
            "['AAPL']\n",
            "Cluster 14\n",
            "['JPM']\n",
            "Cluster 15\n",
            "['CAT']\n"
          ]
        }
      ]
    },
    {
      "cell_type": "markdown",
      "metadata": {
        "id": "K5krQfoW_4ih"
      },
      "source": [
        "### Diversification Index (1 point)\n",
        "\n",
        "* Compute the Diversification Ratio of the Equal Weighted Portfolio\n",
        "\n",
        "Let N be the number of assets in the portfolio spanning different asset classes or belonging to a specific class. Let $(\\bar{w}=(w_1,w_2,...w_N) )$ be the weights or the proportion of capital to be invested in individual assets in the portfolio and $\\bar{w}'$ its transpose. Let $(\\bar{\\sigma}=(\\sigma_1,\\sigma_2,...\\sigma_N))$ be the standard deviations of returns on the assets and V, the variance-covariance matrix of returns on the assets. The Diversification Ratio of a portfolio is given as follows:\n",
        "\n",
        "$$ \\Bigg( \\frac{\\bar\\sigma . \\bar w'}{\\sqrt{\\bar w . V . \\bar w'}}\\Bigg)$$\n",
        "\n"
      ]
    },
    {
      "cell_type": "code",
      "metadata": {
        "id": "BaoYAlkg1v0F",
        "colab": {
          "base_uri": "https://localhost:8080/"
        },
        "outputId": "ad0e8568-961e-40ba-c3eb-0ae4197e25b3"
      },
      "source": [
        "# Equal weighted portfolio: Diversification Ratio\n",
        "EqWgtPortfolioAssetStdDev = np.sqrt(np.diagonal(covReturns))\n",
        "EqWgtPortfolioDivRatio = np.sum(np.multiply(EqWgtPortfolioAssetStdDev, EqualWeightVector)) \\\n",
        "                         / EqWgtPortfolioRisk\n",
        "print(\"\\n Equal Weighted Portfolio:Diversification Ratio  %4.2f\" % EqWgtPortfolioDivRatio)"
      ],
      "execution_count": 153,
      "outputs": [
        {
          "output_type": "stream",
          "name": "stdout",
          "text": [
            "\n",
            " Equal Weighted Portfolio:Diversification Ratio  1.57\n"
          ]
        }
      ]
    },
    {
      "cell_type": "code",
      "metadata": {
        "colab": {
          "base_uri": "https://localhost:8080/"
        },
        "id": "MPyyWDQrYXlO",
        "outputId": "5c41069a-5c0c-40dc-b235-9f570222784e"
      },
      "source": [
        "EqWgtPortfolioAssetStdDev"
      ],
      "execution_count": 154,
      "outputs": [
        {
          "output_type": "execute_result",
          "data": {
            "text/plain": [
              "array([0.01541, 0.01284, 0.01513, 0.01653, 0.01338, 0.0139 , 0.01162,\n",
              "       0.01454, 0.01179, 0.01278, 0.01587, 0.01001, 0.01305, 0.00898,\n",
              "       0.01042, 0.01113, 0.01227, 0.01457, 0.01487, 0.01109, 0.00947,\n",
              "       0.01028, 0.01312, 0.0114 , 0.01306, 0.01076, 0.01598, 0.01228,\n",
              "       0.01189])"
            ]
          },
          "metadata": {},
          "execution_count": 154
        }
      ]
    },
    {
      "cell_type": "code",
      "metadata": {
        "colab": {
          "base_uri": "https://localhost:8080/"
        },
        "id": "h25Up6EQYZCu",
        "outputId": "8dffbb82-7e15-4dfc-b736-d9ab2749737c"
      },
      "source": [
        "EqualWeightVector"
      ],
      "execution_count": 155,
      "outputs": [
        {
          "output_type": "execute_result",
          "data": {
            "text/plain": [
              "array([[0.03448, 0.03448, 0.03448, 0.03448, 0.03448, 0.03448, 0.03448,\n",
              "        0.03448, 0.03448, 0.03448, 0.03448, 0.03448, 0.03448, 0.03448,\n",
              "        0.03448, 0.03448, 0.03448, 0.03448, 0.03448, 0.03448, 0.03448,\n",
              "        0.03448, 0.03448, 0.03448, 0.03448, 0.03448, 0.03448, 0.03448,\n",
              "        0.03448]])"
            ]
          },
          "metadata": {},
          "execution_count": 155
        }
      ]
    },
    {
      "cell_type": "code",
      "metadata": {
        "colab": {
          "base_uri": "https://localhost:8080/"
        },
        "id": "YcnHVc1RYNWR",
        "outputId": "65367b90-9b1a-4cf7-db68-5ce7bd5eebfa"
      },
      "source": [
        "np.multiply(EqWgtPortfolioAssetStdDev, EqualWeightVector)"
      ],
      "execution_count": 156,
      "outputs": [
        {
          "output_type": "execute_result",
          "data": {
            "text/plain": [
              "array([[0.00053, 0.00044, 0.00052, 0.00057, 0.00046, 0.00048, 0.0004 ,\n",
              "        0.0005 , 0.00041, 0.00044, 0.00055, 0.00035, 0.00045, 0.00031,\n",
              "        0.00036, 0.00038, 0.00042, 0.0005 , 0.00051, 0.00038, 0.00033,\n",
              "        0.00035, 0.00045, 0.00039, 0.00045, 0.00037, 0.00055, 0.00042,\n",
              "        0.00041]])"
            ]
          },
          "metadata": {},
          "execution_count": 156
        }
      ]
    },
    {
      "cell_type": "markdown",
      "metadata": {
        "id": "3mpuCXI__uhQ"
      },
      "source": [
        "### Inverse Volatility Weighted Portfolio (1 point)\n",
        "\n",
        "* Apply inverse volatility weighted portfolio construction method for the DJIA portfolio\n",
        "* Compute Inverse volatility weighted portfolio annual risk\n",
        "* Compute Inverse volatility weighted portfolio annual return\n",
        "* Compute the Diversification Ratio of the Inverse Volatility Weighted Portfolio\n",
        "\n",
        "An inverse volatility weighted portfolio is one in which highly volatile assets are allotted smaller weights and low volatile assets are allotted larger weights. Thus, the weights of the individual assets in the portfolio are proportional to the reciprocals of their individual volatilities.\n",
        "The weights are given by,\n",
        "\n",
        "$$W_i = \\frac{\\frac{1}{\\sigma_i}}{\\sum_j \\frac{1}{\\sigma_j}} $$"
      ]
    },
    {
      "cell_type": "code",
      "metadata": {
        "id": "DpErUCIc_UJw",
        "colab": {
          "base_uri": "https://localhost:8080/"
        },
        "outputId": "cc78d96f-b265-4222-b40d-36f1c46fb9ba"
      },
      "source": [
        "#Inverse volatility weighted portfolio construction: Annualized risk and \n",
        "#Expected annualized portfolio return\n",
        "#Trading days = 251\n",
        "InvVolWeightAssets_Risk = np.sqrt(np.diagonal(covReturns))\n",
        "InvVolWeightAssets_ReciprocalRisk = 1.0/InvVolWeightAssets_Risk\n",
        "InvVolWeightAssets_ReciprocalRisk_Sum = np.sum(InvVolWeightAssets_ReciprocalRisk)\n",
        "InvVolWeightAssets_Weights = InvVolWeightAssets_ReciprocalRisk / \\\n",
        "                             InvVolWeightAssets_ReciprocalRisk_Sum\n",
        "InvVolWeightPortfolio_Risk = np.sqrt(np.matmul((np.matmul(InvVolWeightAssets_Weights,\\\n",
        "                             covReturns)), np.transpose(InvVolWeightAssets_Weights)))\n",
        "\n",
        "#annualized risk and return\n",
        "InvVolWeightPortfolio_AnnRisk = np.sqrt(251)* InvVolWeightPortfolio_Risk *100\n",
        "InvVolWeightPortfolio_AnnReturn = 251* np.matmul(InvVolWeightAssets_Weights,\\\n",
        "                                  np.transpose(meanReturns)) *100\n",
        "\n",
        "print(\"Annualized Portfolio Risk: %4.2f\" % InvVolWeightPortfolio_AnnRisk,\"%\\n\")\n",
        "print(\"Annualized Expected Portfolio Return: %4.2f\" % InvVolWeightPortfolio_AnnReturn,\"%\")"
      ],
      "execution_count": 162,
      "outputs": [
        {
          "output_type": "stream",
          "name": "stdout",
          "text": [
            "Annualized Portfolio Risk: 12.47 %\n",
            "\n",
            "Annualized Expected Portfolio Return: 11.29 %\n"
          ]
        }
      ]
    },
    {
      "cell_type": "code",
      "metadata": {
        "id": "ZIXlkOGO_dbq",
        "colab": {
          "base_uri": "https://localhost:8080/"
        },
        "outputId": "28e5a810-e2ff-413d-a2e6-22adc667e496"
      },
      "source": [
        "\"\"\" Inverse volatility weighted portfolio: Diversification Ratio\"\"\"\n",
        "# YOUR CODE HERE\n",
        "InvVolWeightAssets_Risk= np.sqrt(np.diagonal(covReturns))\n",
        "InvVolWeightPortfolioDivRatio = \\\n",
        "np.sum(np.multiply(InvVolWeightAssets_Risk, InvVolWeightAssets_Weights))\\\n",
        "/ InvVolWeightPortfolio_Risk\n",
        "print(\"\\n Inverse Volatility  Weighted Portfolio:Diversification Ratio %4.2f\" \\\n",
        "      % InvVolWeightPortfolioDivRatio)"
      ],
      "execution_count": 163,
      "outputs": [
        {
          "output_type": "stream",
          "name": "stdout",
          "text": [
            "\n",
            " Inverse Volatility  Weighted Portfolio:Diversification Ratio 1.57\n"
          ]
        }
      ]
    },
    {
      "cell_type": "markdown",
      "metadata": {
        "id": "2oY0tOS1D4FR"
      },
      "source": [
        "### Efficient Frontier (2 points)\n",
        "**Optimize the portfolio weights:**\n",
        "\n",
        "* Initialize the random weights for each portfolio\n",
        "* Calculate return, volatility for each portfolio\n",
        "\n",
        "\n",
        "The efficient set obtained by the Mean-Variance Optimization model can be graphically represented by what is called an efficient frontier. An efficient frontier is a risk-return tradeoff graph, which describes a set of optimal portfolios that yield the highest expected portfolio return for a defined level of risk or the lowest possible risk for a defined level of expected portfolio return. It graphs the optimal structure of the portfolio which yields the maximum expected return for a given level of risk or vice-versa.\n"
      ]
    },
    {
      "cell_type": "code",
      "metadata": {
        "id": "wb-pJ8eav8rI"
      },
      "source": [
        "\n",
        "#function obtains maximal return portfolio using linear programming\n",
        "\n",
        "def MaximizeReturns(MeanReturns, PortfolioSize):\n",
        "    \n",
        "    #dependencies\n",
        "    from scipy.optimize import linprog\n",
        "    import numpy as np\n",
        "    \n",
        "    c = (np.multiply(-1, MeanReturns))\n",
        "    A = np.ones([PortfolioSize,1]).T\n",
        "    b=[1]\n",
        "    res = linprog(c, A_ub = A, b_ub = b, bounds = (0,1), method = 'simplex') \n",
        "    \n",
        "    return res"
      ],
      "execution_count": 164,
      "outputs": []
    },
    {
      "cell_type": "code",
      "metadata": {
        "id": "RBv35U0DwAPv"
      },
      "source": [
        "\n",
        "#function obtains minimal risk portfolio \n",
        "\n",
        "#dependencies\n",
        "import numpy as np\n",
        "from scipy import optimize \n",
        "\n",
        "def MinimizeRisk(CovarReturns, PortfolioSize):\n",
        "    \n",
        "    def  f(x, CovarReturns):\n",
        "        func = np.matmul(np.matmul(x, CovarReturns), x.T) \n",
        "        return func\n",
        "\n",
        "    def constraintEq(x):\n",
        "        A=np.ones(x.shape)\n",
        "        b=1\n",
        "        constraintVal = np.matmul(A,x.T)-b \n",
        "        return constraintVal\n",
        "    \n",
        "    xinit=np.repeat(0.1, PortfolioSize)\n",
        "    cons = ({'type': 'eq', 'fun':constraintEq})\n",
        "    lb = 0\n",
        "    ub = 1\n",
        "    bnds = tuple([(lb,ub) for x in xinit])\n",
        "\n",
        "    opt = optimize.minimize (f, x0 = xinit, args = (CovarReturns),  bounds = bnds, \\\n",
        "                             constraints = cons, tol = 10**-3)\n",
        "    \n",
        "    return opt"
      ],
      "execution_count": 165,
      "outputs": []
    },
    {
      "cell_type": "code",
      "metadata": {
        "id": "CIk8PXDVwHU1"
      },
      "source": [
        "#function obtains Minimal risk and Maximum return portfolios\n",
        "\n",
        "#dependencies\n",
        "from scipy import optimize \n",
        "\n",
        "def MinimizeRiskConstr(MeanReturns, CovarReturns, PortfolioSize, R):\n",
        "    \n",
        "    def  f(x,CovarReturns):\n",
        "         \n",
        "        func = np.matmul(np.matmul(x,CovarReturns ), x.T)\n",
        "        return func\n",
        "\n",
        "    def constraintEq(x):\n",
        "        AEq=np.ones(x.shape)\n",
        "        bEq=1\n",
        "        EqconstraintVal = np.matmul(AEq,x.T)-bEq \n",
        "        return EqconstraintVal\n",
        "    \n",
        "    def constraintIneq(x, MeanReturns, R):\n",
        "        AIneq = np.array(MeanReturns)\n",
        "        bIneq = R\n",
        "        IneqconstraintVal = np.matmul(AIneq,x.T) - bIneq\n",
        "        return IneqconstraintVal\n",
        "    \n",
        "\n",
        "    xinit=np.repeat(0.1, PortfolioSize)\n",
        "    cons = ({'type': 'eq', 'fun':constraintEq},\n",
        "            {'type':'ineq', 'fun':constraintIneq, 'args':(MeanReturns,R) })\n",
        "    lb = 0\n",
        "    ub = 1\n",
        "    bnds = tuple([(lb,ub) for x in xinit])\n",
        "\n",
        "    opt = optimize.minimize (f, args = (CovarReturns), method ='trust-constr',  \\\n",
        "                        x0 = xinit,   bounds = bnds, constraints = cons, tol = 10**-3)\n",
        "    \n",
        "    return  opt"
      ],
      "execution_count": 167,
      "outputs": []
    },
    {
      "cell_type": "code",
      "metadata": {
        "id": "vwnydbKeenGf"
      },
      "source": [
        "# function computes asset returns \n",
        "def StockReturnsComputing(StockPrice, Rows, Columns):\n",
        "    \n",
        "    import numpy as np\n",
        "    \n",
        "    StockReturn = np.zeros([Rows-1, Columns])\n",
        "    for j in range(Columns):        # j: Assets\n",
        "        for i in range(Rows-1):     # i: Daily Prices\n",
        "            StockReturn[i,j]=((StockPrice[i+1, j]-StockPrice[i,j])/StockPrice[i,j])* 100\n",
        "\n",
        "    return StockReturn"
      ],
      "execution_count": 168,
      "outputs": []
    },
    {
      "cell_type": "code",
      "metadata": {
        "id": "0IUwg2_HwPO9",
        "colab": {
          "base_uri": "https://localhost:8080/"
        },
        "outputId": "6f7bf646-06bd-48a2-cc25-76542b1d320f"
      },
      "source": [
        "df = pd.read_csv(StockFileName,  nrows= Rows)\n",
        "\n",
        "Rows = 1259  #excluding header\n",
        "Columns = 29  #excluding date\n",
        "portfolioSize = Columns #set portfolio size\n",
        "\n",
        "\n",
        "#extract asset labels\n",
        "assetLabels = df.columns[1:Columns+1].tolist()\n",
        "print(assetLabels)\n",
        "\n",
        "#extract asset prices\n",
        "StockData = df.iloc[0:, 1:]\n",
        "\n",
        "\n",
        "#compute asset returns\n",
        "arStockPrices = np.asarray(StockData)\n",
        "[Rows, Cols]=arStockPrices.shape\n",
        "arReturns = StockReturnsComputing(arStockPrices, Rows, Cols)\n",
        "\n",
        "\n",
        "#compute mean returns and variance covariance matrix of returns\n",
        "meanReturns = np.mean(arReturns, axis = 0)\n",
        "covReturns = np.cov(arReturns, rowvar=False)\n",
        "\n",
        "#set precision for printing results\n",
        "np.set_printoptions(precision=3, suppress = True)\n"
      ],
      "execution_count": 169,
      "outputs": [
        {
          "output_type": "stream",
          "name": "stdout",
          "text": [
            "['AAPL', 'AXP', 'BA', 'CAT', 'CSCO', 'CVX', 'DIS', 'GS', 'HD', 'IBM', 'INTC', 'JNJ', 'JPM', 'KO', 'MCD', 'MMM', 'MRK', 'MSFT', 'NKE', 'PFE', 'PG', 'TRV', 'UNH', 'UTX', 'V', 'VZ', 'WBA', 'WMT', 'XOM']\n"
          ]
        }
      ]
    },
    {
      "cell_type": "code",
      "metadata": {
        "colab": {
          "base_uri": "https://localhost:8080/"
        },
        "id": "7iorGuC4wTuT",
        "outputId": "00ae5970-fd3a-4025-f080-b9262c47ab05"
      },
      "source": [
        "#Maximal expected portfolio return computation for the k-portfolio\n",
        "result1 = MaximizeReturns(meanReturns, portfolioSize)\n",
        "maxReturnWeights = result1.x\n",
        "maxExpPortfolioReturn = np.matmul(meanReturns.T, maxReturnWeights)\n",
        "print(\"Maximal Expected Portfolio Return:   %7.4f\" % maxExpPortfolioReturn )"
      ],
      "execution_count": 171,
      "outputs": [
        {
          "output_type": "stream",
          "name": "stdout",
          "text": [
            "Maximal Expected Portfolio Return:    0.1013\n"
          ]
        }
      ]
    },
    {
      "cell_type": "code",
      "metadata": {
        "colab": {
          "base_uri": "https://localhost:8080/"
        },
        "id": "uOv37_oLwW_5",
        "outputId": "14446844-886a-442c-de85-56bc7c925371"
      },
      "source": [
        "#expected portfolio return computation for the minimum risk k-portfolio \n",
        "result2 = MinimizeRisk(covReturns, portfolioSize)\n",
        "minRiskWeights = result2.x\n",
        "minRiskExpPortfolioReturn = np.matmul(meanReturns.T, minRiskWeights)\n",
        "print(\"Expected Return of Minimum Risk Portfolio:  %7.4f\" % minRiskExpPortfolioReturn)"
      ],
      "execution_count": 172,
      "outputs": [
        {
          "output_type": "stream",
          "name": "stdout",
          "text": [
            "Expected Return of Minimum Risk Portfolio:   0.0306\n"
          ]
        }
      ]
    },
    {
      "cell_type": "markdown",
      "metadata": {
        "id": "8weWY72ewbsi"
      },
      "source": [
        "employing function MinimizeRiskConstr. The following Python code shows the repeated invocation of the function controlled by a while loop that varies from low to high in steps of increment = 0.001. Here low and high denote $R^{MinRisk}$ and $R^{MaxReturn}$ respectively. The loop therefore executes (5.6) repeatedly varying R as defined by $R^{MinRisk} \\le R \\le R^{MaxRetrn}$"
      ]
    },
    {
      "cell_type": "code",
      "metadata": {
        "colab": {
          "base_uri": "https://localhost:8080/"
        },
        "id": "osw_V_96wtSo",
        "outputId": "fb9ae6e4-3f4f-482d-9037-801442c1dc7e"
      },
      "source": [
        "#compute efficient set for the maximum return and minimum risk portfolios\n",
        "increment = 0.001\n",
        "low = minRiskExpPortfolioReturn\n",
        "high = maxExpPortfolioReturn\n",
        "\n",
        "#initialize optimal weight set and risk-return point set\n",
        "xOptimal =[]\n",
        "minRiskPoint = []\n",
        "expPortfolioReturnPoint =[]\n",
        "\n",
        "#repeated execution of function MinimizeRiskConstr to determine the efficient set \n",
        "while (low < high):\n",
        "    \n",
        "    result3 = MinimizeRiskConstr(meanReturns, covReturns, portfolioSize, low)\n",
        "    xOptimal.append(result3.x)\n",
        "    expPortfolioReturnPoint.append(low)\n",
        "    low = low+increment\n",
        "    \n",
        "#gather optimal weight set    \n",
        "xOptimalArray = np.array(xOptimal)\n",
        "\n",
        "#obtain annualized risk for the efficient set portfolios \n",
        "#for trading days = 251\n",
        "minRiskPoint = np.diagonal(np.matmul((np.matmul(xOptimalArray,covReturns)),\\\n",
        "                                     np.transpose(xOptimalArray)))\n",
        "riskPoint =   np.sqrt(minRiskPoint*251) \n",
        "\n",
        "#obtain expected portfolio annualized return for the \n",
        "#efficient set portfolios, for trading days = 251\n",
        "retPoint = 251*np.array(expPortfolioReturnPoint) \n",
        "\n",
        "#display efficient set portfolio parameters\n",
        "print(\"Size of the  efficient set:\", xOptimalArray.shape )\n",
        "print(\"Optimal weights of the efficient set portfolios: \\n\", xOptimalArray)\n",
        "print(\"Annualized Risk and Return of the efficient set portfolios: \\n\", \\\n",
        "                                                np.c_[riskPoint, retPoint])"
      ],
      "execution_count": 173,
      "outputs": [
        {
          "output_type": "stream",
          "name": "stderr",
          "text": [
            "/usr/local/lib/python3.7/dist-packages/scipy/optimize/_hessian_update_strategy.py:187: UserWarning: delta_grad == 0.0. Check if the approximated function is linear. If the function is linear better results can be obtained by defining the Hessian as zero instead of using quasi-Newton approximations.\n",
            "  'approximations.', UserWarning)\n"
          ]
        },
        {
          "output_type": "stream",
          "name": "stdout",
          "text": [
            "Size of the  efficient set: (71, 29)\n",
            "Optimal weights of the efficient set portfolios: \n",
            " [[ 0.021  0.026  0.016 ...  0.017  0.045  0.027]\n",
            " [ 0.021  0.026  0.016 ...  0.017  0.045  0.027]\n",
            " [ 0.022  0.026  0.016 ...  0.017  0.045  0.026]\n",
            " ...\n",
            " [ 0.004  0.001  0.212 ...  0.     0.001  0.   ]\n",
            " [ 0.003  0.     0.228 ...  0.     0.     0.   ]\n",
            " [ 0.002 -0.     0.21  ... -0.    -0.    -0.   ]]\n",
            "Annualized Risk and Return of the efficient set portfolios: \n",
            " [[11.375  7.688]\n",
            " [11.381  7.939]\n",
            " [11.388  8.19 ]\n",
            " [11.396  8.441]\n",
            " [11.405  8.692]\n",
            " [11.415  8.943]\n",
            " [11.423  9.194]\n",
            " [11.428  9.445]\n",
            " [11.439  9.696]\n",
            " [11.832  9.947]\n",
            " [11.466 10.198]\n",
            " [11.485 10.449]\n",
            " [11.555 10.7  ]\n",
            " [11.589 10.951]\n",
            " [11.628 11.202]\n",
            " [11.672 11.453]\n",
            " [11.72  11.704]\n",
            " [11.828 11.955]\n",
            " [11.883 12.206]\n",
            " [11.937 12.457]\n",
            " [11.983 12.708]\n",
            " [12.005 12.959]\n",
            " [11.864 13.21 ]\n",
            " [11.914 13.461]\n",
            " [11.976 13.712]\n",
            " [12.118 13.963]\n",
            " [12.04  14.214]\n",
            " [12.1   14.465]\n",
            " [12.169 14.716]\n",
            " [12.229 14.967]\n",
            " [12.284 15.218]\n",
            " [12.356 15.469]\n",
            " [12.419 15.72 ]\n",
            " [12.685 15.971]\n",
            " [12.559 16.222]\n",
            " [12.638 16.473]\n",
            " [12.721 16.724]\n",
            " [12.807 16.975]\n",
            " [12.93  17.226]\n",
            " [13.05  17.477]\n",
            " [13.069 17.728]\n",
            " [13.2   17.979]\n",
            " [13.289 18.23 ]\n",
            " [13.285 18.481]\n",
            " [13.378 18.732]\n",
            " [13.504 18.983]\n",
            " [13.568 19.234]\n",
            " [13.706 19.485]\n",
            " [13.796 19.736]\n",
            " [13.947 19.987]\n",
            " [13.993 20.238]\n",
            " [14.163 20.489]\n",
            " [14.237 20.74 ]\n",
            " [14.296 20.991]\n",
            " [14.339 21.242]\n",
            " [14.537 21.493]\n",
            " [14.587 21.744]\n",
            " [14.562 21.995]\n",
            " [15.079 22.246]\n",
            " [15.251 22.497]\n",
            " [15.377 22.748]\n",
            " [15.497 22.999]\n",
            " [15.67  23.25 ]\n",
            " [15.841 23.501]\n",
            " [16.05  23.752]\n",
            " [16.279 24.003]\n",
            " [16.503 24.254]\n",
            " [16.711 24.505]\n",
            " [17.115 24.756]\n",
            " [17.8   25.007]\n",
            " [17.159 25.258]]\n"
          ]
        }
      ]
    },
    {
      "cell_type": "code",
      "metadata": {
        "id": "IbdB4oK7e_ZS",
        "colab": {
          "base_uri": "https://localhost:8080/",
          "height": 295
        },
        "outputId": "581f3833-782f-4950-feba-4a65f68922ab"
      },
      "source": [
        "# YOUR CODE HERE\n",
        "#Graph Efficient Frontier\n",
        "import matplotlib.pyplot as plt\n",
        "\n",
        "NoPoints = riskPoint.size\n",
        "\n",
        "colours = \"blue\"\n",
        "area = np.pi*3\n",
        "\n",
        "plt.title('Efficient Frontier for k-portfolio  of Dow stocks')\n",
        "plt.xlabel('Annualized Risk(%)')\n",
        "plt.ylabel('Annualized Expected Portfolio Return(%)' )\n",
        "plt.scatter(riskPoint, retPoint, s=area, c=colours, alpha =0.5)\n",
        "plt.show()"
      ],
      "execution_count": 174,
      "outputs": [
        {
          "output_type": "display_data",
          "data": {
            "image/png": "[encoded data removed]",
            "text/plain": [
              "<Figure size 432x288 with 1 Axes>"
            ]
          },
          "metadata": {
            "needs_background": "light"
          }
        }
      ]
    },
    {
      "cell_type": "markdown",
      "metadata": {
        "id": "eDHAkaLlHRCb"
      },
      "source": [
        "#### Visualize Efficient Frontier\n",
        "\n",
        "* Visualize the volatility and returns of 1000 portfolios\n",
        "* Find the minimum variance portfolio and plot the weights of assets"
      ]
    },
    {
      "cell_type": "code",
      "metadata": {
        "id": "zHbEgjjUiCP_"
      },
      "source": [
        "# YOUR CODE HERE"
      ],
      "execution_count": null,
      "outputs": []
    },
    {
      "cell_type": "markdown",
      "metadata": {
        "id": "AdSGhyBrlUd7"
      },
      "source": [
        "### Sharpe Ratio (1 point)\n",
        "\n",
        "* Calculate Sharpe Ratio for the assets\n",
        "\n",
        "Sharpe Ratio, developed by Nobel Laureate William F Sharpe, is a measure of calculating risk adjusted return. It serves to help investors know about the returns on their investments relative to the risks they hold. The Sharpe Ratio is defined as\n",
        "\n",
        "$$Sharpe Ratio = \\frac{R_P - R_f}{\\sigma_p} $$\n",
        "\n",
        "where:\n",
        "\n",
        "$R_p$ = return of portfolio\n",
        "\n",
        "$R_f$ = risk-free rate\n",
        "\n",
        "$\\sigma_p$ = standard deviation of the portfolio’s excess return\n",
        "​\t\n",
        "\n",
        "**Note:** The risk-free rate of return is the return of an investment with zero risks, meaning it's the return investors could expect for taking no risk.\n",
        "\n"
      ]
    },
    {
      "cell_type": "code",
      "metadata": {
        "id": "7hcf1KWa3N38"
      },
      "source": [
        "#function to undertake Sharpe Ratio maximization subject to \n",
        "#basic constraints of the portfolio\n",
        "\n",
        "#dependencies\n",
        "import numpy as np\n",
        "from scipy import optimize \n",
        "\n",
        "def MaximizeSharpeRatioOptmzn(MeanReturns, CovarReturns, RiskFreeRate, PortfolioSize):\n",
        "    \n",
        "    # define maximization of Sharpe Ratio using principle of duality\n",
        "    def  f(x, MeanReturns, CovarReturns, RiskFreeRate, PortfolioSize):\n",
        "        funcDenomr = np.sqrt(np.matmul(np.matmul(x, CovarReturns), x.T) )\n",
        "        funcNumer = np.matmul(np.array(MeanReturns),x.T)-RiskFreeRate\n",
        "        func = -(funcNumer / funcDenomr)\n",
        "        return func\n",
        "\n",
        "    #define equality constraint representing fully invested portfolio\n",
        "    def constraintEq(x):\n",
        "        A=np.ones(x.shape)\n",
        "        b=1\n",
        "        constraintVal = np.matmul(A,x.T)-b \n",
        "        return constraintVal\n",
        "    \n",
        "    \n",
        "    #define bounds and other parameters\n",
        "    xinit=np.repeat(0.33, PortfolioSize)\n",
        "    cons = ({'type': 'eq', 'fun':constraintEq})\n",
        "    lb = 0\n",
        "    ub = 1\n",
        "    bnds = tuple([(lb,ub) for x in xinit])\n",
        "    \n",
        "    #invoke minimize solver\n",
        "    opt = optimize.minimize (f, x0 = xinit, args = (MeanReturns, CovarReturns,\\\n",
        "                             RiskFreeRate, PortfolioSize), method = 'SLSQP',  \\\n",
        "                             bounds = bnds, constraints = cons, tol = 10**-3)\n",
        "    \n",
        "    return opt"
      ],
      "execution_count": 175,
      "outputs": []
    },
    {
      "cell_type": "code",
      "metadata": {
        "id": "L0s44a7Ejs3T",
        "colab": {
          "base_uri": "https://localhost:8080/"
        },
        "outputId": "24f4d2aa-9272-4c1c-ae78-f1e8ab91b71d"
      },
      "source": [
        "# Risk-free return\n",
        "#rf = 0.0006\n",
        "# YOUR CODE HERE\n",
        "#obtain maximal Sharpe Ratio for k-portfolio 1 of Dow stocks\n",
        "\n",
        "#set portfolio size\n",
        "portfolioSize = Columns\n",
        "\n",
        "#set risk free asset rate of return\n",
        "Rf=0.0006  # April 2019 average risk  free rate of return in USA approx 3%\n",
        "annRiskFreeRate = Rf/100\n",
        "\n",
        "#compute daily risk free rate in percentage\n",
        "r0 = (np.power((1 + annRiskFreeRate),  (1.0 / 360.0)) - 1.0) * 100 \n",
        "print('\\nRisk free rate (daily %): ', end=\"\")\n",
        "print (\"{0:.3f}\".format(r0)) \n",
        "\n",
        "#initialization\n",
        "xOptimal =[]\n",
        "minRiskPoint = []\n",
        "expPortfolioReturnPoint =[]\n",
        "maxSharpeRatio = 0\n",
        "\n",
        "#compute maximal Sharpe Ratio and optimal weights\n",
        "result = MaximizeSharpeRatioOptmzn(meanReturns, covReturns, r0, portfolioSize)\n",
        "xOptimal.append(result.x)\n",
        "\n",
        "    \n",
        "#compute risk returns and max Sharpe Ratio of the optimal portfolio   \n",
        "xOptimalArray = np.array(xOptimal)\n",
        "Risk = np.matmul((np.matmul(xOptimalArray,covReturns)), np.transpose(xOptimalArray))\n",
        "expReturn = np.matmul(np.array(meanReturns),xOptimalArray.T)\n",
        "annRisk =   np.sqrt(Risk*251) \n",
        "annRet = 251*np.array(expReturn) \n",
        "maxSharpeRatio = (annRet-Rf)/annRisk \n",
        "\n",
        "#set precision for printing results\n",
        "np.set_printoptions(precision=3, suppress = True)\n",
        "\n",
        "\n",
        "#display results\n",
        "print('Maximal Sharpe Ratio: ', maxSharpeRatio, '\\nAnnualized Risk (%):  ', \\\n",
        "      annRisk, '\\nAnnualized Expected Portfolio Return(%):  ', annRet)\n",
        "print('\\nOptimal weights (%):\\n',  xOptimalArray.T*100 )\n"
      ],
      "execution_count": 176,
      "outputs": [
        {
          "output_type": "stream",
          "name": "stdout",
          "text": [
            "\n",
            "Risk free rate (daily %): 0.000\n",
            "Maximal Sharpe Ratio:  [[1.506]] \n",
            "Annualized Risk (%):   [[14.872]] \n",
            "Annualized Expected Portfolio Return(%):   [22.393]\n",
            "\n",
            "Optimal weights (%):\n",
            " [[ 8.112]\n",
            " [ 0.   ]\n",
            " [12.652]\n",
            " [ 0.   ]\n",
            " [ 6.136]\n",
            " [ 0.   ]\n",
            " [ 0.   ]\n",
            " [ 0.   ]\n",
            " [13.205]\n",
            " [ 0.   ]\n",
            " [ 0.088]\n",
            " [ 0.   ]\n",
            " [ 0.   ]\n",
            " [ 0.   ]\n",
            " [10.07 ]\n",
            " [ 0.   ]\n",
            " [ 0.   ]\n",
            " [ 9.798]\n",
            " [ 8.053]\n",
            " [ 0.   ]\n",
            " [ 0.   ]\n",
            " [ 0.292]\n",
            " [17.006]\n",
            " [ 0.   ]\n",
            " [14.587]\n",
            " [ 0.   ]\n",
            " [ 0.   ]\n",
            " [ 0.   ]\n",
            " [ 0.   ]]\n"
          ]
        }
      ]
    },
    {
      "cell_type": "markdown",
      "metadata": {
        "id": "ey5dO0vIkVqh"
      },
      "source": [
        "#### Plot the portfolio\n",
        "\n",
        "* Find and plot the optimal portfolio using Sharpe Ratio\n",
        "* Highlight the minimum risk and maximum return of the portfolio"
      ]
    },
    {
      "cell_type": "code",
      "metadata": {
        "colab": {
          "base_uri": "https://localhost:8080/",
          "height": 129
        },
        "id": "rVjHQ8URlfty",
        "outputId": "08dc66c4-8b18-4ac4-d158-b9da87f3ea5c"
      },
      "source": [
        "\n",
        "def display_simulated_ef_with_random(mean_returns, cov_matrix, num_portfolios, risk_free_rate):\n",
        "    results, weights = random_portfolios(num_portfolios,mean_returns, cov_matrix, risk_free_rate)\n",
        "    \n",
        "    max_sharpe_idx = np.argmax(results[2])\n",
        "    sdp, rp = results[0,max_sharpe_idx], results[1,max_sharpe_idx]\n",
        "    max_sharpe_allocation = pd.DataFrame(weights[max_sharpe_idx],index=table.columns,columns=['allocation'])\n",
        "    max_sharpe_allocation.allocation = [round(i*100,2)for i in max_sharpe_allocation.allocation]\n",
        "    max_sharpe_allocation = max_sharpe_allocation.T\n",
        "    \n",
        "    min_vol_idx = np.argmin(results[0])\n",
        "    sdp_min, rp_min = results[0,min_vol_idx], results[1,min_vol_idx]\n",
        "    min_vol_allocation = pd.DataFrame(weights[min_vol_idx],index=table.columns,columns=['allocation'])\n",
        "    min_vol_allocation.allocation = [round(i*100,2)for i in min_vol_allocation.allocation]\n",
        "    min_vol_allocation = min_vol_allocation.T\n",
        "    \n",
        "    #print \"-\"*80\n",
        " #   print \"Maximum Sharpe Ratio Portfolio Allocation\\n\"\n",
        "    print \"Annualised Return:\", round(rp,2)\n",
        "    print \"Annualised Volatility:\", round(sdp,2)\n",
        "    print \"\\n\"\n",
        "    print max_sharpe_allocation\n",
        "    print \"-\"*80\n",
        "    print \"Minimum Volatility Portfolio Allocation\\n\"\n",
        "    print \"Annualised Return:\", round(rp_min,2)\n",
        "    print \"Annualised Volatility:\", round(sdp_min,2)\n",
        "    print \"\\n\"\n",
        "    print min_vol_allocation\n",
        "    \n",
        "    plt.figure(figsize=(10, 7))\n",
        "    plt.scatter(results[0,:],results[1,:],c=results[2,:],cmap='YlGnBu', marker='o', s=10, alpha=0.3)\n",
        "    plt.colorbar()\n",
        "    plt.scatter(sdp,rp,marker='*',color='r',s=500, label='Maximum Sharpe ratio')\n",
        "    plt.scatter(sdp_min,rp_min,marker='*',color='g',s=500, label='Minimum volatility')\n",
        "    plt.title('Simulated Portfolio Optimization based on Efficient Frontier')\n",
        "    plt.xlabel('annualised volatility')\n",
        "    plt.ylabel('annualised returns')\n",
        "    plt.legend(labelspacing=0.8)"
      ],
      "execution_count": 185,
      "outputs": [
        {
          "output_type": "error",
          "ename": "SyntaxError",
          "evalue": "ignored",
          "traceback": [
            "\u001b[0;36m  File \u001b[0;32m\"<ipython-input-185-9ac241540dfc>\"\u001b[0;36m, line \u001b[0;32m19\u001b[0m\n\u001b[0;31m    print \"Annualised Return:\", round(rp,2)\u001b[0m\n\u001b[0m                             ^\u001b[0m\n\u001b[0;31mSyntaxError\u001b[0m\u001b[0;31m:\u001b[0m invalid syntax\n"
          ]
        }
      ]
    },
    {
      "cell_type": "code",
      "metadata": {
        "colab": {
          "base_uri": "https://localhost:8080/",
          "height": 425
        },
        "id": "sEdomwogh2-u",
        "outputId": "a4fc9366-3737-4e15-c0f1-4cf5bcb0d40c"
      },
      "source": [
        "# Volatility is given by the annual standard deviation. We multiply by 250 because there are 250 trading days/year.\n",
        "ann_sd = df.pct_change().apply(lambda x: np.log(1+x)).std().apply(lambda x: x*np.sqrt(250))\n",
        "ann_sd"
      ],
      "execution_count": 179,
      "outputs": [
        {
          "output_type": "error",
          "ename": "TypeError",
          "evalue": "ignored",
          "traceback": [
            "\u001b[0;31m---------------------------------------------------------------------------\u001b[0m",
            "\u001b[0;31mTypeError\u001b[0m                                 Traceback (most recent call last)",
            "\u001b[0;32m/usr/local/lib/python3.7/dist-packages/pandas/core/ops/array_ops.py\u001b[0m in \u001b[0;36mna_arithmetic_op\u001b[0;34m(left, right, op, is_cmp)\u001b[0m\n\u001b[1;32m    142\u001b[0m     \u001b[0;32mtry\u001b[0m\u001b[0;34m:\u001b[0m\u001b[0;34m\u001b[0m\u001b[0;34m\u001b[0m\u001b[0m\n\u001b[0;32m--> 143\u001b[0;31m         \u001b[0mresult\u001b[0m \u001b[0;34m=\u001b[0m \u001b[0mexpressions\u001b[0m\u001b[0;34m.\u001b[0m\u001b[0mevaluate\u001b[0m\u001b[0;34m(\u001b[0m\u001b[0mop\u001b[0m\u001b[0;34m,\u001b[0m \u001b[0mleft\u001b[0m\u001b[0;34m,\u001b[0m \u001b[0mright\u001b[0m\u001b[0;34m)\u001b[0m\u001b[0;34m\u001b[0m\u001b[0;34m\u001b[0m\u001b[0m\n\u001b[0m\u001b[1;32m    144\u001b[0m     \u001b[0;32mexcept\u001b[0m \u001b[0mTypeError\u001b[0m\u001b[0;34m:\u001b[0m\u001b[0;34m\u001b[0m\u001b[0;34m\u001b[0m\u001b[0m\n",
            "\u001b[0;32m/usr/local/lib/python3.7/dist-packages/pandas/core/computation/expressions.py\u001b[0m in \u001b[0;36mevaluate\u001b[0;34m(op, a, b, use_numexpr)\u001b[0m\n\u001b[1;32m    232\u001b[0m         \u001b[0;32mif\u001b[0m \u001b[0muse_numexpr\u001b[0m\u001b[0;34m:\u001b[0m\u001b[0;34m\u001b[0m\u001b[0;34m\u001b[0m\u001b[0m\n\u001b[0;32m--> 233\u001b[0;31m             \u001b[0;32mreturn\u001b[0m \u001b[0m_evaluate\u001b[0m\u001b[0;34m(\u001b[0m\u001b[0mop\u001b[0m\u001b[0;34m,\u001b[0m \u001b[0mop_str\u001b[0m\u001b[0;34m,\u001b[0m \u001b[0ma\u001b[0m\u001b[0;34m,\u001b[0m \u001b[0mb\u001b[0m\u001b[0;34m)\u001b[0m  \u001b[0;31m# type: ignore\u001b[0m\u001b[0;34m\u001b[0m\u001b[0;34m\u001b[0m\u001b[0m\n\u001b[0m\u001b[1;32m    234\u001b[0m     \u001b[0;32mreturn\u001b[0m \u001b[0m_evaluate_standard\u001b[0m\u001b[0;34m(\u001b[0m\u001b[0mop\u001b[0m\u001b[0;34m,\u001b[0m \u001b[0mop_str\u001b[0m\u001b[0;34m,\u001b[0m \u001b[0ma\u001b[0m\u001b[0;34m,\u001b[0m \u001b[0mb\u001b[0m\u001b[0;34m)\u001b[0m\u001b[0;34m\u001b[0m\u001b[0;34m\u001b[0m\u001b[0m\n",
            "\u001b[0;32m/usr/local/lib/python3.7/dist-packages/pandas/core/computation/expressions.py\u001b[0m in \u001b[0;36m_evaluate_numexpr\u001b[0;34m(op, op_str, a, b)\u001b[0m\n\u001b[1;32m    118\u001b[0m     \u001b[0;32mif\u001b[0m \u001b[0mresult\u001b[0m \u001b[0;32mis\u001b[0m \u001b[0;32mNone\u001b[0m\u001b[0;34m:\u001b[0m\u001b[0;34m\u001b[0m\u001b[0;34m\u001b[0m\u001b[0m\n\u001b[0;32m--> 119\u001b[0;31m         \u001b[0mresult\u001b[0m \u001b[0;34m=\u001b[0m \u001b[0m_evaluate_standard\u001b[0m\u001b[0;34m(\u001b[0m\u001b[0mop\u001b[0m\u001b[0;34m,\u001b[0m \u001b[0mop_str\u001b[0m\u001b[0;34m,\u001b[0m \u001b[0ma\u001b[0m\u001b[0;34m,\u001b[0m \u001b[0mb\u001b[0m\u001b[0;34m)\u001b[0m\u001b[0;34m\u001b[0m\u001b[0;34m\u001b[0m\u001b[0m\n\u001b[0m\u001b[1;32m    120\u001b[0m \u001b[0;34m\u001b[0m\u001b[0m\n",
            "\u001b[0;32m/usr/local/lib/python3.7/dist-packages/pandas/core/computation/expressions.py\u001b[0m in \u001b[0;36m_evaluate_standard\u001b[0;34m(op, op_str, a, b)\u001b[0m\n\u001b[1;32m     67\u001b[0m     \u001b[0;32mwith\u001b[0m \u001b[0mnp\u001b[0m\u001b[0;34m.\u001b[0m\u001b[0merrstate\u001b[0m\u001b[0;34m(\u001b[0m\u001b[0mall\u001b[0m\u001b[0;34m=\u001b[0m\u001b[0;34m\"ignore\"\u001b[0m\u001b[0;34m)\u001b[0m\u001b[0;34m:\u001b[0m\u001b[0;34m\u001b[0m\u001b[0;34m\u001b[0m\u001b[0m\n\u001b[0;32m---> 68\u001b[0;31m         \u001b[0;32mreturn\u001b[0m \u001b[0mop\u001b[0m\u001b[0;34m(\u001b[0m\u001b[0ma\u001b[0m\u001b[0;34m,\u001b[0m \u001b[0mb\u001b[0m\u001b[0;34m)\u001b[0m\u001b[0;34m\u001b[0m\u001b[0;34m\u001b[0m\u001b[0m\n\u001b[0m\u001b[1;32m     69\u001b[0m \u001b[0;34m\u001b[0m\u001b[0m\n",
            "\u001b[0;31mTypeError\u001b[0m: unsupported operand type(s) for /: 'str' and 'float'",
            "\nDuring handling of the above exception, another exception occurred:\n",
            "\u001b[0;31mTypeError\u001b[0m                                 Traceback (most recent call last)",
            "\u001b[0;32m<ipython-input-179-fd5caba53dce>\u001b[0m in \u001b[0;36m<module>\u001b[0;34m()\u001b[0m\n\u001b[1;32m      1\u001b[0m \u001b[0;31m# Volatility is given by the annual standard deviation. We multiply by 250 because there are 250 trading days/year.\u001b[0m\u001b[0;34m\u001b[0m\u001b[0;34m\u001b[0m\u001b[0;34m\u001b[0m\u001b[0m\n\u001b[0;32m----> 2\u001b[0;31m \u001b[0mann_sd\u001b[0m \u001b[0;34m=\u001b[0m \u001b[0mdf\u001b[0m\u001b[0;34m.\u001b[0m\u001b[0mpct_change\u001b[0m\u001b[0;34m(\u001b[0m\u001b[0;34m)\u001b[0m\u001b[0;34m.\u001b[0m\u001b[0mapply\u001b[0m\u001b[0;34m(\u001b[0m\u001b[0;32mlambda\u001b[0m \u001b[0mx\u001b[0m\u001b[0;34m:\u001b[0m \u001b[0mnp\u001b[0m\u001b[0;34m.\u001b[0m\u001b[0mlog\u001b[0m\u001b[0;34m(\u001b[0m\u001b[0;36m1\u001b[0m\u001b[0;34m+\u001b[0m\u001b[0mx\u001b[0m\u001b[0;34m)\u001b[0m\u001b[0;34m)\u001b[0m\u001b[0;34m.\u001b[0m\u001b[0mstd\u001b[0m\u001b[0;34m(\u001b[0m\u001b[0;34m)\u001b[0m\u001b[0;34m.\u001b[0m\u001b[0mapply\u001b[0m\u001b[0;34m(\u001b[0m\u001b[0;32mlambda\u001b[0m \u001b[0mx\u001b[0m\u001b[0;34m:\u001b[0m \u001b[0mx\u001b[0m\u001b[0;34m*\u001b[0m\u001b[0mnp\u001b[0m\u001b[0;34m.\u001b[0m\u001b[0msqrt\u001b[0m\u001b[0;34m(\u001b[0m\u001b[0;36m250\u001b[0m\u001b[0;34m)\u001b[0m\u001b[0;34m)\u001b[0m\u001b[0;34m\u001b[0m\u001b[0;34m\u001b[0m\u001b[0m\n\u001b[0m\u001b[1;32m      3\u001b[0m \u001b[0mann_sd\u001b[0m\u001b[0;34m\u001b[0m\u001b[0;34m\u001b[0m\u001b[0m\n",
            "\u001b[0;32m/usr/local/lib/python3.7/dist-packages/pandas/core/generic.py\u001b[0m in \u001b[0;36mpct_change\u001b[0;34m(self, periods, fill_method, limit, freq, **kwargs)\u001b[0m\n\u001b[1;32m  10245\u001b[0m             \u001b[0mdata\u001b[0m \u001b[0;34m=\u001b[0m \u001b[0m_data\u001b[0m\u001b[0;34m\u001b[0m\u001b[0;34m\u001b[0m\u001b[0m\n\u001b[1;32m  10246\u001b[0m \u001b[0;34m\u001b[0m\u001b[0m\n\u001b[0;32m> 10247\u001b[0;31m         \u001b[0mrs\u001b[0m \u001b[0;34m=\u001b[0m \u001b[0mdata\u001b[0m\u001b[0;34m.\u001b[0m\u001b[0mdiv\u001b[0m\u001b[0;34m(\u001b[0m\u001b[0mdata\u001b[0m\u001b[0;34m.\u001b[0m\u001b[0mshift\u001b[0m\u001b[0;34m(\u001b[0m\u001b[0mperiods\u001b[0m\u001b[0;34m=\u001b[0m\u001b[0mperiods\u001b[0m\u001b[0;34m,\u001b[0m \u001b[0mfreq\u001b[0m\u001b[0;34m=\u001b[0m\u001b[0mfreq\u001b[0m\u001b[0;34m,\u001b[0m \u001b[0maxis\u001b[0m\u001b[0;34m=\u001b[0m\u001b[0maxis\u001b[0m\u001b[0;34m,\u001b[0m \u001b[0;34m**\u001b[0m\u001b[0mkwargs\u001b[0m\u001b[0;34m)\u001b[0m\u001b[0;34m)\u001b[0m \u001b[0;34m-\u001b[0m \u001b[0;36m1\u001b[0m\u001b[0;34m\u001b[0m\u001b[0;34m\u001b[0m\u001b[0m\n\u001b[0m\u001b[1;32m  10248\u001b[0m         \u001b[0;32mif\u001b[0m \u001b[0mfreq\u001b[0m \u001b[0;32mis\u001b[0m \u001b[0;32mnot\u001b[0m \u001b[0;32mNone\u001b[0m\u001b[0;34m:\u001b[0m\u001b[0;34m\u001b[0m\u001b[0;34m\u001b[0m\u001b[0m\n\u001b[1;32m  10249\u001b[0m             \u001b[0;31m# Shift method is implemented differently when freq is not None\u001b[0m\u001b[0;34m\u001b[0m\u001b[0;34m\u001b[0m\u001b[0;34m\u001b[0m\u001b[0m\n",
            "\u001b[0;32m/usr/local/lib/python3.7/dist-packages/pandas/core/ops/__init__.py\u001b[0m in \u001b[0;36mf\u001b[0;34m(self, other, axis, level, fill_value)\u001b[0m\n\u001b[1;32m    653\u001b[0m         \u001b[0;32mif\u001b[0m \u001b[0misinstance\u001b[0m\u001b[0;34m(\u001b[0m\u001b[0mother\u001b[0m\u001b[0;34m,\u001b[0m \u001b[0mABCDataFrame\u001b[0m\u001b[0;34m)\u001b[0m\u001b[0;34m:\u001b[0m\u001b[0;34m\u001b[0m\u001b[0;34m\u001b[0m\u001b[0m\n\u001b[1;32m    654\u001b[0m             \u001b[0;31m# Another DataFrame\u001b[0m\u001b[0;34m\u001b[0m\u001b[0;34m\u001b[0m\u001b[0;34m\u001b[0m\u001b[0m\n\u001b[0;32m--> 655\u001b[0;31m             \u001b[0mnew_data\u001b[0m \u001b[0;34m=\u001b[0m \u001b[0mself\u001b[0m\u001b[0;34m.\u001b[0m\u001b[0m_combine_frame\u001b[0m\u001b[0;34m(\u001b[0m\u001b[0mother\u001b[0m\u001b[0;34m,\u001b[0m \u001b[0mna_op\u001b[0m\u001b[0;34m,\u001b[0m \u001b[0mfill_value\u001b[0m\u001b[0;34m)\u001b[0m\u001b[0;34m\u001b[0m\u001b[0;34m\u001b[0m\u001b[0m\n\u001b[0m\u001b[1;32m    656\u001b[0m \u001b[0;34m\u001b[0m\u001b[0m\n\u001b[1;32m    657\u001b[0m         \u001b[0;32melif\u001b[0m \u001b[0misinstance\u001b[0m\u001b[0;34m(\u001b[0m\u001b[0mother\u001b[0m\u001b[0;34m,\u001b[0m \u001b[0mABCSeries\u001b[0m\u001b[0;34m)\u001b[0m\u001b[0;34m:\u001b[0m\u001b[0;34m\u001b[0m\u001b[0;34m\u001b[0m\u001b[0m\n",
            "\u001b[0;32m/usr/local/lib/python3.7/dist-packages/pandas/core/frame.py\u001b[0m in \u001b[0;36m_combine_frame\u001b[0;34m(self, other, func, fill_value)\u001b[0m\n\u001b[1;32m   5868\u001b[0m                 \u001b[0;32mreturn\u001b[0m \u001b[0mfunc\u001b[0m\u001b[0;34m(\u001b[0m\u001b[0mleft\u001b[0m\u001b[0;34m,\u001b[0m \u001b[0mright\u001b[0m\u001b[0;34m)\u001b[0m\u001b[0;34m\u001b[0m\u001b[0;34m\u001b[0m\u001b[0m\n\u001b[1;32m   5869\u001b[0m \u001b[0;34m\u001b[0m\u001b[0m\n\u001b[0;32m-> 5870\u001b[0;31m         \u001b[0mnew_data\u001b[0m \u001b[0;34m=\u001b[0m \u001b[0mops\u001b[0m\u001b[0;34m.\u001b[0m\u001b[0mdispatch_to_series\u001b[0m\u001b[0;34m(\u001b[0m\u001b[0mself\u001b[0m\u001b[0;34m,\u001b[0m \u001b[0mother\u001b[0m\u001b[0;34m,\u001b[0m \u001b[0m_arith_op\u001b[0m\u001b[0;34m)\u001b[0m\u001b[0;34m\u001b[0m\u001b[0;34m\u001b[0m\u001b[0m\n\u001b[0m\u001b[1;32m   5871\u001b[0m         \u001b[0;32mreturn\u001b[0m \u001b[0mnew_data\u001b[0m\u001b[0;34m\u001b[0m\u001b[0;34m\u001b[0m\u001b[0m\n\u001b[1;32m   5872\u001b[0m \u001b[0;34m\u001b[0m\u001b[0m\n",
            "\u001b[0;32m/usr/local/lib/python3.7/dist-packages/pandas/core/ops/__init__.py\u001b[0m in \u001b[0;36mdispatch_to_series\u001b[0;34m(left, right, func, axis)\u001b[0m\n\u001b[1;32m    273\u001b[0m         \u001b[0;31m#  _frame_arith_method_with_reindex\u001b[0m\u001b[0;34m\u001b[0m\u001b[0;34m\u001b[0m\u001b[0;34m\u001b[0m\u001b[0m\n\u001b[1;32m    274\u001b[0m \u001b[0;34m\u001b[0m\u001b[0m\n\u001b[0;32m--> 275\u001b[0;31m         \u001b[0mbm\u001b[0m \u001b[0;34m=\u001b[0m \u001b[0mleft\u001b[0m\u001b[0;34m.\u001b[0m\u001b[0m_mgr\u001b[0m\u001b[0;34m.\u001b[0m\u001b[0moperate_blockwise\u001b[0m\u001b[0;34m(\u001b[0m\u001b[0mright\u001b[0m\u001b[0;34m.\u001b[0m\u001b[0m_mgr\u001b[0m\u001b[0;34m,\u001b[0m \u001b[0marray_op\u001b[0m\u001b[0;34m)\u001b[0m\u001b[0;34m\u001b[0m\u001b[0;34m\u001b[0m\u001b[0m\n\u001b[0m\u001b[1;32m    276\u001b[0m         \u001b[0;32mreturn\u001b[0m \u001b[0mtype\u001b[0m\u001b[0;34m(\u001b[0m\u001b[0mleft\u001b[0m\u001b[0;34m)\u001b[0m\u001b[0;34m(\u001b[0m\u001b[0mbm\u001b[0m\u001b[0;34m)\u001b[0m\u001b[0;34m\u001b[0m\u001b[0;34m\u001b[0m\u001b[0m\n\u001b[1;32m    277\u001b[0m \u001b[0;34m\u001b[0m\u001b[0m\n",
            "\u001b[0;32m/usr/local/lib/python3.7/dist-packages/pandas/core/internals/managers.py\u001b[0m in \u001b[0;36moperate_blockwise\u001b[0;34m(self, other, array_op)\u001b[0m\n\u001b[1;32m    365\u001b[0m         \u001b[0mApply\u001b[0m \u001b[0marray_op\u001b[0m \u001b[0mblockwise\u001b[0m \u001b[0;32mwith\u001b[0m \u001b[0manother\u001b[0m \u001b[0;34m(\u001b[0m\u001b[0maligned\u001b[0m\u001b[0;34m)\u001b[0m \u001b[0mBlockManager\u001b[0m\u001b[0;34m.\u001b[0m\u001b[0;34m\u001b[0m\u001b[0;34m\u001b[0m\u001b[0m\n\u001b[1;32m    366\u001b[0m         \"\"\"\n\u001b[0;32m--> 367\u001b[0;31m         \u001b[0;32mreturn\u001b[0m \u001b[0moperate_blockwise\u001b[0m\u001b[0;34m(\u001b[0m\u001b[0mself\u001b[0m\u001b[0;34m,\u001b[0m \u001b[0mother\u001b[0m\u001b[0;34m,\u001b[0m \u001b[0marray_op\u001b[0m\u001b[0;34m)\u001b[0m\u001b[0;34m\u001b[0m\u001b[0;34m\u001b[0m\u001b[0m\n\u001b[0m\u001b[1;32m    368\u001b[0m \u001b[0;34m\u001b[0m\u001b[0m\n\u001b[1;32m    369\u001b[0m     \u001b[0;32mdef\u001b[0m \u001b[0mapply\u001b[0m\u001b[0;34m(\u001b[0m\u001b[0mself\u001b[0m\u001b[0;34m:\u001b[0m \u001b[0mT\u001b[0m\u001b[0;34m,\u001b[0m \u001b[0mf\u001b[0m\u001b[0;34m,\u001b[0m \u001b[0malign_keys\u001b[0m\u001b[0;34m=\u001b[0m\u001b[0;32mNone\u001b[0m\u001b[0;34m,\u001b[0m \u001b[0;34m**\u001b[0m\u001b[0mkwargs\u001b[0m\u001b[0;34m)\u001b[0m \u001b[0;34m->\u001b[0m \u001b[0mT\u001b[0m\u001b[0;34m:\u001b[0m\u001b[0;34m\u001b[0m\u001b[0;34m\u001b[0m\u001b[0m\n",
            "\u001b[0;32m/usr/local/lib/python3.7/dist-packages/pandas/core/internals/ops.py\u001b[0m in \u001b[0;36moperate_blockwise\u001b[0;34m(left, right, array_op)\u001b[0m\n\u001b[1;32m     36\u001b[0m             \u001b[0mlvals\u001b[0m\u001b[0;34m,\u001b[0m \u001b[0mrvals\u001b[0m \u001b[0;34m=\u001b[0m \u001b[0m_get_same_shape_values\u001b[0m\u001b[0;34m(\u001b[0m\u001b[0mblk\u001b[0m\u001b[0;34m,\u001b[0m \u001b[0mrblk\u001b[0m\u001b[0;34m,\u001b[0m \u001b[0mleft_ea\u001b[0m\u001b[0;34m,\u001b[0m \u001b[0mright_ea\u001b[0m\u001b[0;34m)\u001b[0m\u001b[0;34m\u001b[0m\u001b[0;34m\u001b[0m\u001b[0m\n\u001b[1;32m     37\u001b[0m \u001b[0;34m\u001b[0m\u001b[0m\n\u001b[0;32m---> 38\u001b[0;31m             \u001b[0mres_values\u001b[0m \u001b[0;34m=\u001b[0m \u001b[0marray_op\u001b[0m\u001b[0;34m(\u001b[0m\u001b[0mlvals\u001b[0m\u001b[0;34m,\u001b[0m \u001b[0mrvals\u001b[0m\u001b[0;34m)\u001b[0m\u001b[0;34m\u001b[0m\u001b[0;34m\u001b[0m\u001b[0m\n\u001b[0m\u001b[1;32m     39\u001b[0m             \u001b[0;32mif\u001b[0m \u001b[0mleft_ea\u001b[0m \u001b[0;32mand\u001b[0m \u001b[0;32mnot\u001b[0m \u001b[0mright_ea\u001b[0m \u001b[0;32mand\u001b[0m \u001b[0mhasattr\u001b[0m\u001b[0;34m(\u001b[0m\u001b[0mres_values\u001b[0m\u001b[0;34m,\u001b[0m \u001b[0;34m\"reshape\"\u001b[0m\u001b[0;34m)\u001b[0m\u001b[0;34m:\u001b[0m\u001b[0;34m\u001b[0m\u001b[0;34m\u001b[0m\u001b[0m\n\u001b[1;32m     40\u001b[0m                 \u001b[0mres_values\u001b[0m \u001b[0;34m=\u001b[0m \u001b[0mres_values\u001b[0m\u001b[0;34m.\u001b[0m\u001b[0mreshape\u001b[0m\u001b[0;34m(\u001b[0m\u001b[0;36m1\u001b[0m\u001b[0;34m,\u001b[0m \u001b[0;34m-\u001b[0m\u001b[0;36m1\u001b[0m\u001b[0;34m)\u001b[0m\u001b[0;34m\u001b[0m\u001b[0;34m\u001b[0m\u001b[0m\n",
            "\u001b[0;32m/usr/local/lib/python3.7/dist-packages/pandas/core/ops/array_ops.py\u001b[0m in \u001b[0;36marithmetic_op\u001b[0;34m(left, right, op)\u001b[0m\n\u001b[1;32m    188\u001b[0m     \u001b[0;32melse\u001b[0m\u001b[0;34m:\u001b[0m\u001b[0;34m\u001b[0m\u001b[0;34m\u001b[0m\u001b[0m\n\u001b[1;32m    189\u001b[0m         \u001b[0;32mwith\u001b[0m \u001b[0mnp\u001b[0m\u001b[0;34m.\u001b[0m\u001b[0merrstate\u001b[0m\u001b[0;34m(\u001b[0m\u001b[0mall\u001b[0m\u001b[0;34m=\u001b[0m\u001b[0;34m\"ignore\"\u001b[0m\u001b[0;34m)\u001b[0m\u001b[0;34m:\u001b[0m\u001b[0;34m\u001b[0m\u001b[0;34m\u001b[0m\u001b[0m\n\u001b[0;32m--> 190\u001b[0;31m             \u001b[0mres_values\u001b[0m \u001b[0;34m=\u001b[0m \u001b[0mna_arithmetic_op\u001b[0m\u001b[0;34m(\u001b[0m\u001b[0mlvalues\u001b[0m\u001b[0;34m,\u001b[0m \u001b[0mrvalues\u001b[0m\u001b[0;34m,\u001b[0m \u001b[0mop\u001b[0m\u001b[0;34m)\u001b[0m\u001b[0;34m\u001b[0m\u001b[0;34m\u001b[0m\u001b[0m\n\u001b[0m\u001b[1;32m    191\u001b[0m \u001b[0;34m\u001b[0m\u001b[0m\n\u001b[1;32m    192\u001b[0m     \u001b[0;32mreturn\u001b[0m \u001b[0mres_values\u001b[0m\u001b[0;34m\u001b[0m\u001b[0;34m\u001b[0m\u001b[0m\n",
            "\u001b[0;32m/usr/local/lib/python3.7/dist-packages/pandas/core/ops/array_ops.py\u001b[0m in \u001b[0;36mna_arithmetic_op\u001b[0;34m(left, right, op, is_cmp)\u001b[0m\n\u001b[1;32m    148\u001b[0m             \u001b[0;31m#  will handle complex numbers incorrectly, see GH#32047\u001b[0m\u001b[0;34m\u001b[0m\u001b[0;34m\u001b[0m\u001b[0;34m\u001b[0m\u001b[0m\n\u001b[1;32m    149\u001b[0m             \u001b[0;32mraise\u001b[0m\u001b[0;34m\u001b[0m\u001b[0;34m\u001b[0m\u001b[0m\n\u001b[0;32m--> 150\u001b[0;31m         \u001b[0mresult\u001b[0m \u001b[0;34m=\u001b[0m \u001b[0mmasked_arith_op\u001b[0m\u001b[0;34m(\u001b[0m\u001b[0mleft\u001b[0m\u001b[0;34m,\u001b[0m \u001b[0mright\u001b[0m\u001b[0;34m,\u001b[0m \u001b[0mop\u001b[0m\u001b[0;34m)\u001b[0m\u001b[0;34m\u001b[0m\u001b[0;34m\u001b[0m\u001b[0m\n\u001b[0m\u001b[1;32m    151\u001b[0m \u001b[0;34m\u001b[0m\u001b[0m\n\u001b[1;32m    152\u001b[0m     \u001b[0;32mif\u001b[0m \u001b[0mis_cmp\u001b[0m \u001b[0;32mand\u001b[0m \u001b[0;34m(\u001b[0m\u001b[0mis_scalar\u001b[0m\u001b[0;34m(\u001b[0m\u001b[0mresult\u001b[0m\u001b[0;34m)\u001b[0m \u001b[0;32mor\u001b[0m \u001b[0mresult\u001b[0m \u001b[0;32mis\u001b[0m \u001b[0mNotImplemented\u001b[0m\u001b[0;34m)\u001b[0m\u001b[0;34m:\u001b[0m\u001b[0;34m\u001b[0m\u001b[0;34m\u001b[0m\u001b[0m\n",
            "\u001b[0;32m/usr/local/lib/python3.7/dist-packages/pandas/core/ops/array_ops.py\u001b[0m in \u001b[0;36mmasked_arith_op\u001b[0;34m(x, y, op)\u001b[0m\n\u001b[1;32m     90\u001b[0m         \u001b[0;32mif\u001b[0m \u001b[0mmask\u001b[0m\u001b[0;34m.\u001b[0m\u001b[0many\u001b[0m\u001b[0;34m(\u001b[0m\u001b[0;34m)\u001b[0m\u001b[0;34m:\u001b[0m\u001b[0;34m\u001b[0m\u001b[0;34m\u001b[0m\u001b[0m\n\u001b[1;32m     91\u001b[0m             \u001b[0;32mwith\u001b[0m \u001b[0mnp\u001b[0m\u001b[0;34m.\u001b[0m\u001b[0merrstate\u001b[0m\u001b[0;34m(\u001b[0m\u001b[0mall\u001b[0m\u001b[0;34m=\u001b[0m\u001b[0;34m\"ignore\"\u001b[0m\u001b[0;34m)\u001b[0m\u001b[0;34m:\u001b[0m\u001b[0;34m\u001b[0m\u001b[0;34m\u001b[0m\u001b[0m\n\u001b[0;32m---> 92\u001b[0;31m                 \u001b[0mresult\u001b[0m\u001b[0;34m[\u001b[0m\u001b[0mmask\u001b[0m\u001b[0;34m]\u001b[0m \u001b[0;34m=\u001b[0m \u001b[0mop\u001b[0m\u001b[0;34m(\u001b[0m\u001b[0mxrav\u001b[0m\u001b[0;34m[\u001b[0m\u001b[0mmask\u001b[0m\u001b[0;34m]\u001b[0m\u001b[0;34m,\u001b[0m \u001b[0myrav\u001b[0m\u001b[0;34m[\u001b[0m\u001b[0mmask\u001b[0m\u001b[0;34m]\u001b[0m\u001b[0;34m)\u001b[0m\u001b[0;34m\u001b[0m\u001b[0;34m\u001b[0m\u001b[0m\n\u001b[0m\u001b[1;32m     93\u001b[0m \u001b[0;34m\u001b[0m\u001b[0m\n\u001b[1;32m     94\u001b[0m     \u001b[0;32melse\u001b[0m\u001b[0;34m:\u001b[0m\u001b[0;34m\u001b[0m\u001b[0;34m\u001b[0m\u001b[0m\n",
            "\u001b[0;31mTypeError\u001b[0m: unsupported operand type(s) for /: 'str' and 'str'"
          ]
        }
      ]
    },
    {
      "cell_type": "code",
      "metadata": {
        "colab": {
          "base_uri": "https://localhost:8080/",
          "height": 197
        },
        "id": "8V6kFrbzhzg9",
        "outputId": "367d6abd-417f-4cec-b507-d7d9f4655f23"
      },
      "source": [
        "assets = pd.concat([ind_er, ann_sd], axis=1) # Creating a table for visualising returns and volatility of assets\n",
        "assets.columns = ['Returns', 'Volatility']\n",
        "assets"
      ],
      "execution_count": 180,
      "outputs": [
        {
          "output_type": "error",
          "ename": "NameError",
          "evalue": "ignored",
          "traceback": [
            "\u001b[0;31m---------------------------------------------------------------------------\u001b[0m",
            "\u001b[0;31mNameError\u001b[0m                                 Traceback (most recent call last)",
            "\u001b[0;32m<ipython-input-180-07d2a16958d2>\u001b[0m in \u001b[0;36m<module>\u001b[0;34m()\u001b[0m\n\u001b[0;32m----> 1\u001b[0;31m \u001b[0massets\u001b[0m \u001b[0;34m=\u001b[0m \u001b[0mpd\u001b[0m\u001b[0;34m.\u001b[0m\u001b[0mconcat\u001b[0m\u001b[0;34m(\u001b[0m\u001b[0;34m[\u001b[0m\u001b[0mind_er\u001b[0m\u001b[0;34m,\u001b[0m \u001b[0mann_sd\u001b[0m\u001b[0;34m]\u001b[0m\u001b[0;34m,\u001b[0m \u001b[0maxis\u001b[0m\u001b[0;34m=\u001b[0m\u001b[0;36m1\u001b[0m\u001b[0;34m)\u001b[0m \u001b[0;31m# Creating a table for visualising returns and volatility of assets\u001b[0m\u001b[0;34m\u001b[0m\u001b[0;34m\u001b[0m\u001b[0m\n\u001b[0m\u001b[1;32m      2\u001b[0m \u001b[0massets\u001b[0m\u001b[0;34m.\u001b[0m\u001b[0mcolumns\u001b[0m \u001b[0;34m=\u001b[0m \u001b[0;34m[\u001b[0m\u001b[0;34m'Returns'\u001b[0m\u001b[0;34m,\u001b[0m \u001b[0;34m'Volatility'\u001b[0m\u001b[0;34m]\u001b[0m\u001b[0;34m\u001b[0m\u001b[0;34m\u001b[0m\u001b[0m\n\u001b[1;32m      3\u001b[0m \u001b[0massets\u001b[0m\u001b[0;34m\u001b[0m\u001b[0;34m\u001b[0m\u001b[0m\n",
            "\u001b[0;31mNameError\u001b[0m: name 'ind_er' is not defined"
          ]
        }
      ]
    },
    {
      "cell_type": "code",
      "metadata": {
        "id": "bImIuufGhqfk"
      },
      "source": [
        "p_ret = [] # Define an empty array for portfolio returns\n",
        "p_vol = [] # Define an empty array for portfolio volatility\n",
        "p_weights = [] # Define an empty array for asset weights\n",
        "\n",
        "num_assets = len(df.columns)\n",
        "num_portfolios = 10000"
      ],
      "execution_count": 177,
      "outputs": []
    },
    {
      "cell_type": "code",
      "metadata": {
        "colab": {
          "base_uri": "https://localhost:8080/",
          "height": 231
        },
        "id": "CLzbZzf5hpwE",
        "outputId": "a75b7ba7-0c61-4c35-e9d9-326a89d85143"
      },
      "source": [
        "for portfolio in range(num_portfolios):\n",
        "    weights = np.random.random(num_assets)\n",
        "    weights = weights/np.sum(weights)\n",
        "    p_weights.append(weights)\n",
        "    returns = np.dot(weights, ind_er) # Returns are the product of individual expected returns of asset and its \n",
        "                                      # weights \n",
        "    p_ret.append(returns)\n",
        "    var = cov_matrix.mul(weights, axis=0).mul(weights, axis=1).sum().sum()# Portfolio Variance\n",
        "    sd = np.sqrt(var) # Daily standard deviation\n",
        "    ann_sd = sd*np.sqrt(250) # Annual standard deviation = volatility\n",
        "    p_vol.append(ann_sd)"
      ],
      "execution_count": 178,
      "outputs": [
        {
          "output_type": "error",
          "ename": "NameError",
          "evalue": "ignored",
          "traceback": [
            "\u001b[0;31m---------------------------------------------------------------------------\u001b[0m",
            "\u001b[0;31mNameError\u001b[0m                                 Traceback (most recent call last)",
            "\u001b[0;32m<ipython-input-178-3e8ceef17e55>\u001b[0m in \u001b[0;36m<module>\u001b[0;34m()\u001b[0m\n\u001b[1;32m      3\u001b[0m     \u001b[0mweights\u001b[0m \u001b[0;34m=\u001b[0m \u001b[0mweights\u001b[0m\u001b[0;34m/\u001b[0m\u001b[0mnp\u001b[0m\u001b[0;34m.\u001b[0m\u001b[0msum\u001b[0m\u001b[0;34m(\u001b[0m\u001b[0mweights\u001b[0m\u001b[0;34m)\u001b[0m\u001b[0;34m\u001b[0m\u001b[0;34m\u001b[0m\u001b[0m\n\u001b[1;32m      4\u001b[0m     \u001b[0mp_weights\u001b[0m\u001b[0;34m.\u001b[0m\u001b[0mappend\u001b[0m\u001b[0;34m(\u001b[0m\u001b[0mweights\u001b[0m\u001b[0;34m)\u001b[0m\u001b[0;34m\u001b[0m\u001b[0;34m\u001b[0m\u001b[0m\n\u001b[0;32m----> 5\u001b[0;31m     \u001b[0mreturns\u001b[0m \u001b[0;34m=\u001b[0m \u001b[0mnp\u001b[0m\u001b[0;34m.\u001b[0m\u001b[0mdot\u001b[0m\u001b[0;34m(\u001b[0m\u001b[0mweights\u001b[0m\u001b[0;34m,\u001b[0m \u001b[0mind_er\u001b[0m\u001b[0;34m)\u001b[0m \u001b[0;31m# Returns are the product of individual expected returns of asset and its\u001b[0m\u001b[0;34m\u001b[0m\u001b[0;34m\u001b[0m\u001b[0m\n\u001b[0m\u001b[1;32m      6\u001b[0m                                       \u001b[0;31m# weights\u001b[0m\u001b[0;34m\u001b[0m\u001b[0;34m\u001b[0m\u001b[0;34m\u001b[0m\u001b[0m\n\u001b[1;32m      7\u001b[0m     \u001b[0mp_ret\u001b[0m\u001b[0;34m.\u001b[0m\u001b[0mappend\u001b[0m\u001b[0;34m(\u001b[0m\u001b[0mreturns\u001b[0m\u001b[0;34m)\u001b[0m\u001b[0;34m\u001b[0m\u001b[0;34m\u001b[0m\u001b[0m\n",
            "\u001b[0;31mNameError\u001b[0m: name 'ind_er' is not defined"
          ]
        }
      ]
    },
    {
      "cell_type": "code",
      "metadata": {
        "id": "rbo5wIdVhlLU"
      },
      "source": [
        "data = {'Returns':p_ret, 'Volatility':p_vol}\n",
        "\n",
        "for counter, symbol in enumerate(df.columns.tolist()):\n",
        "    #print(counter, symbol)\n",
        "    data[symbol+' weight'] = [w[counter] for w in p_weights]"
      ],
      "execution_count": null,
      "outputs": []
    },
    {
      "cell_type": "code",
      "metadata": {
        "id": "E0FeE-gghhwA"
      },
      "source": [
        "portfolios  = pd.DataFrame(data)\n",
        "portfolios.head() # Dataframe of the 10000 portfolios created"
      ],
      "execution_count": null,
      "outputs": []
    },
    {
      "cell_type": "code",
      "metadata": {
        "id": "O5ieRc5lj_I-"
      },
      "source": [
        "# YOUR CODE HERE\n",
        "# Plot efficient frontier\n",
        "portfolios.plot.scatter(x='Volatility', y='Returns', marker='o', s=10, alpha=0.3, grid=True, figsize=[10,10])"
      ],
      "execution_count": null,
      "outputs": []
    },
    {
      "cell_type": "markdown",
      "metadata": {
        "id": "wHWhOMDK3ooC"
      },
      "source": [
        "### Report Analysis\n",
        "\n",
        "* Try with a subset of assets and comment on diversification ratio\n",
        "\n",
        "* Comment on the portfolio that consists of assets with highest return (irrespective of risk)\n",
        "\n",
        "* Discuss the optimized portfolio and weights of the assets\n",
        "\n",
        "* Based on K-Means clusters, find the subset of assets which is exhibiting greater sharpe ratio\n"
      ]
    }
  ]
}