{
  "nbformat": 4,
  "nbformat_minor": 0,
  "metadata": {
    "coursera": {
      "course_slug": "python-machine-learning",
      "graded_item_id": "eWYHL",
      "launcher_item_id": "BAqef",
      "part_id": "fXXRp"
    },
    "kernelspec": {
      "display_name": "Python 3",
      "language": "python",
      "name": "python3"
    },
    "language_info": {
      "codemirror_mode": {
        "name": "ipython",
        "version": 3
      },
      "file_extension": ".py",
      "mimetype": "text/x-python",
      "name": "python",
      "nbconvert_exporter": "python",
      "pygments_lexer": "ipython3",
      "version": "3.7.1"
    },
    "colab": {
      "name": "BCW_Model_Building_Evaluation_Part3.ipynb",
      "provenance": [],
      "include_colab_link": true
    }
  },
  "cells": [
    {
      "cell_type": "markdown",
      "metadata": {
        "id": "view-in-github",
        "colab_type": "text"
      },
      "source": [
        "<a href=\"https://colab.research.google.com/github/Vinsocf/CapstoneProject/blob/main/BCW_Model_Building_Evaluation_Part3.ipynb\" target=\"_parent\"><img src=\"https://colab.research.google.com/assets/colab-badge.svg\" alt=\"Open In Colab\"/></a>"
      ]
    },
    {
      "cell_type": "code",
      "metadata": {
        "id": "QH0YC9MHfRde",
        "outputId": "aba83d64-be60-4459-d16d-38cda29a5780",
        "colab": {
          "base_uri": "https://localhost:8080/"
        }
      },
      "source": [
        "pip install catboost"
      ],
      "execution_count": 100,
      "outputs": [
        {
          "output_type": "stream",
          "name": "stdout",
          "text": [
            "Requirement already satisfied: catboost in /usr/local/lib/python3.7/dist-packages (1.0.0)\n",
            "Requirement already satisfied: numpy>=1.16.0 in /usr/local/lib/python3.7/dist-packages (from catboost) (1.19.5)\n",
            "Requirement already satisfied: matplotlib in /usr/local/lib/python3.7/dist-packages (from catboost) (3.2.2)\n",
            "Requirement already satisfied: six in /usr/local/lib/python3.7/dist-packages (from catboost) (1.15.0)\n",
            "Requirement already satisfied: graphviz in /usr/local/lib/python3.7/dist-packages (from catboost) (0.10.1)\n",
            "Requirement already satisfied: pandas>=0.24.0 in /usr/local/lib/python3.7/dist-packages (from catboost) (1.1.5)\n",
            "Requirement already satisfied: scipy in /usr/local/lib/python3.7/dist-packages (from catboost) (1.4.1)\n",
            "Requirement already satisfied: plotly in /usr/local/lib/python3.7/dist-packages (from catboost) (4.4.1)\n",
            "Requirement already satisfied: pytz>=2017.2 in /usr/local/lib/python3.7/dist-packages (from pandas>=0.24.0->catboost) (2018.9)\n",
            "Requirement already satisfied: python-dateutil>=2.7.3 in /usr/local/lib/python3.7/dist-packages (from pandas>=0.24.0->catboost) (2.8.2)\n",
            "Requirement already satisfied: kiwisolver>=1.0.1 in /usr/local/lib/python3.7/dist-packages (from matplotlib->catboost) (1.3.2)\n",
            "Requirement already satisfied: pyparsing!=2.0.4,!=2.1.2,!=2.1.6,>=2.0.1 in /usr/local/lib/python3.7/dist-packages (from matplotlib->catboost) (2.4.7)\n",
            "Requirement already satisfied: cycler>=0.10 in /usr/local/lib/python3.7/dist-packages (from matplotlib->catboost) (0.10.0)\n",
            "Requirement already satisfied: retrying>=1.3.3 in /usr/local/lib/python3.7/dist-packages (from plotly->catboost) (1.3.3)\n"
          ]
        }
      ]
    },
    {
      "cell_type": "code",
      "metadata": {
        "id": "q499l9yqgTHI"
      },
      "source": [
        "import platform\n",
        "\n",
        "import warnings\n",
        "warnings.filterwarnings('ignore')\n",
        "import numpy as np\n",
        "import pandas as pd\n",
        "#from imblearn.over_sampling import SMOTE\n",
        "#from tabulate import tabulate\n",
        "import itertools\n",
        "import seaborn as sns\n",
        "from copy import copy\n",
        "from sklearn.externals import joblib\n",
        "from sklearn.feature_selection import VarianceThreshold\n",
        "from sklearn.feature_selection import SelectPercentile, f_classif\n",
        "from sklearn.linear_model import LogisticRegression\n",
        "from sklearn.ensemble import GradientBoostingClassifier\n",
        "from sklearn.tree import DecisionTreeClassifier\n",
        "from sklearn.ensemble import RandomForestClassifier\n",
        "from sklearn.ensemble import ExtraTreesClassifier, GradientBoostingClassifier\n",
        "from sklearn.naive_bayes import BernoulliNB\n",
        "from sklearn.preprocessing import MaxAbsScaler\n",
        "from sklearn.preprocessing import Normalizer, RobustScaler\n",
        "import sklearn\n",
        "from sklearn.externals import joblib\n",
        "from sklearn.feature_selection import RFE\n",
        "from sklearn.pipeline import make_pipeline\n",
        "from sklearn.preprocessing import PolynomialFeatures\n",
        "from sklearn.preprocessing import Normalizer, FunctionTransformer\n",
        "from sklearn.kernel_approximation import Nystroem\n",
        "from sklearn.model_selection import train_test_split\n",
        "#import sklearn.model_selection.StratifiedKFold\n",
        "from sklearn import metrics\n",
        "from sklearn.metrics import roc_auc_score, roc_curve, classification_report\n",
        "from sklearn.metrics import confusion_matrix, accuracy_score, mean_squared_error\n",
        "from sklearn.metrics import f1_score, precision_score, recall_score, log_loss, r2_score\n",
        "from sklearn.metrics import precision_recall_curve\n",
        "from sklearn.svm import SVC\n",
        "from sklearn.pipeline import make_pipeline, make_union\n",
        "from sklearn.preprocessing import MinMaxScaler\n",
        "from sklearn.preprocessing import StandardScaler"
      ],
      "execution_count": 101,
      "outputs": []
    },
    {
      "cell_type": "code",
      "metadata": {
        "id": "Et-fat6AgTHJ"
      },
      "source": [
        "# notice: installing imblearn might takes a few minutes\n",
        "#!conda install -c anaconda imblearn -y"
      ],
      "execution_count": 102,
      "outputs": []
    },
    {
      "cell_type": "code",
      "metadata": {
        "id": "RWiiCmcrgTHJ"
      },
      "source": [
        "# notice: installing tabulate might takes a few minutes\n",
        "#!conda install -c anaconda tabulate -y"
      ],
      "execution_count": 103,
      "outputs": []
    },
    {
      "cell_type": "markdown",
      "metadata": {
        "id": "DvNtoTIegTHK"
      },
      "source": [
        "### 1. The LoadData routiine is used to read dataset, and create training and testing datasets"
      ]
    },
    {
      "cell_type": "code",
      "metadata": {
        "id": "ntFA_l4ygTHK"
      },
      "source": [
        "def LoadData():\n",
        "    global feature_names, response_name, n_features, model_full  \n",
        "    model_full = pd.read_csv('https://raw.githubusercontent.com/Vinsocf/emotions/main/Wisconsin-bc-data.csv')\n",
        "        \n",
        "    # we change the class values (at the column number 2) from B to 0 and from M to 1\n",
        "    model_full.iloc[:,1].replace('B', 0,inplace=True)\n",
        "    model_full.iloc[:,1].replace('M', 1,inplace=True)\n",
        "    response_name = ['diagnosis']\n",
        "    drop_list = ['Unnamed: 32','id','diagnosis']\n",
        "    model_full_x= model_full.drop(drop_list,axis = 1)\n",
        "    X = model_full_x\n",
        "    y = model_full.diagnosis\n",
        "    \n",
        "    X_train, X_test, y_train, y_test = train_test_split(X,\n",
        "                                                        y,\n",
        "                                                        test_size = 0.3,\n",
        "                                                        random_state = 12345)\n",
        "    return X_train, y_train, X_test, y_test"
      ],
      "execution_count": 104,
      "outputs": []
    },
    {
      "cell_type": "markdown",
      "metadata": {
        "id": "ugUJ-COagTHK"
      },
      "source": [
        "### Features selected from Part 2 "
      ]
    },
    {
      "cell_type": "code",
      "metadata": {
        "id": "oCvUvsvzgTHL"
      },
      "source": [
        "# 1. Feature selection with correlation (16)\n",
        "fs_corr = ['texture_mean', 'area_mean', 'smoothness_mean', 'concavity_mean','symmetry_mean',\n",
        "                     'fractal_dimension_mean', 'texture_se', 'area_se','smoothness_se', 'concavity_se',\n",
        "                     'symmetry_se', 'fractal_dimension_se','smoothness_worst', 'concavity_worst', \n",
        "                     'symmetry_worst', 'fractal_dimension_worst']\n",
        "    \n",
        "    # 2. Univariate feature selection SelectKBest, chi2\n",
        "fs_chi2 = ['texture_mean', 'area_mean', 'concavity_mean', 'symmetry_mean', 'area_se', \n",
        "                     'concavity_se', 'smoothness_worst', 'concavity_worst', 'symmetry_worst', \n",
        "                     'fractal_dimension_worst']\n",
        "    \n",
        "    # 3. Recursive feature elimination (RFE) with random forest\n",
        "fs_rfe = ['texture_mean', 'area_mean', 'smoothness_mean', 'concavity_mean', 'area_se', \n",
        "              'smoothness_se', 'concavity_se', 'smoothness_worst', 'concavity_worst', 'symmetry_worst']\n",
        "    \n",
        "    # 4. Recursive feature elimination with cross validation(RFECV) with random forest\n",
        "fs_rfecv = ['texture_mean', 'area_mean', 'smoothness_mean', 'concavity_mean','fractal_dimension_mean'\n",
        "                , 'area_se', 'concavity_se', 'concavity_worst', 'symmetry_worst']\n",
        "    \n",
        "    # 5. Tree based feature selection with random forest classification\n",
        "fs_rf = ['texture_mean', 'area_mean', 'concavity_mean', 'area_se', 'concavity_se', \n",
        "             'fractal_dimension_se', 'smoothness_worst','concavity_worst', 'symmetry_worst', \n",
        "             'fractal_dimension_worst']\n",
        "    \n",
        "    # 6. ExtraTree based feature selection \n",
        "fs_extraTree = ['texture_mean', 'area_mean', 'concavity_mean', 'fractal_dimension_mean', 'area_se', \n",
        "                    'concavity_se','smoothness_worst', 'concavity_worst', \n",
        "                    'symmetry_worst','fractal_dimension_worst']\n",
        "    \n",
        "    # 7. L1 feature selection (LinearSVC)\n",
        "fs_l1 = ['texture_mean', 'area_mean', 'area_se']\n",
        "    \n",
        "    # 8. Vote based feature selection\n",
        "fs_voted = ['texture_mean',  'area_mean',  'smoothness_mean',  'concavity_mean',  \n",
        "                     'fractal_dimension_mean',  'area_se',  'concavity_se',  'smoothness_worst',  \n",
        "                     'concavity_worst',  'symmetry_worst',  'fractal_dimension_worst']\n",
        "    "
      ],
      "execution_count": 105,
      "outputs": []
    },
    {
      "cell_type": "code",
      "metadata": {
        "id": "YZLG1uDHgTHM"
      },
      "source": [
        "x_train, y_train, x_test, y_test = LoadData()"
      ],
      "execution_count": 106,
      "outputs": []
    },
    {
      "cell_type": "markdown",
      "metadata": {
        "id": "_wEfv4i9gTHM"
      },
      "source": [
        "# Uncomment for feature selection method"
      ]
    },
    {
      "cell_type": "code",
      "metadata": {
        "id": "YlA8pybrgTHM"
      },
      "source": [
        "# Correlation\n",
        "X_train = x_train[fs_corr]\n",
        "X_test = x_test[fs_corr]\n",
        "\n",
        "# Chi2\n",
        "#X_train = x_train[fs_chi2]\n",
        "#X_test = x_test[fs_chi2]\n",
        "\n",
        "# RFE\n",
        "#X_train = x_train[fs_rfe]\n",
        "#X_test = x_test[fs_rfe]\n",
        "\n",
        "# RFECV\n",
        "#X_train = x_train[fs_rfecv]\n",
        "#X_test = x_test[fs_rfecv]\n",
        "\n",
        "# RF\n",
        "#X_train = x_train[fs_rf]\n",
        "#X_test = x_test[fs_rf]\n",
        "\n",
        "# Extra Trees\n",
        "#X_train = x_train[fs_extraTree]\n",
        "#X_test = x_test[fs_extraTree]\n",
        "\n",
        "# l1\n",
        "#X_train = x_train[fs_l1]\n",
        "#X_test = x_test[fs_l1]\n",
        "\n",
        "# Voted\n",
        "#X_train = x_train[fs_voted]\n",
        "#X_test = x_test[fs_voted]\n",
        "\n",
        "# scaling data\n",
        "scale = StandardScaler()\n",
        "X_train = scale.fit_transform(X_train)\n",
        "X_test = scale.fit_transform(X_test)"
      ],
      "execution_count": 107,
      "outputs": []
    },
    {
      "cell_type": "code",
      "metadata": {
        "colab": {
          "base_uri": "https://localhost:8080/"
        },
        "id": "01AwzAeWgTHN",
        "outputId": "7a11eb1f-b279-461c-9e7f-c9e26326ea5c"
      },
      "source": [
        "print('Size of data:')\n",
        "print ('The train data has {0} rows and {1} columns'.format(X_train.shape[0],X_train.shape[1]))\n",
        "print ('----------------------------')\n",
        "print ('The test data has {0} rows and {1} columns'.format(X_test.shape[0],X_test.shape[1]))"
      ],
      "execution_count": 108,
      "outputs": [
        {
          "output_type": "stream",
          "name": "stdout",
          "text": [
            "Size of data:\n",
            "The train data has 398 rows and 16 columns\n",
            "----------------------------\n",
            "The test data has 171 rows and 16 columns\n"
          ]
        }
      ]
    },
    {
      "cell_type": "markdown",
      "metadata": {
        "id": "hgGhAKjPgTHN"
      },
      "source": [
        "###  Plot the ROC_Curve and Precision-Recall curve. "
      ]
    },
    {
      "cell_type": "code",
      "metadata": {
        "id": "V7ju9D6IgTHO"
      },
      "source": [
        "def Plot_ROC_Precision_Recall(label):\n",
        "    class_names = [0, 1]\n",
        "    fig, (left, right) = plt.subplots(nrows=1, ncols=2, figsize=(10, 5))\n",
        "\n",
        "    plt.subplot(1, 2, 1)\n",
        "    plt.plot([0, 1], [0, 1], 'k--')\n",
        "    plt.plot(false_positive_rate, true_positive_rate, color='darkorange', label=label)\n",
        "    plt.xlabel('False positive rate')\n",
        "    plt.ylabel('True positive rate')\n",
        "    plt.title('ROC curve (area = %0.7f)' % auc)\n",
        "    plt.legend(loc='best')\n",
        "\n",
        "    plt.subplot(1, 2, 2)\n",
        "    precision, recall, _ = precision_recall_curve(y_test, y_probabilities_success)\n",
        "\n",
        "    plt.step(recall, precision, color='b', alpha=0.2, where='post')\n",
        "    plt.fill_between(recall, precision, step='post', alpha=0.2, color='b')\n",
        "\n",
        "    plt.xlabel('Recall')\n",
        "    plt.ylabel('Precision')\n",
        "    plt.ylim([0.0, 1.05])\n",
        "    plt.xlim([0.0, 1.0])\n",
        "    plt.title('Precision-Recall curve: AP={0:0.2f}'.format(average_precision))\n",
        "\n",
        "    plt.tight_layout()\n",
        "    plt.show()"
      ],
      "execution_count": 109,
      "outputs": []
    },
    {
      "cell_type": "markdown",
      "metadata": {
        "id": "BuZMEqoAgTHO"
      },
      "source": [
        "### This routine is used to plot the predictor (a.k.a feature) importances. "
      ]
    },
    {
      "cell_type": "code",
      "metadata": {
        "id": "jd5emGFlgTHO"
      },
      "source": [
        "def Plot_Predictor_Importance(logisticRegression = True):\n",
        "    if(logisticRegression):\n",
        "        feature_importance = best_model.feature_importances_\n",
        "        feature_importance = 100.0 * (feature_importance / feature_importance.max())\n",
        "        sorted_idx = np.argsort(feature_importance)\n",
        "        y_pos = np.arange(sorted_idx.shape[0]) + .5\n",
        "        fig, ax = plt.subplots()\n",
        "        fig.set_size_inches(8, 5)\n",
        "        ax.barh(y_pos, feature_importance[sorted_idx], align='center', color='green', ecolor='black', height=0.5)\n",
        "        ax.set_yticks(y_pos)\n",
        "        ax.set_yticklabels(feature_names)\n",
        "        ax.invert_yaxis()\n",
        "        ax.set_xlabel('Relative Importance')\n",
        "        ax.set_title('Predictor Importance')\n",
        "        plt.show()"
      ],
      "execution_count": 110,
      "outputs": []
    },
    {
      "cell_type": "markdown",
      "metadata": {
        "id": "xGksf0_igTHO"
      },
      "source": [
        "### This routine is used to summarize the metrics for the model."
      ]
    },
    {
      "cell_type": "code",
      "metadata": {
        "id": "DlZgWVQLgTHO"
      },
      "source": [
        "def Print_Model_Metrics(algoName):\n",
        "    global testPerformanceData\n",
        "    true_negative  = cm[0, 0]\n",
        "    true_positive  = cm[1, 1]\n",
        "    false_negative = cm[1, 0]\n",
        "    false_positive = cm[0, 1]\n",
        "    total = true_negative + true_positive + false_negative + false_positive\n",
        "\n",
        "    accuracy_ = (true_positive + true_negative)/total\n",
        "    precision_ = (true_positive)/(true_positive + false_positive)\n",
        "    recall_ = (true_positive)/(true_positive + false_negative)\n",
        "    misclassification_rate = (false_positive + false_negative)/total\n",
        "    F1_ = (2*true_positive)/(2*true_positive + false_positive + false_negative)\n",
        "    assert accuracy == accuracy_, \"accuracy score does not agree\"\n",
        "    assert precision == precision_, \"precision score does not agree\"\n",
        "    assert recall == recall_, \"recall score does not agree\"\n",
        "    assert round(F1,6) == round(F1_,6), \"F1: \" + str(F1) + \" != F1_: \" + str(F1_)\n",
        "\n",
        "    header = [\"Metric\", \"Testing Performance\"]\n",
        "    table = [[\"accuracy\",               accuracy],\n",
        "             [\"precision\",              precision],\n",
        "             [\"recall\",                 recall],\n",
        "             [\"misclassification rate\", misclassification_rate],\n",
        "             [\"F1\",                     F1],\n",
        "             [\"r2\",                     r2],\n",
        "             [\"AUC\",                    auc],\n",
        "             [\"mse\",                    mse],\n",
        "             [\"logloss\",                logloss]\n",
        "            ]\n",
        "\n",
        "    print(tabulate(table, header, tablefmt=\"fancy_grid\"))\n",
        "    testPerformanceData = testPerformanceData.append({'Algorithm' : algoName,'Accuracy' : accuracy,'AUC' : auc,'Precision' : precision,'Recall' : recall,'F1' : F1},ignore_index = True)"
      ],
      "execution_count": 111,
      "outputs": []
    },
    {
      "cell_type": "markdown",
      "metadata": {
        "id": "5S_m8OKLgTHP"
      },
      "source": [
        "### This routine plots the confusion matrix. "
      ]
    },
    {
      "cell_type": "code",
      "metadata": {
        "id": "nlUxvyHTgTHP"
      },
      "source": [
        "def Plot_Confusion_Matrix(best_model):\n",
        "    cmap = plt.cm.Blues\n",
        "    plt.imshow(cm, interpolation='nearest', cmap=cmap)\n",
        "    title='Confusion matrix (on test data)'\n",
        "    classes = [0, 1]\n",
        "    plt.title(title)\n",
        "    plt.colorbar()\n",
        "    tick_marks = np.arange(len(classes))\n",
        "    plt.xticks(tick_marks, classes, rotation=0)\n",
        "    plt.yticks(tick_marks, classes)\n",
        "\n",
        "    thresh = cm.max() / 2.\n",
        "    for i, j in itertools.product(range(cm.shape[0]), range(cm.shape[1])):\n",
        "        plt.text(j, i, cm[i, j],\n",
        "                 horizontalalignment=\"center\",\n",
        "                 color=\"white\" if cm[i, j] > thresh else \"black\")\n",
        "\n",
        "    plt.tight_layout()\n",
        "    plt.ylabel('True label')\n",
        "    plt.xlabel('Predicted label')\n",
        "\n",
        "    c_report = classification_report(y_test, y_predicted_test)\n",
        "    print('\\nClassification report:\\n', c_report)\n",
        "\n",
        "    ntotal = len(y_test)\n",
        "    correct = y_test == y_predicted_test\n",
        "    numCorrect = sum(correct)\n",
        "    percent = round( (100.0*numCorrect)/ntotal, 6)\n",
        "    print(\"\\nCorrect classifications on test data: {0:d}/{1:d} {2:8.3f}%\".format(numCorrect,\n",
        "                                                                                 ntotal,\n",
        "                                                                                 percent))\n",
        "    prediction_score = 100.0*best_model.score(X_test, y_test)\n",
        "    assert (round(percent,3) == round(prediction_score, 3)), \"prediction score does not agree\""
      ],
      "execution_count": 112,
      "outputs": []
    },
    {
      "cell_type": "code",
      "metadata": {
        "id": "yBskWQRAgTHP"
      },
      "source": [
        "def dataPreProc(fs):\n",
        "    X_train, y_train, X_test, y_test = LoadData(fs)\n",
        "    seed = 7\n",
        "    np.random.seed(seed)\n",
        "    # scaling data\n",
        "    scale = StandardScaler()\n",
        "    X_tr = scale.fit_transform(X_train)\n",
        "    X_te = scale.fit_transform(X_test)\n",
        "    return X_tr, X_te"
      ],
      "execution_count": 113,
      "outputs": []
    },
    {
      "cell_type": "code",
      "metadata": {
        "id": "5Pne2b9LgTHP"
      },
      "source": [
        "from datetime import datetime\n",
        "def timer(start_time=None):\n",
        "    if not start_time:\n",
        "        start_time = datetime.now()\n",
        "        return start_time\n",
        "    elif start_time:\n",
        "        thour, temp_sec = divmod((datetime.now() - start_time).total_seconds(), 3600)\n",
        "        tmin, tsec = divmod(temp_sec, 60)\n",
        "        print('\\n Time taken: %i hours %i minutes and %s seconds.' % (thour, tmin, round(tsec, 2)))"
      ],
      "execution_count": 114,
      "outputs": []
    },
    {
      "cell_type": "code",
      "metadata": {
        "id": "MFymsn4ggTHQ"
      },
      "source": [
        "def best_mdl():\n",
        "    print('\\n Best estimator:')\n",
        "    print(model.best_estimator_)\n",
        "    print('\\n Best score:')\n",
        "    print(model.best_score_ * 2 - 1)\n",
        "    print('\\n Best parameters:')\n",
        "    print(model.best_params_)\n",
        "    results = pd.DataFrame(model.cv_results_)\n",
        "    print('\\n CV results:')\n",
        "    print(results.head())\n",
        "    #best_model = results.best_estimator_\n",
        "    best_model = model_result.best_estimator_\n",
        "    return best_model"
      ],
      "execution_count": 115,
      "outputs": []
    },
    {
      "cell_type": "markdown",
      "metadata": {
        "id": "DFIuL__QgTHQ"
      },
      "source": [
        "### Exploratory Data Analysis"
      ]
    },
    {
      "cell_type": "code",
      "metadata": {
        "id": "WiCo-OIcgTHQ"
      },
      "source": [
        "import seaborn as sns\n",
        "import matplotlib.pyplot as plt\n",
        "%matplotlib inline"
      ],
      "execution_count": 116,
      "outputs": []
    },
    {
      "cell_type": "code",
      "metadata": {
        "colab": {
          "base_uri": "https://localhost:8080/",
          "height": 243
        },
        "id": "ftB2g0fGgTHQ",
        "outputId": "6800dd45-1561-4fd3-c977-e22cfb7df87b"
      },
      "source": [
        "#X_train, y_train, X_test, y_test = LoadData()\n",
        "model_full.head()"
      ],
      "execution_count": 117,
      "outputs": [
        {
          "output_type": "execute_result",
          "data": {
            "text/html": [
              "<div>\n",
              "<style scoped>\n",
              "    .dataframe tbody tr th:only-of-type {\n",
              "        vertical-align: middle;\n",
              "    }\n",
              "\n",
              "    .dataframe tbody tr th {\n",
              "        vertical-align: top;\n",
              "    }\n",
              "\n",
              "    .dataframe thead th {\n",
              "        text-align: right;\n",
              "    }\n",
              "</style>\n",
              "<table border=\"1\" class=\"dataframe\">\n",
              "  <thead>\n",
              "    <tr style=\"text-align: right;\">\n",
              "      <th></th>\n",
              "      <th>id</th>\n",
              "      <th>diagnosis</th>\n",
              "      <th>radius_mean</th>\n",
              "      <th>texture_mean</th>\n",
              "      <th>perimeter_mean</th>\n",
              "      <th>area_mean</th>\n",
              "      <th>smoothness_mean</th>\n",
              "      <th>compactness_mean</th>\n",
              "      <th>concavity_mean</th>\n",
              "      <th>concave points_mean</th>\n",
              "      <th>symmetry_mean</th>\n",
              "      <th>fractal_dimension_mean</th>\n",
              "      <th>radius_se</th>\n",
              "      <th>texture_se</th>\n",
              "      <th>perimeter_se</th>\n",
              "      <th>area_se</th>\n",
              "      <th>smoothness_se</th>\n",
              "      <th>compactness_se</th>\n",
              "      <th>concavity_se</th>\n",
              "      <th>concave points_se</th>\n",
              "      <th>symmetry_se</th>\n",
              "      <th>fractal_dimension_se</th>\n",
              "      <th>radius_worst</th>\n",
              "      <th>texture_worst</th>\n",
              "      <th>perimeter_worst</th>\n",
              "      <th>area_worst</th>\n",
              "      <th>smoothness_worst</th>\n",
              "      <th>compactness_worst</th>\n",
              "      <th>concavity_worst</th>\n",
              "      <th>concave points_worst</th>\n",
              "      <th>symmetry_worst</th>\n",
              "      <th>fractal_dimension_worst</th>\n",
              "      <th>Unnamed: 32</th>\n",
              "    </tr>\n",
              "  </thead>\n",
              "  <tbody>\n",
              "    <tr>\n",
              "      <th>0</th>\n",
              "      <td>842302</td>\n",
              "      <td>1</td>\n",
              "      <td>17.99</td>\n",
              "      <td>10.38</td>\n",
              "      <td>122.80</td>\n",
              "      <td>1001.0</td>\n",
              "      <td>0.11840</td>\n",
              "      <td>0.27760</td>\n",
              "      <td>0.3001</td>\n",
              "      <td>0.14710</td>\n",
              "      <td>0.2419</td>\n",
              "      <td>0.07871</td>\n",
              "      <td>1.0950</td>\n",
              "      <td>0.9053</td>\n",
              "      <td>8.589</td>\n",
              "      <td>153.40</td>\n",
              "      <td>0.006399</td>\n",
              "      <td>0.04904</td>\n",
              "      <td>0.05373</td>\n",
              "      <td>0.01587</td>\n",
              "      <td>0.03003</td>\n",
              "      <td>0.006193</td>\n",
              "      <td>25.38</td>\n",
              "      <td>17.33</td>\n",
              "      <td>184.60</td>\n",
              "      <td>2019.0</td>\n",
              "      <td>0.1622</td>\n",
              "      <td>0.6656</td>\n",
              "      <td>0.7119</td>\n",
              "      <td>0.2654</td>\n",
              "      <td>0.4601</td>\n",
              "      <td>0.11890</td>\n",
              "      <td>NaN</td>\n",
              "    </tr>\n",
              "    <tr>\n",
              "      <th>1</th>\n",
              "      <td>842517</td>\n",
              "      <td>1</td>\n",
              "      <td>20.57</td>\n",
              "      <td>17.77</td>\n",
              "      <td>132.90</td>\n",
              "      <td>1326.0</td>\n",
              "      <td>0.08474</td>\n",
              "      <td>0.07864</td>\n",
              "      <td>0.0869</td>\n",
              "      <td>0.07017</td>\n",
              "      <td>0.1812</td>\n",
              "      <td>0.05667</td>\n",
              "      <td>0.5435</td>\n",
              "      <td>0.7339</td>\n",
              "      <td>3.398</td>\n",
              "      <td>74.08</td>\n",
              "      <td>0.005225</td>\n",
              "      <td>0.01308</td>\n",
              "      <td>0.01860</td>\n",
              "      <td>0.01340</td>\n",
              "      <td>0.01389</td>\n",
              "      <td>0.003532</td>\n",
              "      <td>24.99</td>\n",
              "      <td>23.41</td>\n",
              "      <td>158.80</td>\n",
              "      <td>1956.0</td>\n",
              "      <td>0.1238</td>\n",
              "      <td>0.1866</td>\n",
              "      <td>0.2416</td>\n",
              "      <td>0.1860</td>\n",
              "      <td>0.2750</td>\n",
              "      <td>0.08902</td>\n",
              "      <td>NaN</td>\n",
              "    </tr>\n",
              "    <tr>\n",
              "      <th>2</th>\n",
              "      <td>84300903</td>\n",
              "      <td>1</td>\n",
              "      <td>19.69</td>\n",
              "      <td>21.25</td>\n",
              "      <td>130.00</td>\n",
              "      <td>1203.0</td>\n",
              "      <td>0.10960</td>\n",
              "      <td>0.15990</td>\n",
              "      <td>0.1974</td>\n",
              "      <td>0.12790</td>\n",
              "      <td>0.2069</td>\n",
              "      <td>0.05999</td>\n",
              "      <td>0.7456</td>\n",
              "      <td>0.7869</td>\n",
              "      <td>4.585</td>\n",
              "      <td>94.03</td>\n",
              "      <td>0.006150</td>\n",
              "      <td>0.04006</td>\n",
              "      <td>0.03832</td>\n",
              "      <td>0.02058</td>\n",
              "      <td>0.02250</td>\n",
              "      <td>0.004571</td>\n",
              "      <td>23.57</td>\n",
              "      <td>25.53</td>\n",
              "      <td>152.50</td>\n",
              "      <td>1709.0</td>\n",
              "      <td>0.1444</td>\n",
              "      <td>0.4245</td>\n",
              "      <td>0.4504</td>\n",
              "      <td>0.2430</td>\n",
              "      <td>0.3613</td>\n",
              "      <td>0.08758</td>\n",
              "      <td>NaN</td>\n",
              "    </tr>\n",
              "    <tr>\n",
              "      <th>3</th>\n",
              "      <td>84348301</td>\n",
              "      <td>1</td>\n",
              "      <td>11.42</td>\n",
              "      <td>20.38</td>\n",
              "      <td>77.58</td>\n",
              "      <td>386.1</td>\n",
              "      <td>0.14250</td>\n",
              "      <td>0.28390</td>\n",
              "      <td>0.2414</td>\n",
              "      <td>0.10520</td>\n",
              "      <td>0.2597</td>\n",
              "      <td>0.09744</td>\n",
              "      <td>0.4956</td>\n",
              "      <td>1.1560</td>\n",
              "      <td>3.445</td>\n",
              "      <td>27.23</td>\n",
              "      <td>0.009110</td>\n",
              "      <td>0.07458</td>\n",
              "      <td>0.05661</td>\n",
              "      <td>0.01867</td>\n",
              "      <td>0.05963</td>\n",
              "      <td>0.009208</td>\n",
              "      <td>14.91</td>\n",
              "      <td>26.50</td>\n",
              "      <td>98.87</td>\n",
              "      <td>567.7</td>\n",
              "      <td>0.2098</td>\n",
              "      <td>0.8663</td>\n",
              "      <td>0.6869</td>\n",
              "      <td>0.2575</td>\n",
              "      <td>0.6638</td>\n",
              "      <td>0.17300</td>\n",
              "      <td>NaN</td>\n",
              "    </tr>\n",
              "    <tr>\n",
              "      <th>4</th>\n",
              "      <td>84358402</td>\n",
              "      <td>1</td>\n",
              "      <td>20.29</td>\n",
              "      <td>14.34</td>\n",
              "      <td>135.10</td>\n",
              "      <td>1297.0</td>\n",
              "      <td>0.10030</td>\n",
              "      <td>0.13280</td>\n",
              "      <td>0.1980</td>\n",
              "      <td>0.10430</td>\n",
              "      <td>0.1809</td>\n",
              "      <td>0.05883</td>\n",
              "      <td>0.7572</td>\n",
              "      <td>0.7813</td>\n",
              "      <td>5.438</td>\n",
              "      <td>94.44</td>\n",
              "      <td>0.011490</td>\n",
              "      <td>0.02461</td>\n",
              "      <td>0.05688</td>\n",
              "      <td>0.01885</td>\n",
              "      <td>0.01756</td>\n",
              "      <td>0.005115</td>\n",
              "      <td>22.54</td>\n",
              "      <td>16.67</td>\n",
              "      <td>152.20</td>\n",
              "      <td>1575.0</td>\n",
              "      <td>0.1374</td>\n",
              "      <td>0.2050</td>\n",
              "      <td>0.4000</td>\n",
              "      <td>0.1625</td>\n",
              "      <td>0.2364</td>\n",
              "      <td>0.07678</td>\n",
              "      <td>NaN</td>\n",
              "    </tr>\n",
              "  </tbody>\n",
              "</table>\n",
              "</div>"
            ],
            "text/plain": [
              "         id  diagnosis  ...  fractal_dimension_worst  Unnamed: 32\n",
              "0    842302          1  ...                  0.11890          NaN\n",
              "1    842517          1  ...                  0.08902          NaN\n",
              "2  84300903          1  ...                  0.08758          NaN\n",
              "3  84348301          1  ...                  0.17300          NaN\n",
              "4  84358402          1  ...                  0.07678          NaN\n",
              "\n",
              "[5 rows x 33 columns]"
            ]
          },
          "metadata": {},
          "execution_count": 117
        }
      ]
    },
    {
      "cell_type": "code",
      "metadata": {
        "colab": {
          "base_uri": "https://localhost:8080/",
          "height": 337
        },
        "id": "1Ad9gC_RgTHQ",
        "outputId": "38866d9b-d4de-446f-b182-9487dea260f4"
      },
      "source": [
        "model_full.describe()"
      ],
      "execution_count": 118,
      "outputs": [
        {
          "output_type": "execute_result",
          "data": {
            "text/html": [
              "<div>\n",
              "<style scoped>\n",
              "    .dataframe tbody tr th:only-of-type {\n",
              "        vertical-align: middle;\n",
              "    }\n",
              "\n",
              "    .dataframe tbody tr th {\n",
              "        vertical-align: top;\n",
              "    }\n",
              "\n",
              "    .dataframe thead th {\n",
              "        text-align: right;\n",
              "    }\n",
              "</style>\n",
              "<table border=\"1\" class=\"dataframe\">\n",
              "  <thead>\n",
              "    <tr style=\"text-align: right;\">\n",
              "      <th></th>\n",
              "      <th>id</th>\n",
              "      <th>diagnosis</th>\n",
              "      <th>radius_mean</th>\n",
              "      <th>texture_mean</th>\n",
              "      <th>perimeter_mean</th>\n",
              "      <th>area_mean</th>\n",
              "      <th>smoothness_mean</th>\n",
              "      <th>compactness_mean</th>\n",
              "      <th>concavity_mean</th>\n",
              "      <th>concave points_mean</th>\n",
              "      <th>symmetry_mean</th>\n",
              "      <th>fractal_dimension_mean</th>\n",
              "      <th>radius_se</th>\n",
              "      <th>texture_se</th>\n",
              "      <th>perimeter_se</th>\n",
              "      <th>area_se</th>\n",
              "      <th>smoothness_se</th>\n",
              "      <th>compactness_se</th>\n",
              "      <th>concavity_se</th>\n",
              "      <th>concave points_se</th>\n",
              "      <th>symmetry_se</th>\n",
              "      <th>fractal_dimension_se</th>\n",
              "      <th>radius_worst</th>\n",
              "      <th>texture_worst</th>\n",
              "      <th>perimeter_worst</th>\n",
              "      <th>area_worst</th>\n",
              "      <th>smoothness_worst</th>\n",
              "      <th>compactness_worst</th>\n",
              "      <th>concavity_worst</th>\n",
              "      <th>concave points_worst</th>\n",
              "      <th>symmetry_worst</th>\n",
              "      <th>fractal_dimension_worst</th>\n",
              "      <th>Unnamed: 32</th>\n",
              "    </tr>\n",
              "  </thead>\n",
              "  <tbody>\n",
              "    <tr>\n",
              "      <th>count</th>\n",
              "      <td>5.690000e+02</td>\n",
              "      <td>569.000000</td>\n",
              "      <td>569.000000</td>\n",
              "      <td>569.000000</td>\n",
              "      <td>569.000000</td>\n",
              "      <td>569.000000</td>\n",
              "      <td>569.000000</td>\n",
              "      <td>569.000000</td>\n",
              "      <td>569.000000</td>\n",
              "      <td>569.000000</td>\n",
              "      <td>569.000000</td>\n",
              "      <td>569.000000</td>\n",
              "      <td>569.000000</td>\n",
              "      <td>569.000000</td>\n",
              "      <td>569.000000</td>\n",
              "      <td>569.000000</td>\n",
              "      <td>569.000000</td>\n",
              "      <td>569.000000</td>\n",
              "      <td>569.000000</td>\n",
              "      <td>569.000000</td>\n",
              "      <td>569.000000</td>\n",
              "      <td>569.000000</td>\n",
              "      <td>569.000000</td>\n",
              "      <td>569.000000</td>\n",
              "      <td>569.000000</td>\n",
              "      <td>569.000000</td>\n",
              "      <td>569.000000</td>\n",
              "      <td>569.000000</td>\n",
              "      <td>569.000000</td>\n",
              "      <td>569.000000</td>\n",
              "      <td>569.000000</td>\n",
              "      <td>569.000000</td>\n",
              "      <td>0.0</td>\n",
              "    </tr>\n",
              "    <tr>\n",
              "      <th>mean</th>\n",
              "      <td>3.037183e+07</td>\n",
              "      <td>0.372583</td>\n",
              "      <td>14.127292</td>\n",
              "      <td>19.289649</td>\n",
              "      <td>91.969033</td>\n",
              "      <td>654.889104</td>\n",
              "      <td>0.096360</td>\n",
              "      <td>0.104341</td>\n",
              "      <td>0.088799</td>\n",
              "      <td>0.048919</td>\n",
              "      <td>0.181162</td>\n",
              "      <td>0.062798</td>\n",
              "      <td>0.405172</td>\n",
              "      <td>1.216853</td>\n",
              "      <td>2.866059</td>\n",
              "      <td>40.337079</td>\n",
              "      <td>0.007041</td>\n",
              "      <td>0.025478</td>\n",
              "      <td>0.031894</td>\n",
              "      <td>0.011796</td>\n",
              "      <td>0.020542</td>\n",
              "      <td>0.003795</td>\n",
              "      <td>16.269190</td>\n",
              "      <td>25.677223</td>\n",
              "      <td>107.261213</td>\n",
              "      <td>880.583128</td>\n",
              "      <td>0.132369</td>\n",
              "      <td>0.254265</td>\n",
              "      <td>0.272188</td>\n",
              "      <td>0.114606</td>\n",
              "      <td>0.290076</td>\n",
              "      <td>0.083946</td>\n",
              "      <td>NaN</td>\n",
              "    </tr>\n",
              "    <tr>\n",
              "      <th>std</th>\n",
              "      <td>1.250206e+08</td>\n",
              "      <td>0.483918</td>\n",
              "      <td>3.524049</td>\n",
              "      <td>4.301036</td>\n",
              "      <td>24.298981</td>\n",
              "      <td>351.914129</td>\n",
              "      <td>0.014064</td>\n",
              "      <td>0.052813</td>\n",
              "      <td>0.079720</td>\n",
              "      <td>0.038803</td>\n",
              "      <td>0.027414</td>\n",
              "      <td>0.007060</td>\n",
              "      <td>0.277313</td>\n",
              "      <td>0.551648</td>\n",
              "      <td>2.021855</td>\n",
              "      <td>45.491006</td>\n",
              "      <td>0.003003</td>\n",
              "      <td>0.017908</td>\n",
              "      <td>0.030186</td>\n",
              "      <td>0.006170</td>\n",
              "      <td>0.008266</td>\n",
              "      <td>0.002646</td>\n",
              "      <td>4.833242</td>\n",
              "      <td>6.146258</td>\n",
              "      <td>33.602542</td>\n",
              "      <td>569.356993</td>\n",
              "      <td>0.022832</td>\n",
              "      <td>0.157336</td>\n",
              "      <td>0.208624</td>\n",
              "      <td>0.065732</td>\n",
              "      <td>0.061867</td>\n",
              "      <td>0.018061</td>\n",
              "      <td>NaN</td>\n",
              "    </tr>\n",
              "    <tr>\n",
              "      <th>min</th>\n",
              "      <td>8.670000e+03</td>\n",
              "      <td>0.000000</td>\n",
              "      <td>6.981000</td>\n",
              "      <td>9.710000</td>\n",
              "      <td>43.790000</td>\n",
              "      <td>143.500000</td>\n",
              "      <td>0.052630</td>\n",
              "      <td>0.019380</td>\n",
              "      <td>0.000000</td>\n",
              "      <td>0.000000</td>\n",
              "      <td>0.106000</td>\n",
              "      <td>0.049960</td>\n",
              "      <td>0.111500</td>\n",
              "      <td>0.360200</td>\n",
              "      <td>0.757000</td>\n",
              "      <td>6.802000</td>\n",
              "      <td>0.001713</td>\n",
              "      <td>0.002252</td>\n",
              "      <td>0.000000</td>\n",
              "      <td>0.000000</td>\n",
              "      <td>0.007882</td>\n",
              "      <td>0.000895</td>\n",
              "      <td>7.930000</td>\n",
              "      <td>12.020000</td>\n",
              "      <td>50.410000</td>\n",
              "      <td>185.200000</td>\n",
              "      <td>0.071170</td>\n",
              "      <td>0.027290</td>\n",
              "      <td>0.000000</td>\n",
              "      <td>0.000000</td>\n",
              "      <td>0.156500</td>\n",
              "      <td>0.055040</td>\n",
              "      <td>NaN</td>\n",
              "    </tr>\n",
              "    <tr>\n",
              "      <th>25%</th>\n",
              "      <td>8.692180e+05</td>\n",
              "      <td>0.000000</td>\n",
              "      <td>11.700000</td>\n",
              "      <td>16.170000</td>\n",
              "      <td>75.170000</td>\n",
              "      <td>420.300000</td>\n",
              "      <td>0.086370</td>\n",
              "      <td>0.064920</td>\n",
              "      <td>0.029560</td>\n",
              "      <td>0.020310</td>\n",
              "      <td>0.161900</td>\n",
              "      <td>0.057700</td>\n",
              "      <td>0.232400</td>\n",
              "      <td>0.833900</td>\n",
              "      <td>1.606000</td>\n",
              "      <td>17.850000</td>\n",
              "      <td>0.005169</td>\n",
              "      <td>0.013080</td>\n",
              "      <td>0.015090</td>\n",
              "      <td>0.007638</td>\n",
              "      <td>0.015160</td>\n",
              "      <td>0.002248</td>\n",
              "      <td>13.010000</td>\n",
              "      <td>21.080000</td>\n",
              "      <td>84.110000</td>\n",
              "      <td>515.300000</td>\n",
              "      <td>0.116600</td>\n",
              "      <td>0.147200</td>\n",
              "      <td>0.114500</td>\n",
              "      <td>0.064930</td>\n",
              "      <td>0.250400</td>\n",
              "      <td>0.071460</td>\n",
              "      <td>NaN</td>\n",
              "    </tr>\n",
              "    <tr>\n",
              "      <th>50%</th>\n",
              "      <td>9.060240e+05</td>\n",
              "      <td>0.000000</td>\n",
              "      <td>13.370000</td>\n",
              "      <td>18.840000</td>\n",
              "      <td>86.240000</td>\n",
              "      <td>551.100000</td>\n",
              "      <td>0.095870</td>\n",
              "      <td>0.092630</td>\n",
              "      <td>0.061540</td>\n",
              "      <td>0.033500</td>\n",
              "      <td>0.179200</td>\n",
              "      <td>0.061540</td>\n",
              "      <td>0.324200</td>\n",
              "      <td>1.108000</td>\n",
              "      <td>2.287000</td>\n",
              "      <td>24.530000</td>\n",
              "      <td>0.006380</td>\n",
              "      <td>0.020450</td>\n",
              "      <td>0.025890</td>\n",
              "      <td>0.010930</td>\n",
              "      <td>0.018730</td>\n",
              "      <td>0.003187</td>\n",
              "      <td>14.970000</td>\n",
              "      <td>25.410000</td>\n",
              "      <td>97.660000</td>\n",
              "      <td>686.500000</td>\n",
              "      <td>0.131300</td>\n",
              "      <td>0.211900</td>\n",
              "      <td>0.226700</td>\n",
              "      <td>0.099930</td>\n",
              "      <td>0.282200</td>\n",
              "      <td>0.080040</td>\n",
              "      <td>NaN</td>\n",
              "    </tr>\n",
              "    <tr>\n",
              "      <th>75%</th>\n",
              "      <td>8.813129e+06</td>\n",
              "      <td>1.000000</td>\n",
              "      <td>15.780000</td>\n",
              "      <td>21.800000</td>\n",
              "      <td>104.100000</td>\n",
              "      <td>782.700000</td>\n",
              "      <td>0.105300</td>\n",
              "      <td>0.130400</td>\n",
              "      <td>0.130700</td>\n",
              "      <td>0.074000</td>\n",
              "      <td>0.195700</td>\n",
              "      <td>0.066120</td>\n",
              "      <td>0.478900</td>\n",
              "      <td>1.474000</td>\n",
              "      <td>3.357000</td>\n",
              "      <td>45.190000</td>\n",
              "      <td>0.008146</td>\n",
              "      <td>0.032450</td>\n",
              "      <td>0.042050</td>\n",
              "      <td>0.014710</td>\n",
              "      <td>0.023480</td>\n",
              "      <td>0.004558</td>\n",
              "      <td>18.790000</td>\n",
              "      <td>29.720000</td>\n",
              "      <td>125.400000</td>\n",
              "      <td>1084.000000</td>\n",
              "      <td>0.146000</td>\n",
              "      <td>0.339100</td>\n",
              "      <td>0.382900</td>\n",
              "      <td>0.161400</td>\n",
              "      <td>0.317900</td>\n",
              "      <td>0.092080</td>\n",
              "      <td>NaN</td>\n",
              "    </tr>\n",
              "    <tr>\n",
              "      <th>max</th>\n",
              "      <td>9.113205e+08</td>\n",
              "      <td>1.000000</td>\n",
              "      <td>28.110000</td>\n",
              "      <td>39.280000</td>\n",
              "      <td>188.500000</td>\n",
              "      <td>2501.000000</td>\n",
              "      <td>0.163400</td>\n",
              "      <td>0.345400</td>\n",
              "      <td>0.426800</td>\n",
              "      <td>0.201200</td>\n",
              "      <td>0.304000</td>\n",
              "      <td>0.097440</td>\n",
              "      <td>2.873000</td>\n",
              "      <td>4.885000</td>\n",
              "      <td>21.980000</td>\n",
              "      <td>542.200000</td>\n",
              "      <td>0.031130</td>\n",
              "      <td>0.135400</td>\n",
              "      <td>0.396000</td>\n",
              "      <td>0.052790</td>\n",
              "      <td>0.078950</td>\n",
              "      <td>0.029840</td>\n",
              "      <td>36.040000</td>\n",
              "      <td>49.540000</td>\n",
              "      <td>251.200000</td>\n",
              "      <td>4254.000000</td>\n",
              "      <td>0.222600</td>\n",
              "      <td>1.058000</td>\n",
              "      <td>1.252000</td>\n",
              "      <td>0.291000</td>\n",
              "      <td>0.663800</td>\n",
              "      <td>0.207500</td>\n",
              "      <td>NaN</td>\n",
              "    </tr>\n",
              "  </tbody>\n",
              "</table>\n",
              "</div>"
            ],
            "text/plain": [
              "                 id   diagnosis  ...  fractal_dimension_worst  Unnamed: 32\n",
              "count  5.690000e+02  569.000000  ...               569.000000          0.0\n",
              "mean   3.037183e+07    0.372583  ...                 0.083946          NaN\n",
              "std    1.250206e+08    0.483918  ...                 0.018061          NaN\n",
              "min    8.670000e+03    0.000000  ...                 0.055040          NaN\n",
              "25%    8.692180e+05    0.000000  ...                 0.071460          NaN\n",
              "50%    9.060240e+05    0.000000  ...                 0.080040          NaN\n",
              "75%    8.813129e+06    1.000000  ...                 0.092080          NaN\n",
              "max    9.113205e+08    1.000000  ...                 0.207500          NaN\n",
              "\n",
              "[8 rows x 33 columns]"
            ]
          },
          "metadata": {},
          "execution_count": 118
        }
      ]
    },
    {
      "cell_type": "code",
      "metadata": {
        "colab": {
          "base_uri": "https://localhost:8080/"
        },
        "id": "meoQOztSgTHQ",
        "outputId": "e88b14ad-a49b-4ef7-c296-c6c36aee4620"
      },
      "source": [
        "model_full.dtypes"
      ],
      "execution_count": 119,
      "outputs": [
        {
          "output_type": "execute_result",
          "data": {
            "text/plain": [
              "id                           int64\n",
              "diagnosis                    int64\n",
              "radius_mean                float64\n",
              "texture_mean               float64\n",
              "perimeter_mean             float64\n",
              "area_mean                  float64\n",
              "smoothness_mean            float64\n",
              "compactness_mean           float64\n",
              "concavity_mean             float64\n",
              "concave points_mean        float64\n",
              "symmetry_mean              float64\n",
              "fractal_dimension_mean     float64\n",
              "radius_se                  float64\n",
              "texture_se                 float64\n",
              "perimeter_se               float64\n",
              "area_se                    float64\n",
              "smoothness_se              float64\n",
              "compactness_se             float64\n",
              "concavity_se               float64\n",
              "concave points_se          float64\n",
              "symmetry_se                float64\n",
              "fractal_dimension_se       float64\n",
              "radius_worst               float64\n",
              "texture_worst              float64\n",
              "perimeter_worst            float64\n",
              "area_worst                 float64\n",
              "smoothness_worst           float64\n",
              "compactness_worst          float64\n",
              "concavity_worst            float64\n",
              "concave points_worst       float64\n",
              "symmetry_worst             float64\n",
              "fractal_dimension_worst    float64\n",
              "Unnamed: 32                float64\n",
              "dtype: object"
            ]
          },
          "metadata": {},
          "execution_count": 119
        }
      ]
    },
    {
      "cell_type": "code",
      "metadata": {
        "colab": {
          "base_uri": "https://localhost:8080/",
          "height": 321
        },
        "id": "fy6lLwBVgTHR",
        "outputId": "3d587be1-317b-4600-a877-e46c31d8f180"
      },
      "source": [
        "# lets get the % of Cancer Patients\n",
        "print('Distribution of Cancer patients on whole data')\n",
        "ax = sns.countplot(model_full['diagnosis'])\n",
        "ax.set_ylabel('Percentage of patients (%)')\n",
        "bars = ax.patches\n",
        "half = int(len(bars)/2)\n",
        "left_bars = bars[:half]\n",
        "right_bars = bars[half:]\n",
        "for left, right in zip(left_bars, right_bars):\n",
        "    height_l = left.get_height()\n",
        "    height_r = right.get_height()\n",
        "    total = height_l + height_r\n",
        "    ax.text(left.get_x() + left.get_width()/2., height_l + 40, '{0:.0%}'.format(height_l/total), ha=\"center\")\n",
        "    ax.text(right.get_x() + right.get_width()/2., height_r + 40, '{0:.0%}'.format(height_r/total), ha=\"center\")"
      ],
      "execution_count": 120,
      "outputs": [
        {
          "output_type": "stream",
          "name": "stdout",
          "text": [
            "Distribution of Cancer patients on whole data\n"
          ]
        },
        {
          "output_type": "display_data",
          "data": {
            "image/png": "[encoded data removed]",
            "text/plain": [
              "<Figure size 432x288 with 1 Axes>"
            ]
          },
          "metadata": {
            "needs_background": "light"
          }
        }
      ]
    },
    {
      "cell_type": "code",
      "metadata": {
        "colab": {
          "base_uri": "https://localhost:8080/",
          "height": 885
        },
        "id": "j_kMrrgugTHR",
        "outputId": "ae787509-6719-48ca-8915-5fa32a3718aa"
      },
      "source": [
        "no, yes = model_full['diagnosis'].value_counts()\n",
        "#X_train, y_train, X_test, y_test = LoadData()\n",
        "print('Distribution of the data:')\n",
        "print ('----------------------------------------------------')\n",
        "print ('The total data has {0} rows and {1} columns'.format(model_full.shape[0],model_full.shape[1]))\n",
        "print ('')\n",
        "print ('Malignent cases = {0}  and % = {1} '.format(yes,np.round((yes/model_full.shape[0])*100,2)))\n",
        "print ('')\n",
        "print ('Benign cases = {0}  and % = {1} '.format(no,np.round((no/model_full.shape[0])*100,2)))\n",
        "print ('')\n",
        "print ('----------------------------------------------------')\n",
        "print ('Distribution of training data')\n",
        "print ('----------------------------------------------------')\n",
        "print ('The train data has {0} rows and {1} columns'.format(X_train.shape[0],X_train.shape[1]))\n",
        "print ('')\n",
        "print ('The training data % = {0} '.format(np.round((X_train.shape[0]/model_full.shape[0])*100,2)))\n",
        "print ('')\n",
        "y_tr = y_train.sum()\n",
        "n_tr = X_train.shape[0] -y_tr    #yes1\n",
        "print ('Malignent cases = {0}  and % = {1} '.format(y_tr,np.round((y_tr/X_train.shape[0])*100,2)))\n",
        "print ('')\n",
        "print ('Benign cases = {0}  and % = {1} '.format(n_tr,np.round((n_tr/X_train.shape[0])*100,2)))\n",
        "print ('')\n",
        "print ('----------------------------------------------------')\n",
        "print ('Distribution of testing data')\n",
        "print ('----------------------------------------------------')\n",
        "print ('The test data has {0} rows and {1} columns'.format(X_test.shape[0],X_test.shape[1]))\n",
        "print ('')\n",
        "print ('The testing data % = {0} '.format(np.round((X_test.shape[0]/model_full.shape[0])*100,2)))\n",
        "print ('')\n",
        "y_te = y_test.sum()\n",
        "n_te = X_test.shape[0] -y_te\n",
        "print ('Malignent cases = {0}  and % = {1} '.format(y_te,np.round((y_te/X_test.shape[0])*100,2)))\n",
        "print ('')\n",
        "print ('Benign cases = {0}  and % = {1} '.format(n_te,np.round((n_te/X_test.shape[0])*100,2)))\n",
        "print ('')\n",
        "# lets get the % of Blood Transfusion patients\n",
        "print('Training data : Distribution of patients')\n",
        "ax = sns.countplot(y_train)\n",
        "ax.set_ylabel('Percentage of patients (%)')\n",
        "bars = ax.patches\n",
        "half = int(len(bars)/2)\n",
        "left_bars = bars[:half]\n",
        "right_bars = bars[half:]\n",
        "for left, right in zip(left_bars, right_bars):\n",
        "    height_l = left.get_height()\n",
        "    height_r = right.get_height()\n",
        "    total = height_l + height_r\n",
        "    ax.text(left.get_x() + left.get_width()/2., height_l + 40, '{0:.0%}'.format(height_l/total), ha=\"center\")\n",
        "    ax.text(right.get_x() + right.get_width()/2., height_r + 40, '{0:.0%}'.format(height_r/total), ha=\"center\")"
      ],
      "execution_count": 121,
      "outputs": [
        {
          "output_type": "stream",
          "name": "stdout",
          "text": [
            "Distribution of the data:\n",
            "----------------------------------------------------\n",
            "The total data has 569 rows and 33 columns\n",
            "\n",
            "Malignent cases = 212  and % = 37.26 \n",
            "\n",
            "Benign cases = 357  and % = 62.74 \n",
            "\n",
            "----------------------------------------------------\n",
            "Distribution of training data\n",
            "----------------------------------------------------\n",
            "The train data has 398 rows and 16 columns\n",
            "\n",
            "The training data % = 69.95 \n",
            "\n",
            "Malignent cases = 152  and % = 38.19 \n",
            "\n",
            "Benign cases = 246  and % = 61.81 \n",
            "\n",
            "----------------------------------------------------\n",
            "Distribution of testing data\n",
            "----------------------------------------------------\n",
            "The test data has 171 rows and 16 columns\n",
            "\n",
            "The testing data % = 30.05 \n",
            "\n",
            "Malignent cases = 60  and % = 35.09 \n",
            "\n",
            "Benign cases = 111  and % = 64.91 \n",
            "\n",
            "Training data : Distribution of patients\n"
          ]
        },
        {
          "output_type": "display_data",
          "data": {
            "image/png": "[encoded data removed]",
            "text/plain": [
              "<Figure size 432x288 with 1 Axes>"
            ]
          },
          "metadata": {
            "needs_background": "light"
          }
        }
      ]
    },
    {
      "cell_type": "code",
      "metadata": {
        "colab": {
          "base_uri": "https://localhost:8080/",
          "height": 373
        },
        "id": "JFzir1S-gTHR",
        "outputId": "1bb9a9d0-8a22-4b74-cf73-e47b6659754c"
      },
      "source": [
        "# lets get the % of Blood Transfusion patients\n",
        "print('Testing data : Distribution of patients')\n",
        "ax = sns.countplot(y_test)\n",
        "ax.set_ylabel('Percentage of patients (%)')\n",
        "bars = ax.patches\n",
        "half = int(len(bars)/2)\n",
        "left_bars = bars[:half]\n",
        "right_bars = bars[half:]\n",
        "for left, right in zip(left_bars, right_bars):\n",
        "    height_l = left.get_height()\n",
        "    height_r = right.get_height()\n",
        "    total = height_l + height_r\n",
        "    ax.text(left.get_x() + left.get_width()/2., height_l + 40, '{0:.0%}'.format(height_l/total), ha=\"center\")\n",
        "    ax.text(right.get_x() + right.get_width()/2., height_r + 40, '{0:.0%}'.format(height_r/total), ha=\"center\")"
      ],
      "execution_count": 122,
      "outputs": [
        {
          "output_type": "stream",
          "name": "stdout",
          "text": [
            "Testing data : Distribution of patients\n"
          ]
        },
        {
          "output_type": "display_data",
          "data": {
            "image/png": "[encoded data removed]",
            "text/plain": [
              "<Figure size 432x288 with 1 Axes>"
            ]
          },
          "metadata": {
            "needs_background": "light"
          }
        }
      ]
    },
    {
      "cell_type": "markdown",
      "metadata": {
        "id": "e3frrzi3gTHR"
      },
      "source": [
        "### Build models "
      ]
    },
    {
      "cell_type": "markdown",
      "metadata": {
        "id": "Ujc5DWEjgTHR"
      },
      "source": [
        "### Define basic non-linear classifiers"
      ]
    },
    {
      "cell_type": "code",
      "metadata": {
        "id": "2gdt_S5ygTHS"
      },
      "source": [
        "nonlr_clf_dict = dict()\n",
        "\n",
        "# 1\n",
        "from sklearn.linear_model import LogisticRegression\n",
        "clf = LogisticRegression()\n",
        "nonlr_clf_dict['Logistic Regression'] = clf\n",
        "\n",
        "# 2\n",
        "from sklearn.ensemble import RandomForestClassifier\n",
        "clf = RandomForestClassifier()\n",
        "nonlr_clf_dict['Random Forest Classifier'] = clf\n",
        "\n",
        "# 3\n",
        "from sklearn.ensemble import GradientBoostingClassifier\n",
        "clf = GradientBoostingClassifier()\n",
        "nonlr_clf_dict['Gradient Boosting Classifier'] = clf\n",
        "\n",
        "# 4\n",
        "from sklearn.ensemble import ExtraTreesClassifier\n",
        "clf = ExtraTreesClassifier()\n",
        "nonlr_clf_dict['Extra Trees Classifier'] = clf\n",
        "\n",
        "# 5\n",
        "from xgboost import XGBClassifier\n",
        "clf = XGBClassifier()\n",
        "nonlr_clf_dict['XGB Classifier'] = clf\n",
        "\n",
        "# 6\n",
        "from sklearn.neighbors import KNeighborsClassifier\n",
        "clf = KNeighborsClassifier()\n",
        "nonlr_clf_dict['KNeighbors Classifier'] = clf\n",
        "\n",
        "# 7\n",
        "from sklearn.svm import SVC\n",
        "clf = SVC(kernel='rbf',probability=True)   \n",
        "nonlr_clf_dict['SVM Classifier'] = clf\n",
        "\n",
        "# 8\n",
        "from sklearn.naive_bayes import GaussianNB  \n",
        "clf = GaussianNB() \n",
        "nonlr_clf_dict['naive_bayes'] = clf\n",
        "\n",
        "# 9\n",
        "from sklearn.tree import DecisionTreeClassifier\n",
        "clf = DecisionTreeClassifier(criterion='gini')\n",
        "nonlr_clf_dict['Decision Tree Classifier'] = clf\n",
        "\n",
        "# 10\n",
        "from xgboost import XGBClassifier\n",
        "clf = XGBClassifier()\n",
        "nonlr_clf_dict['XGBoost Classifierr'] = clf\n",
        "\n",
        "# 11\n",
        "#from sklearn.linear_model import SGDClassifier\n",
        "#clf = SGDClassifier()\n",
        "#nonlr_clf_dict['Stochastic Gradient Decent Classifier'] = clf\n",
        "\n",
        "# 12\n",
        "from sklearn.ensemble import AdaBoostClassifier\n",
        "clf = AdaBoostClassifier()\n",
        "nonlr_clf_dict['AdaBoost Classifier'] = clf\n",
        "# 13\n",
        "from catboost import CatBoostClassifier\n",
        "clf = CatBoostClassifier()\n",
        "nonlr_clf_dict['catboost Classifier'] = clf"
      ],
      "execution_count": 123,
      "outputs": []
    },
    {
      "cell_type": "markdown",
      "metadata": {
        "id": "MJ2BSkIjgTHS"
      },
      "source": [
        "### Build models "
      ]
    },
    {
      "cell_type": "code",
      "metadata": {
        "colab": {
          "base_uri": "https://localhost:8080/",
          "height": 1000
        },
        "id": "Q3HkCZzVgTHS",
        "outputId": "87b5310d-dd20-4e62-e9fe-8b85664665cc"
      },
      "source": [
        "from sklearn.model_selection import StratifiedKFold\n",
        "from sklearn.model_selection import cross_val_score\n",
        "from tabulate import tabulate\n",
        "import numpy as np\n",
        "\n",
        "folds = 5\n",
        "param_comb = 5\n",
        "skf = StratifiedKFold(n_splits=folds, shuffle = True, random_state = 10345)\n",
        "scoring_strings = ['accuracy', 'precision', 'recall', 'f1',\n",
        "                       'average_precision', 'roc_auc']\n",
        "trainPerformanceData = pd.DataFrame(columns = ['Algorithm','Scoring Name','CV mean', 'CV std']) \n",
        "testPerformanceData = pd.DataFrame(columns = ['Algorithm','Accuracy','AUC','Precision','Recall','F1'])\n",
        "# timing starts from this point for \"start_time\" variable\n",
        "#start_time = timer(None)\n",
        "for clf_name, clf in nonlr_clf_dict.items():\n",
        "    for scoring in scoring_strings:\n",
        "        scores = cross_val_score(clf, X_train, y_train, scoring=scoring, cv=skf,verbose=1, n_jobs=2)\n",
        "        print(\"---------------------------------------------------------------------\") \n",
        "        print(clf_name)\n",
        "        print(\"---------------------------------------------------------------------\") \n",
        "        print(\"Cross Validation scores on training data\")\n",
        "        print ('Scoring Name: CV mean: %.5f CV std: %.5f',scoring,np.mean(np.abs(scores)),np.std(scores))\n",
        "        print(\"\") \n",
        "        # append rows to an empty DataFrame \n",
        "        trainPerformanceData = trainPerformanceData.append({'Algorithm' : clf_name, 'Scoring Name' : scoring, 'CV mean' : np.mean(np.abs(scores)),'CV std' : np.std(scores)},  \n",
        "                ignore_index = True) \n",
        "        \n",
        "    clf.fit(X_train, y_train)\n",
        "    y_predicted_test  = clf.predict(X_test)\n",
        "    y_probabilities_test = clf.predict_proba(X_test)\n",
        "    y_probabilities_success = y_probabilities_test[:, 1]\n",
        "\n",
        "    from sklearn.metrics import average_precision_score\n",
        "    average_precision = average_precision_score(y_test, y_probabilities_success)\n",
        "    print('Average precision-recall score: {0:0.2f}'.format(average_precision))\n",
        "\n",
        "    false_positive_rate, true_positive_rate, threshold = roc_curve(y_test, y_probabilities_success)\n",
        "\n",
        "    mse        = mean_squared_error(y_test, y_predicted_test)\n",
        "    logloss    = log_loss(y_test, y_predicted_test)\n",
        "    accuracy   = accuracy_score(y_test, y_predicted_test)\n",
        "    precision  = precision_score(y_test, y_predicted_test, average='binary')\n",
        "    recall     = recall_score(y_test, y_predicted_test, average='binary')\n",
        "    F1         = f1_score(y_test, y_predicted_test)\n",
        "    r2         = r2_score(y_test, y_predicted_test)\n",
        "    auc        = roc_auc_score(y_test, y_predicted_test)\n",
        "    cm         = confusion_matrix(y_test, y_predicted_test)\n",
        "    #testPerformanceData = testPerformanceData.append({'Algorithm' : clf_name,'Accuracy' : accuracy,'Average_Precision':average_precision,'F1' : F1 ,'Precision' : precision,'Recall' : recall,'AUC' : auc},ignore_index = True)\n",
        "    Print_Model_Metrics(clf_name)\n",
        "    Plot_Confusion_Matrix(clf)\n",
        "    Plot_ROC_Precision_Recall(clf_name)\n",
        "    #auc = roc_auc_score(y_test, clf.predict_proba(X_test)[:, 1])\n",
        "    print(\"\")  \n",
        "    #print(\"AUC scores on testing data\")       \n",
        "    #print(clf_name, 'auc score:', auc)\n",
        "#timer(start_time)"
      ],
      "execution_count": 124,
      "outputs": [
        {
          "output_type": "stream",
          "name": "stderr",
          "text": [
            "[Parallel(n_jobs=2)]: Using backend LokyBackend with 2 concurrent workers.\n",
            "[Parallel(n_jobs=2)]: Done   5 out of   5 | elapsed:    0.0s finished\n",
            "[Parallel(n_jobs=2)]: Using backend LokyBackend with 2 concurrent workers.\n",
            "[Parallel(n_jobs=2)]: Done   5 out of   5 | elapsed:    0.1s finished\n",
            "[Parallel(n_jobs=2)]: Using backend LokyBackend with 2 concurrent workers.\n",
            "[Parallel(n_jobs=2)]: Done   5 out of   5 | elapsed:    0.0s finished\n",
            "[Parallel(n_jobs=2)]: Using backend LokyBackend with 2 concurrent workers.\n"
          ]
        },
        {
          "output_type": "stream",
          "name": "stdout",
          "text": [
            "---------------------------------------------------------------------\n",
            "Logistic Regression\n",
            "---------------------------------------------------------------------\n",
            "Cross Validation scores on training data\n",
            "Scoring Name: CV mean: %.5f CV std: %.5f accuracy 0.9723734177215189 0.012222566146985407\n",
            "\n",
            "---------------------------------------------------------------------\n",
            "Logistic Regression\n",
            "---------------------------------------------------------------------\n",
            "Cross Validation scores on training data\n",
            "Scoring Name: CV mean: %.5f CV std: %.5f precision 0.9804166666666667 0.01600781059358212\n",
            "\n",
            "---------------------------------------------------------------------\n",
            "Logistic Regression\n",
            "---------------------------------------------------------------------\n",
            "Cross Validation scores on training data\n",
            "Scoring Name: CV mean: %.5f CV std: %.5f recall 0.9475268817204302 0.04370091435653468\n",
            "\n",
            "---------------------------------------------------------------------\n",
            "Logistic Regression\n",
            "---------------------------------------------------------------------\n",
            "Cross Validation scores on training data\n",
            "Scoring Name: CV mean: %.5f CV std: %.5f f1 0.9628024083196497 0.01732728444679454\n",
            "\n"
          ]
        },
        {
          "output_type": "stream",
          "name": "stderr",
          "text": [
            "[Parallel(n_jobs=2)]: Done   5 out of   5 | elapsed:    0.0s finished\n",
            "[Parallel(n_jobs=2)]: Using backend LokyBackend with 2 concurrent workers.\n",
            "[Parallel(n_jobs=2)]: Done   5 out of   5 | elapsed:    0.0s finished\n",
            "[Parallel(n_jobs=2)]: Using backend LokyBackend with 2 concurrent workers.\n",
            "[Parallel(n_jobs=2)]: Done   5 out of   5 | elapsed:    0.0s finished\n"
          ]
        },
        {
          "output_type": "stream",
          "name": "stdout",
          "text": [
            "---------------------------------------------------------------------\n",
            "Logistic Regression\n",
            "---------------------------------------------------------------------\n",
            "Cross Validation scores on training data\n",
            "Scoring Name: CV mean: %.5f CV std: %.5f average_precision 0.994017665645935 0.005364974553079667\n",
            "\n",
            "---------------------------------------------------------------------\n",
            "Logistic Regression\n",
            "---------------------------------------------------------------------\n",
            "Cross Validation scores on training data\n",
            "Scoring Name: CV mean: %.5f CV std: %.5f roc_auc 0.994294930875576 0.006767943324947326\n",
            "\n",
            "Average precision-recall score: 0.99\n",
            "╒════════════════════════╤═══════════════════════╕\n",
            "│ Metric                 │   Testing Performance │\n",
            "╞════════════════════════╪═══════════════════════╡\n",
            "│ accuracy               │             0.959064  │\n",
            "├────────────────────────┼───────────────────────┤\n",
            "│ precision              │             0.964912  │\n",
            "├────────────────────────┼───────────────────────┤\n",
            "│ recall                 │             0.916667  │\n",
            "├────────────────────────┼───────────────────────┤\n",
            "│ misclassification rate │             0.0409357 │\n",
            "├────────────────────────┼───────────────────────┤\n",
            "│ F1                     │             0.940171  │\n",
            "├────────────────────────┼───────────────────────┤\n",
            "│ r2                     │             0.82027   │\n",
            "├────────────────────────┼───────────────────────┤\n",
            "│ AUC                    │             0.949324  │\n",
            "├────────────────────────┼───────────────────────┤\n",
            "│ mse                    │             0.0409357 │\n",
            "├────────────────────────┼───────────────────────┤\n",
            "│ logloss                │             1.41388   │\n",
            "╘════════════════════════╧═══════════════════════╛\n",
            "\n",
            "Classification report:\n",
            "               precision    recall  f1-score   support\n",
            "\n",
            "           0       0.96      0.98      0.97       111\n",
            "           1       0.96      0.92      0.94        60\n",
            "\n",
            "    accuracy                           0.96       171\n",
            "   macro avg       0.96      0.95      0.95       171\n",
            "weighted avg       0.96      0.96      0.96       171\n",
            "\n",
            "\n",
            "Correct classifications on test data: 164/171   95.906%\n"
          ]
        },
        {
          "output_type": "display_data",
          "data": {
            "image/png": "[encoded data removed]",
            "text/plain": [
              "<Figure size 432x288 with 2 Axes>"
            ]
          },
          "metadata": {
            "needs_background": "light"
          }
        },
        {
          "output_type": "display_data",
          "data": {
            "image/png": "[encoded data removed]",
            "text/plain": [
              "<Figure size 720x360 with 2 Axes>"
            ]
          },
          "metadata": {
            "needs_background": "light"
          }
        },
        {
          "output_type": "stream",
          "name": "stdout",
          "text": [
            "\n"
          ]
        },
        {
          "output_type": "stream",
          "name": "stderr",
          "text": [
            "[Parallel(n_jobs=2)]: Using backend LokyBackend with 2 concurrent workers.\n",
            "[Parallel(n_jobs=2)]: Done   5 out of   5 | elapsed:    0.8s finished\n",
            "[Parallel(n_jobs=2)]: Using backend LokyBackend with 2 concurrent workers.\n"
          ]
        },
        {
          "output_type": "stream",
          "name": "stdout",
          "text": [
            "---------------------------------------------------------------------\n",
            "Random Forest Classifier\n",
            "---------------------------------------------------------------------\n",
            "Cross Validation scores on training data\n",
            "Scoring Name: CV mean: %.5f CV std: %.5f accuracy 0.952373417721519 0.038978556054299805\n",
            "\n"
          ]
        },
        {
          "output_type": "stream",
          "name": "stderr",
          "text": [
            "[Parallel(n_jobs=2)]: Done   5 out of   5 | elapsed:    0.8s finished\n",
            "[Parallel(n_jobs=2)]: Using backend LokyBackend with 2 concurrent workers.\n"
          ]
        },
        {
          "output_type": "stream",
          "name": "stdout",
          "text": [
            "---------------------------------------------------------------------\n",
            "Random Forest Classifier\n",
            "---------------------------------------------------------------------\n",
            "Cross Validation scores on training data\n",
            "Scoring Name: CV mean: %.5f CV std: %.5f precision 0.9397619047619047 0.06164597924738982\n",
            "\n"
          ]
        },
        {
          "output_type": "stream",
          "name": "stderr",
          "text": [
            "[Parallel(n_jobs=2)]: Done   5 out of   5 | elapsed:    0.8s finished\n",
            "[Parallel(n_jobs=2)]: Using backend LokyBackend with 2 concurrent workers.\n"
          ]
        },
        {
          "output_type": "stream",
          "name": "stdout",
          "text": [
            "---------------------------------------------------------------------\n",
            "Random Forest Classifier\n",
            "---------------------------------------------------------------------\n",
            "Cross Validation scores on training data\n",
            "Scoring Name: CV mean: %.5f CV std: %.5f recall 0.9408602150537634 0.012939018457196846\n",
            "\n"
          ]
        },
        {
          "output_type": "stream",
          "name": "stderr",
          "text": [
            "[Parallel(n_jobs=2)]: Done   5 out of   5 | elapsed:    0.8s finished\n",
            "[Parallel(n_jobs=2)]: Using backend LokyBackend with 2 concurrent workers.\n"
          ]
        },
        {
          "output_type": "stream",
          "name": "stdout",
          "text": [
            "---------------------------------------------------------------------\n",
            "Random Forest Classifier\n",
            "---------------------------------------------------------------------\n",
            "Cross Validation scores on training data\n",
            "Scoring Name: CV mean: %.5f CV std: %.5f f1 0.9346815087524313 0.0348273224683974\n",
            "\n"
          ]
        },
        {
          "output_type": "stream",
          "name": "stderr",
          "text": [
            "[Parallel(n_jobs=2)]: Done   5 out of   5 | elapsed:    0.8s finished\n",
            "[Parallel(n_jobs=2)]: Using backend LokyBackend with 2 concurrent workers.\n"
          ]
        },
        {
          "output_type": "stream",
          "name": "stdout",
          "text": [
            "---------------------------------------------------------------------\n",
            "Random Forest Classifier\n",
            "---------------------------------------------------------------------\n",
            "Cross Validation scores on training data\n",
            "Scoring Name: CV mean: %.5f CV std: %.5f average_precision 0.988158242066476 0.010958388145986504\n",
            "\n"
          ]
        },
        {
          "output_type": "stream",
          "name": "stderr",
          "text": [
            "[Parallel(n_jobs=2)]: Done   5 out of   5 | elapsed:    0.8s finished\n"
          ]
        },
        {
          "output_type": "stream",
          "name": "stdout",
          "text": [
            "---------------------------------------------------------------------\n",
            "Random Forest Classifier\n",
            "---------------------------------------------------------------------\n",
            "Cross Validation scores on training data\n",
            "Scoring Name: CV mean: %.5f CV std: %.5f roc_auc 0.9916222075927145 0.007922327291841181\n",
            "\n",
            "Average precision-recall score: 0.98\n",
            "╒════════════════════════╤═══════════════════════╕\n",
            "│ Metric                 │   Testing Performance │\n",
            "╞════════════════════════╪═══════════════════════╡\n",
            "│ accuracy               │             0.953216  │\n",
            "├────────────────────────┼───────────────────────┤\n",
            "│ precision              │             0.948276  │\n",
            "├────────────────────────┼───────────────────────┤\n",
            "│ recall                 │             0.916667  │\n",
            "├────────────────────────┼───────────────────────┤\n",
            "│ misclassification rate │             0.0467836 │\n",
            "├────────────────────────┼───────────────────────┤\n",
            "│ F1                     │             0.932203  │\n",
            "├────────────────────────┼───────────────────────┤\n",
            "│ r2                     │             0.794595  │\n",
            "├────────────────────────┼───────────────────────┤\n",
            "│ AUC                    │             0.94482   │\n",
            "├────────────────────────┼───────────────────────┤\n",
            "│ mse                    │             0.0467836 │\n",
            "├────────────────────────┼───────────────────────┤\n",
            "│ logloss                │             1.61586   │\n",
            "╘════════════════════════╧═══════════════════════╛\n",
            "\n",
            "Classification report:\n",
            "               precision    recall  f1-score   support\n",
            "\n",
            "           0       0.96      0.97      0.96       111\n",
            "           1       0.95      0.92      0.93        60\n",
            "\n",
            "    accuracy                           0.95       171\n",
            "   macro avg       0.95      0.94      0.95       171\n",
            "weighted avg       0.95      0.95      0.95       171\n",
            "\n",
            "\n",
            "Correct classifications on test data: 163/171   95.322%\n"
          ]
        },
        {
          "output_type": "display_data",
          "data": {
            "image/png": "[encoded data removed]",
            "text/plain": [
              "<Figure size 432x288 with 2 Axes>"
            ]
          },
          "metadata": {
            "needs_background": "light"
          }
        },
        {
          "output_type": "display_data",
          "data": {
            "image/png": "[encoded data removed]",
            "text/plain": [
              "<Figure size 720x360 with 2 Axes>"
            ]
          },
          "metadata": {
            "needs_background": "light"
          }
        },
        {
          "output_type": "stream",
          "name": "stdout",
          "text": [
            "\n"
          ]
        },
        {
          "output_type": "stream",
          "name": "stderr",
          "text": [
            "[Parallel(n_jobs=2)]: Using backend LokyBackend with 2 concurrent workers.\n",
            "[Parallel(n_jobs=2)]: Done   5 out of   5 | elapsed:    0.8s finished\n",
            "[Parallel(n_jobs=2)]: Using backend LokyBackend with 2 concurrent workers.\n"
          ]
        },
        {
          "output_type": "stream",
          "name": "stdout",
          "text": [
            "---------------------------------------------------------------------\n",
            "Gradient Boosting Classifier\n",
            "---------------------------------------------------------------------\n",
            "Cross Validation scores on training data\n",
            "Scoring Name: CV mean: %.5f CV std: %.5f accuracy 0.9547784810126583 0.024493221138709397\n",
            "\n"
          ]
        },
        {
          "output_type": "stream",
          "name": "stderr",
          "text": [
            "[Parallel(n_jobs=2)]: Done   5 out of   5 | elapsed:    0.8s finished\n",
            "[Parallel(n_jobs=2)]: Using backend LokyBackend with 2 concurrent workers.\n"
          ]
        },
        {
          "output_type": "stream",
          "name": "stdout",
          "text": [
            "---------------------------------------------------------------------\n",
            "Gradient Boosting Classifier\n",
            "---------------------------------------------------------------------\n",
            "Cross Validation scores on training data\n",
            "Scoring Name: CV mean: %.5f CV std: %.5f precision 0.9376389265383572 0.04854266613219397\n",
            "\n"
          ]
        },
        {
          "output_type": "stream",
          "name": "stderr",
          "text": [
            "[Parallel(n_jobs=2)]: Done   5 out of   5 | elapsed:    0.8s finished\n",
            "[Parallel(n_jobs=2)]: Using backend LokyBackend with 2 concurrent workers.\n"
          ]
        },
        {
          "output_type": "stream",
          "name": "stdout",
          "text": [
            "---------------------------------------------------------------------\n",
            "Gradient Boosting Classifier\n",
            "---------------------------------------------------------------------\n",
            "Cross Validation scores on training data\n",
            "Scoring Name: CV mean: %.5f CV std: %.5f recall 0.9473118279569892 0.02662674778370967\n",
            "\n"
          ]
        },
        {
          "output_type": "stream",
          "name": "stderr",
          "text": [
            "[Parallel(n_jobs=2)]: Done   5 out of   5 | elapsed:    0.8s finished\n",
            "[Parallel(n_jobs=2)]: Using backend LokyBackend with 2 concurrent workers.\n"
          ]
        },
        {
          "output_type": "stream",
          "name": "stdout",
          "text": [
            "---------------------------------------------------------------------\n",
            "Gradient Boosting Classifier\n",
            "---------------------------------------------------------------------\n",
            "Cross Validation scores on training data\n",
            "Scoring Name: CV mean: %.5f CV std: %.5f f1 0.9417176153411313 0.029919385543328667\n",
            "\n"
          ]
        },
        {
          "output_type": "stream",
          "name": "stderr",
          "text": [
            "[Parallel(n_jobs=2)]: Done   5 out of   5 | elapsed:    0.9s finished\n",
            "[Parallel(n_jobs=2)]: Using backend LokyBackend with 2 concurrent workers.\n"
          ]
        },
        {
          "output_type": "stream",
          "name": "stdout",
          "text": [
            "---------------------------------------------------------------------\n",
            "Gradient Boosting Classifier\n",
            "---------------------------------------------------------------------\n",
            "Cross Validation scores on training data\n",
            "Scoring Name: CV mean: %.5f CV std: %.5f average_precision 0.9864414390971223 0.01391099866765725\n",
            "\n"
          ]
        },
        {
          "output_type": "stream",
          "name": "stderr",
          "text": [
            "[Parallel(n_jobs=2)]: Done   5 out of   5 | elapsed:    0.8s finished\n"
          ]
        },
        {
          "output_type": "stream",
          "name": "stdout",
          "text": [
            "---------------------------------------------------------------------\n",
            "Gradient Boosting Classifier\n",
            "---------------------------------------------------------------------\n",
            "Cross Validation scores on training data\n",
            "Scoring Name: CV mean: %.5f CV std: %.5f roc_auc 0.9917569453587886 0.008573408438324047\n",
            "\n",
            "Average precision-recall score: 0.97\n",
            "╒════════════════════════╤═══════════════════════╕\n",
            "│ Metric                 │   Testing Performance │\n",
            "╞════════════════════════╪═══════════════════════╡\n",
            "│ accuracy               │             0.912281  │\n",
            "├────────────────────────┼───────────────────────┤\n",
            "│ precision              │             0.881356  │\n",
            "├────────────────────────┼───────────────────────┤\n",
            "│ recall                 │             0.866667  │\n",
            "├────────────────────────┼───────────────────────┤\n",
            "│ misclassification rate │             0.0877193 │\n",
            "├────────────────────────┼───────────────────────┤\n",
            "│ F1                     │             0.87395   │\n",
            "├────────────────────────┼───────────────────────┤\n",
            "│ r2                     │             0.614865  │\n",
            "├────────────────────────┼───────────────────────┤\n",
            "│ AUC                    │             0.901802  │\n",
            "├────────────────────────┼───────────────────────┤\n",
            "│ mse                    │             0.0877193 │\n",
            "├────────────────────────┼───────────────────────┤\n",
            "│ logloss                │             3.02975   │\n",
            "╘════════════════════════╧═══════════════════════╛\n",
            "\n",
            "Classification report:\n",
            "               precision    recall  f1-score   support\n",
            "\n",
            "           0       0.93      0.94      0.93       111\n",
            "           1       0.88      0.87      0.87        60\n",
            "\n",
            "    accuracy                           0.91       171\n",
            "   macro avg       0.90      0.90      0.90       171\n",
            "weighted avg       0.91      0.91      0.91       171\n",
            "\n",
            "\n",
            "Correct classifications on test data: 156/171   91.228%\n"
          ]
        },
        {
          "output_type": "display_data",
          "data": {
            "image/png": "[encoded data removed]",
            "text/plain": [
              "<Figure size 432x288 with 2 Axes>"
            ]
          },
          "metadata": {
            "needs_background": "light"
          }
        },
        {
          "output_type": "display_data",
          "data": {
            "image/png": "[encoded data removed]",
            "text/plain": [
              "<Figure size 720x360 with 2 Axes>"
            ]
          },
          "metadata": {
            "needs_background": "light"
          }
        },
        {
          "output_type": "stream",
          "name": "stdout",
          "text": [
            "\n"
          ]
        },
        {
          "output_type": "stream",
          "name": "stderr",
          "text": [
            "[Parallel(n_jobs=2)]: Using backend LokyBackend with 2 concurrent workers.\n",
            "[Parallel(n_jobs=2)]: Done   5 out of   5 | elapsed:    0.5s finished\n",
            "[Parallel(n_jobs=2)]: Using backend LokyBackend with 2 concurrent workers.\n"
          ]
        },
        {
          "output_type": "stream",
          "name": "stdout",
          "text": [
            "---------------------------------------------------------------------\n",
            "Extra Trees Classifier\n",
            "---------------------------------------------------------------------\n",
            "Cross Validation scores on training data\n",
            "Scoring Name: CV mean: %.5f CV std: %.5f accuracy 0.9599050632911392 0.02993955214372616\n",
            "\n"
          ]
        },
        {
          "output_type": "stream",
          "name": "stderr",
          "text": [
            "[Parallel(n_jobs=2)]: Done   5 out of   5 | elapsed:    0.5s finished\n",
            "[Parallel(n_jobs=2)]: Using backend LokyBackend with 2 concurrent workers.\n"
          ]
        },
        {
          "output_type": "stream",
          "name": "stdout",
          "text": [
            "---------------------------------------------------------------------\n",
            "Extra Trees Classifier\n",
            "---------------------------------------------------------------------\n",
            "Cross Validation scores on training data\n",
            "Scoring Name: CV mean: %.5f CV std: %.5f precision 0.9442461122379987 0.0655236479276049\n",
            "\n"
          ]
        },
        {
          "output_type": "stream",
          "name": "stderr",
          "text": [
            "[Parallel(n_jobs=2)]: Done   5 out of   5 | elapsed:    0.5s finished\n",
            "[Parallel(n_jobs=2)]: Using backend LokyBackend with 2 concurrent workers.\n"
          ]
        },
        {
          "output_type": "stream",
          "name": "stdout",
          "text": [
            "---------------------------------------------------------------------\n",
            "Extra Trees Classifier\n",
            "---------------------------------------------------------------------\n",
            "Cross Validation scores on training data\n",
            "Scoring Name: CV mean: %.5f CV std: %.5f recall 0.9344086021505376 0.040990172506454696\n",
            "\n"
          ]
        },
        {
          "output_type": "stream",
          "name": "stderr",
          "text": [
            "[Parallel(n_jobs=2)]: Done   5 out of   5 | elapsed:    0.5s finished\n",
            "[Parallel(n_jobs=2)]: Using backend LokyBackend with 2 concurrent workers.\n"
          ]
        },
        {
          "output_type": "stream",
          "name": "stdout",
          "text": [
            "---------------------------------------------------------------------\n",
            "Extra Trees Classifier\n",
            "---------------------------------------------------------------------\n",
            "Cross Validation scores on training data\n",
            "Scoring Name: CV mean: %.5f CV std: %.5f f1 0.9503626754146163 0.03591654520358239\n",
            "\n"
          ]
        },
        {
          "output_type": "stream",
          "name": "stderr",
          "text": [
            "[Parallel(n_jobs=2)]: Done   5 out of   5 | elapsed:    0.5s finished\n",
            "[Parallel(n_jobs=2)]: Using backend LokyBackend with 2 concurrent workers.\n"
          ]
        },
        {
          "output_type": "stream",
          "name": "stdout",
          "text": [
            "---------------------------------------------------------------------\n",
            "Extra Trees Classifier\n",
            "---------------------------------------------------------------------\n",
            "Cross Validation scores on training data\n",
            "Scoring Name: CV mean: %.5f CV std: %.5f average_precision 0.9883630515367956 0.009023716448885749\n",
            "\n"
          ]
        },
        {
          "output_type": "stream",
          "name": "stderr",
          "text": [
            "[Parallel(n_jobs=2)]: Done   5 out of   5 | elapsed:    0.5s finished\n"
          ]
        },
        {
          "output_type": "stream",
          "name": "stdout",
          "text": [
            "---------------------------------------------------------------------\n",
            "Extra Trees Classifier\n",
            "---------------------------------------------------------------------\n",
            "Cross Validation scores on training data\n",
            "Scoring Name: CV mean: %.5f CV std: %.5f roc_auc 0.9895285933728332 0.008458273521886243\n",
            "\n",
            "Average precision-recall score: 0.98\n",
            "╒════════════════════════╤═══════════════════════╕\n",
            "│ Metric                 │   Testing Performance │\n",
            "╞════════════════════════╪═══════════════════════╡\n",
            "│ accuracy               │             0.959064  │\n",
            "├────────────────────────┼───────────────────────┤\n",
            "│ precision              │             0.949153  │\n",
            "├────────────────────────┼───────────────────────┤\n",
            "│ recall                 │             0.933333  │\n",
            "├────────────────────────┼───────────────────────┤\n",
            "│ misclassification rate │             0.0409357 │\n",
            "├────────────────────────┼───────────────────────┤\n",
            "│ F1                     │             0.941176  │\n",
            "├────────────────────────┼───────────────────────┤\n",
            "│ r2                     │             0.82027   │\n",
            "├────────────────────────┼───────────────────────┤\n",
            "│ AUC                    │             0.953153  │\n",
            "├────────────────────────┼───────────────────────┤\n",
            "│ mse                    │             0.0409357 │\n",
            "├────────────────────────┼───────────────────────┤\n",
            "│ logloss                │             1.41388   │\n",
            "╘════════════════════════╧═══════════════════════╛\n",
            "\n",
            "Classification report:\n",
            "               precision    recall  f1-score   support\n",
            "\n",
            "           0       0.96      0.97      0.97       111\n",
            "           1       0.95      0.93      0.94        60\n",
            "\n",
            "    accuracy                           0.96       171\n",
            "   macro avg       0.96      0.95      0.95       171\n",
            "weighted avg       0.96      0.96      0.96       171\n",
            "\n",
            "\n",
            "Correct classifications on test data: 164/171   95.906%\n"
          ]
        },
        {
          "output_type": "display_data",
          "data": {
            "image/png": "[encoded data removed]",
            "text/plain": [
              "<Figure size 432x288 with 2 Axes>"
            ]
          },
          "metadata": {
            "needs_background": "light"
          }
        },
        {
          "output_type": "display_data",
          "data": {
            "image/png": "[encoded data removed]",
            "text/plain": [
              "<Figure size 720x360 with 2 Axes>"
            ]
          },
          "metadata": {
            "needs_background": "light"
          }
        },
        {
          "output_type": "stream",
          "name": "stdout",
          "text": [
            "\n"
          ]
        },
        {
          "output_type": "stream",
          "name": "stderr",
          "text": [
            "[Parallel(n_jobs=2)]: Using backend LokyBackend with 2 concurrent workers.\n",
            "[Parallel(n_jobs=2)]: Done   5 out of   5 | elapsed:    0.2s finished\n",
            "[Parallel(n_jobs=2)]: Using backend LokyBackend with 2 concurrent workers.\n"
          ]
        },
        {
          "output_type": "stream",
          "name": "stdout",
          "text": [
            "---------------------------------------------------------------------\n",
            "XGB Classifier\n",
            "---------------------------------------------------------------------\n",
            "Cross Validation scores on training data\n",
            "Scoring Name: CV mean: %.5f CV std: %.5f accuracy 0.9548101265822784 0.036704304605949346\n",
            "\n"
          ]
        },
        {
          "output_type": "stream",
          "name": "stderr",
          "text": [
            "[Parallel(n_jobs=2)]: Done   5 out of   5 | elapsed:    0.2s finished\n",
            "[Parallel(n_jobs=2)]: Using backend LokyBackend with 2 concurrent workers.\n"
          ]
        },
        {
          "output_type": "stream",
          "name": "stdout",
          "text": [
            "---------------------------------------------------------------------\n",
            "XGB Classifier\n",
            "---------------------------------------------------------------------\n",
            "Cross Validation scores on training data\n",
            "Scoring Name: CV mean: %.5f CV std: %.5f precision 0.9320028790159001 0.05922423263189786\n",
            "\n"
          ]
        },
        {
          "output_type": "stream",
          "name": "stderr",
          "text": [
            "[Parallel(n_jobs=2)]: Done   5 out of   5 | elapsed:    0.2s finished\n",
            "[Parallel(n_jobs=2)]: Using backend LokyBackend with 2 concurrent workers.\n"
          ]
        },
        {
          "output_type": "stream",
          "name": "stdout",
          "text": [
            "---------------------------------------------------------------------\n",
            "XGB Classifier\n",
            "---------------------------------------------------------------------\n",
            "Cross Validation scores on training data\n",
            "Scoring Name: CV mean: %.5f CV std: %.5f recall 0.953978494623656 0.03299095760381326\n",
            "\n"
          ]
        },
        {
          "output_type": "stream",
          "name": "stderr",
          "text": [
            "[Parallel(n_jobs=2)]: Done   5 out of   5 | elapsed:    0.2s finished\n",
            "[Parallel(n_jobs=2)]: Using backend LokyBackend with 2 concurrent workers.\n"
          ]
        },
        {
          "output_type": "stream",
          "name": "stdout",
          "text": [
            "---------------------------------------------------------------------\n",
            "XGB Classifier\n",
            "---------------------------------------------------------------------\n",
            "Cross Validation scores on training data\n",
            "Scoring Name: CV mean: %.5f CV std: %.5f f1 0.9424660696347276 0.044818980716819744\n",
            "\n"
          ]
        },
        {
          "output_type": "stream",
          "name": "stderr",
          "text": [
            "[Parallel(n_jobs=2)]: Done   5 out of   5 | elapsed:    0.2s finished\n",
            "[Parallel(n_jobs=2)]: Using backend LokyBackend with 2 concurrent workers.\n"
          ]
        },
        {
          "output_type": "stream",
          "name": "stdout",
          "text": [
            "---------------------------------------------------------------------\n",
            "XGB Classifier\n",
            "---------------------------------------------------------------------\n",
            "Cross Validation scores on training data\n",
            "Scoring Name: CV mean: %.5f CV std: %.5f average_precision 0.9863025553281487 0.010567948212371874\n",
            "\n"
          ]
        },
        {
          "output_type": "stream",
          "name": "stderr",
          "text": [
            "[Parallel(n_jobs=2)]: Done   5 out of   5 | elapsed:    0.2s finished\n"
          ]
        },
        {
          "output_type": "stream",
          "name": "stdout",
          "text": [
            "---------------------------------------------------------------------\n",
            "XGB Classifier\n",
            "---------------------------------------------------------------------\n",
            "Cross Validation scores on training data\n",
            "Scoring Name: CV mean: %.5f CV std: %.5f roc_auc 0.9898674566600836 0.00832131695181983\n",
            "\n",
            "Average precision-recall score: 0.98\n",
            "╒════════════════════════╤═══════════════════════╕\n",
            "│ Metric                 │   Testing Performance │\n",
            "╞════════════════════════╪═══════════════════════╡\n",
            "│ accuracy               │             0.964912  │\n",
            "├────────────────────────┼───────────────────────┤\n",
            "│ precision              │             0.95      │\n",
            "├────────────────────────┼───────────────────────┤\n",
            "│ recall                 │             0.95      │\n",
            "├────────────────────────┼───────────────────────┤\n",
            "│ misclassification rate │             0.0350877 │\n",
            "├────────────────────────┼───────────────────────┤\n",
            "│ F1                     │             0.95      │\n",
            "├────────────────────────┼───────────────────────┤\n",
            "│ r2                     │             0.845946  │\n",
            "├────────────────────────┼───────────────────────┤\n",
            "│ AUC                    │             0.961486  │\n",
            "├────────────────────────┼───────────────────────┤\n",
            "│ mse                    │             0.0350877 │\n",
            "├────────────────────────┼───────────────────────┤\n",
            "│ logloss                │             1.2119    │\n",
            "╘════════════════════════╧═══════════════════════╛\n",
            "\n",
            "Classification report:\n",
            "               precision    recall  f1-score   support\n",
            "\n",
            "           0       0.97      0.97      0.97       111\n",
            "           1       0.95      0.95      0.95        60\n",
            "\n",
            "    accuracy                           0.96       171\n",
            "   macro avg       0.96      0.96      0.96       171\n",
            "weighted avg       0.96      0.96      0.96       171\n",
            "\n",
            "\n",
            "Correct classifications on test data: 165/171   96.491%\n"
          ]
        },
        {
          "output_type": "display_data",
          "data": {
            "image/png": "[encoded data removed]",
            "text/plain": [
              "<Figure size 432x288 with 2 Axes>"
            ]
          },
          "metadata": {
            "needs_background": "light"
          }
        },
        {
          "output_type": "display_data",
          "data": {
            "image/png": "[encoded data removed]",
            "text/plain": [
              "<Figure size 720x360 with 2 Axes>"
            ]
          },
          "metadata": {
            "needs_background": "light"
          }
        },
        {
          "output_type": "stream",
          "name": "stdout",
          "text": [
            "\n",
            "---------------------------------------------------------------------\n",
            "KNeighbors Classifier\n",
            "---------------------------------------------------------------------\n",
            "Cross Validation scores on training data\n",
            "Scoring Name: CV mean: %.5f CV std: %.5f accuracy 0.9498101265822785 0.030567949478675804\n",
            "\n",
            "---------------------------------------------------------------------\n",
            "KNeighbors Classifier\n",
            "---------------------------------------------------------------------\n",
            "Cross Validation scores on training data\n",
            "Scoring Name: CV mean: %.5f CV std: %.5f precision 0.941650444938821 0.051324995490328144\n",
            "\n",
            "---------------------------------------------------------------------\n",
            "KNeighbors Classifier\n",
            "---------------------------------------------------------------------\n",
            "Cross Validation scores on training data\n",
            "Scoring Name: CV mean: %.5f CV std: %.5f recall 0.927741935483871 0.0377870942651717\n",
            "\n",
            "---------------------------------------------------------------------\n",
            "KNeighbors Classifier\n",
            "---------------------------------------------------------------------\n",
            "Cross Validation scores on training data\n",
            "Scoring Name: CV mean: %.5f CV std: %.5f f1 0.9341659297895442 0.03944789075451078\n",
            "\n"
          ]
        },
        {
          "output_type": "stream",
          "name": "stderr",
          "text": [
            "[Parallel(n_jobs=2)]: Using backend LokyBackend with 2 concurrent workers.\n",
            "[Parallel(n_jobs=2)]: Done   5 out of   5 | elapsed:    0.0s finished\n",
            "[Parallel(n_jobs=2)]: Using backend LokyBackend with 2 concurrent workers.\n",
            "[Parallel(n_jobs=2)]: Done   5 out of   5 | elapsed:    0.0s finished\n",
            "[Parallel(n_jobs=2)]: Using backend LokyBackend with 2 concurrent workers.\n",
            "[Parallel(n_jobs=2)]: Done   5 out of   5 | elapsed:    0.0s finished\n",
            "[Parallel(n_jobs=2)]: Using backend LokyBackend with 2 concurrent workers.\n",
            "[Parallel(n_jobs=2)]: Done   5 out of   5 | elapsed:    0.0s finished\n",
            "[Parallel(n_jobs=2)]: Using backend LokyBackend with 2 concurrent workers.\n",
            "[Parallel(n_jobs=2)]: Done   5 out of   5 | elapsed:    0.0s finished\n",
            "[Parallel(n_jobs=2)]: Using backend LokyBackend with 2 concurrent workers.\n",
            "[Parallel(n_jobs=2)]: Done   5 out of   5 | elapsed:    0.0s finished\n"
          ]
        },
        {
          "output_type": "stream",
          "name": "stdout",
          "text": [
            "---------------------------------------------------------------------\n",
            "KNeighbors Classifier\n",
            "---------------------------------------------------------------------\n",
            "Cross Validation scores on training data\n",
            "Scoring Name: CV mean: %.5f CV std: %.5f average_precision 0.9711501944648664 0.02692523267984865\n",
            "\n",
            "---------------------------------------------------------------------\n",
            "KNeighbors Classifier\n",
            "---------------------------------------------------------------------\n",
            "Cross Validation scores on training data\n",
            "Scoring Name: CV mean: %.5f CV std: %.5f roc_auc 0.9786375246872943 0.0196058739758022\n",
            "\n",
            "Average precision-recall score: 0.97\n",
            "╒════════════════════════╤═══════════════════════╕\n",
            "│ Metric                 │   Testing Performance │\n",
            "╞════════════════════════╪═══════════════════════╡\n",
            "│ accuracy               │             0.947368  │\n",
            "├────────────────────────┼───────────────────────┤\n",
            "│ precision              │             0.963636  │\n",
            "├────────────────────────┼───────────────────────┤\n",
            "│ recall                 │             0.883333  │\n",
            "├────────────────────────┼───────────────────────┤\n",
            "│ misclassification rate │             0.0526316 │\n",
            "├────────────────────────┼───────────────────────┤\n",
            "│ F1                     │             0.921739  │\n",
            "├────────────────────────┼───────────────────────┤\n",
            "│ r2                     │             0.768919  │\n",
            "├────────────────────────┼───────────────────────┤\n",
            "│ AUC                    │             0.932658  │\n",
            "├────────────────────────┼───────────────────────┤\n",
            "│ mse                    │             0.0526316 │\n",
            "├────────────────────────┼───────────────────────┤\n",
            "│ logloss                │             1.81784   │\n",
            "╘════════════════════════╧═══════════════════════╛\n",
            "\n",
            "Classification report:\n",
            "               precision    recall  f1-score   support\n",
            "\n",
            "           0       0.94      0.98      0.96       111\n",
            "           1       0.96      0.88      0.92        60\n",
            "\n",
            "    accuracy                           0.95       171\n",
            "   macro avg       0.95      0.93      0.94       171\n",
            "weighted avg       0.95      0.95      0.95       171\n",
            "\n",
            "\n",
            "Correct classifications on test data: 162/171   94.737%\n"
          ]
        },
        {
          "output_type": "display_data",
          "data": {
            "image/png": "[encoded data removed]",
            "text/plain": [
              "<Figure size 432x288 with 2 Axes>"
            ]
          },
          "metadata": {
            "needs_background": "light"
          }
        },
        {
          "output_type": "display_data",
          "data": {
            "image/png": "[encoded data removed]",
            "text/plain": [
              "<Figure size 720x360 with 2 Axes>"
            ]
          },
          "metadata": {
            "needs_background": "light"
          }
        },
        {
          "output_type": "stream",
          "name": "stdout",
          "text": [
            "\n",
            "---------------------------------------------------------------------\n",
            "SVM Classifier\n",
            "---------------------------------------------------------------------\n",
            "Cross Validation scores on training data\n",
            "Scoring Name: CV mean: %.5f CV std: %.5f accuracy 0.959873417721519 0.024160433900396072\n",
            "\n",
            "---------------------------------------------------------------------\n",
            "SVM Classifier\n",
            "---------------------------------------------------------------------\n",
            "Cross Validation scores on training data\n",
            "Scoring Name: CV mean: %.5f CV std: %.5f precision 0.9489784946236559 0.042244655729223986\n",
            "\n"
          ]
        },
        {
          "output_type": "stream",
          "name": "stderr",
          "text": [
            "[Parallel(n_jobs=2)]: Using backend LokyBackend with 2 concurrent workers.\n",
            "[Parallel(n_jobs=2)]: Done   5 out of   5 | elapsed:    0.1s finished\n",
            "[Parallel(n_jobs=2)]: Using backend LokyBackend with 2 concurrent workers.\n",
            "[Parallel(n_jobs=2)]: Done   5 out of   5 | elapsed:    0.1s finished\n",
            "[Parallel(n_jobs=2)]: Using backend LokyBackend with 2 concurrent workers.\n",
            "[Parallel(n_jobs=2)]: Done   5 out of   5 | elapsed:    0.1s finished\n",
            "[Parallel(n_jobs=2)]: Using backend LokyBackend with 2 concurrent workers.\n",
            "[Parallel(n_jobs=2)]: Done   5 out of   5 | elapsed:    0.1s finished\n",
            "[Parallel(n_jobs=2)]: Using backend LokyBackend with 2 concurrent workers.\n",
            "[Parallel(n_jobs=2)]: Done   5 out of   5 | elapsed:    0.1s finished\n",
            "[Parallel(n_jobs=2)]: Using backend LokyBackend with 2 concurrent workers.\n"
          ]
        },
        {
          "output_type": "stream",
          "name": "stdout",
          "text": [
            "---------------------------------------------------------------------\n",
            "SVM Classifier\n",
            "---------------------------------------------------------------------\n",
            "Cross Validation scores on training data\n",
            "Scoring Name: CV mean: %.5f CV std: %.5f recall 0.9475268817204302 0.025711294094329207\n",
            "\n",
            "---------------------------------------------------------------------\n",
            "SVM Classifier\n",
            "---------------------------------------------------------------------\n",
            "Cross Validation scores on training data\n",
            "Scoring Name: CV mean: %.5f CV std: %.5f f1 0.947926880909977 0.03015655644249013\n",
            "\n",
            "---------------------------------------------------------------------\n",
            "SVM Classifier\n",
            "---------------------------------------------------------------------\n",
            "Cross Validation scores on training data\n",
            "Scoring Name: CV mean: %.5f CV std: %.5f average_precision 0.9883307394102978 0.011410453169872069\n",
            "\n"
          ]
        },
        {
          "output_type": "stream",
          "name": "stderr",
          "text": [
            "[Parallel(n_jobs=2)]: Done   5 out of   5 | elapsed:    0.1s finished\n"
          ]
        },
        {
          "output_type": "stream",
          "name": "stdout",
          "text": [
            "---------------------------------------------------------------------\n",
            "SVM Classifier\n",
            "---------------------------------------------------------------------\n",
            "Cross Validation scores on training data\n",
            "Scoring Name: CV mean: %.5f CV std: %.5f roc_auc 0.9897637919684004 0.010723910678778604\n",
            "\n",
            "Average precision-recall score: 0.98\n",
            "╒════════════════════════╤═══════════════════════╕\n",
            "│ Metric                 │   Testing Performance │\n",
            "╞════════════════════════╪═══════════════════════╡\n",
            "│ accuracy               │             0.953216  │\n",
            "├────────────────────────┼───────────────────────┤\n",
            "│ precision              │             0.964286  │\n",
            "├────────────────────────┼───────────────────────┤\n",
            "│ recall                 │             0.9       │\n",
            "├────────────────────────┼───────────────────────┤\n",
            "│ misclassification rate │             0.0467836 │\n",
            "├────────────────────────┼───────────────────────┤\n",
            "│ F1                     │             0.931034  │\n",
            "├────────────────────────┼───────────────────────┤\n",
            "│ r2                     │             0.794595  │\n",
            "├────────────────────────┼───────────────────────┤\n",
            "│ AUC                    │             0.940991  │\n",
            "├────────────────────────┼───────────────────────┤\n",
            "│ mse                    │             0.0467836 │\n",
            "├────────────────────────┼───────────────────────┤\n",
            "│ logloss                │             1.61586   │\n",
            "╘════════════════════════╧═══════════════════════╛\n",
            "\n",
            "Classification report:\n",
            "               precision    recall  f1-score   support\n",
            "\n",
            "           0       0.95      0.98      0.96       111\n",
            "           1       0.96      0.90      0.93        60\n",
            "\n",
            "    accuracy                           0.95       171\n",
            "   macro avg       0.96      0.94      0.95       171\n",
            "weighted avg       0.95      0.95      0.95       171\n",
            "\n",
            "\n",
            "Correct classifications on test data: 163/171   95.322%\n"
          ]
        },
        {
          "output_type": "display_data",
          "data": {
            "image/png": "[encoded data removed]",
            "text/plain": [
              "<Figure size 432x288 with 2 Axes>"
            ]
          },
          "metadata": {
            "needs_background": "light"
          }
        },
        {
          "output_type": "display_data",
          "data": {
            "image/png": "[encoded data removed]",
            "text/plain": [
              "<Figure size 720x360 with 2 Axes>"
            ]
          },
          "metadata": {
            "needs_background": "light"
          }
        },
        {
          "output_type": "stream",
          "name": "stdout",
          "text": [
            "\n",
            "---------------------------------------------------------------------\n",
            "naive_bayes\n",
            "---------------------------------------------------------------------\n",
            "Cross Validation scores on training data\n",
            "Scoring Name: CV mean: %.5f CV std: %.5f accuracy 0.9322784810126581 0.05273171828342878\n",
            "\n",
            "---------------------------------------------------------------------\n",
            "naive_bayes\n",
            "---------------------------------------------------------------------\n",
            "Cross Validation scores on training data\n",
            "Scoring Name: CV mean: %.5f CV std: %.5f precision 0.9192896033186415 0.0964774795324931\n",
            "\n",
            "---------------------------------------------------------------------\n",
            "naive_bayes\n",
            "---------------------------------------------------------------------\n",
            "Cross Validation scores on training data\n",
            "Scoring Name: CV mean: %.5f CV std: %.5f recall 0.9141935483870969 0.03410077357920826\n",
            "\n",
            "---------------------------------------------------------------------\n",
            "naive_bayes\n",
            "---------------------------------------------------------------------\n",
            "Cross Validation scores on training data\n",
            "Scoring Name: CV mean: %.5f CV std: %.5f f1 0.9145047926161954 0.060482704359194714\n",
            "\n",
            "---------------------------------------------------------------------\n",
            "naive_bayes\n",
            "---------------------------------------------------------------------\n",
            "Cross Validation scores on training data\n",
            "Scoring Name: CV mean: %.5f CV std: %.5f average_precision 0.9605541512805262 0.050778770663217884\n",
            "\n",
            "---------------------------------------------------------------------\n",
            "naive_bayes\n",
            "---------------------------------------------------------------------\n",
            "Cross Validation scores on training data\n",
            "Scoring Name: CV mean: %.5f CV std: %.5f roc_auc 0.9756172920781216 0.027690412337567253\n",
            "\n"
          ]
        },
        {
          "output_type": "stream",
          "name": "stderr",
          "text": [
            "[Parallel(n_jobs=2)]: Using backend LokyBackend with 2 concurrent workers.\n",
            "[Parallel(n_jobs=2)]: Done   5 out of   5 | elapsed:    0.0s finished\n",
            "[Parallel(n_jobs=2)]: Using backend LokyBackend with 2 concurrent workers.\n",
            "[Parallel(n_jobs=2)]: Done   5 out of   5 | elapsed:    0.0s finished\n",
            "[Parallel(n_jobs=2)]: Using backend LokyBackend with 2 concurrent workers.\n",
            "[Parallel(n_jobs=2)]: Done   5 out of   5 | elapsed:    0.0s finished\n",
            "[Parallel(n_jobs=2)]: Using backend LokyBackend with 2 concurrent workers.\n",
            "[Parallel(n_jobs=2)]: Done   5 out of   5 | elapsed:    0.0s finished\n",
            "[Parallel(n_jobs=2)]: Using backend LokyBackend with 2 concurrent workers.\n",
            "[Parallel(n_jobs=2)]: Done   5 out of   5 | elapsed:    0.0s finished\n",
            "[Parallel(n_jobs=2)]: Using backend LokyBackend with 2 concurrent workers.\n",
            "[Parallel(n_jobs=2)]: Done   5 out of   5 | elapsed:    0.0s finished\n"
          ]
        },
        {
          "output_type": "stream",
          "name": "stdout",
          "text": [
            "Average precision-recall score: 0.88\n",
            "╒════════════════════════╤═══════════════════════╕\n",
            "│ Metric                 │   Testing Performance │\n",
            "╞════════════════════════╪═══════════════════════╡\n",
            "│ accuracy               │              0.888889 │\n",
            "├────────────────────────┼───────────────────────┤\n",
            "│ precision              │              0.836066 │\n",
            "├────────────────────────┼───────────────────────┤\n",
            "│ recall                 │              0.85     │\n",
            "├────────────────────────┼───────────────────────┤\n",
            "│ misclassification rate │              0.111111 │\n",
            "├────────────────────────┼───────────────────────┤\n",
            "│ F1                     │              0.842975 │\n",
            "├────────────────────────┼───────────────────────┤\n",
            "│ r2                     │              0.512162 │\n",
            "├────────────────────────┼───────────────────────┤\n",
            "│ AUC                    │              0.879955 │\n",
            "├────────────────────────┼───────────────────────┤\n",
            "│ mse                    │              0.111111 │\n",
            "├────────────────────────┼───────────────────────┤\n",
            "│ logloss                │              3.83769  │\n",
            "╘════════════════════════╧═══════════════════════╛\n",
            "\n",
            "Classification report:\n",
            "               precision    recall  f1-score   support\n",
            "\n",
            "           0       0.92      0.91      0.91       111\n",
            "           1       0.84      0.85      0.84        60\n",
            "\n",
            "    accuracy                           0.89       171\n",
            "   macro avg       0.88      0.88      0.88       171\n",
            "weighted avg       0.89      0.89      0.89       171\n",
            "\n",
            "\n",
            "Correct classifications on test data: 152/171   88.889%\n"
          ]
        },
        {
          "output_type": "display_data",
          "data": {
            "image/png": "[encoded data removed]",
            "text/plain": [
              "<Figure size 432x288 with 2 Axes>"
            ]
          },
          "metadata": {
            "needs_background": "light"
          }
        },
        {
          "output_type": "display_data",
          "data": {
            "image/png": "[encoded data removed]",
            "text/plain": [
              "<Figure size 720x360 with 2 Axes>"
            ]
          },
          "metadata": {
            "needs_background": "light"
          }
        },
        {
          "output_type": "stream",
          "name": "stdout",
          "text": [
            "\n",
            "---------------------------------------------------------------------\n",
            "Decision Tree Classifier\n",
            "---------------------------------------------------------------------\n",
            "Cross Validation scores on training data\n",
            "Scoring Name: CV mean: %.5f CV std: %.5f accuracy 0.9271518987341771 0.021458543181415532\n",
            "\n",
            "---------------------------------------------------------------------\n",
            "Decision Tree Classifier\n",
            "---------------------------------------------------------------------\n",
            "Cross Validation scores on training data\n",
            "Scoring Name: CV mean: %.5f CV std: %.5f precision 0.9131222943722944 0.05888234147160623\n",
            "\n",
            "---------------------------------------------------------------------\n",
            "Decision Tree Classifier\n",
            "---------------------------------------------------------------------\n",
            "Cross Validation scores on training data\n",
            "Scoring Name: CV mean: %.5f CV std: %.5f recall 0.9141935483870969 0.017383475593945097\n",
            "\n",
            "---------------------------------------------------------------------\n",
            "Decision Tree Classifier\n",
            "---------------------------------------------------------------------\n",
            "Cross Validation scores on training data\n",
            "Scoring Name: CV mean: %.5f CV std: %.5f f1 0.8979990254953837 0.03755691798701108\n",
            "\n",
            "---------------------------------------------------------------------\n",
            "Decision Tree Classifier\n",
            "---------------------------------------------------------------------\n",
            "Cross Validation scores on training data\n",
            "Scoring Name: CV mean: %.5f CV std: %.5f average_precision 0.8415621979225882 0.07490829564536687\n",
            "\n"
          ]
        },
        {
          "output_type": "stream",
          "name": "stderr",
          "text": [
            "[Parallel(n_jobs=2)]: Using backend LokyBackend with 2 concurrent workers.\n",
            "[Parallel(n_jobs=2)]: Done   5 out of   5 | elapsed:    0.0s finished\n",
            "[Parallel(n_jobs=2)]: Using backend LokyBackend with 2 concurrent workers.\n",
            "[Parallel(n_jobs=2)]: Done   5 out of   5 | elapsed:    0.0s finished\n",
            "[Parallel(n_jobs=2)]: Using backend LokyBackend with 2 concurrent workers.\n",
            "[Parallel(n_jobs=2)]: Done   5 out of   5 | elapsed:    0.0s finished\n",
            "[Parallel(n_jobs=2)]: Using backend LokyBackend with 2 concurrent workers.\n",
            "[Parallel(n_jobs=2)]: Done   5 out of   5 | elapsed:    0.0s finished\n",
            "[Parallel(n_jobs=2)]: Using backend LokyBackend with 2 concurrent workers.\n",
            "[Parallel(n_jobs=2)]: Done   5 out of   5 | elapsed:    0.0s finished\n",
            "[Parallel(n_jobs=2)]: Using backend LokyBackend with 2 concurrent workers.\n",
            "[Parallel(n_jobs=2)]: Done   5 out of   5 | elapsed:    0.0s finished\n"
          ]
        },
        {
          "output_type": "stream",
          "name": "stdout",
          "text": [
            "---------------------------------------------------------------------\n",
            "Decision Tree Classifier\n",
            "---------------------------------------------------------------------\n",
            "Cross Validation scores on training data\n",
            "Scoring Name: CV mean: %.5f CV std: %.5f roc_auc 0.9225402677199913 0.03143463227149307\n",
            "\n",
            "Average precision-recall score: 0.79\n",
            "╒════════════════════════╤═══════════════════════╕\n",
            "│ Metric                 │   Testing Performance │\n",
            "╞════════════════════════╪═══════════════════════╡\n",
            "│ accuracy               │             0.900585  │\n",
            "├────────────────────────┼───────────────────────┤\n",
            "│ precision              │             0.877193  │\n",
            "├────────────────────────┼───────────────────────┤\n",
            "│ recall                 │             0.833333  │\n",
            "├────────────────────────┼───────────────────────┤\n",
            "│ misclassification rate │             0.0994152 │\n",
            "├────────────────────────┼───────────────────────┤\n",
            "│ F1                     │             0.854701  │\n",
            "├────────────────────────┼───────────────────────┤\n",
            "│ r2                     │             0.563514  │\n",
            "├────────────────────────┼───────────────────────┤\n",
            "│ AUC                    │             0.885135  │\n",
            "├────────────────────────┼───────────────────────┤\n",
            "│ mse                    │             0.0994152 │\n",
            "├────────────────────────┼───────────────────────┤\n",
            "│ logloss                │             3.43371   │\n",
            "╘════════════════════════╧═══════════════════════╛\n",
            "\n",
            "Classification report:\n",
            "               precision    recall  f1-score   support\n",
            "\n",
            "           0       0.91      0.94      0.92       111\n",
            "           1       0.88      0.83      0.85        60\n",
            "\n",
            "    accuracy                           0.90       171\n",
            "   macro avg       0.89      0.89      0.89       171\n",
            "weighted avg       0.90      0.90      0.90       171\n",
            "\n",
            "\n",
            "Correct classifications on test data: 154/171   90.058%\n"
          ]
        },
        {
          "output_type": "display_data",
          "data": {
            "image/png": "[encoded data removed]",
            "text/plain": [
              "<Figure size 432x288 with 2 Axes>"
            ]
          },
          "metadata": {
            "needs_background": "light"
          }
        },
        {
          "output_type": "display_data",
          "data": {
            "image/png": "[encoded data removed]",
            "text/plain": [
              "<Figure size 720x360 with 2 Axes>"
            ]
          },
          "metadata": {
            "needs_background": "light"
          }
        },
        {
          "output_type": "stream",
          "name": "stdout",
          "text": [
            "\n"
          ]
        },
        {
          "output_type": "stream",
          "name": "stderr",
          "text": [
            "[Parallel(n_jobs=2)]: Using backend LokyBackend with 2 concurrent workers.\n"
          ]
        },
        {
          "output_type": "stream",
          "name": "stdout",
          "text": [
            "---------------------------------------------------------------------\n",
            "XGBoost Classifierr\n",
            "---------------------------------------------------------------------\n",
            "Cross Validation scores on training data\n",
            "Scoring Name: CV mean: %.5f CV std: %.5f accuracy 0.9548101265822784 0.036704304605949346\n",
            "\n"
          ]
        },
        {
          "output_type": "stream",
          "name": "stderr",
          "text": [
            "[Parallel(n_jobs=2)]: Done   5 out of   5 | elapsed:    0.2s finished\n",
            "[Parallel(n_jobs=2)]: Using backend LokyBackend with 2 concurrent workers.\n",
            "[Parallel(n_jobs=2)]: Done   5 out of   5 | elapsed:    0.2s finished\n",
            "[Parallel(n_jobs=2)]: Using backend LokyBackend with 2 concurrent workers.\n"
          ]
        },
        {
          "output_type": "stream",
          "name": "stdout",
          "text": [
            "---------------------------------------------------------------------\n",
            "XGBoost Classifierr\n",
            "---------------------------------------------------------------------\n",
            "Cross Validation scores on training data\n",
            "Scoring Name: CV mean: %.5f CV std: %.5f precision 0.9320028790159001 0.05922423263189786\n",
            "\n"
          ]
        },
        {
          "output_type": "stream",
          "name": "stderr",
          "text": [
            "[Parallel(n_jobs=2)]: Done   5 out of   5 | elapsed:    0.2s finished\n",
            "[Parallel(n_jobs=2)]: Using backend LokyBackend with 2 concurrent workers.\n"
          ]
        },
        {
          "output_type": "stream",
          "name": "stdout",
          "text": [
            "---------------------------------------------------------------------\n",
            "XGBoost Classifierr\n",
            "---------------------------------------------------------------------\n",
            "Cross Validation scores on training data\n",
            "Scoring Name: CV mean: %.5f CV std: %.5f recall 0.953978494623656 0.03299095760381326\n",
            "\n"
          ]
        },
        {
          "output_type": "stream",
          "name": "stderr",
          "text": [
            "[Parallel(n_jobs=2)]: Done   5 out of   5 | elapsed:    0.2s finished\n",
            "[Parallel(n_jobs=2)]: Using backend LokyBackend with 2 concurrent workers.\n"
          ]
        },
        {
          "output_type": "stream",
          "name": "stdout",
          "text": [
            "---------------------------------------------------------------------\n",
            "XGBoost Classifierr\n",
            "---------------------------------------------------------------------\n",
            "Cross Validation scores on training data\n",
            "Scoring Name: CV mean: %.5f CV std: %.5f f1 0.9424660696347276 0.044818980716819744\n",
            "\n"
          ]
        },
        {
          "output_type": "stream",
          "name": "stderr",
          "text": [
            "[Parallel(n_jobs=2)]: Done   5 out of   5 | elapsed:    0.2s finished\n",
            "[Parallel(n_jobs=2)]: Using backend LokyBackend with 2 concurrent workers.\n"
          ]
        },
        {
          "output_type": "stream",
          "name": "stdout",
          "text": [
            "---------------------------------------------------------------------\n",
            "XGBoost Classifierr\n",
            "---------------------------------------------------------------------\n",
            "Cross Validation scores on training data\n",
            "Scoring Name: CV mean: %.5f CV std: %.5f average_precision 0.9863025553281487 0.010567948212371874\n",
            "\n"
          ]
        },
        {
          "output_type": "stream",
          "name": "stderr",
          "text": [
            "[Parallel(n_jobs=2)]: Done   5 out of   5 | elapsed:    0.2s finished\n"
          ]
        },
        {
          "output_type": "stream",
          "name": "stdout",
          "text": [
            "---------------------------------------------------------------------\n",
            "XGBoost Classifierr\n",
            "---------------------------------------------------------------------\n",
            "Cross Validation scores on training data\n",
            "Scoring Name: CV mean: %.5f CV std: %.5f roc_auc 0.9898674566600836 0.00832131695181983\n",
            "\n",
            "Average precision-recall score: 0.98\n",
            "╒════════════════════════╤═══════════════════════╕\n",
            "│ Metric                 │   Testing Performance │\n",
            "╞════════════════════════╪═══════════════════════╡\n",
            "│ accuracy               │             0.964912  │\n",
            "├────────────────────────┼───────────────────────┤\n",
            "│ precision              │             0.95      │\n",
            "├────────────────────────┼───────────────────────┤\n",
            "│ recall                 │             0.95      │\n",
            "├────────────────────────┼───────────────────────┤\n",
            "│ misclassification rate │             0.0350877 │\n",
            "├────────────────────────┼───────────────────────┤\n",
            "│ F1                     │             0.95      │\n",
            "├────────────────────────┼───────────────────────┤\n",
            "│ r2                     │             0.845946  │\n",
            "├────────────────────────┼───────────────────────┤\n",
            "│ AUC                    │             0.961486  │\n",
            "├────────────────────────┼───────────────────────┤\n",
            "│ mse                    │             0.0350877 │\n",
            "├────────────────────────┼───────────────────────┤\n",
            "│ logloss                │             1.2119    │\n",
            "╘════════════════════════╧═══════════════════════╛\n",
            "\n",
            "Classification report:\n",
            "               precision    recall  f1-score   support\n",
            "\n",
            "           0       0.97      0.97      0.97       111\n",
            "           1       0.95      0.95      0.95        60\n",
            "\n",
            "    accuracy                           0.96       171\n",
            "   macro avg       0.96      0.96      0.96       171\n",
            "weighted avg       0.96      0.96      0.96       171\n",
            "\n",
            "\n",
            "Correct classifications on test data: 165/171   96.491%\n"
          ]
        },
        {
          "output_type": "display_data",
          "data": {
            "image/png": "[encoded data removed]",
            "text/plain": [
              "<Figure size 432x288 with 2 Axes>"
            ]
          },
          "metadata": {
            "needs_background": "light"
          }
        },
        {
          "output_type": "display_data",
          "data": {
            "image/png": "[encoded data removed]",
            "text/plain": [
              "<Figure size 720x360 with 2 Axes>"
            ]
          },
          "metadata": {
            "needs_background": "light"
          }
        },
        {
          "output_type": "stream",
          "name": "stdout",
          "text": [
            "\n"
          ]
        },
        {
          "output_type": "stream",
          "name": "stderr",
          "text": [
            "[Parallel(n_jobs=2)]: Using backend LokyBackend with 2 concurrent workers.\n",
            "[Parallel(n_jobs=2)]: Done   5 out of   5 | elapsed:    0.5s finished\n",
            "[Parallel(n_jobs=2)]: Using backend LokyBackend with 2 concurrent workers.\n"
          ]
        },
        {
          "output_type": "stream",
          "name": "stdout",
          "text": [
            "---------------------------------------------------------------------\n",
            "AdaBoost Classifier\n",
            "---------------------------------------------------------------------\n",
            "Cross Validation scores on training data\n",
            "Scoring Name: CV mean: %.5f CV std: %.5f accuracy 0.9422784810126583 0.028019002353219725\n",
            "\n"
          ]
        },
        {
          "output_type": "stream",
          "name": "stderr",
          "text": [
            "[Parallel(n_jobs=2)]: Done   5 out of   5 | elapsed:    0.5s finished\n",
            "[Parallel(n_jobs=2)]: Using backend LokyBackend with 2 concurrent workers.\n"
          ]
        },
        {
          "output_type": "stream",
          "name": "stdout",
          "text": [
            "---------------------------------------------------------------------\n",
            "AdaBoost Classifier\n",
            "---------------------------------------------------------------------\n",
            "Cross Validation scores on training data\n",
            "Scoring Name: CV mean: %.5f CV std: %.5f precision 0.9452362707535121 0.04046991178027332\n",
            "\n"
          ]
        },
        {
          "output_type": "stream",
          "name": "stderr",
          "text": [
            "[Parallel(n_jobs=2)]: Done   5 out of   5 | elapsed:    0.5s finished\n",
            "[Parallel(n_jobs=2)]: Using backend LokyBackend with 2 concurrent workers.\n"
          ]
        },
        {
          "output_type": "stream",
          "name": "stdout",
          "text": [
            "---------------------------------------------------------------------\n",
            "AdaBoost Classifier\n",
            "---------------------------------------------------------------------\n",
            "Cross Validation scores on training data\n",
            "Scoring Name: CV mean: %.5f CV std: %.5f recall 0.9012903225806452 0.04185766145411391\n",
            "\n"
          ]
        },
        {
          "output_type": "stream",
          "name": "stderr",
          "text": [
            "[Parallel(n_jobs=2)]: Done   5 out of   5 | elapsed:    0.5s finished\n",
            "[Parallel(n_jobs=2)]: Using backend LokyBackend with 2 concurrent workers.\n"
          ]
        },
        {
          "output_type": "stream",
          "name": "stdout",
          "text": [
            "---------------------------------------------------------------------\n",
            "AdaBoost Classifier\n",
            "---------------------------------------------------------------------\n",
            "Cross Validation scores on training data\n",
            "Scoring Name: CV mean: %.5f CV std: %.5f f1 0.9224431737860908 0.03764706883396423\n",
            "\n"
          ]
        },
        {
          "output_type": "stream",
          "name": "stderr",
          "text": [
            "[Parallel(n_jobs=2)]: Done   5 out of   5 | elapsed:    0.5s finished\n",
            "[Parallel(n_jobs=2)]: Using backend LokyBackend with 2 concurrent workers.\n"
          ]
        },
        {
          "output_type": "stream",
          "name": "stdout",
          "text": [
            "---------------------------------------------------------------------\n",
            "AdaBoost Classifier\n",
            "---------------------------------------------------------------------\n",
            "Cross Validation scores on training data\n",
            "Scoring Name: CV mean: %.5f CV std: %.5f average_precision 0.9795451562228757 0.011684984081609683\n",
            "\n"
          ]
        },
        {
          "output_type": "stream",
          "name": "stderr",
          "text": [
            "[Parallel(n_jobs=2)]: Done   5 out of   5 | elapsed:    0.5s finished\n"
          ]
        },
        {
          "output_type": "stream",
          "name": "stdout",
          "text": [
            "---------------------------------------------------------------------\n",
            "AdaBoost Classifier\n",
            "---------------------------------------------------------------------\n",
            "Cross Validation scores on training data\n",
            "Scoring Name: CV mean: %.5f CV std: %.5f roc_auc 0.9855074829931972 0.008574258922409629\n",
            "\n",
            "Average precision-recall score: 0.98\n",
            "╒════════════════════════╤═══════════════════════╕\n",
            "│ Metric                 │   Testing Performance │\n",
            "╞════════════════════════╪═══════════════════════╡\n",
            "│ accuracy               │             0.953216  │\n",
            "├────────────────────────┼───────────────────────┤\n",
            "│ precision              │             0.948276  │\n",
            "├────────────────────────┼───────────────────────┤\n",
            "│ recall                 │             0.916667  │\n",
            "├────────────────────────┼───────────────────────┤\n",
            "│ misclassification rate │             0.0467836 │\n",
            "├────────────────────────┼───────────────────────┤\n",
            "│ F1                     │             0.932203  │\n",
            "├────────────────────────┼───────────────────────┤\n",
            "│ r2                     │             0.794595  │\n",
            "├────────────────────────┼───────────────────────┤\n",
            "│ AUC                    │             0.94482   │\n",
            "├────────────────────────┼───────────────────────┤\n",
            "│ mse                    │             0.0467836 │\n",
            "├────────────────────────┼───────────────────────┤\n",
            "│ logloss                │             1.61586   │\n",
            "╘════════════════════════╧═══════════════════════╛\n",
            "\n",
            "Classification report:\n",
            "               precision    recall  f1-score   support\n",
            "\n",
            "           0       0.96      0.97      0.96       111\n",
            "           1       0.95      0.92      0.93        60\n",
            "\n",
            "    accuracy                           0.95       171\n",
            "   macro avg       0.95      0.94      0.95       171\n",
            "weighted avg       0.95      0.95      0.95       171\n",
            "\n",
            "\n",
            "Correct classifications on test data: 163/171   95.322%\n"
          ]
        },
        {
          "output_type": "display_data",
          "data": {
            "image/png": "[encoded data removed]",
            "text/plain": [
              "<Figure size 432x288 with 2 Axes>"
            ]
          },
          "metadata": {
            "needs_background": "light"
          }
        },
        {
          "output_type": "display_data",
          "data": {
            "image/png": "[encoded data removed]",
            "text/plain": [
              "<Figure size 720x360 with 2 Axes>"
            ]
          },
          "metadata": {
            "needs_background": "light"
          }
        },
        {
          "output_type": "stream",
          "name": "stdout",
          "text": [
            "\n"
          ]
        },
        {
          "output_type": "stream",
          "name": "stderr",
          "text": [
            "[Parallel(n_jobs=2)]: Using backend LokyBackend with 2 concurrent workers.\n",
            "[Parallel(n_jobs=2)]: Done   5 out of   5 | elapsed:   29.1s finished\n",
            "[Parallel(n_jobs=2)]: Using backend LokyBackend with 2 concurrent workers.\n"
          ]
        },
        {
          "output_type": "stream",
          "name": "stdout",
          "text": [
            "---------------------------------------------------------------------\n",
            "catboost Classifier\n",
            "---------------------------------------------------------------------\n",
            "Cross Validation scores on training data\n",
            "Scoring Name: CV mean: %.5f CV std: %.5f accuracy 0.9523417721518987 0.03295417739898211\n",
            "\n"
          ]
        },
        {
          "output_type": "stream",
          "name": "stderr",
          "text": [
            "[Parallel(n_jobs=2)]: Done   5 out of   5 | elapsed:   27.2s finished\n",
            "[Parallel(n_jobs=2)]: Using backend LokyBackend with 2 concurrent workers.\n"
          ]
        },
        {
          "output_type": "stream",
          "name": "stdout",
          "text": [
            "---------------------------------------------------------------------\n",
            "catboost Classifier\n",
            "---------------------------------------------------------------------\n",
            "Cross Validation scores on training data\n",
            "Scoring Name: CV mean: %.5f CV std: %.5f precision 0.9327649769585253 0.06077228143233021\n",
            "\n"
          ]
        },
        {
          "output_type": "stream",
          "name": "stderr",
          "text": [
            "[Parallel(n_jobs=2)]: Done   5 out of   5 | elapsed:   28.1s finished\n",
            "[Parallel(n_jobs=2)]: Using backend LokyBackend with 2 concurrent workers.\n"
          ]
        },
        {
          "output_type": "stream",
          "name": "stdout",
          "text": [
            "---------------------------------------------------------------------\n",
            "catboost Classifier\n",
            "---------------------------------------------------------------------\n",
            "Cross Validation scores on training data\n",
            "Scoring Name: CV mean: %.5f CV std: %.5f recall 0.9473118279569892 0.03396215749892418\n",
            "\n"
          ]
        },
        {
          "output_type": "stream",
          "name": "stderr",
          "text": [
            "[Parallel(n_jobs=2)]: Done   5 out of   5 | elapsed:   27.6s finished\n",
            "[Parallel(n_jobs=2)]: Using backend LokyBackend with 2 concurrent workers.\n"
          ]
        },
        {
          "output_type": "stream",
          "name": "stdout",
          "text": [
            "---------------------------------------------------------------------\n",
            "catboost Classifier\n",
            "---------------------------------------------------------------------\n",
            "Cross Validation scores on training data\n",
            "Scoring Name: CV mean: %.5f CV std: %.5f f1 0.9390136526371687 0.04026924886728545\n",
            "\n"
          ]
        },
        {
          "output_type": "stream",
          "name": "stderr",
          "text": [
            "[Parallel(n_jobs=2)]: Done   5 out of   5 | elapsed:   28.5s finished\n",
            "[Parallel(n_jobs=2)]: Using backend LokyBackend with 2 concurrent workers.\n"
          ]
        },
        {
          "output_type": "stream",
          "name": "stdout",
          "text": [
            "---------------------------------------------------------------------\n",
            "catboost Classifier\n",
            "---------------------------------------------------------------------\n",
            "Cross Validation scores on training data\n",
            "Scoring Name: CV mean: %.5f CV std: %.5f average_precision 0.9887513961689424 0.009115984990437193\n",
            "\n"
          ]
        },
        {
          "output_type": "stream",
          "name": "stderr",
          "text": [
            "[Parallel(n_jobs=2)]: Done   5 out of   5 | elapsed:   27.1s finished\n"
          ]
        },
        {
          "output_type": "stream",
          "name": "stdout",
          "text": [
            "---------------------------------------------------------------------\n",
            "catboost Classifier\n",
            "---------------------------------------------------------------------\n",
            "Cross Validation scores on training data\n",
            "Scoring Name: CV mean: %.5f CV std: %.5f roc_auc 0.9920075488259819 0.006777475813221669\n",
            "\n",
            "Learning rate set to 0.006952\n",
            "0:\tlearn: 0.6818670\ttotal: 51.5ms\tremaining: 51.5s\n",
            "1:\tlearn: 0.6718584\ttotal: 55.9ms\tremaining: 27.9s\n",
            "2:\tlearn: 0.6632133\ttotal: 60.3ms\tremaining: 20s\n",
            "3:\tlearn: 0.6513062\ttotal: 64.6ms\tremaining: 16.1s\n",
            "4:\tlearn: 0.6421039\ttotal: 69.1ms\tremaining: 13.8s\n",
            "5:\tlearn: 0.6303812\ttotal: 73.5ms\tremaining: 12.2s\n",
            "6:\tlearn: 0.6201155\ttotal: 78ms\tremaining: 11.1s\n",
            "7:\tlearn: 0.6100360\ttotal: 84ms\tremaining: 10.4s\n",
            "8:\tlearn: 0.6002736\ttotal: 88.4ms\tremaining: 9.74s\n",
            "9:\tlearn: 0.5910642\ttotal: 92.7ms\tremaining: 9.18s\n",
            "10:\tlearn: 0.5829580\ttotal: 97ms\tremaining: 8.72s\n",
            "11:\tlearn: 0.5755454\ttotal: 101ms\tremaining: 8.35s\n",
            "12:\tlearn: 0.5659610\ttotal: 106ms\tremaining: 8.02s\n",
            "13:\tlearn: 0.5583824\ttotal: 110ms\tremaining: 7.75s\n",
            "14:\tlearn: 0.5504793\ttotal: 114ms\tremaining: 7.51s\n",
            "15:\tlearn: 0.5431006\ttotal: 119ms\tremaining: 7.3s\n",
            "16:\tlearn: 0.5363078\ttotal: 123ms\tremaining: 7.12s\n",
            "17:\tlearn: 0.5296809\ttotal: 127ms\tremaining: 6.95s\n",
            "18:\tlearn: 0.5213043\ttotal: 132ms\tremaining: 6.8s\n",
            "19:\tlearn: 0.5146243\ttotal: 136ms\tremaining: 6.67s\n",
            "20:\tlearn: 0.5078732\ttotal: 140ms\tremaining: 6.55s\n",
            "21:\tlearn: 0.5006089\ttotal: 145ms\tremaining: 6.44s\n",
            "22:\tlearn: 0.4944847\ttotal: 149ms\tremaining: 6.33s\n",
            "23:\tlearn: 0.4879863\ttotal: 154ms\tremaining: 6.24s\n",
            "24:\tlearn: 0.4815740\ttotal: 158ms\tremaining: 6.16s\n",
            "25:\tlearn: 0.4747973\ttotal: 162ms\tremaining: 6.07s\n",
            "26:\tlearn: 0.4695982\ttotal: 166ms\tremaining: 5.99s\n",
            "27:\tlearn: 0.4635776\ttotal: 171ms\tremaining: 5.92s\n",
            "28:\tlearn: 0.4580062\ttotal: 175ms\tremaining: 5.86s\n",
            "29:\tlearn: 0.4522522\ttotal: 182ms\tremaining: 5.87s\n",
            "30:\tlearn: 0.4452530\ttotal: 190ms\tremaining: 5.93s\n",
            "31:\tlearn: 0.4393604\ttotal: 202ms\tremaining: 6.11s\n",
            "32:\tlearn: 0.4331565\ttotal: 211ms\tremaining: 6.18s\n",
            "33:\tlearn: 0.4272120\ttotal: 216ms\tremaining: 6.14s\n",
            "34:\tlearn: 0.4217620\ttotal: 221ms\tremaining: 6.09s\n",
            "35:\tlearn: 0.4161758\ttotal: 225ms\tremaining: 6.03s\n",
            "36:\tlearn: 0.4100304\ttotal: 230ms\tremaining: 5.98s\n",
            "37:\tlearn: 0.4041091\ttotal: 234ms\tremaining: 5.94s\n",
            "38:\tlearn: 0.3985118\ttotal: 239ms\tremaining: 5.89s\n",
            "39:\tlearn: 0.3935765\ttotal: 244ms\tremaining: 5.85s\n",
            "40:\tlearn: 0.3887129\ttotal: 248ms\tremaining: 5.81s\n",
            "41:\tlearn: 0.3831381\ttotal: 253ms\tremaining: 5.76s\n",
            "42:\tlearn: 0.3777727\ttotal: 257ms\tremaining: 5.72s\n",
            "43:\tlearn: 0.3723150\ttotal: 263ms\tremaining: 5.71s\n",
            "44:\tlearn: 0.3671013\ttotal: 271ms\tremaining: 5.76s\n",
            "45:\tlearn: 0.3619131\ttotal: 276ms\tremaining: 5.73s\n",
            "46:\tlearn: 0.3583887\ttotal: 281ms\tremaining: 5.7s\n",
            "47:\tlearn: 0.3525227\ttotal: 285ms\tremaining: 5.66s\n",
            "48:\tlearn: 0.3479055\ttotal: 290ms\tremaining: 5.62s\n",
            "49:\tlearn: 0.3439717\ttotal: 294ms\tremaining: 5.58s\n",
            "50:\tlearn: 0.3397221\ttotal: 298ms\tremaining: 5.54s\n",
            "51:\tlearn: 0.3347222\ttotal: 302ms\tremaining: 5.51s\n",
            "52:\tlearn: 0.3306407\ttotal: 306ms\tremaining: 5.47s\n",
            "53:\tlearn: 0.3256891\ttotal: 309ms\tremaining: 5.41s\n",
            "54:\tlearn: 0.3211703\ttotal: 313ms\tremaining: 5.38s\n",
            "55:\tlearn: 0.3186263\ttotal: 317ms\tremaining: 5.34s\n",
            "56:\tlearn: 0.3149729\ttotal: 321ms\tremaining: 5.31s\n",
            "57:\tlearn: 0.3114719\ttotal: 325ms\tremaining: 5.28s\n",
            "58:\tlearn: 0.3077090\ttotal: 329ms\tremaining: 5.25s\n",
            "59:\tlearn: 0.3042813\ttotal: 333ms\tremaining: 5.22s\n",
            "60:\tlearn: 0.3010423\ttotal: 338ms\tremaining: 5.2s\n",
            "61:\tlearn: 0.2974216\ttotal: 342ms\tremaining: 5.17s\n",
            "62:\tlearn: 0.2943186\ttotal: 346ms\tremaining: 5.14s\n",
            "63:\tlearn: 0.2902477\ttotal: 350ms\tremaining: 5.13s\n",
            "64:\tlearn: 0.2872088\ttotal: 355ms\tremaining: 5.1s\n",
            "65:\tlearn: 0.2838305\ttotal: 359ms\tremaining: 5.08s\n",
            "66:\tlearn: 0.2810763\ttotal: 363ms\tremaining: 5.06s\n",
            "67:\tlearn: 0.2786958\ttotal: 368ms\tremaining: 5.04s\n",
            "68:\tlearn: 0.2759280\ttotal: 372ms\tremaining: 5.02s\n",
            "69:\tlearn: 0.2731031\ttotal: 381ms\tremaining: 5.06s\n",
            "70:\tlearn: 0.2701879\ttotal: 391ms\tremaining: 5.11s\n",
            "71:\tlearn: 0.2673997\ttotal: 395ms\tremaining: 5.09s\n",
            "72:\tlearn: 0.2638699\ttotal: 399ms\tremaining: 5.07s\n",
            "73:\tlearn: 0.2610779\ttotal: 404ms\tremaining: 5.05s\n",
            "74:\tlearn: 0.2581968\ttotal: 408ms\tremaining: 5.03s\n",
            "75:\tlearn: 0.2550269\ttotal: 413ms\tremaining: 5.02s\n",
            "76:\tlearn: 0.2522224\ttotal: 417ms\tremaining: 5s\n",
            "77:\tlearn: 0.2493216\ttotal: 422ms\tremaining: 4.98s\n",
            "78:\tlearn: 0.2463421\ttotal: 426ms\tremaining: 4.96s\n",
            "79:\tlearn: 0.2439276\ttotal: 430ms\tremaining: 4.95s\n",
            "80:\tlearn: 0.2410691\ttotal: 435ms\tremaining: 4.93s\n",
            "81:\tlearn: 0.2388360\ttotal: 439ms\tremaining: 4.92s\n",
            "82:\tlearn: 0.2368134\ttotal: 443ms\tremaining: 4.9s\n",
            "83:\tlearn: 0.2342681\ttotal: 448ms\tremaining: 4.88s\n",
            "84:\tlearn: 0.2321277\ttotal: 452ms\tremaining: 4.87s\n",
            "85:\tlearn: 0.2299414\ttotal: 457ms\tremaining: 4.85s\n",
            "86:\tlearn: 0.2275067\ttotal: 461ms\tremaining: 4.84s\n",
            "87:\tlearn: 0.2254181\ttotal: 465ms\tremaining: 4.82s\n",
            "88:\tlearn: 0.2236888\ttotal: 470ms\tremaining: 4.81s\n",
            "89:\tlearn: 0.2212731\ttotal: 474ms\tremaining: 4.79s\n",
            "90:\tlearn: 0.2198965\ttotal: 479ms\tremaining: 4.78s\n",
            "91:\tlearn: 0.2180849\ttotal: 484ms\tremaining: 4.77s\n",
            "92:\tlearn: 0.2156474\ttotal: 488ms\tremaining: 4.76s\n",
            "93:\tlearn: 0.2138063\ttotal: 493ms\tremaining: 4.75s\n",
            "94:\tlearn: 0.2115506\ttotal: 497ms\tremaining: 4.73s\n",
            "95:\tlearn: 0.2095429\ttotal: 501ms\tremaining: 4.72s\n",
            "96:\tlearn: 0.2076499\ttotal: 506ms\tremaining: 4.71s\n",
            "97:\tlearn: 0.2058315\ttotal: 510ms\tremaining: 4.69s\n",
            "98:\tlearn: 0.2034951\ttotal: 514ms\tremaining: 4.68s\n",
            "99:\tlearn: 0.2016078\ttotal: 519ms\tremaining: 4.67s\n",
            "100:\tlearn: 0.2000169\ttotal: 523ms\tremaining: 4.66s\n",
            "101:\tlearn: 0.1983565\ttotal: 528ms\tremaining: 4.64s\n",
            "102:\tlearn: 0.1965113\ttotal: 532ms\tremaining: 4.63s\n",
            "103:\tlearn: 0.1947775\ttotal: 537ms\tremaining: 4.62s\n",
            "104:\tlearn: 0.1932288\ttotal: 542ms\tremaining: 4.62s\n",
            "105:\tlearn: 0.1912848\ttotal: 546ms\tremaining: 4.61s\n",
            "106:\tlearn: 0.1899145\ttotal: 551ms\tremaining: 4.59s\n",
            "107:\tlearn: 0.1881046\ttotal: 555ms\tremaining: 4.58s\n",
            "108:\tlearn: 0.1865194\ttotal: 559ms\tremaining: 4.57s\n",
            "109:\tlearn: 0.1849030\ttotal: 564ms\tremaining: 4.56s\n",
            "110:\tlearn: 0.1835380\ttotal: 574ms\tremaining: 4.6s\n",
            "111:\tlearn: 0.1817411\ttotal: 590ms\tremaining: 4.68s\n",
            "112:\tlearn: 0.1801342\ttotal: 598ms\tremaining: 4.69s\n",
            "113:\tlearn: 0.1786600\ttotal: 602ms\tremaining: 4.68s\n",
            "114:\tlearn: 0.1773097\ttotal: 606ms\tremaining: 4.67s\n",
            "115:\tlearn: 0.1760082\ttotal: 611ms\tremaining: 4.65s\n",
            "116:\tlearn: 0.1744847\ttotal: 615ms\tremaining: 4.64s\n",
            "117:\tlearn: 0.1731188\ttotal: 619ms\tremaining: 4.63s\n",
            "118:\tlearn: 0.1716780\ttotal: 623ms\tremaining: 4.62s\n",
            "119:\tlearn: 0.1700347\ttotal: 628ms\tremaining: 4.6s\n",
            "120:\tlearn: 0.1685643\ttotal: 632ms\tremaining: 4.59s\n",
            "121:\tlearn: 0.1670767\ttotal: 637ms\tremaining: 4.58s\n",
            "122:\tlearn: 0.1656024\ttotal: 641ms\tremaining: 4.57s\n",
            "123:\tlearn: 0.1642585\ttotal: 646ms\tremaining: 4.56s\n",
            "124:\tlearn: 0.1629360\ttotal: 650ms\tremaining: 4.55s\n",
            "125:\tlearn: 0.1618023\ttotal: 654ms\tremaining: 4.54s\n",
            "126:\tlearn: 0.1603692\ttotal: 659ms\tremaining: 4.53s\n",
            "127:\tlearn: 0.1591366\ttotal: 663ms\tremaining: 4.52s\n",
            "128:\tlearn: 0.1578193\ttotal: 667ms\tremaining: 4.51s\n",
            "129:\tlearn: 0.1565784\ttotal: 672ms\tremaining: 4.5s\n",
            "130:\tlearn: 0.1550880\ttotal: 676ms\tremaining: 4.49s\n",
            "131:\tlearn: 0.1539118\ttotal: 681ms\tremaining: 4.48s\n",
            "132:\tlearn: 0.1527877\ttotal: 687ms\tremaining: 4.48s\n",
            "133:\tlearn: 0.1516140\ttotal: 691ms\tremaining: 4.47s\n",
            "134:\tlearn: 0.1506376\ttotal: 696ms\tremaining: 4.46s\n",
            "135:\tlearn: 0.1496771\ttotal: 700ms\tremaining: 4.45s\n",
            "136:\tlearn: 0.1487453\ttotal: 705ms\tremaining: 4.44s\n",
            "137:\tlearn: 0.1478057\ttotal: 709ms\tremaining: 4.43s\n",
            "138:\tlearn: 0.1462736\ttotal: 713ms\tremaining: 4.42s\n",
            "139:\tlearn: 0.1451394\ttotal: 717ms\tremaining: 4.41s\n",
            "140:\tlearn: 0.1440603\ttotal: 722ms\tremaining: 4.4s\n",
            "141:\tlearn: 0.1434091\ttotal: 726ms\tremaining: 4.39s\n",
            "142:\tlearn: 0.1423827\ttotal: 730ms\tremaining: 4.38s\n",
            "143:\tlearn: 0.1416516\ttotal: 735ms\tremaining: 4.37s\n",
            "144:\tlearn: 0.1407817\ttotal: 739ms\tremaining: 4.36s\n",
            "145:\tlearn: 0.1396299\ttotal: 743ms\tremaining: 4.35s\n",
            "146:\tlearn: 0.1384711\ttotal: 748ms\tremaining: 4.34s\n",
            "147:\tlearn: 0.1374334\ttotal: 752ms\tremaining: 4.33s\n",
            "148:\tlearn: 0.1362345\ttotal: 756ms\tremaining: 4.32s\n",
            "149:\tlearn: 0.1352222\ttotal: 761ms\tremaining: 4.31s\n",
            "150:\tlearn: 0.1344933\ttotal: 765ms\tremaining: 4.3s\n",
            "151:\tlearn: 0.1337849\ttotal: 770ms\tremaining: 4.29s\n",
            "152:\tlearn: 0.1331820\ttotal: 774ms\tremaining: 4.28s\n",
            "153:\tlearn: 0.1321503\ttotal: 778ms\tremaining: 4.28s\n",
            "154:\tlearn: 0.1313568\ttotal: 783ms\tremaining: 4.27s\n",
            "155:\tlearn: 0.1304460\ttotal: 788ms\tremaining: 4.26s\n",
            "156:\tlearn: 0.1292887\ttotal: 798ms\tremaining: 4.28s\n",
            "157:\tlearn: 0.1282345\ttotal: 803ms\tremaining: 4.28s\n",
            "158:\tlearn: 0.1271733\ttotal: 807ms\tremaining: 4.27s\n",
            "159:\tlearn: 0.1264325\ttotal: 811ms\tremaining: 4.26s\n",
            "160:\tlearn: 0.1255852\ttotal: 815ms\tremaining: 4.25s\n",
            "161:\tlearn: 0.1247606\ttotal: 819ms\tremaining: 4.24s\n",
            "162:\tlearn: 0.1237038\ttotal: 824ms\tremaining: 4.23s\n",
            "163:\tlearn: 0.1229571\ttotal: 828ms\tremaining: 4.22s\n",
            "164:\tlearn: 0.1220985\ttotal: 832ms\tremaining: 4.21s\n",
            "165:\tlearn: 0.1215567\ttotal: 837ms\tremaining: 4.2s\n",
            "166:\tlearn: 0.1207105\ttotal: 841ms\tremaining: 4.2s\n",
            "167:\tlearn: 0.1200930\ttotal: 846ms\tremaining: 4.19s\n",
            "168:\tlearn: 0.1193497\ttotal: 850ms\tremaining: 4.18s\n",
            "169:\tlearn: 0.1185322\ttotal: 855ms\tremaining: 4.17s\n",
            "170:\tlearn: 0.1177921\ttotal: 859ms\tremaining: 4.16s\n",
            "171:\tlearn: 0.1169065\ttotal: 864ms\tremaining: 4.16s\n",
            "172:\tlearn: 0.1160439\ttotal: 868ms\tremaining: 4.15s\n",
            "173:\tlearn: 0.1154479\ttotal: 872ms\tremaining: 4.14s\n",
            "174:\tlearn: 0.1147173\ttotal: 877ms\tremaining: 4.13s\n",
            "175:\tlearn: 0.1140576\ttotal: 881ms\tremaining: 4.13s\n",
            "176:\tlearn: 0.1136125\ttotal: 885ms\tremaining: 4.12s\n",
            "177:\tlearn: 0.1127057\ttotal: 890ms\tremaining: 4.11s\n",
            "178:\tlearn: 0.1120963\ttotal: 894ms\tremaining: 4.1s\n",
            "179:\tlearn: 0.1112889\ttotal: 899ms\tremaining: 4.09s\n",
            "180:\tlearn: 0.1104640\ttotal: 903ms\tremaining: 4.09s\n",
            "181:\tlearn: 0.1097665\ttotal: 907ms\tremaining: 4.08s\n",
            "182:\tlearn: 0.1091895\ttotal: 912ms\tremaining: 4.07s\n",
            "183:\tlearn: 0.1088466\ttotal: 916ms\tremaining: 4.06s\n",
            "184:\tlearn: 0.1082261\ttotal: 920ms\tremaining: 4.05s\n",
            "185:\tlearn: 0.1077298\ttotal: 925ms\tremaining: 4.05s\n",
            "186:\tlearn: 0.1071524\ttotal: 929ms\tremaining: 4.04s\n",
            "187:\tlearn: 0.1064578\ttotal: 934ms\tremaining: 4.03s\n",
            "188:\tlearn: 0.1058649\ttotal: 938ms\tremaining: 4.02s\n",
            "189:\tlearn: 0.1051868\ttotal: 942ms\tremaining: 4.01s\n",
            "190:\tlearn: 0.1044406\ttotal: 946ms\tremaining: 4.01s\n",
            "191:\tlearn: 0.1039268\ttotal: 950ms\tremaining: 4s\n",
            "192:\tlearn: 0.1034542\ttotal: 955ms\tremaining: 3.99s\n",
            "193:\tlearn: 0.1029020\ttotal: 959ms\tremaining: 3.98s\n",
            "194:\tlearn: 0.1020449\ttotal: 963ms\tremaining: 3.98s\n",
            "195:\tlearn: 0.1013996\ttotal: 968ms\tremaining: 3.97s\n",
            "196:\tlearn: 0.1007158\ttotal: 972ms\tremaining: 3.96s\n",
            "197:\tlearn: 0.1000761\ttotal: 976ms\tremaining: 3.95s\n",
            "198:\tlearn: 0.0996252\ttotal: 982ms\tremaining: 3.95s\n",
            "199:\tlearn: 0.0990494\ttotal: 995ms\tremaining: 3.98s\n",
            "200:\tlearn: 0.0982699\ttotal: 999ms\tremaining: 3.97s\n",
            "201:\tlearn: 0.0977115\ttotal: 1s\tremaining: 3.96s\n",
            "202:\tlearn: 0.0970664\ttotal: 1.01s\tremaining: 3.96s\n",
            "203:\tlearn: 0.0965788\ttotal: 1.01s\tremaining: 3.95s\n",
            "204:\tlearn: 0.0960226\ttotal: 1.02s\tremaining: 3.94s\n",
            "205:\tlearn: 0.0955301\ttotal: 1.02s\tremaining: 3.93s\n",
            "206:\tlearn: 0.0949729\ttotal: 1.02s\tremaining: 3.93s\n",
            "207:\tlearn: 0.0943704\ttotal: 1.03s\tremaining: 3.92s\n",
            "208:\tlearn: 0.0938149\ttotal: 1.03s\tremaining: 3.91s\n",
            "209:\tlearn: 0.0932015\ttotal: 1.04s\tremaining: 3.92s\n",
            "210:\tlearn: 0.0927598\ttotal: 1.04s\tremaining: 3.91s\n",
            "211:\tlearn: 0.0923750\ttotal: 1.05s\tremaining: 3.9s\n",
            "212:\tlearn: 0.0917489\ttotal: 1.05s\tremaining: 3.89s\n",
            "213:\tlearn: 0.0913172\ttotal: 1.06s\tremaining: 3.89s\n",
            "214:\tlearn: 0.0909217\ttotal: 1.06s\tremaining: 3.88s\n",
            "215:\tlearn: 0.0904246\ttotal: 1.07s\tremaining: 3.87s\n",
            "216:\tlearn: 0.0900553\ttotal: 1.07s\tremaining: 3.87s\n",
            "217:\tlearn: 0.0896301\ttotal: 1.07s\tremaining: 3.86s\n",
            "218:\tlearn: 0.0891536\ttotal: 1.08s\tremaining: 3.85s\n",
            "219:\tlearn: 0.0886602\ttotal: 1.08s\tremaining: 3.85s\n",
            "220:\tlearn: 0.0882398\ttotal: 1.09s\tremaining: 3.84s\n",
            "221:\tlearn: 0.0877740\ttotal: 1.09s\tremaining: 3.83s\n",
            "222:\tlearn: 0.0872161\ttotal: 1.1s\tremaining: 3.82s\n",
            "223:\tlearn: 0.0867771\ttotal: 1.1s\tremaining: 3.82s\n",
            "224:\tlearn: 0.0862552\ttotal: 1.11s\tremaining: 3.81s\n",
            "225:\tlearn: 0.0856981\ttotal: 1.11s\tremaining: 3.8s\n",
            "226:\tlearn: 0.0853309\ttotal: 1.11s\tremaining: 3.8s\n",
            "227:\tlearn: 0.0848646\ttotal: 1.12s\tremaining: 3.79s\n",
            "228:\tlearn: 0.0844051\ttotal: 1.12s\tremaining: 3.78s\n",
            "229:\tlearn: 0.0840188\ttotal: 1.13s\tremaining: 3.78s\n",
            "230:\tlearn: 0.0836757\ttotal: 1.13s\tremaining: 3.77s\n",
            "231:\tlearn: 0.0831425\ttotal: 1.14s\tremaining: 3.76s\n",
            "232:\tlearn: 0.0828795\ttotal: 1.14s\tremaining: 3.76s\n",
            "233:\tlearn: 0.0824566\ttotal: 1.15s\tremaining: 3.75s\n",
            "234:\tlearn: 0.0818058\ttotal: 1.15s\tremaining: 3.74s\n",
            "235:\tlearn: 0.0815388\ttotal: 1.15s\tremaining: 3.74s\n",
            "236:\tlearn: 0.0811482\ttotal: 1.16s\tremaining: 3.73s\n",
            "237:\tlearn: 0.0806726\ttotal: 1.16s\tremaining: 3.72s\n",
            "238:\tlearn: 0.0802158\ttotal: 1.17s\tremaining: 3.72s\n",
            "239:\tlearn: 0.0798759\ttotal: 1.17s\tremaining: 3.71s\n",
            "240:\tlearn: 0.0795139\ttotal: 1.19s\tremaining: 3.75s\n",
            "241:\tlearn: 0.0791763\ttotal: 1.2s\tremaining: 3.75s\n",
            "242:\tlearn: 0.0788143\ttotal: 1.2s\tremaining: 3.74s\n",
            "243:\tlearn: 0.0784049\ttotal: 1.21s\tremaining: 3.74s\n",
            "244:\tlearn: 0.0780182\ttotal: 1.21s\tremaining: 3.73s\n",
            "245:\tlearn: 0.0776206\ttotal: 1.21s\tremaining: 3.72s\n",
            "246:\tlearn: 0.0772407\ttotal: 1.22s\tremaining: 3.72s\n",
            "247:\tlearn: 0.0768258\ttotal: 1.22s\tremaining: 3.71s\n",
            "248:\tlearn: 0.0764765\ttotal: 1.23s\tremaining: 3.7s\n",
            "249:\tlearn: 0.0760053\ttotal: 1.24s\tremaining: 3.71s\n",
            "250:\tlearn: 0.0756878\ttotal: 1.25s\tremaining: 3.72s\n",
            "251:\tlearn: 0.0752978\ttotal: 1.25s\tremaining: 3.71s\n",
            "252:\tlearn: 0.0748737\ttotal: 1.25s\tremaining: 3.7s\n",
            "253:\tlearn: 0.0746347\ttotal: 1.26s\tremaining: 3.69s\n",
            "254:\tlearn: 0.0742770\ttotal: 1.26s\tremaining: 3.69s\n",
            "255:\tlearn: 0.0738895\ttotal: 1.27s\tremaining: 3.68s\n",
            "256:\tlearn: 0.0735658\ttotal: 1.27s\tremaining: 3.67s\n",
            "257:\tlearn: 0.0732650\ttotal: 1.27s\tremaining: 3.67s\n",
            "258:\tlearn: 0.0729233\ttotal: 1.28s\tremaining: 3.66s\n",
            "259:\tlearn: 0.0724943\ttotal: 1.28s\tremaining: 3.65s\n",
            "260:\tlearn: 0.0721863\ttotal: 1.29s\tremaining: 3.65s\n",
            "261:\tlearn: 0.0718291\ttotal: 1.29s\tremaining: 3.64s\n",
            "262:\tlearn: 0.0715332\ttotal: 1.3s\tremaining: 3.63s\n",
            "263:\tlearn: 0.0712685\ttotal: 1.3s\tremaining: 3.63s\n",
            "264:\tlearn: 0.0709871\ttotal: 1.3s\tremaining: 3.62s\n",
            "265:\tlearn: 0.0706875\ttotal: 1.31s\tremaining: 3.61s\n",
            "266:\tlearn: 0.0703376\ttotal: 1.31s\tremaining: 3.6s\n",
            "267:\tlearn: 0.0700047\ttotal: 1.32s\tremaining: 3.6s\n",
            "268:\tlearn: 0.0696143\ttotal: 1.32s\tremaining: 3.59s\n",
            "269:\tlearn: 0.0693098\ttotal: 1.33s\tremaining: 3.59s\n",
            "270:\tlearn: 0.0689348\ttotal: 1.33s\tremaining: 3.58s\n",
            "271:\tlearn: 0.0686086\ttotal: 1.33s\tremaining: 3.57s\n",
            "272:\tlearn: 0.0683149\ttotal: 1.34s\tremaining: 3.57s\n",
            "273:\tlearn: 0.0680046\ttotal: 1.34s\tremaining: 3.56s\n",
            "274:\tlearn: 0.0676469\ttotal: 1.35s\tremaining: 3.56s\n",
            "275:\tlearn: 0.0672448\ttotal: 1.35s\tremaining: 3.55s\n",
            "276:\tlearn: 0.0670092\ttotal: 1.36s\tremaining: 3.54s\n",
            "277:\tlearn: 0.0667425\ttotal: 1.36s\tremaining: 3.54s\n",
            "278:\tlearn: 0.0664247\ttotal: 1.37s\tremaining: 3.53s\n",
            "279:\tlearn: 0.0661956\ttotal: 1.37s\tremaining: 3.52s\n",
            "280:\tlearn: 0.0659006\ttotal: 1.38s\tremaining: 3.52s\n",
            "281:\tlearn: 0.0656039\ttotal: 1.38s\tremaining: 3.51s\n",
            "282:\tlearn: 0.0652664\ttotal: 1.39s\tremaining: 3.52s\n",
            "283:\tlearn: 0.0648886\ttotal: 1.4s\tremaining: 3.52s\n",
            "284:\tlearn: 0.0646914\ttotal: 1.41s\tremaining: 3.53s\n",
            "285:\tlearn: 0.0644634\ttotal: 1.41s\tremaining: 3.53s\n",
            "286:\tlearn: 0.0642295\ttotal: 1.42s\tremaining: 3.52s\n",
            "287:\tlearn: 0.0639482\ttotal: 1.42s\tremaining: 3.52s\n",
            "288:\tlearn: 0.0637317\ttotal: 1.43s\tremaining: 3.51s\n",
            "289:\tlearn: 0.0635558\ttotal: 1.43s\tremaining: 3.5s\n",
            "290:\tlearn: 0.0633316\ttotal: 1.44s\tremaining: 3.5s\n",
            "291:\tlearn: 0.0630702\ttotal: 1.44s\tremaining: 3.49s\n",
            "292:\tlearn: 0.0627766\ttotal: 1.45s\tremaining: 3.49s\n",
            "293:\tlearn: 0.0624532\ttotal: 1.45s\tremaining: 3.48s\n",
            "294:\tlearn: 0.0622059\ttotal: 1.45s\tremaining: 3.48s\n",
            "295:\tlearn: 0.0619784\ttotal: 1.46s\tremaining: 3.47s\n",
            "296:\tlearn: 0.0617031\ttotal: 1.46s\tremaining: 3.46s\n",
            "297:\tlearn: 0.0613948\ttotal: 1.47s\tremaining: 3.46s\n",
            "298:\tlearn: 0.0611275\ttotal: 1.47s\tremaining: 3.45s\n",
            "299:\tlearn: 0.0608852\ttotal: 1.48s\tremaining: 3.45s\n",
            "300:\tlearn: 0.0605022\ttotal: 1.48s\tremaining: 3.44s\n",
            "301:\tlearn: 0.0602220\ttotal: 1.49s\tremaining: 3.44s\n",
            "302:\tlearn: 0.0599836\ttotal: 1.49s\tremaining: 3.43s\n",
            "303:\tlearn: 0.0597256\ttotal: 1.5s\tremaining: 3.43s\n",
            "304:\tlearn: 0.0594910\ttotal: 1.5s\tremaining: 3.42s\n",
            "305:\tlearn: 0.0592037\ttotal: 1.5s\tremaining: 3.41s\n",
            "306:\tlearn: 0.0589990\ttotal: 1.51s\tremaining: 3.41s\n",
            "307:\tlearn: 0.0587624\ttotal: 1.51s\tremaining: 3.4s\n",
            "308:\tlearn: 0.0584660\ttotal: 1.52s\tremaining: 3.4s\n",
            "309:\tlearn: 0.0581695\ttotal: 1.52s\tremaining: 3.39s\n",
            "310:\tlearn: 0.0578455\ttotal: 1.53s\tremaining: 3.38s\n",
            "311:\tlearn: 0.0575848\ttotal: 1.53s\tremaining: 3.38s\n",
            "312:\tlearn: 0.0573609\ttotal: 1.54s\tremaining: 3.37s\n",
            "313:\tlearn: 0.0571150\ttotal: 1.54s\tremaining: 3.37s\n",
            "314:\tlearn: 0.0568778\ttotal: 1.54s\tremaining: 3.36s\n",
            "315:\tlearn: 0.0566283\ttotal: 1.55s\tremaining: 3.36s\n",
            "316:\tlearn: 0.0564388\ttotal: 1.55s\tremaining: 3.35s\n",
            "317:\tlearn: 0.0562754\ttotal: 1.56s\tremaining: 3.34s\n",
            "318:\tlearn: 0.0560329\ttotal: 1.56s\tremaining: 3.34s\n",
            "319:\tlearn: 0.0558100\ttotal: 1.57s\tremaining: 3.33s\n",
            "320:\tlearn: 0.0555521\ttotal: 1.57s\tremaining: 3.33s\n",
            "321:\tlearn: 0.0553234\ttotal: 1.58s\tremaining: 3.32s\n",
            "322:\tlearn: 0.0550904\ttotal: 1.59s\tremaining: 3.32s\n",
            "323:\tlearn: 0.0548352\ttotal: 1.6s\tremaining: 3.33s\n",
            "324:\tlearn: 0.0545176\ttotal: 1.6s\tremaining: 3.32s\n",
            "325:\tlearn: 0.0542943\ttotal: 1.6s\tremaining: 3.32s\n",
            "326:\tlearn: 0.0540821\ttotal: 1.61s\tremaining: 3.31s\n",
            "327:\tlearn: 0.0538769\ttotal: 1.61s\tremaining: 3.31s\n",
            "328:\tlearn: 0.0536730\ttotal: 1.62s\tremaining: 3.3s\n",
            "329:\tlearn: 0.0534167\ttotal: 1.62s\tremaining: 3.29s\n",
            "330:\tlearn: 0.0532120\ttotal: 1.63s\tremaining: 3.29s\n",
            "331:\tlearn: 0.0530261\ttotal: 1.63s\tremaining: 3.28s\n",
            "332:\tlearn: 0.0527827\ttotal: 1.64s\tremaining: 3.28s\n",
            "333:\tlearn: 0.0526496\ttotal: 1.64s\tremaining: 3.27s\n",
            "334:\tlearn: 0.0524595\ttotal: 1.65s\tremaining: 3.27s\n",
            "335:\tlearn: 0.0522104\ttotal: 1.65s\tremaining: 3.26s\n",
            "336:\tlearn: 0.0520102\ttotal: 1.65s\tremaining: 3.25s\n",
            "337:\tlearn: 0.0518138\ttotal: 1.66s\tremaining: 3.25s\n",
            "338:\tlearn: 0.0516726\ttotal: 1.66s\tremaining: 3.24s\n",
            "339:\tlearn: 0.0514803\ttotal: 1.67s\tremaining: 3.24s\n",
            "340:\tlearn: 0.0513140\ttotal: 1.67s\tremaining: 3.23s\n",
            "341:\tlearn: 0.0511008\ttotal: 1.68s\tremaining: 3.23s\n",
            "342:\tlearn: 0.0509346\ttotal: 1.68s\tremaining: 3.22s\n",
            "343:\tlearn: 0.0507905\ttotal: 1.69s\tremaining: 3.21s\n",
            "344:\tlearn: 0.0505660\ttotal: 1.69s\tremaining: 3.21s\n",
            "345:\tlearn: 0.0503440\ttotal: 1.69s\tremaining: 3.2s\n",
            "346:\tlearn: 0.0501771\ttotal: 1.7s\tremaining: 3.2s\n",
            "347:\tlearn: 0.0500125\ttotal: 1.7s\tremaining: 3.19s\n",
            "348:\tlearn: 0.0498395\ttotal: 1.71s\tremaining: 3.19s\n",
            "349:\tlearn: 0.0496737\ttotal: 1.71s\tremaining: 3.18s\n",
            "350:\tlearn: 0.0494908\ttotal: 1.72s\tremaining: 3.17s\n",
            "351:\tlearn: 0.0493125\ttotal: 1.72s\tremaining: 3.17s\n",
            "352:\tlearn: 0.0491527\ttotal: 1.73s\tremaining: 3.16s\n",
            "353:\tlearn: 0.0489192\ttotal: 1.73s\tremaining: 3.16s\n",
            "354:\tlearn: 0.0487366\ttotal: 1.73s\tremaining: 3.15s\n",
            "355:\tlearn: 0.0485680\ttotal: 1.74s\tremaining: 3.15s\n",
            "356:\tlearn: 0.0483658\ttotal: 1.74s\tremaining: 3.14s\n",
            "357:\tlearn: 0.0482175\ttotal: 1.75s\tremaining: 3.13s\n",
            "358:\tlearn: 0.0480533\ttotal: 1.75s\tremaining: 3.13s\n",
            "359:\tlearn: 0.0478639\ttotal: 1.76s\tremaining: 3.13s\n",
            "360:\tlearn: 0.0477193\ttotal: 1.76s\tremaining: 3.12s\n",
            "361:\tlearn: 0.0475625\ttotal: 1.77s\tremaining: 3.11s\n",
            "362:\tlearn: 0.0473646\ttotal: 1.77s\tremaining: 3.11s\n",
            "363:\tlearn: 0.0471994\ttotal: 1.77s\tremaining: 3.1s\n",
            "364:\tlearn: 0.0470425\ttotal: 1.78s\tremaining: 3.1s\n",
            "365:\tlearn: 0.0468997\ttotal: 1.78s\tremaining: 3.09s\n",
            "366:\tlearn: 0.0467334\ttotal: 1.79s\tremaining: 3.09s\n",
            "367:\tlearn: 0.0466007\ttotal: 1.8s\tremaining: 3.09s\n",
            "368:\tlearn: 0.0464708\ttotal: 1.8s\tremaining: 3.09s\n",
            "369:\tlearn: 0.0463328\ttotal: 1.81s\tremaining: 3.08s\n",
            "370:\tlearn: 0.0461307\ttotal: 1.81s\tremaining: 3.08s\n",
            "371:\tlearn: 0.0460282\ttotal: 1.82s\tremaining: 3.07s\n",
            "372:\tlearn: 0.0458423\ttotal: 1.82s\tremaining: 3.06s\n",
            "373:\tlearn: 0.0457047\ttotal: 1.83s\tremaining: 3.06s\n",
            "374:\tlearn: 0.0455672\ttotal: 1.83s\tremaining: 3.05s\n",
            "375:\tlearn: 0.0454446\ttotal: 1.83s\tremaining: 3.05s\n",
            "376:\tlearn: 0.0453361\ttotal: 1.84s\tremaining: 3.04s\n",
            "377:\tlearn: 0.0451365\ttotal: 1.84s\tremaining: 3.04s\n",
            "378:\tlearn: 0.0450099\ttotal: 1.85s\tremaining: 3.03s\n",
            "379:\tlearn: 0.0448837\ttotal: 1.85s\tremaining: 3.03s\n",
            "380:\tlearn: 0.0446957\ttotal: 1.86s\tremaining: 3.02s\n",
            "381:\tlearn: 0.0445641\ttotal: 1.86s\tremaining: 3.02s\n",
            "382:\tlearn: 0.0443891\ttotal: 1.87s\tremaining: 3.01s\n",
            "383:\tlearn: 0.0442436\ttotal: 1.87s\tremaining: 3s\n",
            "384:\tlearn: 0.0440738\ttotal: 1.88s\tremaining: 3s\n",
            "385:\tlearn: 0.0439724\ttotal: 1.88s\tremaining: 2.99s\n",
            "386:\tlearn: 0.0438701\ttotal: 1.89s\tremaining: 2.99s\n",
            "387:\tlearn: 0.0436932\ttotal: 1.89s\tremaining: 2.98s\n",
            "388:\tlearn: 0.0435529\ttotal: 1.89s\tremaining: 2.98s\n",
            "389:\tlearn: 0.0433940\ttotal: 1.9s\tremaining: 2.97s\n",
            "390:\tlearn: 0.0432509\ttotal: 1.9s\tremaining: 2.96s\n",
            "391:\tlearn: 0.0431497\ttotal: 1.91s\tremaining: 2.96s\n",
            "392:\tlearn: 0.0430861\ttotal: 1.91s\tremaining: 2.95s\n",
            "393:\tlearn: 0.0429827\ttotal: 1.92s\tremaining: 2.95s\n",
            "394:\tlearn: 0.0428179\ttotal: 1.92s\tremaining: 2.94s\n",
            "395:\tlearn: 0.0427040\ttotal: 1.92s\tremaining: 2.93s\n",
            "396:\tlearn: 0.0426001\ttotal: 1.93s\tremaining: 2.93s\n",
            "397:\tlearn: 0.0425171\ttotal: 1.93s\tremaining: 2.92s\n",
            "398:\tlearn: 0.0423762\ttotal: 1.94s\tremaining: 2.92s\n",
            "399:\tlearn: 0.0422707\ttotal: 1.94s\tremaining: 2.91s\n",
            "400:\tlearn: 0.0421442\ttotal: 1.95s\tremaining: 2.91s\n",
            "401:\tlearn: 0.0419818\ttotal: 1.95s\tremaining: 2.9s\n",
            "402:\tlearn: 0.0418669\ttotal: 1.95s\tremaining: 2.9s\n",
            "403:\tlearn: 0.0417586\ttotal: 1.96s\tremaining: 2.89s\n",
            "404:\tlearn: 0.0416636\ttotal: 1.96s\tremaining: 2.88s\n",
            "405:\tlearn: 0.0415263\ttotal: 1.97s\tremaining: 2.88s\n",
            "406:\tlearn: 0.0413949\ttotal: 1.97s\tremaining: 2.87s\n",
            "407:\tlearn: 0.0412768\ttotal: 1.98s\tremaining: 2.87s\n",
            "408:\tlearn: 0.0411234\ttotal: 1.98s\tremaining: 2.86s\n",
            "409:\tlearn: 0.0410371\ttotal: 1.98s\tremaining: 2.85s\n",
            "410:\tlearn: 0.0409275\ttotal: 1.99s\tremaining: 2.85s\n",
            "411:\tlearn: 0.0408018\ttotal: 2s\tremaining: 2.86s\n",
            "412:\tlearn: 0.0406819\ttotal: 2.01s\tremaining: 2.85s\n",
            "413:\tlearn: 0.0405809\ttotal: 2.01s\tremaining: 2.85s\n",
            "414:\tlearn: 0.0404318\ttotal: 2.02s\tremaining: 2.84s\n",
            "415:\tlearn: 0.0402751\ttotal: 2.02s\tremaining: 2.83s\n",
            "416:\tlearn: 0.0401611\ttotal: 2.02s\tremaining: 2.83s\n",
            "417:\tlearn: 0.0400429\ttotal: 2.03s\tremaining: 2.82s\n",
            "418:\tlearn: 0.0399265\ttotal: 2.03s\tremaining: 2.82s\n",
            "419:\tlearn: 0.0398494\ttotal: 2.04s\tremaining: 2.81s\n",
            "420:\tlearn: 0.0397351\ttotal: 2.04s\tremaining: 2.81s\n",
            "421:\tlearn: 0.0396422\ttotal: 2.04s\tremaining: 2.8s\n",
            "422:\tlearn: 0.0395166\ttotal: 2.05s\tremaining: 2.79s\n",
            "423:\tlearn: 0.0393760\ttotal: 2.05s\tremaining: 2.79s\n",
            "424:\tlearn: 0.0392406\ttotal: 2.06s\tremaining: 2.78s\n",
            "425:\tlearn: 0.0391660\ttotal: 2.06s\tremaining: 2.78s\n",
            "426:\tlearn: 0.0389991\ttotal: 2.07s\tremaining: 2.77s\n",
            "427:\tlearn: 0.0389198\ttotal: 2.07s\tremaining: 2.77s\n",
            "428:\tlearn: 0.0388044\ttotal: 2.07s\tremaining: 2.76s\n",
            "429:\tlearn: 0.0386248\ttotal: 2.08s\tremaining: 2.75s\n",
            "430:\tlearn: 0.0385233\ttotal: 2.08s\tremaining: 2.75s\n",
            "431:\tlearn: 0.0383842\ttotal: 2.09s\tremaining: 2.74s\n",
            "432:\tlearn: 0.0382408\ttotal: 2.09s\tremaining: 2.74s\n",
            "433:\tlearn: 0.0381073\ttotal: 2.1s\tremaining: 2.73s\n",
            "434:\tlearn: 0.0379981\ttotal: 2.1s\tremaining: 2.73s\n",
            "435:\tlearn: 0.0378693\ttotal: 2.1s\tremaining: 2.72s\n",
            "436:\tlearn: 0.0377589\ttotal: 2.11s\tremaining: 2.72s\n",
            "437:\tlearn: 0.0376470\ttotal: 2.11s\tremaining: 2.71s\n",
            "438:\tlearn: 0.0375542\ttotal: 2.12s\tremaining: 2.71s\n",
            "439:\tlearn: 0.0374328\ttotal: 2.12s\tremaining: 2.7s\n",
            "440:\tlearn: 0.0373049\ttotal: 2.13s\tremaining: 2.69s\n",
            "441:\tlearn: 0.0371640\ttotal: 2.13s\tremaining: 2.69s\n",
            "442:\tlearn: 0.0370904\ttotal: 2.13s\tremaining: 2.68s\n",
            "443:\tlearn: 0.0369638\ttotal: 2.14s\tremaining: 2.68s\n",
            "444:\tlearn: 0.0368391\ttotal: 2.14s\tremaining: 2.67s\n",
            "445:\tlearn: 0.0367558\ttotal: 2.15s\tremaining: 2.67s\n",
            "446:\tlearn: 0.0366381\ttotal: 2.15s\tremaining: 2.66s\n",
            "447:\tlearn: 0.0365417\ttotal: 2.15s\tremaining: 2.65s\n",
            "448:\tlearn: 0.0364593\ttotal: 2.16s\tremaining: 2.65s\n",
            "449:\tlearn: 0.0363380\ttotal: 2.16s\tremaining: 2.65s\n",
            "450:\tlearn: 0.0362123\ttotal: 2.17s\tremaining: 2.64s\n",
            "451:\tlearn: 0.0361472\ttotal: 2.17s\tremaining: 2.63s\n",
            "452:\tlearn: 0.0360284\ttotal: 2.18s\tremaining: 2.63s\n",
            "453:\tlearn: 0.0359263\ttotal: 2.18s\tremaining: 2.62s\n",
            "454:\tlearn: 0.0357970\ttotal: 2.19s\tremaining: 2.62s\n",
            "455:\tlearn: 0.0356935\ttotal: 2.19s\tremaining: 2.61s\n",
            "456:\tlearn: 0.0356087\ttotal: 2.19s\tremaining: 2.61s\n",
            "457:\tlearn: 0.0355190\ttotal: 2.21s\tremaining: 2.61s\n",
            "458:\tlearn: 0.0353767\ttotal: 2.22s\tremaining: 2.61s\n",
            "459:\tlearn: 0.0352577\ttotal: 2.23s\tremaining: 2.61s\n",
            "460:\tlearn: 0.0351567\ttotal: 2.23s\tremaining: 2.61s\n",
            "461:\tlearn: 0.0350509\ttotal: 2.24s\tremaining: 2.6s\n",
            "462:\tlearn: 0.0349458\ttotal: 2.24s\tremaining: 2.6s\n",
            "463:\tlearn: 0.0348701\ttotal: 2.25s\tremaining: 2.59s\n",
            "464:\tlearn: 0.0347590\ttotal: 2.25s\tremaining: 2.59s\n",
            "465:\tlearn: 0.0346921\ttotal: 2.25s\tremaining: 2.58s\n",
            "466:\tlearn: 0.0346116\ttotal: 2.26s\tremaining: 2.58s\n",
            "467:\tlearn: 0.0345062\ttotal: 2.26s\tremaining: 2.57s\n",
            "468:\tlearn: 0.0343892\ttotal: 2.27s\tremaining: 2.57s\n",
            "469:\tlearn: 0.0343337\ttotal: 2.27s\tremaining: 2.56s\n",
            "470:\tlearn: 0.0342390\ttotal: 2.27s\tremaining: 2.56s\n",
            "471:\tlearn: 0.0341187\ttotal: 2.28s\tremaining: 2.55s\n",
            "472:\tlearn: 0.0340283\ttotal: 2.28s\tremaining: 2.54s\n",
            "473:\tlearn: 0.0339424\ttotal: 2.29s\tremaining: 2.54s\n",
            "474:\tlearn: 0.0338730\ttotal: 2.29s\tremaining: 2.54s\n",
            "475:\tlearn: 0.0337821\ttotal: 2.3s\tremaining: 2.53s\n",
            "476:\tlearn: 0.0336633\ttotal: 2.3s\tremaining: 2.52s\n",
            "477:\tlearn: 0.0335705\ttotal: 2.31s\tremaining: 2.52s\n",
            "478:\tlearn: 0.0334714\ttotal: 2.31s\tremaining: 2.51s\n",
            "479:\tlearn: 0.0334048\ttotal: 2.32s\tremaining: 2.51s\n",
            "480:\tlearn: 0.0333159\ttotal: 2.32s\tremaining: 2.5s\n",
            "481:\tlearn: 0.0332334\ttotal: 2.33s\tremaining: 2.5s\n",
            "482:\tlearn: 0.0331494\ttotal: 2.33s\tremaining: 2.49s\n",
            "483:\tlearn: 0.0330316\ttotal: 2.33s\tremaining: 2.49s\n",
            "484:\tlearn: 0.0329441\ttotal: 2.34s\tremaining: 2.48s\n",
            "485:\tlearn: 0.0328417\ttotal: 2.34s\tremaining: 2.48s\n",
            "486:\tlearn: 0.0327425\ttotal: 2.35s\tremaining: 2.47s\n",
            "487:\tlearn: 0.0326715\ttotal: 2.35s\tremaining: 2.47s\n",
            "488:\tlearn: 0.0325392\ttotal: 2.36s\tremaining: 2.46s\n",
            "489:\tlearn: 0.0324553\ttotal: 2.36s\tremaining: 2.46s\n",
            "490:\tlearn: 0.0323987\ttotal: 2.37s\tremaining: 2.45s\n",
            "491:\tlearn: 0.0323029\ttotal: 2.37s\tremaining: 2.45s\n",
            "492:\tlearn: 0.0322297\ttotal: 2.37s\tremaining: 2.44s\n",
            "493:\tlearn: 0.0321167\ttotal: 2.38s\tremaining: 2.44s\n",
            "494:\tlearn: 0.0319797\ttotal: 2.38s\tremaining: 2.43s\n",
            "495:\tlearn: 0.0319099\ttotal: 2.39s\tremaining: 2.42s\n",
            "496:\tlearn: 0.0318214\ttotal: 2.39s\tremaining: 2.42s\n",
            "497:\tlearn: 0.0317442\ttotal: 2.4s\tremaining: 2.42s\n",
            "498:\tlearn: 0.0316603\ttotal: 2.41s\tremaining: 2.42s\n",
            "499:\tlearn: 0.0315830\ttotal: 2.42s\tremaining: 2.42s\n",
            "500:\tlearn: 0.0315139\ttotal: 2.42s\tremaining: 2.41s\n",
            "501:\tlearn: 0.0314253\ttotal: 2.42s\tremaining: 2.41s\n",
            "502:\tlearn: 0.0313487\ttotal: 2.43s\tremaining: 2.4s\n",
            "503:\tlearn: 0.0312789\ttotal: 2.43s\tremaining: 2.4s\n",
            "504:\tlearn: 0.0311750\ttotal: 2.44s\tremaining: 2.39s\n",
            "505:\tlearn: 0.0310594\ttotal: 2.44s\tremaining: 2.38s\n",
            "506:\tlearn: 0.0309705\ttotal: 2.45s\tremaining: 2.38s\n",
            "507:\tlearn: 0.0309286\ttotal: 2.45s\tremaining: 2.37s\n",
            "508:\tlearn: 0.0308545\ttotal: 2.46s\tremaining: 2.37s\n",
            "509:\tlearn: 0.0307595\ttotal: 2.46s\tremaining: 2.37s\n",
            "510:\tlearn: 0.0306878\ttotal: 2.47s\tremaining: 2.36s\n",
            "511:\tlearn: 0.0305873\ttotal: 2.47s\tremaining: 2.35s\n",
            "512:\tlearn: 0.0305104\ttotal: 2.48s\tremaining: 2.35s\n",
            "513:\tlearn: 0.0304279\ttotal: 2.48s\tremaining: 2.34s\n",
            "514:\tlearn: 0.0303456\ttotal: 2.48s\tremaining: 2.34s\n",
            "515:\tlearn: 0.0302522\ttotal: 2.49s\tremaining: 2.33s\n",
            "516:\tlearn: 0.0301735\ttotal: 2.49s\tremaining: 2.33s\n",
            "517:\tlearn: 0.0301058\ttotal: 2.5s\tremaining: 2.32s\n",
            "518:\tlearn: 0.0300471\ttotal: 2.5s\tremaining: 2.32s\n",
            "519:\tlearn: 0.0299635\ttotal: 2.51s\tremaining: 2.31s\n",
            "520:\tlearn: 0.0298987\ttotal: 2.51s\tremaining: 2.31s\n",
            "521:\tlearn: 0.0298163\ttotal: 2.52s\tremaining: 2.3s\n",
            "522:\tlearn: 0.0297657\ttotal: 2.52s\tremaining: 2.3s\n",
            "523:\tlearn: 0.0297276\ttotal: 2.52s\tremaining: 2.29s\n",
            "524:\tlearn: 0.0296538\ttotal: 2.53s\tremaining: 2.29s\n",
            "525:\tlearn: 0.0295859\ttotal: 2.53s\tremaining: 2.28s\n",
            "526:\tlearn: 0.0294953\ttotal: 2.54s\tremaining: 2.28s\n",
            "527:\tlearn: 0.0294424\ttotal: 2.54s\tremaining: 2.27s\n",
            "528:\tlearn: 0.0293554\ttotal: 2.55s\tremaining: 2.27s\n",
            "529:\tlearn: 0.0292828\ttotal: 2.55s\tremaining: 2.26s\n",
            "530:\tlearn: 0.0292369\ttotal: 2.56s\tremaining: 2.26s\n",
            "531:\tlearn: 0.0291534\ttotal: 2.56s\tremaining: 2.25s\n",
            "532:\tlearn: 0.0290779\ttotal: 2.56s\tremaining: 2.25s\n",
            "533:\tlearn: 0.0290138\ttotal: 2.57s\tremaining: 2.24s\n",
            "534:\tlearn: 0.0289546\ttotal: 2.57s\tremaining: 2.24s\n",
            "535:\tlearn: 0.0288655\ttotal: 2.58s\tremaining: 2.23s\n",
            "536:\tlearn: 0.0288033\ttotal: 2.58s\tremaining: 2.23s\n",
            "537:\tlearn: 0.0287240\ttotal: 2.59s\tremaining: 2.22s\n",
            "538:\tlearn: 0.0286380\ttotal: 2.6s\tremaining: 2.22s\n",
            "539:\tlearn: 0.0285650\ttotal: 2.61s\tremaining: 2.22s\n",
            "540:\tlearn: 0.0284639\ttotal: 2.61s\tremaining: 2.22s\n",
            "541:\tlearn: 0.0283797\ttotal: 2.62s\tremaining: 2.21s\n",
            "542:\tlearn: 0.0282715\ttotal: 2.62s\tremaining: 2.21s\n",
            "543:\tlearn: 0.0282074\ttotal: 2.63s\tremaining: 2.2s\n",
            "544:\tlearn: 0.0281294\ttotal: 2.63s\tremaining: 2.2s\n",
            "545:\tlearn: 0.0280612\ttotal: 2.63s\tremaining: 2.19s\n",
            "546:\tlearn: 0.0280152\ttotal: 2.64s\tremaining: 2.19s\n",
            "547:\tlearn: 0.0279553\ttotal: 2.64s\tremaining: 2.18s\n",
            "548:\tlearn: 0.0278920\ttotal: 2.65s\tremaining: 2.17s\n",
            "549:\tlearn: 0.0278462\ttotal: 2.65s\tremaining: 2.17s\n",
            "550:\tlearn: 0.0277724\ttotal: 2.65s\tremaining: 2.16s\n",
            "551:\tlearn: 0.0277319\ttotal: 2.66s\tremaining: 2.16s\n",
            "552:\tlearn: 0.0276793\ttotal: 2.66s\tremaining: 2.15s\n",
            "553:\tlearn: 0.0276205\ttotal: 2.67s\tremaining: 2.15s\n",
            "554:\tlearn: 0.0275496\ttotal: 2.67s\tremaining: 2.14s\n",
            "555:\tlearn: 0.0274737\ttotal: 2.68s\tremaining: 2.14s\n",
            "556:\tlearn: 0.0273741\ttotal: 2.68s\tremaining: 2.13s\n",
            "557:\tlearn: 0.0273167\ttotal: 2.69s\tremaining: 2.13s\n",
            "558:\tlearn: 0.0272709\ttotal: 2.69s\tremaining: 2.12s\n",
            "559:\tlearn: 0.0272195\ttotal: 2.69s\tremaining: 2.12s\n",
            "560:\tlearn: 0.0271407\ttotal: 2.7s\tremaining: 2.11s\n",
            "561:\tlearn: 0.0270913\ttotal: 2.7s\tremaining: 2.11s\n",
            "562:\tlearn: 0.0270211\ttotal: 2.71s\tremaining: 2.1s\n",
            "563:\tlearn: 0.0269670\ttotal: 2.71s\tremaining: 2.1s\n",
            "564:\tlearn: 0.0269230\ttotal: 2.71s\tremaining: 2.09s\n",
            "565:\tlearn: 0.0268460\ttotal: 2.72s\tremaining: 2.08s\n",
            "566:\tlearn: 0.0267972\ttotal: 2.72s\tremaining: 2.08s\n",
            "567:\tlearn: 0.0267491\ttotal: 2.73s\tremaining: 2.07s\n",
            "568:\tlearn: 0.0266841\ttotal: 2.73s\tremaining: 2.07s\n",
            "569:\tlearn: 0.0265967\ttotal: 2.74s\tremaining: 2.06s\n",
            "570:\tlearn: 0.0265222\ttotal: 2.74s\tremaining: 2.06s\n",
            "571:\tlearn: 0.0264699\ttotal: 2.75s\tremaining: 2.05s\n",
            "572:\tlearn: 0.0264270\ttotal: 2.75s\tremaining: 2.05s\n",
            "573:\tlearn: 0.0263640\ttotal: 2.75s\tremaining: 2.04s\n",
            "574:\tlearn: 0.0263204\ttotal: 2.76s\tremaining: 2.04s\n",
            "575:\tlearn: 0.0262462\ttotal: 2.76s\tremaining: 2.03s\n",
            "576:\tlearn: 0.0261570\ttotal: 2.77s\tremaining: 2.03s\n",
            "577:\tlearn: 0.0261149\ttotal: 2.77s\tremaining: 2.02s\n",
            "578:\tlearn: 0.0260569\ttotal: 2.77s\tremaining: 2.02s\n",
            "579:\tlearn: 0.0260282\ttotal: 2.78s\tremaining: 2.01s\n",
            "580:\tlearn: 0.0259736\ttotal: 2.78s\tremaining: 2.01s\n",
            "581:\tlearn: 0.0259020\ttotal: 2.79s\tremaining: 2s\n",
            "582:\tlearn: 0.0258352\ttotal: 2.79s\tremaining: 2s\n",
            "583:\tlearn: 0.0257657\ttotal: 2.8s\tremaining: 2s\n",
            "584:\tlearn: 0.0257156\ttotal: 2.81s\tremaining: 1.99s\n",
            "585:\tlearn: 0.0256869\ttotal: 2.81s\tremaining: 1.99s\n",
            "586:\tlearn: 0.0256194\ttotal: 2.82s\tremaining: 1.98s\n",
            "587:\tlearn: 0.0255766\ttotal: 2.82s\tremaining: 1.98s\n",
            "588:\tlearn: 0.0254997\ttotal: 2.82s\tremaining: 1.97s\n",
            "589:\tlearn: 0.0254458\ttotal: 2.83s\tremaining: 1.97s\n",
            "590:\tlearn: 0.0253485\ttotal: 2.83s\tremaining: 1.96s\n",
            "591:\tlearn: 0.0253223\ttotal: 2.84s\tremaining: 1.96s\n",
            "592:\tlearn: 0.0252641\ttotal: 2.84s\tremaining: 1.95s\n",
            "593:\tlearn: 0.0251992\ttotal: 2.85s\tremaining: 1.95s\n",
            "594:\tlearn: 0.0251364\ttotal: 2.85s\tremaining: 1.94s\n",
            "595:\tlearn: 0.0250842\ttotal: 2.85s\tremaining: 1.94s\n",
            "596:\tlearn: 0.0250348\ttotal: 2.86s\tremaining: 1.93s\n",
            "597:\tlearn: 0.0249695\ttotal: 2.86s\tremaining: 1.92s\n",
            "598:\tlearn: 0.0249318\ttotal: 2.87s\tremaining: 1.92s\n",
            "599:\tlearn: 0.0248495\ttotal: 2.87s\tremaining: 1.91s\n",
            "600:\tlearn: 0.0247819\ttotal: 2.88s\tremaining: 1.91s\n",
            "601:\tlearn: 0.0247137\ttotal: 2.88s\tremaining: 1.9s\n",
            "602:\tlearn: 0.0246487\ttotal: 2.88s\tremaining: 1.9s\n",
            "603:\tlearn: 0.0245897\ttotal: 2.89s\tremaining: 1.89s\n",
            "604:\tlearn: 0.0245507\ttotal: 2.89s\tremaining: 1.89s\n",
            "605:\tlearn: 0.0245004\ttotal: 2.9s\tremaining: 1.89s\n",
            "606:\tlearn: 0.0244455\ttotal: 2.91s\tremaining: 1.88s\n",
            "607:\tlearn: 0.0243604\ttotal: 2.91s\tremaining: 1.88s\n",
            "608:\tlearn: 0.0243294\ttotal: 2.92s\tremaining: 1.87s\n",
            "609:\tlearn: 0.0242452\ttotal: 2.92s\tremaining: 1.87s\n",
            "610:\tlearn: 0.0241913\ttotal: 2.92s\tremaining: 1.86s\n",
            "611:\tlearn: 0.0241393\ttotal: 2.93s\tremaining: 1.86s\n",
            "612:\tlearn: 0.0240717\ttotal: 2.93s\tremaining: 1.85s\n",
            "613:\tlearn: 0.0240002\ttotal: 2.94s\tremaining: 1.85s\n",
            "614:\tlearn: 0.0239539\ttotal: 2.94s\tremaining: 1.84s\n",
            "615:\tlearn: 0.0239110\ttotal: 2.95s\tremaining: 1.84s\n",
            "616:\tlearn: 0.0238804\ttotal: 2.95s\tremaining: 1.83s\n",
            "617:\tlearn: 0.0238459\ttotal: 2.96s\tremaining: 1.83s\n",
            "618:\tlearn: 0.0237892\ttotal: 2.96s\tremaining: 1.82s\n",
            "619:\tlearn: 0.0237560\ttotal: 2.97s\tremaining: 1.82s\n",
            "620:\tlearn: 0.0236964\ttotal: 2.97s\tremaining: 1.81s\n",
            "621:\tlearn: 0.0236310\ttotal: 2.98s\tremaining: 1.81s\n",
            "622:\tlearn: 0.0235645\ttotal: 2.98s\tremaining: 1.8s\n",
            "623:\tlearn: 0.0235042\ttotal: 2.98s\tremaining: 1.8s\n",
            "624:\tlearn: 0.0234623\ttotal: 2.99s\tremaining: 1.79s\n",
            "625:\tlearn: 0.0234147\ttotal: 2.99s\tremaining: 1.79s\n",
            "626:\tlearn: 0.0233644\ttotal: 3.01s\tremaining: 1.79s\n",
            "627:\tlearn: 0.0233182\ttotal: 3.01s\tremaining: 1.78s\n",
            "628:\tlearn: 0.0232727\ttotal: 3.02s\tremaining: 1.78s\n",
            "629:\tlearn: 0.0232312\ttotal: 3.02s\tremaining: 1.77s\n",
            "630:\tlearn: 0.0231862\ttotal: 3.03s\tremaining: 1.77s\n",
            "631:\tlearn: 0.0231226\ttotal: 3.03s\tremaining: 1.76s\n",
            "632:\tlearn: 0.0230950\ttotal: 3.03s\tremaining: 1.76s\n",
            "633:\tlearn: 0.0230388\ttotal: 3.04s\tremaining: 1.75s\n",
            "634:\tlearn: 0.0230090\ttotal: 3.04s\tremaining: 1.75s\n",
            "635:\tlearn: 0.0229748\ttotal: 3.05s\tremaining: 1.74s\n",
            "636:\tlearn: 0.0229246\ttotal: 3.05s\tremaining: 1.74s\n",
            "637:\tlearn: 0.0228918\ttotal: 3.05s\tremaining: 1.73s\n",
            "638:\tlearn: 0.0228508\ttotal: 3.06s\tremaining: 1.73s\n",
            "639:\tlearn: 0.0227883\ttotal: 3.06s\tremaining: 1.72s\n",
            "640:\tlearn: 0.0227509\ttotal: 3.07s\tremaining: 1.72s\n",
            "641:\tlearn: 0.0227305\ttotal: 3.07s\tremaining: 1.71s\n",
            "642:\tlearn: 0.0226912\ttotal: 3.08s\tremaining: 1.71s\n",
            "643:\tlearn: 0.0226364\ttotal: 3.08s\tremaining: 1.7s\n",
            "644:\tlearn: 0.0225854\ttotal: 3.08s\tremaining: 1.7s\n",
            "645:\tlearn: 0.0225182\ttotal: 3.09s\tremaining: 1.69s\n",
            "646:\tlearn: 0.0224737\ttotal: 3.09s\tremaining: 1.69s\n",
            "647:\tlearn: 0.0224385\ttotal: 3.1s\tremaining: 1.68s\n",
            "648:\tlearn: 0.0223819\ttotal: 3.11s\tremaining: 1.68s\n",
            "649:\tlearn: 0.0223471\ttotal: 3.11s\tremaining: 1.68s\n",
            "650:\tlearn: 0.0222947\ttotal: 3.12s\tremaining: 1.67s\n",
            "651:\tlearn: 0.0222253\ttotal: 3.12s\tremaining: 1.67s\n",
            "652:\tlearn: 0.0221910\ttotal: 3.13s\tremaining: 1.66s\n",
            "653:\tlearn: 0.0221419\ttotal: 3.13s\tremaining: 1.66s\n",
            "654:\tlearn: 0.0220862\ttotal: 3.13s\tremaining: 1.65s\n",
            "655:\tlearn: 0.0220335\ttotal: 3.14s\tremaining: 1.65s\n",
            "656:\tlearn: 0.0219833\ttotal: 3.14s\tremaining: 1.64s\n",
            "657:\tlearn: 0.0219501\ttotal: 3.15s\tremaining: 1.64s\n",
            "658:\tlearn: 0.0218995\ttotal: 3.15s\tremaining: 1.63s\n",
            "659:\tlearn: 0.0218164\ttotal: 3.16s\tremaining: 1.63s\n",
            "660:\tlearn: 0.0217711\ttotal: 3.16s\tremaining: 1.62s\n",
            "661:\tlearn: 0.0217263\ttotal: 3.17s\tremaining: 1.62s\n",
            "662:\tlearn: 0.0217050\ttotal: 3.17s\tremaining: 1.61s\n",
            "663:\tlearn: 0.0216499\ttotal: 3.18s\tremaining: 1.61s\n",
            "664:\tlearn: 0.0215927\ttotal: 3.19s\tremaining: 1.6s\n",
            "665:\tlearn: 0.0215589\ttotal: 3.19s\tremaining: 1.6s\n",
            "666:\tlearn: 0.0215106\ttotal: 3.19s\tremaining: 1.59s\n",
            "667:\tlearn: 0.0214644\ttotal: 3.2s\tremaining: 1.59s\n",
            "668:\tlearn: 0.0214164\ttotal: 3.21s\tremaining: 1.59s\n",
            "669:\tlearn: 0.0213594\ttotal: 3.22s\tremaining: 1.58s\n",
            "670:\tlearn: 0.0213154\ttotal: 3.22s\tremaining: 1.58s\n",
            "671:\tlearn: 0.0212697\ttotal: 3.23s\tremaining: 1.57s\n",
            "672:\tlearn: 0.0212178\ttotal: 3.23s\tremaining: 1.57s\n",
            "673:\tlearn: 0.0211895\ttotal: 3.23s\tremaining: 1.56s\n",
            "674:\tlearn: 0.0211369\ttotal: 3.24s\tremaining: 1.56s\n",
            "675:\tlearn: 0.0210944\ttotal: 3.24s\tremaining: 1.55s\n",
            "676:\tlearn: 0.0210532\ttotal: 3.25s\tremaining: 1.55s\n",
            "677:\tlearn: 0.0210180\ttotal: 3.25s\tremaining: 1.54s\n",
            "678:\tlearn: 0.0209809\ttotal: 3.25s\tremaining: 1.54s\n",
            "679:\tlearn: 0.0209398\ttotal: 3.26s\tremaining: 1.53s\n",
            "680:\tlearn: 0.0209228\ttotal: 3.26s\tremaining: 1.53s\n",
            "681:\tlearn: 0.0208814\ttotal: 3.27s\tremaining: 1.52s\n",
            "682:\tlearn: 0.0208458\ttotal: 3.27s\tremaining: 1.52s\n",
            "683:\tlearn: 0.0207925\ttotal: 3.27s\tremaining: 1.51s\n",
            "684:\tlearn: 0.0207523\ttotal: 3.28s\tremaining: 1.51s\n",
            "685:\tlearn: 0.0207127\ttotal: 3.28s\tremaining: 1.5s\n",
            "686:\tlearn: 0.0206731\ttotal: 3.29s\tremaining: 1.5s\n",
            "687:\tlearn: 0.0206323\ttotal: 3.29s\tremaining: 1.49s\n",
            "688:\tlearn: 0.0205919\ttotal: 3.3s\tremaining: 1.49s\n",
            "689:\tlearn: 0.0205531\ttotal: 3.3s\tremaining: 1.48s\n",
            "690:\tlearn: 0.0204895\ttotal: 3.31s\tremaining: 1.48s\n",
            "691:\tlearn: 0.0204520\ttotal: 3.31s\tremaining: 1.47s\n",
            "692:\tlearn: 0.0203948\ttotal: 3.31s\tremaining: 1.47s\n",
            "693:\tlearn: 0.0203736\ttotal: 3.32s\tremaining: 1.46s\n",
            "694:\tlearn: 0.0203349\ttotal: 3.32s\tremaining: 1.46s\n",
            "695:\tlearn: 0.0202714\ttotal: 3.33s\tremaining: 1.45s\n",
            "696:\tlearn: 0.0202336\ttotal: 3.33s\tremaining: 1.45s\n",
            "697:\tlearn: 0.0201921\ttotal: 3.34s\tremaining: 1.44s\n",
            "698:\tlearn: 0.0201562\ttotal: 3.34s\tremaining: 1.44s\n",
            "699:\tlearn: 0.0200998\ttotal: 3.34s\tremaining: 1.43s\n",
            "700:\tlearn: 0.0200397\ttotal: 3.35s\tremaining: 1.43s\n",
            "701:\tlearn: 0.0200057\ttotal: 3.35s\tremaining: 1.42s\n",
            "702:\tlearn: 0.0199789\ttotal: 3.36s\tremaining: 1.42s\n",
            "703:\tlearn: 0.0199425\ttotal: 3.36s\tremaining: 1.41s\n",
            "704:\tlearn: 0.0199246\ttotal: 3.37s\tremaining: 1.41s\n",
            "705:\tlearn: 0.0198930\ttotal: 3.37s\tremaining: 1.4s\n",
            "706:\tlearn: 0.0198461\ttotal: 3.38s\tremaining: 1.4s\n",
            "707:\tlearn: 0.0198151\ttotal: 3.38s\tremaining: 1.39s\n",
            "708:\tlearn: 0.0197693\ttotal: 3.39s\tremaining: 1.39s\n",
            "709:\tlearn: 0.0197370\ttotal: 3.39s\tremaining: 1.39s\n",
            "710:\tlearn: 0.0197073\ttotal: 3.4s\tremaining: 1.38s\n",
            "711:\tlearn: 0.0196613\ttotal: 3.4s\tremaining: 1.38s\n",
            "712:\tlearn: 0.0196147\ttotal: 3.41s\tremaining: 1.37s\n",
            "713:\tlearn: 0.0195741\ttotal: 3.42s\tremaining: 1.37s\n",
            "714:\tlearn: 0.0195258\ttotal: 3.43s\tremaining: 1.36s\n",
            "715:\tlearn: 0.0194878\ttotal: 3.43s\tremaining: 1.36s\n",
            "716:\tlearn: 0.0194602\ttotal: 3.43s\tremaining: 1.35s\n",
            "717:\tlearn: 0.0194224\ttotal: 3.44s\tremaining: 1.35s\n",
            "718:\tlearn: 0.0193793\ttotal: 3.44s\tremaining: 1.34s\n",
            "719:\tlearn: 0.0193555\ttotal: 3.45s\tremaining: 1.34s\n",
            "720:\tlearn: 0.0193301\ttotal: 3.45s\tremaining: 1.34s\n",
            "721:\tlearn: 0.0193235\ttotal: 3.46s\tremaining: 1.33s\n",
            "722:\tlearn: 0.0192770\ttotal: 3.46s\tremaining: 1.33s\n",
            "723:\tlearn: 0.0192329\ttotal: 3.46s\tremaining: 1.32s\n",
            "724:\tlearn: 0.0191799\ttotal: 3.47s\tremaining: 1.32s\n",
            "725:\tlearn: 0.0191566\ttotal: 3.47s\tremaining: 1.31s\n",
            "726:\tlearn: 0.0191141\ttotal: 3.48s\tremaining: 1.31s\n",
            "727:\tlearn: 0.0190735\ttotal: 3.48s\tremaining: 1.3s\n",
            "728:\tlearn: 0.0190242\ttotal: 3.49s\tremaining: 1.3s\n",
            "729:\tlearn: 0.0189930\ttotal: 3.49s\tremaining: 1.29s\n",
            "730:\tlearn: 0.0189539\ttotal: 3.49s\tremaining: 1.29s\n",
            "731:\tlearn: 0.0189037\ttotal: 3.5s\tremaining: 1.28s\n",
            "732:\tlearn: 0.0188630\ttotal: 3.5s\tremaining: 1.28s\n",
            "733:\tlearn: 0.0188081\ttotal: 3.51s\tremaining: 1.27s\n",
            "734:\tlearn: 0.0187667\ttotal: 3.51s\tremaining: 1.27s\n",
            "735:\tlearn: 0.0187316\ttotal: 3.52s\tremaining: 1.26s\n",
            "736:\tlearn: 0.0187146\ttotal: 3.52s\tremaining: 1.26s\n",
            "737:\tlearn: 0.0186847\ttotal: 3.52s\tremaining: 1.25s\n",
            "738:\tlearn: 0.0186521\ttotal: 3.53s\tremaining: 1.25s\n",
            "739:\tlearn: 0.0186108\ttotal: 3.53s\tremaining: 1.24s\n",
            "740:\tlearn: 0.0185525\ttotal: 3.54s\tremaining: 1.24s\n",
            "741:\tlearn: 0.0185180\ttotal: 3.54s\tremaining: 1.23s\n",
            "742:\tlearn: 0.0184976\ttotal: 3.55s\tremaining: 1.23s\n",
            "743:\tlearn: 0.0184543\ttotal: 3.55s\tremaining: 1.22s\n",
            "744:\tlearn: 0.0184133\ttotal: 3.56s\tremaining: 1.22s\n",
            "745:\tlearn: 0.0183699\ttotal: 3.56s\tremaining: 1.21s\n",
            "746:\tlearn: 0.0183387\ttotal: 3.56s\tremaining: 1.21s\n",
            "747:\tlearn: 0.0183027\ttotal: 3.57s\tremaining: 1.2s\n",
            "748:\tlearn: 0.0182562\ttotal: 3.57s\tremaining: 1.2s\n",
            "749:\tlearn: 0.0182246\ttotal: 3.58s\tremaining: 1.19s\n",
            "750:\tlearn: 0.0181881\ttotal: 3.58s\tremaining: 1.19s\n",
            "751:\tlearn: 0.0181548\ttotal: 3.58s\tremaining: 1.18s\n",
            "752:\tlearn: 0.0181030\ttotal: 3.59s\tremaining: 1.18s\n",
            "753:\tlearn: 0.0180756\ttotal: 3.59s\tremaining: 1.17s\n",
            "754:\tlearn: 0.0180406\ttotal: 3.6s\tremaining: 1.17s\n",
            "755:\tlearn: 0.0180240\ttotal: 3.6s\tremaining: 1.16s\n",
            "756:\tlearn: 0.0179688\ttotal: 3.61s\tremaining: 1.16s\n",
            "757:\tlearn: 0.0179257\ttotal: 3.62s\tremaining: 1.16s\n",
            "758:\tlearn: 0.0178698\ttotal: 3.62s\tremaining: 1.15s\n",
            "759:\tlearn: 0.0178273\ttotal: 3.63s\tremaining: 1.15s\n",
            "760:\tlearn: 0.0177948\ttotal: 3.63s\tremaining: 1.14s\n",
            "761:\tlearn: 0.0177734\ttotal: 3.64s\tremaining: 1.14s\n",
            "762:\tlearn: 0.0177511\ttotal: 3.64s\tremaining: 1.13s\n",
            "763:\tlearn: 0.0177245\ttotal: 3.64s\tremaining: 1.13s\n",
            "764:\tlearn: 0.0176887\ttotal: 3.65s\tremaining: 1.12s\n",
            "765:\tlearn: 0.0176565\ttotal: 3.65s\tremaining: 1.11s\n",
            "766:\tlearn: 0.0176309\ttotal: 3.66s\tremaining: 1.11s\n",
            "767:\tlearn: 0.0175932\ttotal: 3.66s\tremaining: 1.11s\n",
            "768:\tlearn: 0.0175612\ttotal: 3.67s\tremaining: 1.1s\n",
            "769:\tlearn: 0.0175159\ttotal: 3.67s\tremaining: 1.1s\n",
            "770:\tlearn: 0.0175066\ttotal: 3.67s\tremaining: 1.09s\n",
            "771:\tlearn: 0.0174921\ttotal: 3.68s\tremaining: 1.09s\n",
            "772:\tlearn: 0.0174639\ttotal: 3.68s\tremaining: 1.08s\n",
            "773:\tlearn: 0.0174368\ttotal: 3.69s\tremaining: 1.08s\n",
            "774:\tlearn: 0.0174040\ttotal: 3.69s\tremaining: 1.07s\n",
            "775:\tlearn: 0.0173676\ttotal: 3.7s\tremaining: 1.07s\n",
            "776:\tlearn: 0.0173396\ttotal: 3.7s\tremaining: 1.06s\n",
            "777:\tlearn: 0.0173253\ttotal: 3.71s\tremaining: 1.06s\n",
            "778:\tlearn: 0.0172992\ttotal: 3.71s\tremaining: 1.05s\n",
            "779:\tlearn: 0.0172654\ttotal: 3.71s\tremaining: 1.05s\n",
            "780:\tlearn: 0.0172290\ttotal: 3.72s\tremaining: 1.04s\n",
            "781:\tlearn: 0.0171971\ttotal: 3.72s\tremaining: 1.04s\n",
            "782:\tlearn: 0.0171464\ttotal: 3.73s\tremaining: 1.03s\n",
            "783:\tlearn: 0.0171174\ttotal: 3.73s\tremaining: 1.03s\n",
            "784:\tlearn: 0.0170862\ttotal: 3.73s\tremaining: 1.02s\n",
            "785:\tlearn: 0.0170573\ttotal: 3.74s\tremaining: 1.02s\n",
            "786:\tlearn: 0.0170278\ttotal: 3.74s\tremaining: 1.01s\n",
            "787:\tlearn: 0.0169895\ttotal: 3.75s\tremaining: 1.01s\n",
            "788:\tlearn: 0.0169477\ttotal: 3.75s\tremaining: 1s\n",
            "789:\tlearn: 0.0169271\ttotal: 3.76s\tremaining: 999ms\n",
            "790:\tlearn: 0.0168994\ttotal: 3.76s\tremaining: 994ms\n",
            "791:\tlearn: 0.0168627\ttotal: 3.77s\tremaining: 989ms\n",
            "792:\tlearn: 0.0168253\ttotal: 3.77s\tremaining: 984ms\n",
            "793:\tlearn: 0.0167931\ttotal: 3.77s\tremaining: 979ms\n",
            "794:\tlearn: 0.0167683\ttotal: 3.78s\tremaining: 974ms\n",
            "795:\tlearn: 0.0167340\ttotal: 3.78s\tremaining: 969ms\n",
            "796:\tlearn: 0.0166991\ttotal: 3.79s\tremaining: 964ms\n",
            "797:\tlearn: 0.0166763\ttotal: 3.79s\tremaining: 959ms\n",
            "798:\tlearn: 0.0166277\ttotal: 3.79s\tremaining: 955ms\n",
            "799:\tlearn: 0.0165805\ttotal: 3.81s\tremaining: 952ms\n",
            "800:\tlearn: 0.0165501\ttotal: 3.81s\tremaining: 947ms\n",
            "801:\tlearn: 0.0165212\ttotal: 3.82s\tremaining: 942ms\n",
            "802:\tlearn: 0.0164918\ttotal: 3.82s\tremaining: 937ms\n",
            "803:\tlearn: 0.0164700\ttotal: 3.83s\tremaining: 932ms\n",
            "804:\tlearn: 0.0164568\ttotal: 3.83s\tremaining: 928ms\n",
            "805:\tlearn: 0.0164223\ttotal: 3.83s\tremaining: 923ms\n",
            "806:\tlearn: 0.0163797\ttotal: 3.84s\tremaining: 918ms\n",
            "807:\tlearn: 0.0163676\ttotal: 3.84s\tremaining: 913ms\n",
            "808:\tlearn: 0.0163436\ttotal: 3.85s\tremaining: 908ms\n",
            "809:\tlearn: 0.0163213\ttotal: 3.85s\tremaining: 903ms\n",
            "810:\tlearn: 0.0162998\ttotal: 3.85s\tremaining: 898ms\n",
            "811:\tlearn: 0.0162697\ttotal: 3.86s\tremaining: 894ms\n",
            "812:\tlearn: 0.0162393\ttotal: 3.86s\tremaining: 889ms\n",
            "813:\tlearn: 0.0162246\ttotal: 3.87s\tremaining: 884ms\n",
            "814:\tlearn: 0.0162022\ttotal: 3.87s\tremaining: 879ms\n",
            "815:\tlearn: 0.0161705\ttotal: 3.88s\tremaining: 875ms\n",
            "816:\tlearn: 0.0161209\ttotal: 3.88s\tremaining: 870ms\n",
            "817:\tlearn: 0.0161024\ttotal: 3.89s\tremaining: 865ms\n",
            "818:\tlearn: 0.0160674\ttotal: 3.89s\tremaining: 860ms\n",
            "819:\tlearn: 0.0160334\ttotal: 3.9s\tremaining: 856ms\n",
            "820:\tlearn: 0.0160039\ttotal: 3.9s\tremaining: 851ms\n",
            "821:\tlearn: 0.0159659\ttotal: 3.91s\tremaining: 846ms\n",
            "822:\tlearn: 0.0159398\ttotal: 3.91s\tremaining: 842ms\n",
            "823:\tlearn: 0.0159071\ttotal: 3.92s\tremaining: 837ms\n",
            "824:\tlearn: 0.0158723\ttotal: 3.92s\tremaining: 832ms\n",
            "825:\tlearn: 0.0158664\ttotal: 3.92s\tremaining: 827ms\n",
            "826:\tlearn: 0.0158354\ttotal: 3.93s\tremaining: 822ms\n",
            "827:\tlearn: 0.0158060\ttotal: 3.93s\tremaining: 817ms\n",
            "828:\tlearn: 0.0157812\ttotal: 3.94s\tremaining: 813ms\n",
            "829:\tlearn: 0.0157459\ttotal: 3.94s\tremaining: 808ms\n",
            "830:\tlearn: 0.0157049\ttotal: 3.95s\tremaining: 803ms\n",
            "831:\tlearn: 0.0156707\ttotal: 3.95s\tremaining: 798ms\n",
            "832:\tlearn: 0.0156501\ttotal: 3.96s\tremaining: 793ms\n",
            "833:\tlearn: 0.0156159\ttotal: 3.96s\tremaining: 788ms\n",
            "834:\tlearn: 0.0156038\ttotal: 3.96s\tremaining: 783ms\n",
            "835:\tlearn: 0.0155814\ttotal: 3.97s\tremaining: 779ms\n",
            "836:\tlearn: 0.0155574\ttotal: 3.97s\tremaining: 774ms\n",
            "837:\tlearn: 0.0155216\ttotal: 3.98s\tremaining: 769ms\n",
            "838:\tlearn: 0.0154901\ttotal: 3.98s\tremaining: 764ms\n",
            "839:\tlearn: 0.0154622\ttotal: 3.99s\tremaining: 759ms\n",
            "840:\tlearn: 0.0154388\ttotal: 3.99s\tremaining: 755ms\n",
            "841:\tlearn: 0.0153827\ttotal: 4s\tremaining: 752ms\n",
            "842:\tlearn: 0.0153343\ttotal: 4.01s\tremaining: 747ms\n",
            "843:\tlearn: 0.0153007\ttotal: 4.01s\tremaining: 742ms\n",
            "844:\tlearn: 0.0152699\ttotal: 4.02s\tremaining: 737ms\n",
            "845:\tlearn: 0.0152462\ttotal: 4.02s\tremaining: 732ms\n",
            "846:\tlearn: 0.0152292\ttotal: 4.03s\tremaining: 727ms\n",
            "847:\tlearn: 0.0151979\ttotal: 4.03s\tremaining: 722ms\n",
            "848:\tlearn: 0.0151581\ttotal: 4.03s\tremaining: 718ms\n",
            "849:\tlearn: 0.0151275\ttotal: 4.04s\tremaining: 713ms\n",
            "850:\tlearn: 0.0150928\ttotal: 4.04s\tremaining: 708ms\n",
            "851:\tlearn: 0.0150673\ttotal: 4.05s\tremaining: 703ms\n",
            "852:\tlearn: 0.0150395\ttotal: 4.05s\tremaining: 698ms\n",
            "853:\tlearn: 0.0150280\ttotal: 4.06s\tremaining: 693ms\n",
            "854:\tlearn: 0.0149970\ttotal: 4.06s\tremaining: 689ms\n",
            "855:\tlearn: 0.0149687\ttotal: 4.06s\tremaining: 684ms\n",
            "856:\tlearn: 0.0149472\ttotal: 4.07s\tremaining: 679ms\n",
            "857:\tlearn: 0.0149224\ttotal: 4.07s\tremaining: 674ms\n",
            "858:\tlearn: 0.0149148\ttotal: 4.08s\tremaining: 669ms\n",
            "859:\tlearn: 0.0148961\ttotal: 4.08s\tremaining: 665ms\n",
            "860:\tlearn: 0.0148735\ttotal: 4.09s\tremaining: 660ms\n",
            "861:\tlearn: 0.0148381\ttotal: 4.09s\tremaining: 655ms\n",
            "862:\tlearn: 0.0148217\ttotal: 4.09s\tremaining: 650ms\n",
            "863:\tlearn: 0.0147939\ttotal: 4.1s\tremaining: 645ms\n",
            "864:\tlearn: 0.0147544\ttotal: 4.1s\tremaining: 640ms\n",
            "865:\tlearn: 0.0147290\ttotal: 4.11s\tremaining: 636ms\n",
            "866:\tlearn: 0.0146981\ttotal: 4.11s\tremaining: 631ms\n",
            "867:\tlearn: 0.0146851\ttotal: 4.12s\tremaining: 626ms\n",
            "868:\tlearn: 0.0146611\ttotal: 4.12s\tremaining: 621ms\n",
            "869:\tlearn: 0.0146345\ttotal: 4.12s\tremaining: 616ms\n",
            "870:\tlearn: 0.0146104\ttotal: 4.13s\tremaining: 612ms\n",
            "871:\tlearn: 0.0145839\ttotal: 4.13s\tremaining: 607ms\n",
            "872:\tlearn: 0.0145579\ttotal: 4.14s\tremaining: 602ms\n",
            "873:\tlearn: 0.0145349\ttotal: 4.14s\tremaining: 597ms\n",
            "874:\tlearn: 0.0145062\ttotal: 4.15s\tremaining: 593ms\n",
            "875:\tlearn: 0.0144731\ttotal: 4.16s\tremaining: 588ms\n",
            "876:\tlearn: 0.0144518\ttotal: 4.16s\tremaining: 584ms\n",
            "877:\tlearn: 0.0144332\ttotal: 4.16s\tremaining: 579ms\n",
            "878:\tlearn: 0.0144106\ttotal: 4.17s\tremaining: 574ms\n",
            "879:\tlearn: 0.0144021\ttotal: 4.17s\tremaining: 569ms\n",
            "880:\tlearn: 0.0143771\ttotal: 4.18s\tremaining: 564ms\n",
            "881:\tlearn: 0.0143594\ttotal: 4.18s\tremaining: 559ms\n",
            "882:\tlearn: 0.0143494\ttotal: 4.18s\tremaining: 555ms\n",
            "883:\tlearn: 0.0143140\ttotal: 4.19s\tremaining: 550ms\n",
            "884:\tlearn: 0.0142978\ttotal: 4.2s\tremaining: 546ms\n",
            "885:\tlearn: 0.0142833\ttotal: 4.21s\tremaining: 541ms\n",
            "886:\tlearn: 0.0142579\ttotal: 4.21s\tremaining: 537ms\n",
            "887:\tlearn: 0.0142348\ttotal: 4.22s\tremaining: 532ms\n",
            "888:\tlearn: 0.0142088\ttotal: 4.22s\tremaining: 527ms\n",
            "889:\tlearn: 0.0141787\ttotal: 4.22s\tremaining: 522ms\n",
            "890:\tlearn: 0.0141750\ttotal: 4.23s\tremaining: 517ms\n",
            "891:\tlearn: 0.0141643\ttotal: 4.23s\tremaining: 513ms\n",
            "892:\tlearn: 0.0141410\ttotal: 4.24s\tremaining: 508ms\n",
            "893:\tlearn: 0.0141179\ttotal: 4.24s\tremaining: 503ms\n",
            "894:\tlearn: 0.0140964\ttotal: 4.25s\tremaining: 498ms\n",
            "895:\tlearn: 0.0140732\ttotal: 4.25s\tremaining: 493ms\n",
            "896:\tlearn: 0.0140583\ttotal: 4.25s\tremaining: 489ms\n",
            "897:\tlearn: 0.0140246\ttotal: 4.26s\tremaining: 484ms\n",
            "898:\tlearn: 0.0139932\ttotal: 4.26s\tremaining: 479ms\n",
            "899:\tlearn: 0.0139789\ttotal: 4.27s\tremaining: 474ms\n",
            "900:\tlearn: 0.0139496\ttotal: 4.27s\tremaining: 469ms\n",
            "901:\tlearn: 0.0139283\ttotal: 4.28s\tremaining: 465ms\n",
            "902:\tlearn: 0.0139011\ttotal: 4.28s\tremaining: 460ms\n",
            "903:\tlearn: 0.0138740\ttotal: 4.29s\tremaining: 455ms\n",
            "904:\tlearn: 0.0138450\ttotal: 4.29s\tremaining: 450ms\n",
            "905:\tlearn: 0.0138175\ttotal: 4.29s\tremaining: 445ms\n",
            "906:\tlearn: 0.0137994\ttotal: 4.3s\tremaining: 441ms\n",
            "907:\tlearn: 0.0137723\ttotal: 4.3s\tremaining: 436ms\n",
            "908:\tlearn: 0.0137588\ttotal: 4.31s\tremaining: 431ms\n",
            "909:\tlearn: 0.0137404\ttotal: 4.31s\tremaining: 426ms\n",
            "910:\tlearn: 0.0137193\ttotal: 4.32s\tremaining: 422ms\n",
            "911:\tlearn: 0.0136907\ttotal: 4.32s\tremaining: 417ms\n",
            "912:\tlearn: 0.0136752\ttotal: 4.32s\tremaining: 412ms\n",
            "913:\tlearn: 0.0136483\ttotal: 4.33s\tremaining: 407ms\n",
            "914:\tlearn: 0.0136249\ttotal: 4.33s\tremaining: 403ms\n",
            "915:\tlearn: 0.0135972\ttotal: 4.34s\tremaining: 398ms\n",
            "916:\tlearn: 0.0135878\ttotal: 4.34s\tremaining: 393ms\n",
            "917:\tlearn: 0.0135670\ttotal: 4.34s\tremaining: 388ms\n",
            "918:\tlearn: 0.0135351\ttotal: 4.35s\tremaining: 383ms\n",
            "919:\tlearn: 0.0135274\ttotal: 4.36s\tremaining: 379ms\n",
            "920:\tlearn: 0.0134866\ttotal: 4.36s\tremaining: 374ms\n",
            "921:\tlearn: 0.0134797\ttotal: 4.37s\tremaining: 369ms\n",
            "922:\tlearn: 0.0134546\ttotal: 4.37s\tremaining: 365ms\n",
            "923:\tlearn: 0.0134339\ttotal: 4.38s\tremaining: 360ms\n",
            "924:\tlearn: 0.0134130\ttotal: 4.38s\tremaining: 355ms\n",
            "925:\tlearn: 0.0133933\ttotal: 4.39s\tremaining: 351ms\n",
            "926:\tlearn: 0.0133691\ttotal: 4.4s\tremaining: 346ms\n",
            "927:\tlearn: 0.0133480\ttotal: 4.4s\tremaining: 341ms\n",
            "928:\tlearn: 0.0133315\ttotal: 4.41s\tremaining: 337ms\n",
            "929:\tlearn: 0.0133171\ttotal: 4.41s\tremaining: 332ms\n",
            "930:\tlearn: 0.0132835\ttotal: 4.41s\tremaining: 327ms\n",
            "931:\tlearn: 0.0132756\ttotal: 4.42s\tremaining: 322ms\n",
            "932:\tlearn: 0.0132715\ttotal: 4.42s\tremaining: 318ms\n",
            "933:\tlearn: 0.0132465\ttotal: 4.43s\tremaining: 313ms\n",
            "934:\tlearn: 0.0132157\ttotal: 4.43s\tremaining: 308ms\n",
            "935:\tlearn: 0.0131827\ttotal: 4.43s\tremaining: 303ms\n",
            "936:\tlearn: 0.0131679\ttotal: 4.44s\tremaining: 299ms\n",
            "937:\tlearn: 0.0131500\ttotal: 4.44s\tremaining: 294ms\n",
            "938:\tlearn: 0.0131261\ttotal: 4.45s\tremaining: 289ms\n",
            "939:\tlearn: 0.0130953\ttotal: 4.45s\tremaining: 284ms\n",
            "940:\tlearn: 0.0130779\ttotal: 4.46s\tremaining: 279ms\n",
            "941:\tlearn: 0.0130467\ttotal: 4.46s\tremaining: 275ms\n",
            "942:\tlearn: 0.0130275\ttotal: 4.46s\tremaining: 270ms\n",
            "943:\tlearn: 0.0130082\ttotal: 4.47s\tremaining: 265ms\n",
            "944:\tlearn: 0.0129836\ttotal: 4.47s\tremaining: 260ms\n",
            "945:\tlearn: 0.0129663\ttotal: 4.48s\tremaining: 256ms\n",
            "946:\tlearn: 0.0129490\ttotal: 4.48s\tremaining: 251ms\n",
            "947:\tlearn: 0.0129145\ttotal: 4.49s\tremaining: 246ms\n",
            "948:\tlearn: 0.0128815\ttotal: 4.49s\tremaining: 241ms\n",
            "949:\tlearn: 0.0128597\ttotal: 4.49s\tremaining: 237ms\n",
            "950:\tlearn: 0.0128510\ttotal: 4.5s\tremaining: 232ms\n",
            "951:\tlearn: 0.0128266\ttotal: 4.5s\tremaining: 227ms\n",
            "952:\tlearn: 0.0128087\ttotal: 4.51s\tremaining: 222ms\n",
            "953:\tlearn: 0.0127861\ttotal: 4.51s\tremaining: 218ms\n",
            "954:\tlearn: 0.0127632\ttotal: 4.52s\tremaining: 213ms\n",
            "955:\tlearn: 0.0127500\ttotal: 4.52s\tremaining: 208ms\n",
            "956:\tlearn: 0.0127226\ttotal: 4.53s\tremaining: 203ms\n",
            "957:\tlearn: 0.0127139\ttotal: 4.53s\tremaining: 199ms\n",
            "958:\tlearn: 0.0126912\ttotal: 4.53s\tremaining: 194ms\n",
            "959:\tlearn: 0.0126826\ttotal: 4.54s\tremaining: 189ms\n",
            "960:\tlearn: 0.0126579\ttotal: 4.54s\tremaining: 184ms\n",
            "961:\tlearn: 0.0126459\ttotal: 4.55s\tremaining: 180ms\n",
            "962:\tlearn: 0.0126219\ttotal: 4.55s\tremaining: 175ms\n",
            "963:\tlearn: 0.0125986\ttotal: 4.56s\tremaining: 170ms\n",
            "964:\tlearn: 0.0125834\ttotal: 4.56s\tremaining: 165ms\n",
            "965:\tlearn: 0.0125683\ttotal: 4.57s\tremaining: 161ms\n",
            "966:\tlearn: 0.0125391\ttotal: 4.57s\tremaining: 156ms\n",
            "967:\tlearn: 0.0125257\ttotal: 4.57s\tremaining: 151ms\n",
            "968:\tlearn: 0.0125041\ttotal: 4.58s\tremaining: 146ms\n",
            "969:\tlearn: 0.0124895\ttotal: 4.58s\tremaining: 142ms\n",
            "970:\tlearn: 0.0124588\ttotal: 4.59s\tremaining: 137ms\n",
            "971:\tlearn: 0.0124377\ttotal: 4.6s\tremaining: 132ms\n",
            "972:\tlearn: 0.0124083\ttotal: 4.6s\tremaining: 128ms\n",
            "973:\tlearn: 0.0123893\ttotal: 4.61s\tremaining: 123ms\n",
            "974:\tlearn: 0.0123847\ttotal: 4.61s\tremaining: 118ms\n",
            "975:\tlearn: 0.0123618\ttotal: 4.62s\tremaining: 114ms\n",
            "976:\tlearn: 0.0123356\ttotal: 4.62s\tremaining: 109ms\n",
            "977:\tlearn: 0.0123245\ttotal: 4.63s\tremaining: 104ms\n",
            "978:\tlearn: 0.0123083\ttotal: 4.63s\tremaining: 99.3ms\n",
            "979:\tlearn: 0.0122875\ttotal: 4.63s\tremaining: 94.6ms\n",
            "980:\tlearn: 0.0122605\ttotal: 4.64s\tremaining: 89.8ms\n",
            "981:\tlearn: 0.0122389\ttotal: 4.64s\tremaining: 85.1ms\n",
            "982:\tlearn: 0.0122055\ttotal: 4.65s\tremaining: 80.4ms\n",
            "983:\tlearn: 0.0122028\ttotal: 4.65s\tremaining: 75.7ms\n",
            "984:\tlearn: 0.0121961\ttotal: 4.66s\tremaining: 70.9ms\n",
            "985:\tlearn: 0.0121936\ttotal: 4.66s\tremaining: 66.2ms\n",
            "986:\tlearn: 0.0121718\ttotal: 4.67s\tremaining: 61.5ms\n",
            "987:\tlearn: 0.0121622\ttotal: 4.67s\tremaining: 56.7ms\n",
            "988:\tlearn: 0.0121465\ttotal: 4.67s\tremaining: 52ms\n",
            "989:\tlearn: 0.0121275\ttotal: 4.68s\tremaining: 47.3ms\n",
            "990:\tlearn: 0.0121133\ttotal: 4.68s\tremaining: 42.5ms\n",
            "991:\tlearn: 0.0120975\ttotal: 4.69s\tremaining: 37.8ms\n",
            "992:\tlearn: 0.0120814\ttotal: 4.69s\tremaining: 33.1ms\n",
            "993:\tlearn: 0.0120657\ttotal: 4.7s\tremaining: 28.3ms\n",
            "994:\tlearn: 0.0120617\ttotal: 4.7s\tremaining: 23.6ms\n",
            "995:\tlearn: 0.0120573\ttotal: 4.71s\tremaining: 18.9ms\n",
            "996:\tlearn: 0.0120422\ttotal: 4.71s\tremaining: 14.2ms\n",
            "997:\tlearn: 0.0120377\ttotal: 4.71s\tremaining: 9.45ms\n",
            "998:\tlearn: 0.0120202\ttotal: 4.72s\tremaining: 4.72ms\n",
            "999:\tlearn: 0.0119914\ttotal: 4.72s\tremaining: 0us\n",
            "Average precision-recall score: 0.98\n",
            "╒════════════════════════╤═══════════════════════╕\n",
            "│ Metric                 │   Testing Performance │\n",
            "╞════════════════════════╪═══════════════════════╡\n",
            "│ accuracy               │             0.97076   │\n",
            "├────────────────────────┼───────────────────────┤\n",
            "│ precision              │             0.966102  │\n",
            "├────────────────────────┼───────────────────────┤\n",
            "│ recall                 │             0.95      │\n",
            "├────────────────────────┼───────────────────────┤\n",
            "│ misclassification rate │             0.0292398 │\n",
            "├────────────────────────┼───────────────────────┤\n",
            "│ F1                     │             0.957983  │\n",
            "├────────────────────────┼───────────────────────┤\n",
            "│ r2                     │             0.871622  │\n",
            "├────────────────────────┼───────────────────────┤\n",
            "│ AUC                    │             0.965991  │\n",
            "├────────────────────────┼───────────────────────┤\n",
            "│ mse                    │             0.0292398 │\n",
            "├────────────────────────┼───────────────────────┤\n",
            "│ logloss                │             1.00992   │\n",
            "╘════════════════════════╧═══════════════════════╛\n",
            "\n",
            "Classification report:\n",
            "               precision    recall  f1-score   support\n",
            "\n",
            "           0       0.97      0.98      0.98       111\n",
            "           1       0.97      0.95      0.96        60\n",
            "\n",
            "    accuracy                           0.97       171\n",
            "   macro avg       0.97      0.97      0.97       171\n",
            "weighted avg       0.97      0.97      0.97       171\n",
            "\n",
            "\n",
            "Correct classifications on test data: 166/171   97.076%\n"
          ]
        },
        {
          "output_type": "display_data",
          "data": {
            "image/png": "[encoded data removed]",
            "text/plain": [
              "<Figure size 432x288 with 2 Axes>"
            ]
          },
          "metadata": {
            "needs_background": "light"
          }
        },
        {
          "output_type": "display_data",
          "data": {
            "image/png": "[encoded data removed]",
            "text/plain": [
              "<Figure size 720x360 with 2 Axes>"
            ]
          },
          "metadata": {
            "needs_background": "light"
          }
        },
        {
          "output_type": "stream",
          "name": "stdout",
          "text": [
            "\n"
          ]
        }
      ]
    },
    {
      "cell_type": "code",
      "metadata": {
        "colab": {
          "base_uri": "https://localhost:8080/",
          "height": 423
        },
        "id": "2sLZgSWzgTHS",
        "outputId": "df62dc1e-22e7-44c6-f947-e2a259f7eaba"
      },
      "source": [
        "trainPerformanceData"
      ],
      "execution_count": 125,
      "outputs": [
        {
          "output_type": "execute_result",
          "data": {
            "text/html": [
              "<div>\n",
              "<style scoped>\n",
              "    .dataframe tbody tr th:only-of-type {\n",
              "        vertical-align: middle;\n",
              "    }\n",
              "\n",
              "    .dataframe tbody tr th {\n",
              "        vertical-align: top;\n",
              "    }\n",
              "\n",
              "    .dataframe thead th {\n",
              "        text-align: right;\n",
              "    }\n",
              "</style>\n",
              "<table border=\"1\" class=\"dataframe\">\n",
              "  <thead>\n",
              "    <tr style=\"text-align: right;\">\n",
              "      <th></th>\n",
              "      <th>Algorithm</th>\n",
              "      <th>Scoring Name</th>\n",
              "      <th>CV mean</th>\n",
              "      <th>CV std</th>\n",
              "    </tr>\n",
              "  </thead>\n",
              "  <tbody>\n",
              "    <tr>\n",
              "      <th>0</th>\n",
              "      <td>Logistic Regression</td>\n",
              "      <td>accuracy</td>\n",
              "      <td>0.972373</td>\n",
              "      <td>0.012223</td>\n",
              "    </tr>\n",
              "    <tr>\n",
              "      <th>1</th>\n",
              "      <td>Logistic Regression</td>\n",
              "      <td>precision</td>\n",
              "      <td>0.980417</td>\n",
              "      <td>0.016008</td>\n",
              "    </tr>\n",
              "    <tr>\n",
              "      <th>2</th>\n",
              "      <td>Logistic Regression</td>\n",
              "      <td>recall</td>\n",
              "      <td>0.947527</td>\n",
              "      <td>0.043701</td>\n",
              "    </tr>\n",
              "    <tr>\n",
              "      <th>3</th>\n",
              "      <td>Logistic Regression</td>\n",
              "      <td>f1</td>\n",
              "      <td>0.962802</td>\n",
              "      <td>0.017327</td>\n",
              "    </tr>\n",
              "    <tr>\n",
              "      <th>4</th>\n",
              "      <td>Logistic Regression</td>\n",
              "      <td>average_precision</td>\n",
              "      <td>0.994018</td>\n",
              "      <td>0.005365</td>\n",
              "    </tr>\n",
              "    <tr>\n",
              "      <th>...</th>\n",
              "      <td>...</td>\n",
              "      <td>...</td>\n",
              "      <td>...</td>\n",
              "      <td>...</td>\n",
              "    </tr>\n",
              "    <tr>\n",
              "      <th>67</th>\n",
              "      <td>catboost Classifier</td>\n",
              "      <td>precision</td>\n",
              "      <td>0.932765</td>\n",
              "      <td>0.060772</td>\n",
              "    </tr>\n",
              "    <tr>\n",
              "      <th>68</th>\n",
              "      <td>catboost Classifier</td>\n",
              "      <td>recall</td>\n",
              "      <td>0.947312</td>\n",
              "      <td>0.033962</td>\n",
              "    </tr>\n",
              "    <tr>\n",
              "      <th>69</th>\n",
              "      <td>catboost Classifier</td>\n",
              "      <td>f1</td>\n",
              "      <td>0.939014</td>\n",
              "      <td>0.040269</td>\n",
              "    </tr>\n",
              "    <tr>\n",
              "      <th>70</th>\n",
              "      <td>catboost Classifier</td>\n",
              "      <td>average_precision</td>\n",
              "      <td>0.988751</td>\n",
              "      <td>0.009116</td>\n",
              "    </tr>\n",
              "    <tr>\n",
              "      <th>71</th>\n",
              "      <td>catboost Classifier</td>\n",
              "      <td>roc_auc</td>\n",
              "      <td>0.992008</td>\n",
              "      <td>0.006777</td>\n",
              "    </tr>\n",
              "  </tbody>\n",
              "</table>\n",
              "<p>72 rows × 4 columns</p>\n",
              "</div>"
            ],
            "text/plain": [
              "              Algorithm       Scoring Name   CV mean    CV std\n",
              "0   Logistic Regression           accuracy  0.972373  0.012223\n",
              "1   Logistic Regression          precision  0.980417  0.016008\n",
              "2   Logistic Regression             recall  0.947527  0.043701\n",
              "3   Logistic Regression                 f1  0.962802  0.017327\n",
              "4   Logistic Regression  average_precision  0.994018  0.005365\n",
              "..                  ...                ...       ...       ...\n",
              "67  catboost Classifier          precision  0.932765  0.060772\n",
              "68  catboost Classifier             recall  0.947312  0.033962\n",
              "69  catboost Classifier                 f1  0.939014  0.040269\n",
              "70  catboost Classifier  average_precision  0.988751  0.009116\n",
              "71  catboost Classifier            roc_auc  0.992008  0.006777\n",
              "\n",
              "[72 rows x 4 columns]"
            ]
          },
          "metadata": {},
          "execution_count": 125
        }
      ]
    },
    {
      "cell_type": "code",
      "metadata": {
        "scrolled": true,
        "colab": {
          "base_uri": "https://localhost:8080/",
          "height": 520
        },
        "id": "IHnLyoHrgTHS",
        "outputId": "900aed73-09b2-4531-d1d8-49aa0b16dbe3"
      },
      "source": [
        "trainPerformanceData_pvt=pd.pivot_table(trainPerformanceData,index=[\"Algorithm\"],values=[\"CV mean\"],columns=[\"Scoring Name\"],aggfunc=[np.min])\n",
        "trainPerformanceData_pvt"
      ],
      "execution_count": 126,
      "outputs": [
        {
          "output_type": "execute_result",
          "data": {
            "text/html": [
              "<div>\n",
              "<style scoped>\n",
              "    .dataframe tbody tr th:only-of-type {\n",
              "        vertical-align: middle;\n",
              "    }\n",
              "\n",
              "    .dataframe tbody tr th {\n",
              "        vertical-align: top;\n",
              "    }\n",
              "\n",
              "    .dataframe thead tr th {\n",
              "        text-align: left;\n",
              "    }\n",
              "\n",
              "    .dataframe thead tr:last-of-type th {\n",
              "        text-align: right;\n",
              "    }\n",
              "</style>\n",
              "<table border=\"1\" class=\"dataframe\">\n",
              "  <thead>\n",
              "    <tr>\n",
              "      <th></th>\n",
              "      <th colspan=\"6\" halign=\"left\">amin</th>\n",
              "    </tr>\n",
              "    <tr>\n",
              "      <th></th>\n",
              "      <th colspan=\"6\" halign=\"left\">CV mean</th>\n",
              "    </tr>\n",
              "    <tr>\n",
              "      <th>Scoring Name</th>\n",
              "      <th>accuracy</th>\n",
              "      <th>average_precision</th>\n",
              "      <th>f1</th>\n",
              "      <th>precision</th>\n",
              "      <th>recall</th>\n",
              "      <th>roc_auc</th>\n",
              "    </tr>\n",
              "    <tr>\n",
              "      <th>Algorithm</th>\n",
              "      <th></th>\n",
              "      <th></th>\n",
              "      <th></th>\n",
              "      <th></th>\n",
              "      <th></th>\n",
              "      <th></th>\n",
              "    </tr>\n",
              "  </thead>\n",
              "  <tbody>\n",
              "    <tr>\n",
              "      <th>AdaBoost Classifier</th>\n",
              "      <td>0.942278</td>\n",
              "      <td>0.979545</td>\n",
              "      <td>0.922443</td>\n",
              "      <td>0.945236</td>\n",
              "      <td>0.901290</td>\n",
              "      <td>0.985507</td>\n",
              "    </tr>\n",
              "    <tr>\n",
              "      <th>Decision Tree Classifier</th>\n",
              "      <td>0.927152</td>\n",
              "      <td>0.841562</td>\n",
              "      <td>0.897999</td>\n",
              "      <td>0.913122</td>\n",
              "      <td>0.914194</td>\n",
              "      <td>0.922540</td>\n",
              "    </tr>\n",
              "    <tr>\n",
              "      <th>Extra Trees Classifier</th>\n",
              "      <td>0.959905</td>\n",
              "      <td>0.988363</td>\n",
              "      <td>0.950363</td>\n",
              "      <td>0.944246</td>\n",
              "      <td>0.934409</td>\n",
              "      <td>0.989529</td>\n",
              "    </tr>\n",
              "    <tr>\n",
              "      <th>Gradient Boosting Classifier</th>\n",
              "      <td>0.954778</td>\n",
              "      <td>0.986441</td>\n",
              "      <td>0.941718</td>\n",
              "      <td>0.937639</td>\n",
              "      <td>0.947312</td>\n",
              "      <td>0.991757</td>\n",
              "    </tr>\n",
              "    <tr>\n",
              "      <th>KNeighbors Classifier</th>\n",
              "      <td>0.949810</td>\n",
              "      <td>0.971150</td>\n",
              "      <td>0.934166</td>\n",
              "      <td>0.941650</td>\n",
              "      <td>0.927742</td>\n",
              "      <td>0.978638</td>\n",
              "    </tr>\n",
              "    <tr>\n",
              "      <th>Logistic Regression</th>\n",
              "      <td>0.972373</td>\n",
              "      <td>0.994018</td>\n",
              "      <td>0.962802</td>\n",
              "      <td>0.980417</td>\n",
              "      <td>0.947527</td>\n",
              "      <td>0.994295</td>\n",
              "    </tr>\n",
              "    <tr>\n",
              "      <th>Random Forest Classifier</th>\n",
              "      <td>0.952373</td>\n",
              "      <td>0.988158</td>\n",
              "      <td>0.934682</td>\n",
              "      <td>0.939762</td>\n",
              "      <td>0.940860</td>\n",
              "      <td>0.991622</td>\n",
              "    </tr>\n",
              "    <tr>\n",
              "      <th>SVM Classifier</th>\n",
              "      <td>0.959873</td>\n",
              "      <td>0.988331</td>\n",
              "      <td>0.947927</td>\n",
              "      <td>0.948978</td>\n",
              "      <td>0.947527</td>\n",
              "      <td>0.989764</td>\n",
              "    </tr>\n",
              "    <tr>\n",
              "      <th>XGB Classifier</th>\n",
              "      <td>0.954810</td>\n",
              "      <td>0.986303</td>\n",
              "      <td>0.942466</td>\n",
              "      <td>0.932003</td>\n",
              "      <td>0.953978</td>\n",
              "      <td>0.989867</td>\n",
              "    </tr>\n",
              "    <tr>\n",
              "      <th>XGBoost Classifierr</th>\n",
              "      <td>0.954810</td>\n",
              "      <td>0.986303</td>\n",
              "      <td>0.942466</td>\n",
              "      <td>0.932003</td>\n",
              "      <td>0.953978</td>\n",
              "      <td>0.989867</td>\n",
              "    </tr>\n",
              "    <tr>\n",
              "      <th>catboost Classifier</th>\n",
              "      <td>0.952342</td>\n",
              "      <td>0.988751</td>\n",
              "      <td>0.939014</td>\n",
              "      <td>0.932765</td>\n",
              "      <td>0.947312</td>\n",
              "      <td>0.992008</td>\n",
              "    </tr>\n",
              "    <tr>\n",
              "      <th>naive_bayes</th>\n",
              "      <td>0.932278</td>\n",
              "      <td>0.960554</td>\n",
              "      <td>0.914505</td>\n",
              "      <td>0.919290</td>\n",
              "      <td>0.914194</td>\n",
              "      <td>0.975617</td>\n",
              "    </tr>\n",
              "  </tbody>\n",
              "</table>\n",
              "</div>"
            ],
            "text/plain": [
              "                                  amin                    ...                    \n",
              "                               CV mean                    ...                    \n",
              "Scoring Name                  accuracy average_precision  ...    recall   roc_auc\n",
              "Algorithm                                                 ...                    \n",
              "AdaBoost Classifier           0.942278          0.979545  ...  0.901290  0.985507\n",
              "Decision Tree Classifier      0.927152          0.841562  ...  0.914194  0.922540\n",
              "Extra Trees Classifier        0.959905          0.988363  ...  0.934409  0.989529\n",
              "Gradient Boosting Classifier  0.954778          0.986441  ...  0.947312  0.991757\n",
              "KNeighbors Classifier         0.949810          0.971150  ...  0.927742  0.978638\n",
              "Logistic Regression           0.972373          0.994018  ...  0.947527  0.994295\n",
              "Random Forest Classifier      0.952373          0.988158  ...  0.940860  0.991622\n",
              "SVM Classifier                0.959873          0.988331  ...  0.947527  0.989764\n",
              "XGB Classifier                0.954810          0.986303  ...  0.953978  0.989867\n",
              "XGBoost Classifierr           0.954810          0.986303  ...  0.953978  0.989867\n",
              "catboost Classifier           0.952342          0.988751  ...  0.947312  0.992008\n",
              "naive_bayes                   0.932278          0.960554  ...  0.914194  0.975617\n",
              "\n",
              "[12 rows x 6 columns]"
            ]
          },
          "metadata": {},
          "execution_count": 126
        }
      ]
    },
    {
      "cell_type": "code",
      "metadata": {
        "scrolled": true,
        "colab": {
          "base_uri": "https://localhost:8080/",
          "height": 425
        },
        "id": "ygeat48agTHT",
        "outputId": "e1a53457-8a94-4d9d-bd67-471869fce988"
      },
      "source": [
        "testPerformanceData.sort_values(by=['Algorithm'])"
      ],
      "execution_count": 127,
      "outputs": [
        {
          "output_type": "execute_result",
          "data": {
            "text/html": [
              "<div>\n",
              "<style scoped>\n",
              "    .dataframe tbody tr th:only-of-type {\n",
              "        vertical-align: middle;\n",
              "    }\n",
              "\n",
              "    .dataframe tbody tr th {\n",
              "        vertical-align: top;\n",
              "    }\n",
              "\n",
              "    .dataframe thead th {\n",
              "        text-align: right;\n",
              "    }\n",
              "</style>\n",
              "<table border=\"1\" class=\"dataframe\">\n",
              "  <thead>\n",
              "    <tr style=\"text-align: right;\">\n",
              "      <th></th>\n",
              "      <th>Algorithm</th>\n",
              "      <th>Accuracy</th>\n",
              "      <th>AUC</th>\n",
              "      <th>Precision</th>\n",
              "      <th>Recall</th>\n",
              "      <th>F1</th>\n",
              "    </tr>\n",
              "  </thead>\n",
              "  <tbody>\n",
              "    <tr>\n",
              "      <th>10</th>\n",
              "      <td>AdaBoost Classifier</td>\n",
              "      <td>0.953216</td>\n",
              "      <td>0.944820</td>\n",
              "      <td>0.948276</td>\n",
              "      <td>0.916667</td>\n",
              "      <td>0.932203</td>\n",
              "    </tr>\n",
              "    <tr>\n",
              "      <th>8</th>\n",
              "      <td>Decision Tree Classifier</td>\n",
              "      <td>0.900585</td>\n",
              "      <td>0.885135</td>\n",
              "      <td>0.877193</td>\n",
              "      <td>0.833333</td>\n",
              "      <td>0.854701</td>\n",
              "    </tr>\n",
              "    <tr>\n",
              "      <th>3</th>\n",
              "      <td>Extra Trees Classifier</td>\n",
              "      <td>0.959064</td>\n",
              "      <td>0.953153</td>\n",
              "      <td>0.949153</td>\n",
              "      <td>0.933333</td>\n",
              "      <td>0.941176</td>\n",
              "    </tr>\n",
              "    <tr>\n",
              "      <th>2</th>\n",
              "      <td>Gradient Boosting Classifier</td>\n",
              "      <td>0.912281</td>\n",
              "      <td>0.901802</td>\n",
              "      <td>0.881356</td>\n",
              "      <td>0.866667</td>\n",
              "      <td>0.873950</td>\n",
              "    </tr>\n",
              "    <tr>\n",
              "      <th>5</th>\n",
              "      <td>KNeighbors Classifier</td>\n",
              "      <td>0.947368</td>\n",
              "      <td>0.932658</td>\n",
              "      <td>0.963636</td>\n",
              "      <td>0.883333</td>\n",
              "      <td>0.921739</td>\n",
              "    </tr>\n",
              "    <tr>\n",
              "      <th>0</th>\n",
              "      <td>Logistic Regression</td>\n",
              "      <td>0.959064</td>\n",
              "      <td>0.949324</td>\n",
              "      <td>0.964912</td>\n",
              "      <td>0.916667</td>\n",
              "      <td>0.940171</td>\n",
              "    </tr>\n",
              "    <tr>\n",
              "      <th>1</th>\n",
              "      <td>Random Forest Classifier</td>\n",
              "      <td>0.953216</td>\n",
              "      <td>0.944820</td>\n",
              "      <td>0.948276</td>\n",
              "      <td>0.916667</td>\n",
              "      <td>0.932203</td>\n",
              "    </tr>\n",
              "    <tr>\n",
              "      <th>6</th>\n",
              "      <td>SVM Classifier</td>\n",
              "      <td>0.953216</td>\n",
              "      <td>0.940991</td>\n",
              "      <td>0.964286</td>\n",
              "      <td>0.900000</td>\n",
              "      <td>0.931034</td>\n",
              "    </tr>\n",
              "    <tr>\n",
              "      <th>4</th>\n",
              "      <td>XGB Classifier</td>\n",
              "      <td>0.964912</td>\n",
              "      <td>0.961486</td>\n",
              "      <td>0.950000</td>\n",
              "      <td>0.950000</td>\n",
              "      <td>0.950000</td>\n",
              "    </tr>\n",
              "    <tr>\n",
              "      <th>9</th>\n",
              "      <td>XGBoost Classifierr</td>\n",
              "      <td>0.964912</td>\n",
              "      <td>0.961486</td>\n",
              "      <td>0.950000</td>\n",
              "      <td>0.950000</td>\n",
              "      <td>0.950000</td>\n",
              "    </tr>\n",
              "    <tr>\n",
              "      <th>11</th>\n",
              "      <td>catboost Classifier</td>\n",
              "      <td>0.970760</td>\n",
              "      <td>0.965991</td>\n",
              "      <td>0.966102</td>\n",
              "      <td>0.950000</td>\n",
              "      <td>0.957983</td>\n",
              "    </tr>\n",
              "    <tr>\n",
              "      <th>7</th>\n",
              "      <td>naive_bayes</td>\n",
              "      <td>0.888889</td>\n",
              "      <td>0.879955</td>\n",
              "      <td>0.836066</td>\n",
              "      <td>0.850000</td>\n",
              "      <td>0.842975</td>\n",
              "    </tr>\n",
              "  </tbody>\n",
              "</table>\n",
              "</div>"
            ],
            "text/plain": [
              "                       Algorithm  Accuracy  ...    Recall        F1\n",
              "10           AdaBoost Classifier  0.953216  ...  0.916667  0.932203\n",
              "8       Decision Tree Classifier  0.900585  ...  0.833333  0.854701\n",
              "3         Extra Trees Classifier  0.959064  ...  0.933333  0.941176\n",
              "2   Gradient Boosting Classifier  0.912281  ...  0.866667  0.873950\n",
              "5          KNeighbors Classifier  0.947368  ...  0.883333  0.921739\n",
              "0            Logistic Regression  0.959064  ...  0.916667  0.940171\n",
              "1       Random Forest Classifier  0.953216  ...  0.916667  0.932203\n",
              "6                 SVM Classifier  0.953216  ...  0.900000  0.931034\n",
              "4                 XGB Classifier  0.964912  ...  0.950000  0.950000\n",
              "9            XGBoost Classifierr  0.964912  ...  0.950000  0.950000\n",
              "11           catboost Classifier  0.970760  ...  0.950000  0.957983\n",
              "7                    naive_bayes  0.888889  ...  0.850000  0.842975\n",
              "\n",
              "[12 rows x 6 columns]"
            ]
          },
          "metadata": {},
          "execution_count": 127
        }
      ]
    },
    {
      "cell_type": "code",
      "metadata": {
        "colab": {
          "base_uri": "https://localhost:8080/",
          "height": 282
        },
        "id": "ZeXWwz1EgTHT",
        "outputId": "c9d44f3f-8c8a-473e-8629-a55784bc04e7"
      },
      "source": [
        "# plotting the coefficient score \n",
        "fig, ax = plt.subplots(figsize =(6, 4)) \n",
        "  \n",
        "color =['tab:blue', 'tab:orange', 'tab:green', 'tab:red', 'tab:purple', 'tab:olive', 'tab:cyan'] \n",
        "  \n",
        "ax.barh(testPerformanceData[\"Algorithm\"], testPerformanceData['AUC'], color = color) \n",
        "  \n",
        "#ax.spines['bottom'].set_position('zero') \n",
        "plt.style.use('ggplot') \n",
        "plt.ylabel('Algorithm')\n",
        "plt.xlabel('AUC')\n",
        "#plt.title('AUC value of Algorithms ')\n",
        "plt.show() "
      ],
      "execution_count": 128,
      "outputs": [
        {
          "output_type": "display_data",
          "data": {
            "image/png": "[encoded data removed]",
            "text/plain": [
              "<Figure size 432x288 with 1 Axes>"
            ]
          },
          "metadata": {
            "needs_background": "light"
          }
        }
      ]
    },
    {
      "cell_type": "markdown",
      "metadata": {
        "id": "DUX56CHwgTHT"
      },
      "source": [
        "## Conclusions"
      ]
    },
    {
      "cell_type": "markdown",
      "metadata": {
        "id": "uUHnNOnKgTHT"
      },
      "source": [
        "Thus, the most significant features in predicting malignant or benign for cancer patients obtained by algorithms are texture_mean, area_mean, concavity_mean, area_se, concavity_se, fractal_dimension_se, smoothness_worst, concavity_worst, symmetry_worst, fractal_dimension_worst.\n",
        "To obtain best results from predictive model, many different models are trained, optimized, and evaluated using 16 set of features. During this process the feature set itself is culled using model-specific methods. Each model and subset of features is evaluated using Accuracy, AUC and sensitivity using a 5-fold cross-validation. Best results are obtained with Logistic regression, with the random forest feature set culled to 10 features. Above table shows the performance measures of the classification techniques. The logistic regression achieved an accuracy and AUC of 0.977 and 0.971 on test data."
      ]
    }
  ]
}