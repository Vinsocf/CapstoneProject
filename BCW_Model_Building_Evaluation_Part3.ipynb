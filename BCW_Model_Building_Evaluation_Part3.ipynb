{
  "nbformat": 4,
  "nbformat_minor": 0,
  "metadata": {
    "coursera": {
      "course_slug": "python-machine-learning",
      "graded_item_id": "eWYHL",
      "launcher_item_id": "BAqef",
      "part_id": "fXXRp"
    },
    "kernelspec": {
      "display_name": "Python 3",
      "language": "python",
      "name": "python3"
    },
    "language_info": {
      "codemirror_mode": {
        "name": "ipython",
        "version": 3
      },
      "file_extension": ".py",
      "mimetype": "text/x-python",
      "name": "python",
      "nbconvert_exporter": "python",
      "pygments_lexer": "ipython3",
      "version": "3.7.1"
    },
    "colab": {
      "name": "BCW_Model_Building_Evaluation_Part3.ipynb",
      "provenance": [],
      "include_colab_link": true
    }
  },
  "cells": [
    {
      "cell_type": "markdown",
      "metadata": {
        "id": "view-in-github",
        "colab_type": "text"
      },
      "source": [
        "<a href=\"https://colab.research.google.com/github/Vinsocf/CapstoneProject/blob/main/BCW_Model_Building_Evaluation_Part3.ipynb\" target=\"_parent\"><img src=\"https://colab.research.google.com/assets/colab-badge.svg\" alt=\"Open In Colab\"/></a>"
      ]
    },
    {
      "cell_type": "markdown",
      "metadata": {
        "id": "G5Po-xq8gTHE"
      },
      "source": [
        "## Building Machine Learning Model to predict whether the cancer is benign or malignant on Breast Cancer Wisconsin Data Set !! Part 3"
      ]
    },
    {
      "cell_type": "markdown",
      "metadata": {
        "id": "CbIrCfFngTHH"
      },
      "source": [
        "## Setting the working environment "
      ]
    },
    {
      "cell_type": "code",
      "metadata": {
        "id": "q499l9yqgTHI"
      },
      "source": [
        "import platform\n",
        "import warnings\n",
        "warnings.filterwarnings('ignore')\n",
        "import numpy as np\n",
        "import pandas as pd\n",
        "#from imblearn.over_sampling import SMOTE\n",
        "#from tabulate import tabulate\n",
        "import itertools\n",
        "import seaborn as sns\n",
        "from copy import copy\n",
        "from sklearn.externals import joblib\n",
        "from sklearn.feature_selection import VarianceThreshold\n",
        "from sklearn.feature_selection import SelectPercentile, f_classif\n",
        "from sklearn.linear_model import LogisticRegression\n",
        "from sklearn.ensemble import GradientBoostingClassifier\n",
        "from sklearn.tree import DecisionTreeClassifier\n",
        "from sklearn.ensemble import RandomForestClassifier\n",
        "from sklearn.ensemble import ExtraTreesClassifier, GradientBoostingClassifier\n",
        "from sklearn.naive_bayes import BernoulliNB\n",
        "from sklearn.preprocessing import MaxAbsScaler\n",
        "from sklearn.preprocessing import Normalizer, RobustScaler\n",
        "import sklearn\n",
        "from sklearn.externals import joblib\n",
        "from sklearn.feature_selection import RFE\n",
        "from sklearn.pipeline import make_pipeline\n",
        "from sklearn.preprocessing import PolynomialFeatures\n",
        "from sklearn.preprocessing import Normalizer, FunctionTransformer\n",
        "from sklearn.kernel_approximation import Nystroem\n",
        "from sklearn.model_selection import train_test_split\n",
        "#import sklearn.model_selection.StratifiedKFold\n",
        "from sklearn import metrics\n",
        "from sklearn.metrics import roc_auc_score, roc_curve, classification_report\n",
        "from sklearn.metrics import confusion_matrix, accuracy_score, mean_squared_error\n",
        "from sklearn.metrics import f1_score, precision_score, recall_score, log_loss, r2_score\n",
        "from sklearn.metrics import precision_recall_curve\n",
        "from sklearn.svm import SVC\n",
        "from sklearn.pipeline import make_pipeline, make_union\n",
        "from sklearn.preprocessing import MinMaxScaler\n",
        "from sklearn.preprocessing import StandardScaler"
      ],
      "execution_count": 1,
      "outputs": []
    },
    {
      "cell_type": "code",
      "metadata": {
        "id": "Et-fat6AgTHJ"
      },
      "source": [
        "# notice: installing imblearn might takes a few minutes\n",
        "#!conda install -c anaconda imblearn -y"
      ],
      "execution_count": 2,
      "outputs": []
    },
    {
      "cell_type": "code",
      "metadata": {
        "id": "RWiiCmcrgTHJ"
      },
      "source": [
        "# notice: installing tabulate might takes a few minutes\n",
        "#!conda install -c anaconda tabulate -y"
      ],
      "execution_count": 3,
      "outputs": []
    },
    {
      "cell_type": "markdown",
      "metadata": {
        "id": "DvNtoTIegTHK"
      },
      "source": [
        "### 1. The LoadData routiine is used to read dataset, and create training and testing datasets"
      ]
    },
    {
      "cell_type": "code",
      "metadata": {
        "id": "ntFA_l4ygTHK"
      },
      "source": [
        "def LoadData():\n",
        "    global feature_names, response_name, n_features, model_full  \n",
        "    model_full = pd.read_csv('https://raw.githubusercontent.com/Muhd-Shahid/Breast-Cancer-Wisconsin/master/data_breast-cancer-wiscons.csv')\n",
        "        \n",
        "    # we change the class values (at the column number 2) from B to 0 and from M to 1\n",
        "    model_full.iloc[:,1].replace('B', 0,inplace=True)\n",
        "    model_full.iloc[:,1].replace('M', 1,inplace=True)\n",
        "    response_name = ['diagnosis']\n",
        "    drop_list = ['Unnamed: 32','id','diagnosis']\n",
        "    model_full_x= model_full.drop(drop_list,axis = 1)\n",
        "    X = model_full_x\n",
        "    y = model_full.diagnosis\n",
        "    \n",
        "    X_train, X_test, y_train, y_test = train_test_split(X,\n",
        "                                                        y,\n",
        "                                                        test_size = 0.3,\n",
        "                                                        random_state = 12345)\n",
        "    return X_train, y_train, X_test, y_test"
      ],
      "execution_count": 4,
      "outputs": []
    },
    {
      "cell_type": "markdown",
      "metadata": {
        "id": "ugUJ-COagTHK"
      },
      "source": [
        "### Features selected from Part 2 "
      ]
    },
    {
      "cell_type": "code",
      "metadata": {
        "id": "oCvUvsvzgTHL"
      },
      "source": [
        "# 1. Feature selection with correlation (16)\n",
        "fs_corr = ['texture_mean', 'area_mean', 'smoothness_mean', 'concavity_mean','symmetry_mean',\n",
        "                     'fractal_dimension_mean', 'texture_se', 'area_se','smoothness_se', 'concavity_se',\n",
        "                     'symmetry_se', 'fractal_dimension_se','smoothness_worst', 'concavity_worst', \n",
        "                     'symmetry_worst', 'fractal_dimension_worst']\n",
        "    \n",
        "    # 2. Univariate feature selection SelectKBest, chi2\n",
        "fs_chi2 = ['texture_mean', 'area_mean', 'concavity_mean', 'symmetry_mean', 'area_se', \n",
        "                     'concavity_se', 'smoothness_worst', 'concavity_worst', 'symmetry_worst', \n",
        "                     'fractal_dimension_worst']\n",
        "    \n",
        "    # 3. Recursive feature elimination (RFE) with random forest\n",
        "fs_rfe = ['texture_mean', 'area_mean', 'smoothness_mean', 'concavity_mean', 'area_se', \n",
        "              'smoothness_se', 'concavity_se', 'smoothness_worst', 'concavity_worst', 'symmetry_worst']\n",
        "    \n",
        "    # 4. Recursive feature elimination with cross validation(RFECV) with random forest\n",
        "fs_rfecv = ['texture_mean', 'area_mean', 'smoothness_mean', 'concavity_mean','fractal_dimension_mean'\n",
        "                , 'area_se', 'concavity_se', 'concavity_worst', 'symmetry_worst']\n",
        "    \n",
        "    # 5. Tree based feature selection with random forest classification\n",
        "fs_rf = ['texture_mean', 'area_mean', 'concavity_mean', 'area_se', 'concavity_se', \n",
        "             'fractal_dimension_se', 'smoothness_worst','concavity_worst', 'symmetry_worst', \n",
        "             'fractal_dimension_worst']\n",
        "    \n",
        "    # 6. ExtraTree based feature selection \n",
        "fs_extraTree = ['texture_mean', 'area_mean', 'concavity_mean', 'fractal_dimension_mean', 'area_se', \n",
        "                    'concavity_se','smoothness_worst', 'concavity_worst', \n",
        "                    'symmetry_worst','fractal_dimension_worst']\n",
        "    \n",
        "    # 7. L1 feature selection (LinearSVC)\n",
        "fs_l1 = ['texture_mean', 'area_mean', 'area_se']\n",
        "    \n",
        "    # 8. Vote based feature selection\n",
        "fs_voted = ['texture_mean',  'area_mean',  'smoothness_mean',  'concavity_mean',  \n",
        "                     'fractal_dimension_mean',  'area_se',  'concavity_se',  'smoothness_worst',  \n",
        "                     'concavity_worst',  'symmetry_worst',  'fractal_dimension_worst']\n",
        "    "
      ],
      "execution_count": 5,
      "outputs": []
    },
    {
      "cell_type": "code",
      "metadata": {
        "id": "YZLG1uDHgTHM"
      },
      "source": [
        "x_train, y_train, x_test, y_test = LoadData()"
      ],
      "execution_count": 6,
      "outputs": []
    },
    {
      "cell_type": "markdown",
      "metadata": {
        "id": "_wEfv4i9gTHM"
      },
      "source": [
        "# Uncomment for feature selection method"
      ]
    },
    {
      "cell_type": "code",
      "metadata": {
        "id": "YlA8pybrgTHM"
      },
      "source": [
        "# Correlation\n",
        "X_train = x_train[fs_corr]\n",
        "X_test = x_test[fs_corr]\n",
        "\n",
        "# Chi2\n",
        "#X_train = x_train[fs_chi2]\n",
        "#X_test = x_test[fs_chi2]\n",
        "\n",
        "# RFE\n",
        "#X_train = x_train[fs_rfe]\n",
        "#X_test = x_test[fs_rfe]\n",
        "\n",
        "# RFECV\n",
        "#X_train = x_train[fs_rfecv]\n",
        "#X_test = x_test[fs_rfecv]\n",
        "\n",
        "# RF\n",
        "#X_train = x_train[fs_rf]\n",
        "#X_test = x_test[fs_rf]\n",
        "\n",
        "# Extra Trees\n",
        "#X_train = x_train[fs_extraTree]\n",
        "#X_test = x_test[fs_extraTree]\n",
        "\n",
        "# l1\n",
        "#X_train = x_train[fs_l1]\n",
        "#X_test = x_test[fs_l1]\n",
        "\n",
        "# Voted\n",
        "#X_train = x_train[fs_voted]\n",
        "#X_test = x_test[fs_voted]\n",
        "\n",
        "# scaling data\n",
        "scale = StandardScaler()\n",
        "X_train = scale.fit_transform(X_train)\n",
        "X_test = scale.fit_transform(X_test)"
      ],
      "execution_count": 7,
      "outputs": []
    },
    {
      "cell_type": "code",
      "metadata": {
        "colab": {
          "base_uri": "https://localhost:8080/"
        },
        "id": "01AwzAeWgTHN",
        "outputId": "4c3e8dae-68b9-48c4-820b-76d607b3bc44"
      },
      "source": [
        "print('Size of data:')\n",
        "print ('The train data has {0} rows and {1} columns'.format(X_train.shape[0],X_train.shape[1]))\n",
        "print ('----------------------------')\n",
        "print ('The test data has {0} rows and {1} columns'.format(X_test.shape[0],X_test.shape[1]))"
      ],
      "execution_count": 8,
      "outputs": [
        {
          "output_type": "stream",
          "name": "stdout",
          "text": [
            "Size of data:\n",
            "The train data has 398 rows and 16 columns\n",
            "----------------------------\n",
            "The test data has 171 rows and 16 columns\n"
          ]
        }
      ]
    },
    {
      "cell_type": "markdown",
      "metadata": {
        "id": "hgGhAKjPgTHN"
      },
      "source": [
        "###  Plot the ROC_Curve and Precision-Recall curve. "
      ]
    },
    {
      "cell_type": "code",
      "metadata": {
        "id": "V7ju9D6IgTHO"
      },
      "source": [
        "def Plot_ROC_Precision_Recall(label):\n",
        "    class_names = [0, 1]\n",
        "    fig, (left, right) = plt.subplots(nrows=1, ncols=2, figsize=(10, 5))\n",
        "\n",
        "    plt.subplot(1, 2, 1)\n",
        "    plt.plot([0, 1], [0, 1], 'k--')\n",
        "    plt.plot(false_positive_rate, true_positive_rate, color='darkorange', label=label)\n",
        "    plt.xlabel('False positive rate')\n",
        "    plt.ylabel('True positive rate')\n",
        "    plt.title('ROC curve (area = %0.7f)' % auc)\n",
        "    plt.legend(loc='best')\n",
        "\n",
        "    plt.subplot(1, 2, 2)\n",
        "    precision, recall, _ = precision_recall_curve(y_test, y_probabilities_success)\n",
        "\n",
        "    plt.step(recall, precision, color='b', alpha=0.2, where='post')\n",
        "    plt.fill_between(recall, precision, step='post', alpha=0.2, color='b')\n",
        "\n",
        "    plt.xlabel('Recall')\n",
        "    plt.ylabel('Precision')\n",
        "    plt.ylim([0.0, 1.05])\n",
        "    plt.xlim([0.0, 1.0])\n",
        "    plt.title('Precision-Recall curve: AP={0:0.2f}'.format(average_precision))\n",
        "\n",
        "    plt.tight_layout()\n",
        "    plt.show()"
      ],
      "execution_count": 9,
      "outputs": []
    },
    {
      "cell_type": "markdown",
      "metadata": {
        "id": "BuZMEqoAgTHO"
      },
      "source": [
        "### This routine is used to plot the predictor (a.k.a feature) importances. "
      ]
    },
    {
      "cell_type": "code",
      "metadata": {
        "id": "jd5emGFlgTHO"
      },
      "source": [
        "def Plot_Predictor_Importance(logisticRegression = True):\n",
        "    if(logisticRegression):\n",
        "        feature_importance = best_model.feature_importances_\n",
        "        feature_importance = 100.0 * (feature_importance / feature_importance.max())\n",
        "        sorted_idx = np.argsort(feature_importance)\n",
        "        y_pos = np.arange(sorted_idx.shape[0]) + .5\n",
        "        fig, ax = plt.subplots()\n",
        "        fig.set_size_inches(8, 5)\n",
        "        ax.barh(y_pos, feature_importance[sorted_idx], align='center', color='green', ecolor='black', height=0.5)\n",
        "        ax.set_yticks(y_pos)\n",
        "        ax.set_yticklabels(feature_names)\n",
        "        ax.invert_yaxis()\n",
        "        ax.set_xlabel('Relative Importance')\n",
        "        ax.set_title('Predictor Importance')\n",
        "        plt.show()"
      ],
      "execution_count": 10,
      "outputs": []
    },
    {
      "cell_type": "markdown",
      "metadata": {
        "id": "xGksf0_igTHO"
      },
      "source": [
        "### This routine is used to summarize the metrics for the model."
      ]
    },
    {
      "cell_type": "code",
      "metadata": {
        "id": "DlZgWVQLgTHO"
      },
      "source": [
        "def Print_Model_Metrics(algoName):\n",
        "    global testPerformanceData\n",
        "    true_negative  = cm[0, 0]\n",
        "    true_positive  = cm[1, 1]\n",
        "    false_negative = cm[1, 0]\n",
        "    false_positive = cm[0, 1]\n",
        "    total = true_negative + true_positive + false_negative + false_positive\n",
        "\n",
        "    accuracy_ = (true_positive + true_negative)/total\n",
        "    precision_ = (true_positive)/(true_positive + false_positive)\n",
        "    recall_ = (true_positive)/(true_positive + false_negative)\n",
        "    misclassification_rate = (false_positive + false_negative)/total\n",
        "    F1_ = (2*true_positive)/(2*true_positive + false_positive + false_negative)\n",
        "    assert accuracy == accuracy_, \"accuracy score does not agree\"\n",
        "    assert precision == precision_, \"precision score does not agree\"\n",
        "    assert recall == recall_, \"recall score does not agree\"\n",
        "    assert round(F1,6) == round(F1_,6), \"F1: \" + str(F1) + \" != F1_: \" + str(F1_)\n",
        "\n",
        "    header = [\"Metric\", \"Testing Performance\"]\n",
        "    table = [[\"accuracy\",               accuracy],\n",
        "             [\"precision\",              precision],\n",
        "             [\"recall\",                 recall],\n",
        "             [\"misclassification rate\", misclassification_rate],\n",
        "             [\"F1\",                     F1],\n",
        "             [\"r2\",                     r2],\n",
        "             [\"AUC\",                    auc],\n",
        "             [\"mse\",                    mse],\n",
        "             [\"logloss\",                logloss]\n",
        "            ]\n",
        "\n",
        "    print(tabulate(table, header, tablefmt=\"fancy_grid\"))\n",
        "    testPerformanceData = testPerformanceData.append({'Algorithm' : algoName,'Accuracy' : accuracy,'AUC' : auc,'Precision' : precision,'Recall' : recall,'F1' : F1},ignore_index = True)"
      ],
      "execution_count": 11,
      "outputs": []
    },
    {
      "cell_type": "markdown",
      "metadata": {
        "id": "5S_m8OKLgTHP"
      },
      "source": [
        "### This routine plots the confusion matrix. "
      ]
    },
    {
      "cell_type": "code",
      "metadata": {
        "id": "nlUxvyHTgTHP"
      },
      "source": [
        "def Plot_Confusion_Matrix(best_model):\n",
        "    cmap = plt.cm.Blues\n",
        "    plt.imshow(cm, interpolation='nearest', cmap=cmap)\n",
        "    title='Confusion matrix (on test data)'\n",
        "    classes = [0, 1]\n",
        "    plt.title(title)\n",
        "    plt.colorbar()\n",
        "    tick_marks = np.arange(len(classes))\n",
        "    plt.xticks(tick_marks, classes, rotation=0)\n",
        "    plt.yticks(tick_marks, classes)\n",
        "\n",
        "    thresh = cm.max() / 2.\n",
        "    for i, j in itertools.product(range(cm.shape[0]), range(cm.shape[1])):\n",
        "        plt.text(j, i, cm[i, j],\n",
        "                 horizontalalignment=\"center\",\n",
        "                 color=\"white\" if cm[i, j] > thresh else \"black\")\n",
        "\n",
        "    plt.tight_layout()\n",
        "    plt.ylabel('True label')\n",
        "    plt.xlabel('Predicted label')\n",
        "\n",
        "    c_report = classification_report(y_test, y_predicted_test)\n",
        "    print('\\nClassification report:\\n', c_report)\n",
        "\n",
        "    ntotal = len(y_test)\n",
        "    correct = y_test == y_predicted_test\n",
        "    numCorrect = sum(correct)\n",
        "    percent = round( (100.0*numCorrect)/ntotal, 6)\n",
        "    print(\"\\nCorrect classifications on test data: {0:d}/{1:d} {2:8.3f}%\".format(numCorrect,\n",
        "                                                                                 ntotal,\n",
        "                                                                                 percent))\n",
        "    prediction_score = 100.0*best_model.score(X_test, y_test)\n",
        "    assert (round(percent,3) == round(prediction_score, 3)), \"prediction score does not agree\""
      ],
      "execution_count": 12,
      "outputs": []
    },
    {
      "cell_type": "code",
      "metadata": {
        "id": "yBskWQRAgTHP"
      },
      "source": [
        "def dataPreProc(fs):\n",
        "    X_train, y_train, X_test, y_test = LoadData(fs)\n",
        "    seed = 7\n",
        "    np.random.seed(seed)\n",
        "    # scaling data\n",
        "    scale = StandardScaler()\n",
        "    X_tr = scale.fit_transform(X_train)\n",
        "    X_te = scale.fit_transform(X_test)\n",
        "    return X_tr, X_te"
      ],
      "execution_count": 13,
      "outputs": []
    },
    {
      "cell_type": "code",
      "metadata": {
        "id": "5Pne2b9LgTHP"
      },
      "source": [
        "from datetime import datetime\n",
        "def timer(start_time=None):\n",
        "    if not start_time:\n",
        "        start_time = datetime.now()\n",
        "        return start_time\n",
        "    elif start_time:\n",
        "        thour, temp_sec = divmod((datetime.now() - start_time).total_seconds(), 3600)\n",
        "        tmin, tsec = divmod(temp_sec, 60)\n",
        "        print('\\n Time taken: %i hours %i minutes and %s seconds.' % (thour, tmin, round(tsec, 2)))"
      ],
      "execution_count": 14,
      "outputs": []
    },
    {
      "cell_type": "code",
      "metadata": {
        "id": "MFymsn4ggTHQ"
      },
      "source": [
        "def best_mdl():\n",
        "    print('\\n Best estimator:')\n",
        "    print(model.best_estimator_)\n",
        "    print('\\n Best score:')\n",
        "    print(model.best_score_ * 2 - 1)\n",
        "    print('\\n Best parameters:')\n",
        "    print(model.best_params_)\n",
        "    results = pd.DataFrame(model.cv_results_)\n",
        "    print('\\n CV results:')\n",
        "    print(results.head())\n",
        "    #best_model = results.best_estimator_\n",
        "    best_model = model_result.best_estimator_\n",
        "    return best_model"
      ],
      "execution_count": 15,
      "outputs": []
    },
    {
      "cell_type": "markdown",
      "metadata": {
        "id": "DFIuL__QgTHQ"
      },
      "source": [
        "### Exploratory Data Analysis"
      ]
    },
    {
      "cell_type": "code",
      "metadata": {
        "id": "WiCo-OIcgTHQ"
      },
      "source": [
        "import seaborn as sns\n",
        "import matplotlib.pyplot as plt\n",
        "%matplotlib inline"
      ],
      "execution_count": 16,
      "outputs": []
    },
    {
      "cell_type": "code",
      "metadata": {
        "colab": {
          "base_uri": "https://localhost:8080/",
          "height": 244
        },
        "id": "ftB2g0fGgTHQ",
        "outputId": "11397bc3-59dd-4400-9258-c97cb24365b4"
      },
      "source": [
        "#X_train, y_train, X_test, y_test = LoadData()\n",
        "model_full.head()"
      ],
      "execution_count": 17,
      "outputs": [
        {
          "output_type": "execute_result",
          "data": {
            "text/html": [
              "<div>\n",
              "<style scoped>\n",
              "    .dataframe tbody tr th:only-of-type {\n",
              "        vertical-align: middle;\n",
              "    }\n",
              "\n",
              "    .dataframe tbody tr th {\n",
              "        vertical-align: top;\n",
              "    }\n",
              "\n",
              "    .dataframe thead th {\n",
              "        text-align: right;\n",
              "    }\n",
              "</style>\n",
              "<table border=\"1\" class=\"dataframe\">\n",
              "  <thead>\n",
              "    <tr style=\"text-align: right;\">\n",
              "      <th></th>\n",
              "      <th>id</th>\n",
              "      <th>diagnosis</th>\n",
              "      <th>radius_mean</th>\n",
              "      <th>texture_mean</th>\n",
              "      <th>perimeter_mean</th>\n",
              "      <th>area_mean</th>\n",
              "      <th>smoothness_mean</th>\n",
              "      <th>compactness_mean</th>\n",
              "      <th>concavity_mean</th>\n",
              "      <th>concave points_mean</th>\n",
              "      <th>symmetry_mean</th>\n",
              "      <th>fractal_dimension_mean</th>\n",
              "      <th>radius_se</th>\n",
              "      <th>texture_se</th>\n",
              "      <th>perimeter_se</th>\n",
              "      <th>area_se</th>\n",
              "      <th>smoothness_se</th>\n",
              "      <th>compactness_se</th>\n",
              "      <th>concavity_se</th>\n",
              "      <th>concave points_se</th>\n",
              "      <th>symmetry_se</th>\n",
              "      <th>fractal_dimension_se</th>\n",
              "      <th>radius_worst</th>\n",
              "      <th>texture_worst</th>\n",
              "      <th>perimeter_worst</th>\n",
              "      <th>area_worst</th>\n",
              "      <th>smoothness_worst</th>\n",
              "      <th>compactness_worst</th>\n",
              "      <th>concavity_worst</th>\n",
              "      <th>concave points_worst</th>\n",
              "      <th>symmetry_worst</th>\n",
              "      <th>fractal_dimension_worst</th>\n",
              "      <th>Unnamed: 32</th>\n",
              "    </tr>\n",
              "  </thead>\n",
              "  <tbody>\n",
              "    <tr>\n",
              "      <th>0</th>\n",
              "      <td>842302</td>\n",
              "      <td>1</td>\n",
              "      <td>17.99</td>\n",
              "      <td>10.38</td>\n",
              "      <td>122.80</td>\n",
              "      <td>1001.0</td>\n",
              "      <td>0.11840</td>\n",
              "      <td>0.27760</td>\n",
              "      <td>0.3001</td>\n",
              "      <td>0.14710</td>\n",
              "      <td>0.2419</td>\n",
              "      <td>0.07871</td>\n",
              "      <td>1.0950</td>\n",
              "      <td>0.9053</td>\n",
              "      <td>8.589</td>\n",
              "      <td>153.40</td>\n",
              "      <td>0.006399</td>\n",
              "      <td>0.04904</td>\n",
              "      <td>0.05373</td>\n",
              "      <td>0.01587</td>\n",
              "      <td>0.03003</td>\n",
              "      <td>0.006193</td>\n",
              "      <td>25.38</td>\n",
              "      <td>17.33</td>\n",
              "      <td>184.60</td>\n",
              "      <td>2019.0</td>\n",
              "      <td>0.1622</td>\n",
              "      <td>0.6656</td>\n",
              "      <td>0.7119</td>\n",
              "      <td>0.2654</td>\n",
              "      <td>0.4601</td>\n",
              "      <td>0.11890</td>\n",
              "      <td>NaN</td>\n",
              "    </tr>\n",
              "    <tr>\n",
              "      <th>1</th>\n",
              "      <td>842517</td>\n",
              "      <td>1</td>\n",
              "      <td>20.57</td>\n",
              "      <td>17.77</td>\n",
              "      <td>132.90</td>\n",
              "      <td>1326.0</td>\n",
              "      <td>0.08474</td>\n",
              "      <td>0.07864</td>\n",
              "      <td>0.0869</td>\n",
              "      <td>0.07017</td>\n",
              "      <td>0.1812</td>\n",
              "      <td>0.05667</td>\n",
              "      <td>0.5435</td>\n",
              "      <td>0.7339</td>\n",
              "      <td>3.398</td>\n",
              "      <td>74.08</td>\n",
              "      <td>0.005225</td>\n",
              "      <td>0.01308</td>\n",
              "      <td>0.01860</td>\n",
              "      <td>0.01340</td>\n",
              "      <td>0.01389</td>\n",
              "      <td>0.003532</td>\n",
              "      <td>24.99</td>\n",
              "      <td>23.41</td>\n",
              "      <td>158.80</td>\n",
              "      <td>1956.0</td>\n",
              "      <td>0.1238</td>\n",
              "      <td>0.1866</td>\n",
              "      <td>0.2416</td>\n",
              "      <td>0.1860</td>\n",
              "      <td>0.2750</td>\n",
              "      <td>0.08902</td>\n",
              "      <td>NaN</td>\n",
              "    </tr>\n",
              "    <tr>\n",
              "      <th>2</th>\n",
              "      <td>84300903</td>\n",
              "      <td>1</td>\n",
              "      <td>19.69</td>\n",
              "      <td>21.25</td>\n",
              "      <td>130.00</td>\n",
              "      <td>1203.0</td>\n",
              "      <td>0.10960</td>\n",
              "      <td>0.15990</td>\n",
              "      <td>0.1974</td>\n",
              "      <td>0.12790</td>\n",
              "      <td>0.2069</td>\n",
              "      <td>0.05999</td>\n",
              "      <td>0.7456</td>\n",
              "      <td>0.7869</td>\n",
              "      <td>4.585</td>\n",
              "      <td>94.03</td>\n",
              "      <td>0.006150</td>\n",
              "      <td>0.04006</td>\n",
              "      <td>0.03832</td>\n",
              "      <td>0.02058</td>\n",
              "      <td>0.02250</td>\n",
              "      <td>0.004571</td>\n",
              "      <td>23.57</td>\n",
              "      <td>25.53</td>\n",
              "      <td>152.50</td>\n",
              "      <td>1709.0</td>\n",
              "      <td>0.1444</td>\n",
              "      <td>0.4245</td>\n",
              "      <td>0.4504</td>\n",
              "      <td>0.2430</td>\n",
              "      <td>0.3613</td>\n",
              "      <td>0.08758</td>\n",
              "      <td>NaN</td>\n",
              "    </tr>\n",
              "    <tr>\n",
              "      <th>3</th>\n",
              "      <td>84348301</td>\n",
              "      <td>1</td>\n",
              "      <td>11.42</td>\n",
              "      <td>20.38</td>\n",
              "      <td>77.58</td>\n",
              "      <td>386.1</td>\n",
              "      <td>0.14250</td>\n",
              "      <td>0.28390</td>\n",
              "      <td>0.2414</td>\n",
              "      <td>0.10520</td>\n",
              "      <td>0.2597</td>\n",
              "      <td>0.09744</td>\n",
              "      <td>0.4956</td>\n",
              "      <td>1.1560</td>\n",
              "      <td>3.445</td>\n",
              "      <td>27.23</td>\n",
              "      <td>0.009110</td>\n",
              "      <td>0.07458</td>\n",
              "      <td>0.05661</td>\n",
              "      <td>0.01867</td>\n",
              "      <td>0.05963</td>\n",
              "      <td>0.009208</td>\n",
              "      <td>14.91</td>\n",
              "      <td>26.50</td>\n",
              "      <td>98.87</td>\n",
              "      <td>567.7</td>\n",
              "      <td>0.2098</td>\n",
              "      <td>0.8663</td>\n",
              "      <td>0.6869</td>\n",
              "      <td>0.2575</td>\n",
              "      <td>0.6638</td>\n",
              "      <td>0.17300</td>\n",
              "      <td>NaN</td>\n",
              "    </tr>\n",
              "    <tr>\n",
              "      <th>4</th>\n",
              "      <td>84358402</td>\n",
              "      <td>1</td>\n",
              "      <td>20.29</td>\n",
              "      <td>14.34</td>\n",
              "      <td>135.10</td>\n",
              "      <td>1297.0</td>\n",
              "      <td>0.10030</td>\n",
              "      <td>0.13280</td>\n",
              "      <td>0.1980</td>\n",
              "      <td>0.10430</td>\n",
              "      <td>0.1809</td>\n",
              "      <td>0.05883</td>\n",
              "      <td>0.7572</td>\n",
              "      <td>0.7813</td>\n",
              "      <td>5.438</td>\n",
              "      <td>94.44</td>\n",
              "      <td>0.011490</td>\n",
              "      <td>0.02461</td>\n",
              "      <td>0.05688</td>\n",
              "      <td>0.01885</td>\n",
              "      <td>0.01756</td>\n",
              "      <td>0.005115</td>\n",
              "      <td>22.54</td>\n",
              "      <td>16.67</td>\n",
              "      <td>152.20</td>\n",
              "      <td>1575.0</td>\n",
              "      <td>0.1374</td>\n",
              "      <td>0.2050</td>\n",
              "      <td>0.4000</td>\n",
              "      <td>0.1625</td>\n",
              "      <td>0.2364</td>\n",
              "      <td>0.07678</td>\n",
              "      <td>NaN</td>\n",
              "    </tr>\n",
              "  </tbody>\n",
              "</table>\n",
              "</div>"
            ],
            "text/plain": [
              "         id  diagnosis  ...  fractal_dimension_worst  Unnamed: 32\n",
              "0    842302          1  ...                  0.11890          NaN\n",
              "1    842517          1  ...                  0.08902          NaN\n",
              "2  84300903          1  ...                  0.08758          NaN\n",
              "3  84348301          1  ...                  0.17300          NaN\n",
              "4  84358402          1  ...                  0.07678          NaN\n",
              "\n",
              "[5 rows x 33 columns]"
            ]
          },
          "metadata": {},
          "execution_count": 17
        }
      ]
    },
    {
      "cell_type": "code",
      "metadata": {
        "colab": {
          "base_uri": "https://localhost:8080/",
          "height": 337
        },
        "id": "1Ad9gC_RgTHQ",
        "outputId": "d4cfcae6-8e4c-4137-998f-c5300d5688eb"
      },
      "source": [
        "model_full.describe()"
      ],
      "execution_count": 18,
      "outputs": [
        {
          "output_type": "execute_result",
          "data": {
            "text/html": [
              "<div>\n",
              "<style scoped>\n",
              "    .dataframe tbody tr th:only-of-type {\n",
              "        vertical-align: middle;\n",
              "    }\n",
              "\n",
              "    .dataframe tbody tr th {\n",
              "        vertical-align: top;\n",
              "    }\n",
              "\n",
              "    .dataframe thead th {\n",
              "        text-align: right;\n",
              "    }\n",
              "</style>\n",
              "<table border=\"1\" class=\"dataframe\">\n",
              "  <thead>\n",
              "    <tr style=\"text-align: right;\">\n",
              "      <th></th>\n",
              "      <th>id</th>\n",
              "      <th>diagnosis</th>\n",
              "      <th>radius_mean</th>\n",
              "      <th>texture_mean</th>\n",
              "      <th>perimeter_mean</th>\n",
              "      <th>area_mean</th>\n",
              "      <th>smoothness_mean</th>\n",
              "      <th>compactness_mean</th>\n",
              "      <th>concavity_mean</th>\n",
              "      <th>concave points_mean</th>\n",
              "      <th>symmetry_mean</th>\n",
              "      <th>fractal_dimension_mean</th>\n",
              "      <th>radius_se</th>\n",
              "      <th>texture_se</th>\n",
              "      <th>perimeter_se</th>\n",
              "      <th>area_se</th>\n",
              "      <th>smoothness_se</th>\n",
              "      <th>compactness_se</th>\n",
              "      <th>concavity_se</th>\n",
              "      <th>concave points_se</th>\n",
              "      <th>symmetry_se</th>\n",
              "      <th>fractal_dimension_se</th>\n",
              "      <th>radius_worst</th>\n",
              "      <th>texture_worst</th>\n",
              "      <th>perimeter_worst</th>\n",
              "      <th>area_worst</th>\n",
              "      <th>smoothness_worst</th>\n",
              "      <th>compactness_worst</th>\n",
              "      <th>concavity_worst</th>\n",
              "      <th>concave points_worst</th>\n",
              "      <th>symmetry_worst</th>\n",
              "      <th>fractal_dimension_worst</th>\n",
              "      <th>Unnamed: 32</th>\n",
              "    </tr>\n",
              "  </thead>\n",
              "  <tbody>\n",
              "    <tr>\n",
              "      <th>count</th>\n",
              "      <td>5.690000e+02</td>\n",
              "      <td>569.000000</td>\n",
              "      <td>569.000000</td>\n",
              "      <td>569.000000</td>\n",
              "      <td>569.000000</td>\n",
              "      <td>569.000000</td>\n",
              "      <td>569.000000</td>\n",
              "      <td>569.000000</td>\n",
              "      <td>569.000000</td>\n",
              "      <td>569.000000</td>\n",
              "      <td>569.000000</td>\n",
              "      <td>569.000000</td>\n",
              "      <td>569.000000</td>\n",
              "      <td>569.000000</td>\n",
              "      <td>569.000000</td>\n",
              "      <td>569.000000</td>\n",
              "      <td>569.000000</td>\n",
              "      <td>569.000000</td>\n",
              "      <td>569.000000</td>\n",
              "      <td>569.000000</td>\n",
              "      <td>569.000000</td>\n",
              "      <td>569.000000</td>\n",
              "      <td>569.000000</td>\n",
              "      <td>569.000000</td>\n",
              "      <td>569.000000</td>\n",
              "      <td>569.000000</td>\n",
              "      <td>569.000000</td>\n",
              "      <td>569.000000</td>\n",
              "      <td>569.000000</td>\n",
              "      <td>569.000000</td>\n",
              "      <td>569.000000</td>\n",
              "      <td>569.000000</td>\n",
              "      <td>0.0</td>\n",
              "    </tr>\n",
              "    <tr>\n",
              "      <th>mean</th>\n",
              "      <td>3.037183e+07</td>\n",
              "      <td>0.372583</td>\n",
              "      <td>14.127292</td>\n",
              "      <td>19.289649</td>\n",
              "      <td>91.969033</td>\n",
              "      <td>654.889104</td>\n",
              "      <td>0.096360</td>\n",
              "      <td>0.104341</td>\n",
              "      <td>0.088799</td>\n",
              "      <td>0.048919</td>\n",
              "      <td>0.181162</td>\n",
              "      <td>0.062798</td>\n",
              "      <td>0.405172</td>\n",
              "      <td>1.216853</td>\n",
              "      <td>2.866059</td>\n",
              "      <td>40.337079</td>\n",
              "      <td>0.007041</td>\n",
              "      <td>0.025478</td>\n",
              "      <td>0.031894</td>\n",
              "      <td>0.011796</td>\n",
              "      <td>0.020542</td>\n",
              "      <td>0.003795</td>\n",
              "      <td>16.269190</td>\n",
              "      <td>25.677223</td>\n",
              "      <td>107.261213</td>\n",
              "      <td>880.583128</td>\n",
              "      <td>0.132369</td>\n",
              "      <td>0.254265</td>\n",
              "      <td>0.272188</td>\n",
              "      <td>0.114606</td>\n",
              "      <td>0.290076</td>\n",
              "      <td>0.083946</td>\n",
              "      <td>NaN</td>\n",
              "    </tr>\n",
              "    <tr>\n",
              "      <th>std</th>\n",
              "      <td>1.250206e+08</td>\n",
              "      <td>0.483918</td>\n",
              "      <td>3.524049</td>\n",
              "      <td>4.301036</td>\n",
              "      <td>24.298981</td>\n",
              "      <td>351.914129</td>\n",
              "      <td>0.014064</td>\n",
              "      <td>0.052813</td>\n",
              "      <td>0.079720</td>\n",
              "      <td>0.038803</td>\n",
              "      <td>0.027414</td>\n",
              "      <td>0.007060</td>\n",
              "      <td>0.277313</td>\n",
              "      <td>0.551648</td>\n",
              "      <td>2.021855</td>\n",
              "      <td>45.491006</td>\n",
              "      <td>0.003003</td>\n",
              "      <td>0.017908</td>\n",
              "      <td>0.030186</td>\n",
              "      <td>0.006170</td>\n",
              "      <td>0.008266</td>\n",
              "      <td>0.002646</td>\n",
              "      <td>4.833242</td>\n",
              "      <td>6.146258</td>\n",
              "      <td>33.602542</td>\n",
              "      <td>569.356993</td>\n",
              "      <td>0.022832</td>\n",
              "      <td>0.157336</td>\n",
              "      <td>0.208624</td>\n",
              "      <td>0.065732</td>\n",
              "      <td>0.061867</td>\n",
              "      <td>0.018061</td>\n",
              "      <td>NaN</td>\n",
              "    </tr>\n",
              "    <tr>\n",
              "      <th>min</th>\n",
              "      <td>8.670000e+03</td>\n",
              "      <td>0.000000</td>\n",
              "      <td>6.981000</td>\n",
              "      <td>9.710000</td>\n",
              "      <td>43.790000</td>\n",
              "      <td>143.500000</td>\n",
              "      <td>0.052630</td>\n",
              "      <td>0.019380</td>\n",
              "      <td>0.000000</td>\n",
              "      <td>0.000000</td>\n",
              "      <td>0.106000</td>\n",
              "      <td>0.049960</td>\n",
              "      <td>0.111500</td>\n",
              "      <td>0.360200</td>\n",
              "      <td>0.757000</td>\n",
              "      <td>6.802000</td>\n",
              "      <td>0.001713</td>\n",
              "      <td>0.002252</td>\n",
              "      <td>0.000000</td>\n",
              "      <td>0.000000</td>\n",
              "      <td>0.007882</td>\n",
              "      <td>0.000895</td>\n",
              "      <td>7.930000</td>\n",
              "      <td>12.020000</td>\n",
              "      <td>50.410000</td>\n",
              "      <td>185.200000</td>\n",
              "      <td>0.071170</td>\n",
              "      <td>0.027290</td>\n",
              "      <td>0.000000</td>\n",
              "      <td>0.000000</td>\n",
              "      <td>0.156500</td>\n",
              "      <td>0.055040</td>\n",
              "      <td>NaN</td>\n",
              "    </tr>\n",
              "    <tr>\n",
              "      <th>25%</th>\n",
              "      <td>8.692180e+05</td>\n",
              "      <td>0.000000</td>\n",
              "      <td>11.700000</td>\n",
              "      <td>16.170000</td>\n",
              "      <td>75.170000</td>\n",
              "      <td>420.300000</td>\n",
              "      <td>0.086370</td>\n",
              "      <td>0.064920</td>\n",
              "      <td>0.029560</td>\n",
              "      <td>0.020310</td>\n",
              "      <td>0.161900</td>\n",
              "      <td>0.057700</td>\n",
              "      <td>0.232400</td>\n",
              "      <td>0.833900</td>\n",
              "      <td>1.606000</td>\n",
              "      <td>17.850000</td>\n",
              "      <td>0.005169</td>\n",
              "      <td>0.013080</td>\n",
              "      <td>0.015090</td>\n",
              "      <td>0.007638</td>\n",
              "      <td>0.015160</td>\n",
              "      <td>0.002248</td>\n",
              "      <td>13.010000</td>\n",
              "      <td>21.080000</td>\n",
              "      <td>84.110000</td>\n",
              "      <td>515.300000</td>\n",
              "      <td>0.116600</td>\n",
              "      <td>0.147200</td>\n",
              "      <td>0.114500</td>\n",
              "      <td>0.064930</td>\n",
              "      <td>0.250400</td>\n",
              "      <td>0.071460</td>\n",
              "      <td>NaN</td>\n",
              "    </tr>\n",
              "    <tr>\n",
              "      <th>50%</th>\n",
              "      <td>9.060240e+05</td>\n",
              "      <td>0.000000</td>\n",
              "      <td>13.370000</td>\n",
              "      <td>18.840000</td>\n",
              "      <td>86.240000</td>\n",
              "      <td>551.100000</td>\n",
              "      <td>0.095870</td>\n",
              "      <td>0.092630</td>\n",
              "      <td>0.061540</td>\n",
              "      <td>0.033500</td>\n",
              "      <td>0.179200</td>\n",
              "      <td>0.061540</td>\n",
              "      <td>0.324200</td>\n",
              "      <td>1.108000</td>\n",
              "      <td>2.287000</td>\n",
              "      <td>24.530000</td>\n",
              "      <td>0.006380</td>\n",
              "      <td>0.020450</td>\n",
              "      <td>0.025890</td>\n",
              "      <td>0.010930</td>\n",
              "      <td>0.018730</td>\n",
              "      <td>0.003187</td>\n",
              "      <td>14.970000</td>\n",
              "      <td>25.410000</td>\n",
              "      <td>97.660000</td>\n",
              "      <td>686.500000</td>\n",
              "      <td>0.131300</td>\n",
              "      <td>0.211900</td>\n",
              "      <td>0.226700</td>\n",
              "      <td>0.099930</td>\n",
              "      <td>0.282200</td>\n",
              "      <td>0.080040</td>\n",
              "      <td>NaN</td>\n",
              "    </tr>\n",
              "    <tr>\n",
              "      <th>75%</th>\n",
              "      <td>8.813129e+06</td>\n",
              "      <td>1.000000</td>\n",
              "      <td>15.780000</td>\n",
              "      <td>21.800000</td>\n",
              "      <td>104.100000</td>\n",
              "      <td>782.700000</td>\n",
              "      <td>0.105300</td>\n",
              "      <td>0.130400</td>\n",
              "      <td>0.130700</td>\n",
              "      <td>0.074000</td>\n",
              "      <td>0.195700</td>\n",
              "      <td>0.066120</td>\n",
              "      <td>0.478900</td>\n",
              "      <td>1.474000</td>\n",
              "      <td>3.357000</td>\n",
              "      <td>45.190000</td>\n",
              "      <td>0.008146</td>\n",
              "      <td>0.032450</td>\n",
              "      <td>0.042050</td>\n",
              "      <td>0.014710</td>\n",
              "      <td>0.023480</td>\n",
              "      <td>0.004558</td>\n",
              "      <td>18.790000</td>\n",
              "      <td>29.720000</td>\n",
              "      <td>125.400000</td>\n",
              "      <td>1084.000000</td>\n",
              "      <td>0.146000</td>\n",
              "      <td>0.339100</td>\n",
              "      <td>0.382900</td>\n",
              "      <td>0.161400</td>\n",
              "      <td>0.317900</td>\n",
              "      <td>0.092080</td>\n",
              "      <td>NaN</td>\n",
              "    </tr>\n",
              "    <tr>\n",
              "      <th>max</th>\n",
              "      <td>9.113205e+08</td>\n",
              "      <td>1.000000</td>\n",
              "      <td>28.110000</td>\n",
              "      <td>39.280000</td>\n",
              "      <td>188.500000</td>\n",
              "      <td>2501.000000</td>\n",
              "      <td>0.163400</td>\n",
              "      <td>0.345400</td>\n",
              "      <td>0.426800</td>\n",
              "      <td>0.201200</td>\n",
              "      <td>0.304000</td>\n",
              "      <td>0.097440</td>\n",
              "      <td>2.873000</td>\n",
              "      <td>4.885000</td>\n",
              "      <td>21.980000</td>\n",
              "      <td>542.200000</td>\n",
              "      <td>0.031130</td>\n",
              "      <td>0.135400</td>\n",
              "      <td>0.396000</td>\n",
              "      <td>0.052790</td>\n",
              "      <td>0.078950</td>\n",
              "      <td>0.029840</td>\n",
              "      <td>36.040000</td>\n",
              "      <td>49.540000</td>\n",
              "      <td>251.200000</td>\n",
              "      <td>4254.000000</td>\n",
              "      <td>0.222600</td>\n",
              "      <td>1.058000</td>\n",
              "      <td>1.252000</td>\n",
              "      <td>0.291000</td>\n",
              "      <td>0.663800</td>\n",
              "      <td>0.207500</td>\n",
              "      <td>NaN</td>\n",
              "    </tr>\n",
              "  </tbody>\n",
              "</table>\n",
              "</div>"
            ],
            "text/plain": [
              "                 id   diagnosis  ...  fractal_dimension_worst  Unnamed: 32\n",
              "count  5.690000e+02  569.000000  ...               569.000000          0.0\n",
              "mean   3.037183e+07    0.372583  ...                 0.083946          NaN\n",
              "std    1.250206e+08    0.483918  ...                 0.018061          NaN\n",
              "min    8.670000e+03    0.000000  ...                 0.055040          NaN\n",
              "25%    8.692180e+05    0.000000  ...                 0.071460          NaN\n",
              "50%    9.060240e+05    0.000000  ...                 0.080040          NaN\n",
              "75%    8.813129e+06    1.000000  ...                 0.092080          NaN\n",
              "max    9.113205e+08    1.000000  ...                 0.207500          NaN\n",
              "\n",
              "[8 rows x 33 columns]"
            ]
          },
          "metadata": {},
          "execution_count": 18
        }
      ]
    },
    {
      "cell_type": "code",
      "metadata": {
        "colab": {
          "base_uri": "https://localhost:8080/"
        },
        "id": "meoQOztSgTHQ",
        "outputId": "2914afd0-654a-45f6-fdfd-096ebfe4ad5b"
      },
      "source": [
        "model_full.dtypes"
      ],
      "execution_count": 19,
      "outputs": [
        {
          "output_type": "execute_result",
          "data": {
            "text/plain": [
              "id                           int64\n",
              "diagnosis                    int64\n",
              "radius_mean                float64\n",
              "texture_mean               float64\n",
              "perimeter_mean             float64\n",
              "area_mean                  float64\n",
              "smoothness_mean            float64\n",
              "compactness_mean           float64\n",
              "concavity_mean             float64\n",
              "concave points_mean        float64\n",
              "symmetry_mean              float64\n",
              "fractal_dimension_mean     float64\n",
              "radius_se                  float64\n",
              "texture_se                 float64\n",
              "perimeter_se               float64\n",
              "area_se                    float64\n",
              "smoothness_se              float64\n",
              "compactness_se             float64\n",
              "concavity_se               float64\n",
              "concave points_se          float64\n",
              "symmetry_se                float64\n",
              "fractal_dimension_se       float64\n",
              "radius_worst               float64\n",
              "texture_worst              float64\n",
              "perimeter_worst            float64\n",
              "area_worst                 float64\n",
              "smoothness_worst           float64\n",
              "compactness_worst          float64\n",
              "concavity_worst            float64\n",
              "concave points_worst       float64\n",
              "symmetry_worst             float64\n",
              "fractal_dimension_worst    float64\n",
              "Unnamed: 32                float64\n",
              "dtype: object"
            ]
          },
          "metadata": {},
          "execution_count": 19
        }
      ]
    },
    {
      "cell_type": "code",
      "metadata": {
        "colab": {
          "base_uri": "https://localhost:8080/",
          "height": 317
        },
        "id": "fy6lLwBVgTHR",
        "outputId": "4ee2badb-2244-4489-c54f-0d790d43f872"
      },
      "source": [
        "# lets get the % of Cancer Patients\n",
        "print('Distribution of Cancer patients on whole data')\n",
        "ax = sns.countplot(model_full['diagnosis'])\n",
        "ax.set_ylabel('Percentage of patients (%)')\n",
        "bars = ax.patches\n",
        "half = int(len(bars)/2)\n",
        "left_bars = bars[:half]\n",
        "right_bars = bars[half:]\n",
        "for left, right in zip(left_bars, right_bars):\n",
        "    height_l = left.get_height()\n",
        "    height_r = right.get_height()\n",
        "    total = height_l + height_r\n",
        "    ax.text(left.get_x() + left.get_width()/2., height_l + 40, '{0:.0%}'.format(height_l/total), ha=\"center\")\n",
        "    ax.text(right.get_x() + right.get_width()/2., height_r + 40, '{0:.0%}'.format(height_r/total), ha=\"center\")"
      ],
      "execution_count": 20,
      "outputs": [
        {
          "output_type": "stream",
          "name": "stdout",
          "text": [
            "Distribution of Cancer patients on whole data\n"
          ]
        },
        {
          "output_type": "display_data",
          "data": {
            "image/png": "[encoded data removed]",
            "text/plain": [
              "<Figure size 432x288 with 1 Axes>"
            ]
          },
          "metadata": {
            "needs_background": "light"
          }
        }
      ]
    },
    {
      "cell_type": "code",
      "metadata": {
        "colab": {
          "base_uri": "https://localhost:8080/",
          "height": 848
        },
        "id": "j_kMrrgugTHR",
        "outputId": "3c230a0b-69cd-4f97-8f48-088586e97afa"
      },
      "source": [
        "no, yes = model_full['diagnosis'].value_counts()\n",
        "#X_train, y_train, X_test, y_test = LoadData()\n",
        "print('Distribution of the data:')\n",
        "print ('----------------------------------------------------')\n",
        "print ('The total data has {0} rows and {1} columns'.format(model_full.shape[0],model_full.shape[1]))\n",
        "print ('')\n",
        "print ('Malignent cases = {0}  and % = {1} '.format(yes,np.round((yes/model_full.shape[0])*100,2)))\n",
        "print ('')\n",
        "print ('Benign cases = {0}  and % = {1} '.format(no,np.round((no/model_full.shape[0])*100,2)))\n",
        "print ('')\n",
        "print ('----------------------------------------------------')\n",
        "print ('Distribution of training data')\n",
        "print ('----------------------------------------------------')\n",
        "print ('The train data has {0} rows and {1} columns'.format(X_train.shape[0],X_train.shape[1]))\n",
        "print ('')\n",
        "print ('The training data % = {0} '.format(np.round((X_train.shape[0]/model_full.shape[0])*100,2)))\n",
        "print ('')\n",
        "y_tr = y_train.sum()\n",
        "n_tr = X_train.shape[0] -y_tr    #yes1\n",
        "print ('Malignent cases = {0}  and % = {1} '.format(y_tr,np.round((y_tr/X_train.shape[0])*100,2)))\n",
        "print ('')\n",
        "print ('Benign cases = {0}  and % = {1} '.format(n_tr,np.round((n_tr/X_train.shape[0])*100,2)))\n",
        "print ('')\n",
        "print ('----------------------------------------------------')\n",
        "print ('Distribution of testing data')\n",
        "print ('----------------------------------------------------')\n",
        "print ('The test data has {0} rows and {1} columns'.format(X_test.shape[0],X_test.shape[1]))\n",
        "print ('')\n",
        "print ('The testing data % = {0} '.format(np.round((X_test.shape[0]/model_full.shape[0])*100,2)))\n",
        "print ('')\n",
        "y_te = y_test.sum()\n",
        "n_te = X_test.shape[0] -y_te\n",
        "print ('Malignent cases = {0}  and % = {1} '.format(y_te,np.round((y_te/X_test.shape[0])*100,2)))\n",
        "print ('')\n",
        "print ('Benign cases = {0}  and % = {1} '.format(n_te,np.round((n_te/X_test.shape[0])*100,2)))\n",
        "print ('')\n",
        "# lets get the % of Blood Transfusion patients\n",
        "print('Training data : Distribution of patients')\n",
        "ax = sns.countplot(y_train)\n",
        "ax.set_ylabel('Percentage of patients (%)')\n",
        "bars = ax.patches\n",
        "half = int(len(bars)/2)\n",
        "left_bars = bars[:half]\n",
        "right_bars = bars[half:]\n",
        "for left, right in zip(left_bars, right_bars):\n",
        "    height_l = left.get_height()\n",
        "    height_r = right.get_height()\n",
        "    total = height_l + height_r\n",
        "    ax.text(left.get_x() + left.get_width()/2., height_l + 40, '{0:.0%}'.format(height_l/total), ha=\"center\")\n",
        "    ax.text(right.get_x() + right.get_width()/2., height_r + 40, '{0:.0%}'.format(height_r/total), ha=\"center\")"
      ],
      "execution_count": 21,
      "outputs": [
        {
          "output_type": "stream",
          "name": "stdout",
          "text": [
            "Distribution of the data:\n",
            "----------------------------------------------------\n",
            "The total data has 569 rows and 33 columns\n",
            "\n",
            "Malignent cases = 212  and % = 37.26 \n",
            "\n",
            "Benign cases = 357  and % = 62.74 \n",
            "\n",
            "----------------------------------------------------\n",
            "Distribution of training data\n",
            "----------------------------------------------------\n",
            "The train data has 398 rows and 16 columns\n",
            "\n",
            "The training data % = 69.95 \n",
            "\n",
            "Malignent cases = 152  and % = 38.19 \n",
            "\n",
            "Benign cases = 246  and % = 61.81 \n",
            "\n",
            "----------------------------------------------------\n",
            "Distribution of testing data\n",
            "----------------------------------------------------\n",
            "The test data has 171 rows and 16 columns\n",
            "\n",
            "The testing data % = 30.05 \n",
            "\n",
            "Malignent cases = 60  and % = 35.09 \n",
            "\n",
            "Benign cases = 111  and % = 64.91 \n",
            "\n",
            "Training data : Distribution of patients\n"
          ]
        },
        {
          "output_type": "display_data",
          "data": {
            "image/png": "[encoded data removed]",
            "text/plain": [
              "<Figure size 432x288 with 1 Axes>"
            ]
          },
          "metadata": {
            "needs_background": "light"
          }
        }
      ]
    },
    {
      "cell_type": "code",
      "metadata": {
        "colab": {
          "base_uri": "https://localhost:8080/",
          "height": 369
        },
        "id": "JFzir1S-gTHR",
        "outputId": "556f9fe2-bfca-4e8b-af87-e53473ab5610"
      },
      "source": [
        "# lets get the % of Blood Transfusion patients\n",
        "print('Testing data : Distribution of patients')\n",
        "ax = sns.countplot(y_test)\n",
        "ax.set_ylabel('Percentage of patients (%)')\n",
        "bars = ax.patches\n",
        "half = int(len(bars)/2)\n",
        "left_bars = bars[:half]\n",
        "right_bars = bars[half:]\n",
        "for left, right in zip(left_bars, right_bars):\n",
        "    height_l = left.get_height()\n",
        "    height_r = right.get_height()\n",
        "    total = height_l + height_r\n",
        "    ax.text(left.get_x() + left.get_width()/2., height_l + 40, '{0:.0%}'.format(height_l/total), ha=\"center\")\n",
        "    ax.text(right.get_x() + right.get_width()/2., height_r + 40, '{0:.0%}'.format(height_r/total), ha=\"center\")"
      ],
      "execution_count": 22,
      "outputs": [
        {
          "output_type": "stream",
          "name": "stdout",
          "text": [
            "Testing data : Distribution of patients\n"
          ]
        },
        {
          "output_type": "display_data",
          "data": {
            "image/png": "[encoded data removed]",
            "text/plain": [
              "<Figure size 432x288 with 1 Axes>"
            ]
          },
          "metadata": {
            "needs_background": "light"
          }
        }
      ]
    },
    {
      "cell_type": "markdown",
      "metadata": {
        "id": "e3frrzi3gTHR"
      },
      "source": [
        "### Build models "
      ]
    },
    {
      "cell_type": "markdown",
      "metadata": {
        "id": "Ujc5DWEjgTHR"
      },
      "source": [
        "### Define basic non-linear classifiers"
      ]
    },
    {
      "cell_type": "code",
      "metadata": {
        "id": "2gdt_S5ygTHS"
      },
      "source": [
        "nonlr_clf_dict = dict()\n",
        "\n",
        "# 1\n",
        "from sklearn.linear_model import LogisticRegression\n",
        "clf = LogisticRegression()\n",
        "nonlr_clf_dict['Logistic Regression'] = clf\n",
        "\n",
        "# 2\n",
        "from sklearn.ensemble import RandomForestClassifier\n",
        "clf = RandomForestClassifier()\n",
        "nonlr_clf_dict['Random Forest Classifier'] = clf\n",
        "\n",
        "# 3\n",
        "from sklearn.ensemble import GradientBoostingClassifier\n",
        "clf = GradientBoostingClassifier()\n",
        "nonlr_clf_dict['Gradient Boosting Classifier'] = clf\n",
        "\n",
        "# 4\n",
        "from sklearn.ensemble import ExtraTreesClassifier\n",
        "clf = ExtraTreesClassifier()\n",
        "nonlr_clf_dict['Extra Trees Classifier'] = clf\n",
        "\n",
        "# 5\n",
        "from xgboost import XGBClassifier\n",
        "clf = XGBClassifier()\n",
        "nonlr_clf_dict['XGB Classifier'] = clf\n",
        "\n",
        "# 6\n",
        "from sklearn.neighbors import KNeighborsClassifier\n",
        "clf = KNeighborsClassifier()\n",
        "nonlr_clf_dict['KNeighbors Classifier'] = clf\n",
        "\n",
        "# 7\n",
        "from sklearn.svm import SVC\n",
        "clf = SVC(kernel='rbf',probability=True)   \n",
        "nonlr_clf_dict['SVM Classifier'] = clf"
      ],
      "execution_count": 23,
      "outputs": []
    },
    {
      "cell_type": "markdown",
      "metadata": {
        "id": "MJ2BSkIjgTHS"
      },
      "source": [
        "### Build models "
      ]
    },
    {
      "cell_type": "code",
      "metadata": {
        "colab": {
          "base_uri": "https://localhost:8080/",
          "height": 1000
        },
        "id": "Q3HkCZzVgTHS",
        "outputId": "99c2b0ff-0492-421d-9736-af6f30de5f13"
      },
      "source": [
        "from sklearn.model_selection import StratifiedKFold\n",
        "from sklearn.model_selection import cross_val_score\n",
        "from tabulate import tabulate\n",
        "import numpy as np\n",
        "\n",
        "folds = 5\n",
        "param_comb = 5\n",
        "skf = StratifiedKFold(n_splits=folds, shuffle = True, random_state = 10345)\n",
        "scoring_strings = ['accuracy', 'precision', 'recall', 'f1',\n",
        "                       'average_precision', 'roc_auc']\n",
        "trainPerformanceData = pd.DataFrame(columns = ['Algorithm','Scoring Name','CV mean', 'CV std']) \n",
        "testPerformanceData = pd.DataFrame(columns = ['Algorithm','Accuracy','AUC','Precision','Recall','F1'])\n",
        "# timing starts from this point for \"start_time\" variable\n",
        "#start_time = timer(None)\n",
        "for clf_name, clf in nonlr_clf_dict.items():\n",
        "    for scoring in scoring_strings:\n",
        "        scores = cross_val_score(clf, X_train, y_train, scoring=scoring, cv=skf,verbose=1, n_jobs=2)\n",
        "        print(\"---------------------------------------------------------------------\") \n",
        "        print(clf_name)\n",
        "        print(\"---------------------------------------------------------------------\") \n",
        "        print(\"Cross Validation scores on training data\")\n",
        "        print ('Scoring Name: CV mean: %.5f CV std: %.5f',scoring,np.mean(np.abs(scores)),np.std(scores))\n",
        "        print(\"\") \n",
        "        # append rows to an empty DataFrame \n",
        "        trainPerformanceData = trainPerformanceData.append({'Algorithm' : clf_name, 'Scoring Name' : scoring, 'CV mean' : np.mean(np.abs(scores)),'CV std' : np.std(scores)},  \n",
        "                ignore_index = True) \n",
        "        \n",
        "    clf.fit(X_train, y_train)\n",
        "    y_predicted_test  = clf.predict(X_test)\n",
        "    y_probabilities_test = clf.predict_proba(X_test)\n",
        "    y_probabilities_success = y_probabilities_test[:, 1]\n",
        "\n",
        "    from sklearn.metrics import average_precision_score\n",
        "    average_precision = average_precision_score(y_test, y_probabilities_success)\n",
        "    print('Average precision-recall score: {0:0.2f}'.format(average_precision))\n",
        "\n",
        "    false_positive_rate, true_positive_rate, threshold = roc_curve(y_test, y_probabilities_success)\n",
        "\n",
        "    mse        = mean_squared_error(y_test, y_predicted_test)\n",
        "    logloss    = log_loss(y_test, y_predicted_test)\n",
        "    accuracy   = accuracy_score(y_test, y_predicted_test)\n",
        "    precision  = precision_score(y_test, y_predicted_test, average='binary')\n",
        "    recall     = recall_score(y_test, y_predicted_test, average='binary')\n",
        "    F1         = f1_score(y_test, y_predicted_test)\n",
        "    r2         = r2_score(y_test, y_predicted_test)\n",
        "    auc        = roc_auc_score(y_test, y_predicted_test)\n",
        "    cm         = confusion_matrix(y_test, y_predicted_test)\n",
        "    #testPerformanceData = testPerformanceData.append({'Algorithm' : clf_name,'Accuracy' : accuracy,'Average_Precision':average_precision,'F1' : F1 ,'Precision' : precision,'Recall' : recall,'AUC' : auc},ignore_index = True)\n",
        "    Print_Model_Metrics(clf_name)\n",
        "    Plot_Confusion_Matrix(clf)\n",
        "    Plot_ROC_Precision_Recall(clf_name)\n",
        "    #auc = roc_auc_score(y_test, clf.predict_proba(X_test)[:, 1])\n",
        "    print(\"\")  \n",
        "    #print(\"AUC scores on testing data\")       \n",
        "    #print(clf_name, 'auc score:', auc)\n",
        "#timer(start_time)"
      ],
      "execution_count": 24,
      "outputs": [
        {
          "output_type": "stream",
          "name": "stderr",
          "text": [
            "[Parallel(n_jobs=2)]: Using backend LokyBackend with 2 concurrent workers.\n",
            "[Parallel(n_jobs=2)]: Done   5 out of   5 | elapsed:    1.4s finished\n",
            "[Parallel(n_jobs=2)]: Using backend LokyBackend with 2 concurrent workers.\n",
            "[Parallel(n_jobs=2)]: Done   5 out of   5 | elapsed:    0.1s finished\n",
            "[Parallel(n_jobs=2)]: Using backend LokyBackend with 2 concurrent workers.\n",
            "[Parallel(n_jobs=2)]: Done   5 out of   5 | elapsed:    0.0s finished\n",
            "[Parallel(n_jobs=2)]: Using backend LokyBackend with 2 concurrent workers.\n",
            "[Parallel(n_jobs=2)]: Done   5 out of   5 | elapsed:    0.0s finished\n",
            "[Parallel(n_jobs=2)]: Using backend LokyBackend with 2 concurrent workers.\n"
          ]
        },
        {
          "output_type": "stream",
          "name": "stdout",
          "text": [
            "---------------------------------------------------------------------\n",
            "Logistic Regression\n",
            "---------------------------------------------------------------------\n",
            "Cross Validation scores on training data\n",
            "Scoring Name: CV mean: %.5f CV std: %.5f accuracy 0.9723734177215189 0.012222566146985407\n",
            "\n",
            "---------------------------------------------------------------------\n",
            "Logistic Regression\n",
            "---------------------------------------------------------------------\n",
            "Cross Validation scores on training data\n",
            "Scoring Name: CV mean: %.5f CV std: %.5f precision 0.9804166666666667 0.01600781059358212\n",
            "\n",
            "---------------------------------------------------------------------\n",
            "Logistic Regression\n",
            "---------------------------------------------------------------------\n",
            "Cross Validation scores on training data\n",
            "Scoring Name: CV mean: %.5f CV std: %.5f recall 0.9475268817204302 0.04370091435653468\n",
            "\n",
            "---------------------------------------------------------------------\n",
            "Logistic Regression\n",
            "---------------------------------------------------------------------\n",
            "Cross Validation scores on training data\n",
            "Scoring Name: CV mean: %.5f CV std: %.5f f1 0.9628024083196497 0.01732728444679454\n",
            "\n"
          ]
        },
        {
          "output_type": "stream",
          "name": "stderr",
          "text": [
            "[Parallel(n_jobs=2)]: Done   5 out of   5 | elapsed:    0.1s finished\n",
            "[Parallel(n_jobs=2)]: Using backend LokyBackend with 2 concurrent workers.\n",
            "[Parallel(n_jobs=2)]: Done   5 out of   5 | elapsed:    0.0s finished\n"
          ]
        },
        {
          "output_type": "stream",
          "name": "stdout",
          "text": [
            "---------------------------------------------------------------------\n",
            "Logistic Regression\n",
            "---------------------------------------------------------------------\n",
            "Cross Validation scores on training data\n",
            "Scoring Name: CV mean: %.5f CV std: %.5f average_precision 0.994017665645935 0.005364974553079667\n",
            "\n",
            "---------------------------------------------------------------------\n",
            "Logistic Regression\n",
            "---------------------------------------------------------------------\n",
            "Cross Validation scores on training data\n",
            "Scoring Name: CV mean: %.5f CV std: %.5f roc_auc 0.994294930875576 0.006767943324947326\n",
            "\n",
            "Average precision-recall score: 0.99\n",
            "╒════════════════════════╤═══════════════════════╕\n",
            "│ Metric                 │   Testing Performance │\n",
            "╞════════════════════════╪═══════════════════════╡\n",
            "│ accuracy               │             0.959064  │\n",
            "├────────────────────────┼───────────────────────┤\n",
            "│ precision              │             0.964912  │\n",
            "├────────────────────────┼───────────────────────┤\n",
            "│ recall                 │             0.916667  │\n",
            "├────────────────────────┼───────────────────────┤\n",
            "│ misclassification rate │             0.0409357 │\n",
            "├────────────────────────┼───────────────────────┤\n",
            "│ F1                     │             0.940171  │\n",
            "├────────────────────────┼───────────────────────┤\n",
            "│ r2                     │             0.82027   │\n",
            "├────────────────────────┼───────────────────────┤\n",
            "│ AUC                    │             0.949324  │\n",
            "├────────────────────────┼───────────────────────┤\n",
            "│ mse                    │             0.0409357 │\n",
            "├────────────────────────┼───────────────────────┤\n",
            "│ logloss                │             1.41388   │\n",
            "╘════════════════════════╧═══════════════════════╛\n",
            "\n",
            "Classification report:\n",
            "               precision    recall  f1-score   support\n",
            "\n",
            "           0       0.96      0.98      0.97       111\n",
            "           1       0.96      0.92      0.94        60\n",
            "\n",
            "    accuracy                           0.96       171\n",
            "   macro avg       0.96      0.95      0.95       171\n",
            "weighted avg       0.96      0.96      0.96       171\n",
            "\n",
            "\n",
            "Correct classifications on test data: 164/171   95.906%\n"
          ]
        },
        {
          "output_type": "display_data",
          "data": {
            "image/png": "[encoded data removed]",
            "text/plain": [
              "<Figure size 432x288 with 2 Axes>"
            ]
          },
          "metadata": {
            "needs_background": "light"
          }
        },
        {
          "output_type": "display_data",
          "data": {
            "image/png": "[encoded data removed]",
            "text/plain": [
              "<Figure size 720x360 with 2 Axes>"
            ]
          },
          "metadata": {
            "needs_background": "light"
          }
        },
        {
          "output_type": "stream",
          "name": "stdout",
          "text": [
            "\n"
          ]
        },
        {
          "output_type": "stream",
          "name": "stderr",
          "text": [
            "[Parallel(n_jobs=2)]: Using backend LokyBackend with 2 concurrent workers.\n",
            "[Parallel(n_jobs=2)]: Done   5 out of   5 | elapsed:    0.8s finished\n",
            "[Parallel(n_jobs=2)]: Using backend LokyBackend with 2 concurrent workers.\n"
          ]
        },
        {
          "output_type": "stream",
          "name": "stdout",
          "text": [
            "---------------------------------------------------------------------\n",
            "Random Forest Classifier\n",
            "---------------------------------------------------------------------\n",
            "Cross Validation scores on training data\n",
            "Scoring Name: CV mean: %.5f CV std: %.5f accuracy 0.954873417721519 0.03581146106305352\n",
            "\n"
          ]
        },
        {
          "output_type": "stream",
          "name": "stderr",
          "text": [
            "[Parallel(n_jobs=2)]: Done   5 out of   5 | elapsed:    0.8s finished\n",
            "[Parallel(n_jobs=2)]: Using backend LokyBackend with 2 concurrent workers.\n"
          ]
        },
        {
          "output_type": "stream",
          "name": "stdout",
          "text": [
            "---------------------------------------------------------------------\n",
            "Random Forest Classifier\n",
            "---------------------------------------------------------------------\n",
            "Cross Validation scores on training data\n",
            "Scoring Name: CV mean: %.5f CV std: %.5f precision 0.9378852319570765 0.06351922511499074\n",
            "\n"
          ]
        },
        {
          "output_type": "stream",
          "name": "stderr",
          "text": [
            "[Parallel(n_jobs=2)]: Done   5 out of   5 | elapsed:    0.8s finished\n",
            "[Parallel(n_jobs=2)]: Using backend LokyBackend with 2 concurrent workers.\n"
          ]
        },
        {
          "output_type": "stream",
          "name": "stdout",
          "text": [
            "---------------------------------------------------------------------\n",
            "Random Forest Classifier\n",
            "---------------------------------------------------------------------\n",
            "Cross Validation scores on training data\n",
            "Scoring Name: CV mean: %.5f CV std: %.5f recall 0.9341935483870968 0.02110815954441614\n",
            "\n"
          ]
        },
        {
          "output_type": "stream",
          "name": "stderr",
          "text": [
            "[Parallel(n_jobs=2)]: Done   5 out of   5 | elapsed:    0.8s finished\n",
            "[Parallel(n_jobs=2)]: Using backend LokyBackend with 2 concurrent workers.\n"
          ]
        },
        {
          "output_type": "stream",
          "name": "stdout",
          "text": [
            "---------------------------------------------------------------------\n",
            "Random Forest Classifier\n",
            "---------------------------------------------------------------------\n",
            "Cross Validation scores on training data\n",
            "Scoring Name: CV mean: %.5f CV std: %.5f f1 0.9386688118740126 0.04129765067451474\n",
            "\n"
          ]
        },
        {
          "output_type": "stream",
          "name": "stderr",
          "text": [
            "[Parallel(n_jobs=2)]: Done   5 out of   5 | elapsed:    0.8s finished\n",
            "[Parallel(n_jobs=2)]: Using backend LokyBackend with 2 concurrent workers.\n"
          ]
        },
        {
          "output_type": "stream",
          "name": "stdout",
          "text": [
            "---------------------------------------------------------------------\n",
            "Random Forest Classifier\n",
            "---------------------------------------------------------------------\n",
            "Cross Validation scores on training data\n",
            "Scoring Name: CV mean: %.5f CV std: %.5f average_precision 0.9893920894200339 0.008809638674802365\n",
            "\n"
          ]
        },
        {
          "output_type": "stream",
          "name": "stderr",
          "text": [
            "[Parallel(n_jobs=2)]: Done   5 out of   5 | elapsed:    0.8s finished\n"
          ]
        },
        {
          "output_type": "stream",
          "name": "stdout",
          "text": [
            "---------------------------------------------------------------------\n",
            "Random Forest Classifier\n",
            "---------------------------------------------------------------------\n",
            "Cross Validation scores on training data\n",
            "Scoring Name: CV mean: %.5f CV std: %.5f roc_auc 0.9919457098968619 0.006909141352227767\n",
            "\n",
            "Average precision-recall score: 0.97\n",
            "╒════════════════════════╤═══════════════════════╕\n",
            "│ Metric                 │   Testing Performance │\n",
            "╞════════════════════════╪═══════════════════════╡\n",
            "│ accuracy               │             0.935673  │\n",
            "├────────────────────────┼───────────────────────┤\n",
            "│ precision              │             0.915254  │\n",
            "├────────────────────────┼───────────────────────┤\n",
            "│ recall                 │             0.9       │\n",
            "├────────────────────────┼───────────────────────┤\n",
            "│ misclassification rate │             0.0643275 │\n",
            "├────────────────────────┼───────────────────────┤\n",
            "│ F1                     │             0.907563  │\n",
            "├────────────────────────┼───────────────────────┤\n",
            "│ r2                     │             0.717568  │\n",
            "├────────────────────────┼───────────────────────┤\n",
            "│ AUC                    │             0.927477  │\n",
            "├────────────────────────┼───────────────────────┤\n",
            "│ mse                    │             0.0643275 │\n",
            "├────────────────────────┼───────────────────────┤\n",
            "│ logloss                │             2.22182   │\n",
            "╘════════════════════════╧═══════════════════════╛\n",
            "\n",
            "Classification report:\n",
            "               precision    recall  f1-score   support\n",
            "\n",
            "           0       0.95      0.95      0.95       111\n",
            "           1       0.92      0.90      0.91        60\n",
            "\n",
            "    accuracy                           0.94       171\n",
            "   macro avg       0.93      0.93      0.93       171\n",
            "weighted avg       0.94      0.94      0.94       171\n",
            "\n",
            "\n",
            "Correct classifications on test data: 160/171   93.567%\n"
          ]
        },
        {
          "output_type": "display_data",
          "data": {
            "image/png": "[encoded data removed]",
            "text/plain": [
              "<Figure size 432x288 with 2 Axes>"
            ]
          },
          "metadata": {
            "needs_background": "light"
          }
        },
        {
          "output_type": "display_data",
          "data": {
            "image/png": "[encoded data removed]",
            "text/plain": [
              "<Figure size 720x360 with 2 Axes>"
            ]
          },
          "metadata": {
            "needs_background": "light"
          }
        },
        {
          "output_type": "stream",
          "name": "stdout",
          "text": [
            "\n"
          ]
        },
        {
          "output_type": "stream",
          "name": "stderr",
          "text": [
            "[Parallel(n_jobs=2)]: Using backend LokyBackend with 2 concurrent workers.\n",
            "[Parallel(n_jobs=2)]: Done   5 out of   5 | elapsed:    0.8s finished\n",
            "[Parallel(n_jobs=2)]: Using backend LokyBackend with 2 concurrent workers.\n"
          ]
        },
        {
          "output_type": "stream",
          "name": "stdout",
          "text": [
            "---------------------------------------------------------------------\n",
            "Gradient Boosting Classifier\n",
            "---------------------------------------------------------------------\n",
            "Cross Validation scores on training data\n",
            "Scoring Name: CV mean: %.5f CV std: %.5f accuracy 0.9522784810126582 0.024213844940715462\n",
            "\n"
          ]
        },
        {
          "output_type": "stream",
          "name": "stderr",
          "text": [
            "[Parallel(n_jobs=2)]: Done   5 out of   5 | elapsed:    0.8s finished\n",
            "[Parallel(n_jobs=2)]: Using backend LokyBackend with 2 concurrent workers.\n"
          ]
        },
        {
          "output_type": "stream",
          "name": "stdout",
          "text": [
            "---------------------------------------------------------------------\n",
            "Gradient Boosting Classifier\n",
            "---------------------------------------------------------------------\n",
            "Cross Validation scores on training data\n",
            "Scoring Name: CV mean: %.5f CV std: %.5f precision 0.9376389265383572 0.04854266613219397\n",
            "\n"
          ]
        },
        {
          "output_type": "stream",
          "name": "stderr",
          "text": [
            "[Parallel(n_jobs=2)]: Done   5 out of   5 | elapsed:    0.8s finished\n",
            "[Parallel(n_jobs=2)]: Using backend LokyBackend with 2 concurrent workers.\n"
          ]
        },
        {
          "output_type": "stream",
          "name": "stdout",
          "text": [
            "---------------------------------------------------------------------\n",
            "Gradient Boosting Classifier\n",
            "---------------------------------------------------------------------\n",
            "Cross Validation scores on training data\n",
            "Scoring Name: CV mean: %.5f CV std: %.5f recall 0.9473118279569892 0.02662674778370967\n",
            "\n"
          ]
        },
        {
          "output_type": "stream",
          "name": "stderr",
          "text": [
            "[Parallel(n_jobs=2)]: Done   5 out of   5 | elapsed:    0.8s finished\n",
            "[Parallel(n_jobs=2)]: Using backend LokyBackend with 2 concurrent workers.\n"
          ]
        },
        {
          "output_type": "stream",
          "name": "stdout",
          "text": [
            "---------------------------------------------------------------------\n",
            "Gradient Boosting Classifier\n",
            "---------------------------------------------------------------------\n",
            "Cross Validation scores on training data\n",
            "Scoring Name: CV mean: %.5f CV std: %.5f f1 0.9417176153411313 0.029919385543328667\n",
            "\n"
          ]
        },
        {
          "output_type": "stream",
          "name": "stderr",
          "text": [
            "[Parallel(n_jobs=2)]: Done   5 out of   5 | elapsed:    0.8s finished\n",
            "[Parallel(n_jobs=2)]: Using backend LokyBackend with 2 concurrent workers.\n"
          ]
        },
        {
          "output_type": "stream",
          "name": "stdout",
          "text": [
            "---------------------------------------------------------------------\n",
            "Gradient Boosting Classifier\n",
            "---------------------------------------------------------------------\n",
            "Cross Validation scores on training data\n",
            "Scoring Name: CV mean: %.5f CV std: %.5f average_precision 0.9869163078420151 0.013823621170510622\n",
            "\n"
          ]
        },
        {
          "output_type": "stream",
          "name": "stderr",
          "text": [
            "[Parallel(n_jobs=2)]: Done   5 out of   5 | elapsed:    0.8s finished\n"
          ]
        },
        {
          "output_type": "stream",
          "name": "stdout",
          "text": [
            "---------------------------------------------------------------------\n",
            "Gradient Boosting Classifier\n",
            "---------------------------------------------------------------------\n",
            "Cross Validation scores on training data\n",
            "Scoring Name: CV mean: %.5f CV std: %.5f roc_auc 0.9918940531051129 0.008365514774367729\n",
            "\n",
            "Average precision-recall score: 0.97\n",
            "╒════════════════════════╤═══════════════════════╕\n",
            "│ Metric                 │   Testing Performance │\n",
            "╞════════════════════════╪═══════════════════════╡\n",
            "│ accuracy               │             0.912281  │\n",
            "├────────────────────────┼───────────────────────┤\n",
            "│ precision              │             0.881356  │\n",
            "├────────────────────────┼───────────────────────┤\n",
            "│ recall                 │             0.866667  │\n",
            "├────────────────────────┼───────────────────────┤\n",
            "│ misclassification rate │             0.0877193 │\n",
            "├────────────────────────┼───────────────────────┤\n",
            "│ F1                     │             0.87395   │\n",
            "├────────────────────────┼───────────────────────┤\n",
            "│ r2                     │             0.614865  │\n",
            "├────────────────────────┼───────────────────────┤\n",
            "│ AUC                    │             0.901802  │\n",
            "├────────────────────────┼───────────────────────┤\n",
            "│ mse                    │             0.0877193 │\n",
            "├────────────────────────┼───────────────────────┤\n",
            "│ logloss                │             3.02975   │\n",
            "╘════════════════════════╧═══════════════════════╛\n",
            "\n",
            "Classification report:\n",
            "               precision    recall  f1-score   support\n",
            "\n",
            "           0       0.93      0.94      0.93       111\n",
            "           1       0.88      0.87      0.87        60\n",
            "\n",
            "    accuracy                           0.91       171\n",
            "   macro avg       0.90      0.90      0.90       171\n",
            "weighted avg       0.91      0.91      0.91       171\n",
            "\n",
            "\n",
            "Correct classifications on test data: 156/171   91.228%\n"
          ]
        },
        {
          "output_type": "display_data",
          "data": {
            "image/png": "[encoded data removed]",
            "text/plain": [
              "<Figure size 432x288 with 2 Axes>"
            ]
          },
          "metadata": {
            "needs_background": "light"
          }
        },
        {
          "output_type": "display_data",
          "data": {
            "image/png": "[encoded data removed]",
            "text/plain": [
              "<Figure size 720x360 with 2 Axes>"
            ]
          },
          "metadata": {
            "needs_background": "light"
          }
        },
        {
          "output_type": "stream",
          "name": "stdout",
          "text": [
            "\n"
          ]
        },
        {
          "output_type": "stream",
          "name": "stderr",
          "text": [
            "[Parallel(n_jobs=2)]: Using backend LokyBackend with 2 concurrent workers.\n",
            "[Parallel(n_jobs=2)]: Done   5 out of   5 | elapsed:    0.5s finished\n",
            "[Parallel(n_jobs=2)]: Using backend LokyBackend with 2 concurrent workers.\n"
          ]
        },
        {
          "output_type": "stream",
          "name": "stdout",
          "text": [
            "---------------------------------------------------------------------\n",
            "Extra Trees Classifier\n",
            "---------------------------------------------------------------------\n",
            "Cross Validation scores on training data\n",
            "Scoring Name: CV mean: %.5f CV std: %.5f accuracy 0.957373417721519 0.03115435210148018\n",
            "\n"
          ]
        },
        {
          "output_type": "stream",
          "name": "stderr",
          "text": [
            "[Parallel(n_jobs=2)]: Done   5 out of   5 | elapsed:    0.5s finished\n",
            "[Parallel(n_jobs=2)]: Using backend LokyBackend with 2 concurrent workers.\n"
          ]
        },
        {
          "output_type": "stream",
          "name": "stdout",
          "text": [
            "---------------------------------------------------------------------\n",
            "Extra Trees Classifier\n",
            "---------------------------------------------------------------------\n",
            "Cross Validation scores on training data\n",
            "Scoring Name: CV mean: %.5f CV std: %.5f precision 0.9280491551459293 0.0836266141044373\n",
            "\n"
          ]
        },
        {
          "output_type": "stream",
          "name": "stderr",
          "text": [
            "[Parallel(n_jobs=2)]: Done   5 out of   5 | elapsed:    0.5s finished\n",
            "[Parallel(n_jobs=2)]: Using backend LokyBackend with 2 concurrent workers.\n"
          ]
        },
        {
          "output_type": "stream",
          "name": "stdout",
          "text": [
            "---------------------------------------------------------------------\n",
            "Extra Trees Classifier\n",
            "---------------------------------------------------------------------\n",
            "Cross Validation scores on training data\n",
            "Scoring Name: CV mean: %.5f CV std: %.5f recall 0.9344086021505376 0.035153233104004394\n",
            "\n"
          ]
        },
        {
          "output_type": "stream",
          "name": "stderr",
          "text": [
            "[Parallel(n_jobs=2)]: Done   5 out of   5 | elapsed:    0.5s finished\n",
            "[Parallel(n_jobs=2)]: Using backend LokyBackend with 2 concurrent workers.\n"
          ]
        },
        {
          "output_type": "stream",
          "name": "stdout",
          "text": [
            "---------------------------------------------------------------------\n",
            "Extra Trees Classifier\n",
            "---------------------------------------------------------------------\n",
            "Cross Validation scores on training data\n",
            "Scoring Name: CV mean: %.5f CV std: %.5f f1 0.9382694266925998 0.03886408783117132\n",
            "\n"
          ]
        },
        {
          "output_type": "stream",
          "name": "stderr",
          "text": [
            "[Parallel(n_jobs=2)]: Done   5 out of   5 | elapsed:    0.5s finished\n",
            "[Parallel(n_jobs=2)]: Using backend LokyBackend with 2 concurrent workers.\n"
          ]
        },
        {
          "output_type": "stream",
          "name": "stdout",
          "text": [
            "---------------------------------------------------------------------\n",
            "Extra Trees Classifier\n",
            "---------------------------------------------------------------------\n",
            "Cross Validation scores on training data\n",
            "Scoring Name: CV mean: %.5f CV std: %.5f average_precision 0.9875862834709459 0.010248997895086853\n",
            "\n"
          ]
        },
        {
          "output_type": "stream",
          "name": "stderr",
          "text": [
            "[Parallel(n_jobs=2)]: Done   5 out of   5 | elapsed:    0.5s finished\n"
          ]
        },
        {
          "output_type": "stream",
          "name": "stdout",
          "text": [
            "---------------------------------------------------------------------\n",
            "Extra Trees Classifier\n",
            "---------------------------------------------------------------------\n",
            "Cross Validation scores on training data\n",
            "Scoring Name: CV mean: %.5f CV std: %.5f roc_auc 0.9926615755979812 0.005664453796009661\n",
            "\n",
            "Average precision-recall score: 0.98\n",
            "╒════════════════════════╤═══════════════════════╕\n",
            "│ Metric                 │   Testing Performance │\n",
            "╞════════════════════════╪═══════════════════════╡\n",
            "│ accuracy               │             0.959064  │\n",
            "├────────────────────────┼───────────────────────┤\n",
            "│ precision              │             0.964912  │\n",
            "├────────────────────────┼───────────────────────┤\n",
            "│ recall                 │             0.916667  │\n",
            "├────────────────────────┼───────────────────────┤\n",
            "│ misclassification rate │             0.0409357 │\n",
            "├────────────────────────┼───────────────────────┤\n",
            "│ F1                     │             0.940171  │\n",
            "├────────────────────────┼───────────────────────┤\n",
            "│ r2                     │             0.82027   │\n",
            "├────────────────────────┼───────────────────────┤\n",
            "│ AUC                    │             0.949324  │\n",
            "├────────────────────────┼───────────────────────┤\n",
            "│ mse                    │             0.0409357 │\n",
            "├────────────────────────┼───────────────────────┤\n",
            "│ logloss                │             1.41388   │\n",
            "╘════════════════════════╧═══════════════════════╛\n",
            "\n",
            "Classification report:\n",
            "               precision    recall  f1-score   support\n",
            "\n",
            "           0       0.96      0.98      0.97       111\n",
            "           1       0.96      0.92      0.94        60\n",
            "\n",
            "    accuracy                           0.96       171\n",
            "   macro avg       0.96      0.95      0.95       171\n",
            "weighted avg       0.96      0.96      0.96       171\n",
            "\n",
            "\n",
            "Correct classifications on test data: 164/171   95.906%\n"
          ]
        },
        {
          "output_type": "display_data",
          "data": {
            "image/png": "[encoded data removed]",
            "text/plain": [
              "<Figure size 432x288 with 2 Axes>"
            ]
          },
          "metadata": {
            "needs_background": "light"
          }
        },
        {
          "output_type": "display_data",
          "data": {
            "image/png": "[encoded data removed]",
            "text/plain": [
              "<Figure size 720x360 with 2 Axes>"
            ]
          },
          "metadata": {
            "needs_background": "light"
          }
        },
        {
          "output_type": "stream",
          "name": "stdout",
          "text": [
            "\n"
          ]
        },
        {
          "output_type": "stream",
          "name": "stderr",
          "text": [
            "[Parallel(n_jobs=2)]: Using backend LokyBackend with 2 concurrent workers.\n",
            "[Parallel(n_jobs=2)]: Done   5 out of   5 | elapsed:    0.4s finished\n",
            "[Parallel(n_jobs=2)]: Using backend LokyBackend with 2 concurrent workers.\n"
          ]
        },
        {
          "output_type": "stream",
          "name": "stdout",
          "text": [
            "---------------------------------------------------------------------\n",
            "XGB Classifier\n",
            "---------------------------------------------------------------------\n",
            "Cross Validation scores on training data\n",
            "Scoring Name: CV mean: %.5f CV std: %.5f accuracy 0.9548101265822784 0.036704304605949346\n",
            "\n"
          ]
        },
        {
          "output_type": "stream",
          "name": "stderr",
          "text": [
            "[Parallel(n_jobs=2)]: Done   5 out of   5 | elapsed:    0.2s finished\n",
            "[Parallel(n_jobs=2)]: Using backend LokyBackend with 2 concurrent workers.\n"
          ]
        },
        {
          "output_type": "stream",
          "name": "stdout",
          "text": [
            "---------------------------------------------------------------------\n",
            "XGB Classifier\n",
            "---------------------------------------------------------------------\n",
            "Cross Validation scores on training data\n",
            "Scoring Name: CV mean: %.5f CV std: %.5f precision 0.9320028790159001 0.05922423263189786\n",
            "\n"
          ]
        },
        {
          "output_type": "stream",
          "name": "stderr",
          "text": [
            "[Parallel(n_jobs=2)]: Done   5 out of   5 | elapsed:    0.2s finished\n",
            "[Parallel(n_jobs=2)]: Using backend LokyBackend with 2 concurrent workers.\n"
          ]
        },
        {
          "output_type": "stream",
          "name": "stdout",
          "text": [
            "---------------------------------------------------------------------\n",
            "XGB Classifier\n",
            "---------------------------------------------------------------------\n",
            "Cross Validation scores on training data\n",
            "Scoring Name: CV mean: %.5f CV std: %.5f recall 0.953978494623656 0.03299095760381326\n",
            "\n"
          ]
        },
        {
          "output_type": "stream",
          "name": "stderr",
          "text": [
            "[Parallel(n_jobs=2)]: Done   5 out of   5 | elapsed:    0.2s finished\n",
            "[Parallel(n_jobs=2)]: Using backend LokyBackend with 2 concurrent workers.\n"
          ]
        },
        {
          "output_type": "stream",
          "name": "stdout",
          "text": [
            "---------------------------------------------------------------------\n",
            "XGB Classifier\n",
            "---------------------------------------------------------------------\n",
            "Cross Validation scores on training data\n",
            "Scoring Name: CV mean: %.5f CV std: %.5f f1 0.9424660696347276 0.044818980716819744\n",
            "\n"
          ]
        },
        {
          "output_type": "stream",
          "name": "stderr",
          "text": [
            "[Parallel(n_jobs=2)]: Done   5 out of   5 | elapsed:    0.2s finished\n",
            "[Parallel(n_jobs=2)]: Using backend LokyBackend with 2 concurrent workers.\n"
          ]
        },
        {
          "output_type": "stream",
          "name": "stdout",
          "text": [
            "---------------------------------------------------------------------\n",
            "XGB Classifier\n",
            "---------------------------------------------------------------------\n",
            "Cross Validation scores on training data\n",
            "Scoring Name: CV mean: %.5f CV std: %.5f average_precision 0.9863025553281487 0.010567948212371874\n",
            "\n"
          ]
        },
        {
          "output_type": "stream",
          "name": "stderr",
          "text": [
            "[Parallel(n_jobs=2)]: Done   5 out of   5 | elapsed:    0.2s finished\n"
          ]
        },
        {
          "output_type": "stream",
          "name": "stdout",
          "text": [
            "---------------------------------------------------------------------\n",
            "XGB Classifier\n",
            "---------------------------------------------------------------------\n",
            "Cross Validation scores on training data\n",
            "Scoring Name: CV mean: %.5f CV std: %.5f roc_auc 0.9898674566600836 0.00832131695181983\n",
            "\n",
            "Average precision-recall score: 0.98\n",
            "╒════════════════════════╤═══════════════════════╕\n",
            "│ Metric                 │   Testing Performance │\n",
            "╞════════════════════════╪═══════════════════════╡\n",
            "│ accuracy               │             0.964912  │\n",
            "├────────────────────────┼───────────────────────┤\n",
            "│ precision              │             0.95      │\n",
            "├────────────────────────┼───────────────────────┤\n",
            "│ recall                 │             0.95      │\n",
            "├────────────────────────┼───────────────────────┤\n",
            "│ misclassification rate │             0.0350877 │\n",
            "├────────────────────────┼───────────────────────┤\n",
            "│ F1                     │             0.95      │\n",
            "├────────────────────────┼───────────────────────┤\n",
            "│ r2                     │             0.845946  │\n",
            "├────────────────────────┼───────────────────────┤\n",
            "│ AUC                    │             0.961486  │\n",
            "├────────────────────────┼───────────────────────┤\n",
            "│ mse                    │             0.0350877 │\n",
            "├────────────────────────┼───────────────────────┤\n",
            "│ logloss                │             1.2119    │\n",
            "╘════════════════════════╧═══════════════════════╛\n",
            "\n",
            "Classification report:\n",
            "               precision    recall  f1-score   support\n",
            "\n",
            "           0       0.97      0.97      0.97       111\n",
            "           1       0.95      0.95      0.95        60\n",
            "\n",
            "    accuracy                           0.96       171\n",
            "   macro avg       0.96      0.96      0.96       171\n",
            "weighted avg       0.96      0.96      0.96       171\n",
            "\n",
            "\n",
            "Correct classifications on test data: 165/171   96.491%\n"
          ]
        },
        {
          "output_type": "display_data",
          "data": {
            "image/png": "[encoded data removed]",
            "text/plain": [
              "<Figure size 432x288 with 2 Axes>"
            ]
          },
          "metadata": {
            "needs_background": "light"
          }
        },
        {
          "output_type": "display_data",
          "data": {
            "image/png": "[encoded data removed]",
            "text/plain": [
              "<Figure size 720x360 with 2 Axes>"
            ]
          },
          "metadata": {
            "needs_background": "light"
          }
        },
        {
          "output_type": "stream",
          "name": "stdout",
          "text": [
            "\n",
            "---------------------------------------------------------------------\n",
            "KNeighbors Classifier\n",
            "---------------------------------------------------------------------\n",
            "Cross Validation scores on training data\n",
            "Scoring Name: CV mean: %.5f CV std: %.5f accuracy 0.9498101265822785 0.030567949478675804\n",
            "\n",
            "---------------------------------------------------------------------\n",
            "KNeighbors Classifier\n",
            "---------------------------------------------------------------------\n",
            "Cross Validation scores on training data\n",
            "Scoring Name: CV mean: %.5f CV std: %.5f precision 0.941650444938821 0.051324995490328144\n",
            "\n",
            "---------------------------------------------------------------------\n",
            "KNeighbors Classifier\n",
            "---------------------------------------------------------------------\n",
            "Cross Validation scores on training data\n",
            "Scoring Name: CV mean: %.5f CV std: %.5f recall 0.927741935483871 0.0377870942651717\n",
            "\n",
            "---------------------------------------------------------------------\n",
            "KNeighbors Classifier\n",
            "---------------------------------------------------------------------\n",
            "Cross Validation scores on training data\n",
            "Scoring Name: CV mean: %.5f CV std: %.5f f1 0.9341659297895442 0.03944789075451078\n",
            "\n"
          ]
        },
        {
          "output_type": "stream",
          "name": "stderr",
          "text": [
            "[Parallel(n_jobs=2)]: Using backend LokyBackend with 2 concurrent workers.\n",
            "[Parallel(n_jobs=2)]: Done   5 out of   5 | elapsed:    0.0s finished\n",
            "[Parallel(n_jobs=2)]: Using backend LokyBackend with 2 concurrent workers.\n",
            "[Parallel(n_jobs=2)]: Done   5 out of   5 | elapsed:    0.0s finished\n",
            "[Parallel(n_jobs=2)]: Using backend LokyBackend with 2 concurrent workers.\n",
            "[Parallel(n_jobs=2)]: Done   5 out of   5 | elapsed:    0.0s finished\n",
            "[Parallel(n_jobs=2)]: Using backend LokyBackend with 2 concurrent workers.\n",
            "[Parallel(n_jobs=2)]: Done   5 out of   5 | elapsed:    0.0s finished\n",
            "[Parallel(n_jobs=2)]: Using backend LokyBackend with 2 concurrent workers.\n",
            "[Parallel(n_jobs=2)]: Done   5 out of   5 | elapsed:    0.0s finished\n",
            "[Parallel(n_jobs=2)]: Using backend LokyBackend with 2 concurrent workers.\n",
            "[Parallel(n_jobs=2)]: Done   5 out of   5 | elapsed:    0.0s finished\n"
          ]
        },
        {
          "output_type": "stream",
          "name": "stdout",
          "text": [
            "---------------------------------------------------------------------\n",
            "KNeighbors Classifier\n",
            "---------------------------------------------------------------------\n",
            "Cross Validation scores on training data\n",
            "Scoring Name: CV mean: %.5f CV std: %.5f average_precision 0.9711501944648664 0.02692523267984865\n",
            "\n",
            "---------------------------------------------------------------------\n",
            "KNeighbors Classifier\n",
            "---------------------------------------------------------------------\n",
            "Cross Validation scores on training data\n",
            "Scoring Name: CV mean: %.5f CV std: %.5f roc_auc 0.9786375246872943 0.0196058739758022\n",
            "\n",
            "Average precision-recall score: 0.97\n",
            "╒════════════════════════╤═══════════════════════╕\n",
            "│ Metric                 │   Testing Performance │\n",
            "╞════════════════════════╪═══════════════════════╡\n",
            "│ accuracy               │             0.947368  │\n",
            "├────────────────────────┼───────────────────────┤\n",
            "│ precision              │             0.963636  │\n",
            "├────────────────────────┼───────────────────────┤\n",
            "│ recall                 │             0.883333  │\n",
            "├────────────────────────┼───────────────────────┤\n",
            "│ misclassification rate │             0.0526316 │\n",
            "├────────────────────────┼───────────────────────┤\n",
            "│ F1                     │             0.921739  │\n",
            "├────────────────────────┼───────────────────────┤\n",
            "│ r2                     │             0.768919  │\n",
            "├────────────────────────┼───────────────────────┤\n",
            "│ AUC                    │             0.932658  │\n",
            "├────────────────────────┼───────────────────────┤\n",
            "│ mse                    │             0.0526316 │\n",
            "├────────────────────────┼───────────────────────┤\n",
            "│ logloss                │             1.81784   │\n",
            "╘════════════════════════╧═══════════════════════╛\n",
            "\n",
            "Classification report:\n",
            "               precision    recall  f1-score   support\n",
            "\n",
            "           0       0.94      0.98      0.96       111\n",
            "           1       0.96      0.88      0.92        60\n",
            "\n",
            "    accuracy                           0.95       171\n",
            "   macro avg       0.95      0.93      0.94       171\n",
            "weighted avg       0.95      0.95      0.95       171\n",
            "\n",
            "\n",
            "Correct classifications on test data: 162/171   94.737%\n"
          ]
        },
        {
          "output_type": "display_data",
          "data": {
            "image/png": "[encoded data removed]",
            "text/plain": [
              "<Figure size 432x288 with 2 Axes>"
            ]
          },
          "metadata": {
            "needs_background": "light"
          }
        },
        {
          "output_type": "display_data",
          "data": {
            "image/png": "[encoded data removed]",
            "text/plain": [
              "<Figure size 720x360 with 2 Axes>"
            ]
          },
          "metadata": {
            "needs_background": "light"
          }
        },
        {
          "output_type": "stream",
          "name": "stdout",
          "text": [
            "\n",
            "---------------------------------------------------------------------\n",
            "SVM Classifier\n",
            "---------------------------------------------------------------------\n",
            "Cross Validation scores on training data\n",
            "Scoring Name: CV mean: %.5f CV std: %.5f accuracy 0.959873417721519 0.024160433900396072\n",
            "\n",
            "---------------------------------------------------------------------\n",
            "SVM Classifier\n",
            "---------------------------------------------------------------------\n",
            "Cross Validation scores on training data\n",
            "Scoring Name: CV mean: %.5f CV std: %.5f precision 0.9489784946236559 0.042244655729223986\n",
            "\n"
          ]
        },
        {
          "output_type": "stream",
          "name": "stderr",
          "text": [
            "[Parallel(n_jobs=2)]: Using backend LokyBackend with 2 concurrent workers.\n",
            "[Parallel(n_jobs=2)]: Done   5 out of   5 | elapsed:    0.1s finished\n",
            "[Parallel(n_jobs=2)]: Using backend LokyBackend with 2 concurrent workers.\n",
            "[Parallel(n_jobs=2)]: Done   5 out of   5 | elapsed:    0.1s finished\n",
            "[Parallel(n_jobs=2)]: Using backend LokyBackend with 2 concurrent workers.\n",
            "[Parallel(n_jobs=2)]: Done   5 out of   5 | elapsed:    0.1s finished\n",
            "[Parallel(n_jobs=2)]: Using backend LokyBackend with 2 concurrent workers.\n",
            "[Parallel(n_jobs=2)]: Done   5 out of   5 | elapsed:    0.1s finished\n",
            "[Parallel(n_jobs=2)]: Using backend LokyBackend with 2 concurrent workers.\n",
            "[Parallel(n_jobs=2)]: Done   5 out of   5 | elapsed:    0.1s finished\n",
            "[Parallel(n_jobs=2)]: Using backend LokyBackend with 2 concurrent workers.\n"
          ]
        },
        {
          "output_type": "stream",
          "name": "stdout",
          "text": [
            "---------------------------------------------------------------------\n",
            "SVM Classifier\n",
            "---------------------------------------------------------------------\n",
            "Cross Validation scores on training data\n",
            "Scoring Name: CV mean: %.5f CV std: %.5f recall 0.9475268817204302 0.025711294094329207\n",
            "\n",
            "---------------------------------------------------------------------\n",
            "SVM Classifier\n",
            "---------------------------------------------------------------------\n",
            "Cross Validation scores on training data\n",
            "Scoring Name: CV mean: %.5f CV std: %.5f f1 0.947926880909977 0.03015655644249013\n",
            "\n",
            "---------------------------------------------------------------------\n",
            "SVM Classifier\n",
            "---------------------------------------------------------------------\n",
            "Cross Validation scores on training data\n",
            "Scoring Name: CV mean: %.5f CV std: %.5f average_precision 0.9883307394102978 0.011410453169872069\n",
            "\n"
          ]
        },
        {
          "output_type": "stream",
          "name": "stderr",
          "text": [
            "[Parallel(n_jobs=2)]: Done   5 out of   5 | elapsed:    0.1s finished\n"
          ]
        },
        {
          "output_type": "stream",
          "name": "stdout",
          "text": [
            "---------------------------------------------------------------------\n",
            "SVM Classifier\n",
            "---------------------------------------------------------------------\n",
            "Cross Validation scores on training data\n",
            "Scoring Name: CV mean: %.5f CV std: %.5f roc_auc 0.9897637919684004 0.010723910678778604\n",
            "\n",
            "Average precision-recall score: 0.98\n",
            "╒════════════════════════╤═══════════════════════╕\n",
            "│ Metric                 │   Testing Performance │\n",
            "╞════════════════════════╪═══════════════════════╡\n",
            "│ accuracy               │             0.953216  │\n",
            "├────────────────────────┼───────────────────────┤\n",
            "│ precision              │             0.964286  │\n",
            "├────────────────────────┼───────────────────────┤\n",
            "│ recall                 │             0.9       │\n",
            "├────────────────────────┼───────────────────────┤\n",
            "│ misclassification rate │             0.0467836 │\n",
            "├────────────────────────┼───────────────────────┤\n",
            "│ F1                     │             0.931034  │\n",
            "├────────────────────────┼───────────────────────┤\n",
            "│ r2                     │             0.794595  │\n",
            "├────────────────────────┼───────────────────────┤\n",
            "│ AUC                    │             0.940991  │\n",
            "├────────────────────────┼───────────────────────┤\n",
            "│ mse                    │             0.0467836 │\n",
            "├────────────────────────┼───────────────────────┤\n",
            "│ logloss                │             1.61586   │\n",
            "╘════════════════════════╧═══════════════════════╛\n",
            "\n",
            "Classification report:\n",
            "               precision    recall  f1-score   support\n",
            "\n",
            "           0       0.95      0.98      0.96       111\n",
            "           1       0.96      0.90      0.93        60\n",
            "\n",
            "    accuracy                           0.95       171\n",
            "   macro avg       0.96      0.94      0.95       171\n",
            "weighted avg       0.95      0.95      0.95       171\n",
            "\n",
            "\n",
            "Correct classifications on test data: 163/171   95.322%\n"
          ]
        },
        {
          "output_type": "display_data",
          "data": {
            "image/png": "[encoded data removed]",
            "text/plain": [
              "<Figure size 432x288 with 2 Axes>"
            ]
          },
          "metadata": {
            "needs_background": "light"
          }
        },
        {
          "output_type": "display_data",
          "data": {
            "image/png": "[encoded data removed]",
            "text/plain": [
              "<Figure size 720x360 with 2 Axes>"
            ]
          },
          "metadata": {
            "needs_background": "light"
          }
        },
        {
          "output_type": "stream",
          "name": "stdout",
          "text": [
            "\n"
          ]
        }
      ]
    },
    {
      "cell_type": "code",
      "metadata": {
        "colab": {
          "base_uri": "https://localhost:8080/",
          "height": 1000
        },
        "id": "2sLZgSWzgTHS",
        "outputId": "77ec3c57-05d1-4057-d6ca-3f0cb4e8f345"
      },
      "source": [
        "trainPerformanceData"
      ],
      "execution_count": 25,
      "outputs": [
        {
          "output_type": "execute_result",
          "data": {
            "text/html": [
              "<div>\n",
              "<style scoped>\n",
              "    .dataframe tbody tr th:only-of-type {\n",
              "        vertical-align: middle;\n",
              "    }\n",
              "\n",
              "    .dataframe tbody tr th {\n",
              "        vertical-align: top;\n",
              "    }\n",
              "\n",
              "    .dataframe thead th {\n",
              "        text-align: right;\n",
              "    }\n",
              "</style>\n",
              "<table border=\"1\" class=\"dataframe\">\n",
              "  <thead>\n",
              "    <tr style=\"text-align: right;\">\n",
              "      <th></th>\n",
              "      <th>Algorithm</th>\n",
              "      <th>Scoring Name</th>\n",
              "      <th>CV mean</th>\n",
              "      <th>CV std</th>\n",
              "    </tr>\n",
              "  </thead>\n",
              "  <tbody>\n",
              "    <tr>\n",
              "      <th>0</th>\n",
              "      <td>Logistic Regression</td>\n",
              "      <td>accuracy</td>\n",
              "      <td>0.972373</td>\n",
              "      <td>0.012223</td>\n",
              "    </tr>\n",
              "    <tr>\n",
              "      <th>1</th>\n",
              "      <td>Logistic Regression</td>\n",
              "      <td>precision</td>\n",
              "      <td>0.980417</td>\n",
              "      <td>0.016008</td>\n",
              "    </tr>\n",
              "    <tr>\n",
              "      <th>2</th>\n",
              "      <td>Logistic Regression</td>\n",
              "      <td>recall</td>\n",
              "      <td>0.947527</td>\n",
              "      <td>0.043701</td>\n",
              "    </tr>\n",
              "    <tr>\n",
              "      <th>3</th>\n",
              "      <td>Logistic Regression</td>\n",
              "      <td>f1</td>\n",
              "      <td>0.962802</td>\n",
              "      <td>0.017327</td>\n",
              "    </tr>\n",
              "    <tr>\n",
              "      <th>4</th>\n",
              "      <td>Logistic Regression</td>\n",
              "      <td>average_precision</td>\n",
              "      <td>0.994018</td>\n",
              "      <td>0.005365</td>\n",
              "    </tr>\n",
              "    <tr>\n",
              "      <th>5</th>\n",
              "      <td>Logistic Regression</td>\n",
              "      <td>roc_auc</td>\n",
              "      <td>0.994295</td>\n",
              "      <td>0.006768</td>\n",
              "    </tr>\n",
              "    <tr>\n",
              "      <th>6</th>\n",
              "      <td>Random Forest Classifier</td>\n",
              "      <td>accuracy</td>\n",
              "      <td>0.954873</td>\n",
              "      <td>0.035811</td>\n",
              "    </tr>\n",
              "    <tr>\n",
              "      <th>7</th>\n",
              "      <td>Random Forest Classifier</td>\n",
              "      <td>precision</td>\n",
              "      <td>0.937885</td>\n",
              "      <td>0.063519</td>\n",
              "    </tr>\n",
              "    <tr>\n",
              "      <th>8</th>\n",
              "      <td>Random Forest Classifier</td>\n",
              "      <td>recall</td>\n",
              "      <td>0.934194</td>\n",
              "      <td>0.021108</td>\n",
              "    </tr>\n",
              "    <tr>\n",
              "      <th>9</th>\n",
              "      <td>Random Forest Classifier</td>\n",
              "      <td>f1</td>\n",
              "      <td>0.938669</td>\n",
              "      <td>0.041298</td>\n",
              "    </tr>\n",
              "    <tr>\n",
              "      <th>10</th>\n",
              "      <td>Random Forest Classifier</td>\n",
              "      <td>average_precision</td>\n",
              "      <td>0.989392</td>\n",
              "      <td>0.008810</td>\n",
              "    </tr>\n",
              "    <tr>\n",
              "      <th>11</th>\n",
              "      <td>Random Forest Classifier</td>\n",
              "      <td>roc_auc</td>\n",
              "      <td>0.991946</td>\n",
              "      <td>0.006909</td>\n",
              "    </tr>\n",
              "    <tr>\n",
              "      <th>12</th>\n",
              "      <td>Gradient Boosting Classifier</td>\n",
              "      <td>accuracy</td>\n",
              "      <td>0.952278</td>\n",
              "      <td>0.024214</td>\n",
              "    </tr>\n",
              "    <tr>\n",
              "      <th>13</th>\n",
              "      <td>Gradient Boosting Classifier</td>\n",
              "      <td>precision</td>\n",
              "      <td>0.937639</td>\n",
              "      <td>0.048543</td>\n",
              "    </tr>\n",
              "    <tr>\n",
              "      <th>14</th>\n",
              "      <td>Gradient Boosting Classifier</td>\n",
              "      <td>recall</td>\n",
              "      <td>0.947312</td>\n",
              "      <td>0.026627</td>\n",
              "    </tr>\n",
              "    <tr>\n",
              "      <th>15</th>\n",
              "      <td>Gradient Boosting Classifier</td>\n",
              "      <td>f1</td>\n",
              "      <td>0.941718</td>\n",
              "      <td>0.029919</td>\n",
              "    </tr>\n",
              "    <tr>\n",
              "      <th>16</th>\n",
              "      <td>Gradient Boosting Classifier</td>\n",
              "      <td>average_precision</td>\n",
              "      <td>0.986916</td>\n",
              "      <td>0.013824</td>\n",
              "    </tr>\n",
              "    <tr>\n",
              "      <th>17</th>\n",
              "      <td>Gradient Boosting Classifier</td>\n",
              "      <td>roc_auc</td>\n",
              "      <td>0.991894</td>\n",
              "      <td>0.008366</td>\n",
              "    </tr>\n",
              "    <tr>\n",
              "      <th>18</th>\n",
              "      <td>Extra Trees Classifier</td>\n",
              "      <td>accuracy</td>\n",
              "      <td>0.957373</td>\n",
              "      <td>0.031154</td>\n",
              "    </tr>\n",
              "    <tr>\n",
              "      <th>19</th>\n",
              "      <td>Extra Trees Classifier</td>\n",
              "      <td>precision</td>\n",
              "      <td>0.928049</td>\n",
              "      <td>0.083627</td>\n",
              "    </tr>\n",
              "    <tr>\n",
              "      <th>20</th>\n",
              "      <td>Extra Trees Classifier</td>\n",
              "      <td>recall</td>\n",
              "      <td>0.934409</td>\n",
              "      <td>0.035153</td>\n",
              "    </tr>\n",
              "    <tr>\n",
              "      <th>21</th>\n",
              "      <td>Extra Trees Classifier</td>\n",
              "      <td>f1</td>\n",
              "      <td>0.938269</td>\n",
              "      <td>0.038864</td>\n",
              "    </tr>\n",
              "    <tr>\n",
              "      <th>22</th>\n",
              "      <td>Extra Trees Classifier</td>\n",
              "      <td>average_precision</td>\n",
              "      <td>0.987586</td>\n",
              "      <td>0.010249</td>\n",
              "    </tr>\n",
              "    <tr>\n",
              "      <th>23</th>\n",
              "      <td>Extra Trees Classifier</td>\n",
              "      <td>roc_auc</td>\n",
              "      <td>0.992662</td>\n",
              "      <td>0.005664</td>\n",
              "    </tr>\n",
              "    <tr>\n",
              "      <th>24</th>\n",
              "      <td>XGB Classifier</td>\n",
              "      <td>accuracy</td>\n",
              "      <td>0.954810</td>\n",
              "      <td>0.036704</td>\n",
              "    </tr>\n",
              "    <tr>\n",
              "      <th>25</th>\n",
              "      <td>XGB Classifier</td>\n",
              "      <td>precision</td>\n",
              "      <td>0.932003</td>\n",
              "      <td>0.059224</td>\n",
              "    </tr>\n",
              "    <tr>\n",
              "      <th>26</th>\n",
              "      <td>XGB Classifier</td>\n",
              "      <td>recall</td>\n",
              "      <td>0.953978</td>\n",
              "      <td>0.032991</td>\n",
              "    </tr>\n",
              "    <tr>\n",
              "      <th>27</th>\n",
              "      <td>XGB Classifier</td>\n",
              "      <td>f1</td>\n",
              "      <td>0.942466</td>\n",
              "      <td>0.044819</td>\n",
              "    </tr>\n",
              "    <tr>\n",
              "      <th>28</th>\n",
              "      <td>XGB Classifier</td>\n",
              "      <td>average_precision</td>\n",
              "      <td>0.986303</td>\n",
              "      <td>0.010568</td>\n",
              "    </tr>\n",
              "    <tr>\n",
              "      <th>29</th>\n",
              "      <td>XGB Classifier</td>\n",
              "      <td>roc_auc</td>\n",
              "      <td>0.989867</td>\n",
              "      <td>0.008321</td>\n",
              "    </tr>\n",
              "    <tr>\n",
              "      <th>30</th>\n",
              "      <td>KNeighbors Classifier</td>\n",
              "      <td>accuracy</td>\n",
              "      <td>0.949810</td>\n",
              "      <td>0.030568</td>\n",
              "    </tr>\n",
              "    <tr>\n",
              "      <th>31</th>\n",
              "      <td>KNeighbors Classifier</td>\n",
              "      <td>precision</td>\n",
              "      <td>0.941650</td>\n",
              "      <td>0.051325</td>\n",
              "    </tr>\n",
              "    <tr>\n",
              "      <th>32</th>\n",
              "      <td>KNeighbors Classifier</td>\n",
              "      <td>recall</td>\n",
              "      <td>0.927742</td>\n",
              "      <td>0.037787</td>\n",
              "    </tr>\n",
              "    <tr>\n",
              "      <th>33</th>\n",
              "      <td>KNeighbors Classifier</td>\n",
              "      <td>f1</td>\n",
              "      <td>0.934166</td>\n",
              "      <td>0.039448</td>\n",
              "    </tr>\n",
              "    <tr>\n",
              "      <th>34</th>\n",
              "      <td>KNeighbors Classifier</td>\n",
              "      <td>average_precision</td>\n",
              "      <td>0.971150</td>\n",
              "      <td>0.026925</td>\n",
              "    </tr>\n",
              "    <tr>\n",
              "      <th>35</th>\n",
              "      <td>KNeighbors Classifier</td>\n",
              "      <td>roc_auc</td>\n",
              "      <td>0.978638</td>\n",
              "      <td>0.019606</td>\n",
              "    </tr>\n",
              "    <tr>\n",
              "      <th>36</th>\n",
              "      <td>SVM Classifier</td>\n",
              "      <td>accuracy</td>\n",
              "      <td>0.959873</td>\n",
              "      <td>0.024160</td>\n",
              "    </tr>\n",
              "    <tr>\n",
              "      <th>37</th>\n",
              "      <td>SVM Classifier</td>\n",
              "      <td>precision</td>\n",
              "      <td>0.948978</td>\n",
              "      <td>0.042245</td>\n",
              "    </tr>\n",
              "    <tr>\n",
              "      <th>38</th>\n",
              "      <td>SVM Classifier</td>\n",
              "      <td>recall</td>\n",
              "      <td>0.947527</td>\n",
              "      <td>0.025711</td>\n",
              "    </tr>\n",
              "    <tr>\n",
              "      <th>39</th>\n",
              "      <td>SVM Classifier</td>\n",
              "      <td>f1</td>\n",
              "      <td>0.947927</td>\n",
              "      <td>0.030157</td>\n",
              "    </tr>\n",
              "    <tr>\n",
              "      <th>40</th>\n",
              "      <td>SVM Classifier</td>\n",
              "      <td>average_precision</td>\n",
              "      <td>0.988331</td>\n",
              "      <td>0.011410</td>\n",
              "    </tr>\n",
              "    <tr>\n",
              "      <th>41</th>\n",
              "      <td>SVM Classifier</td>\n",
              "      <td>roc_auc</td>\n",
              "      <td>0.989764</td>\n",
              "      <td>0.010724</td>\n",
              "    </tr>\n",
              "  </tbody>\n",
              "</table>\n",
              "</div>"
            ],
            "text/plain": [
              "                       Algorithm       Scoring Name   CV mean    CV std\n",
              "0            Logistic Regression           accuracy  0.972373  0.012223\n",
              "1            Logistic Regression          precision  0.980417  0.016008\n",
              "2            Logistic Regression             recall  0.947527  0.043701\n",
              "3            Logistic Regression                 f1  0.962802  0.017327\n",
              "4            Logistic Regression  average_precision  0.994018  0.005365\n",
              "5            Logistic Regression            roc_auc  0.994295  0.006768\n",
              "6       Random Forest Classifier           accuracy  0.954873  0.035811\n",
              "7       Random Forest Classifier          precision  0.937885  0.063519\n",
              "8       Random Forest Classifier             recall  0.934194  0.021108\n",
              "9       Random Forest Classifier                 f1  0.938669  0.041298\n",
              "10      Random Forest Classifier  average_precision  0.989392  0.008810\n",
              "11      Random Forest Classifier            roc_auc  0.991946  0.006909\n",
              "12  Gradient Boosting Classifier           accuracy  0.952278  0.024214\n",
              "13  Gradient Boosting Classifier          precision  0.937639  0.048543\n",
              "14  Gradient Boosting Classifier             recall  0.947312  0.026627\n",
              "15  Gradient Boosting Classifier                 f1  0.941718  0.029919\n",
              "16  Gradient Boosting Classifier  average_precision  0.986916  0.013824\n",
              "17  Gradient Boosting Classifier            roc_auc  0.991894  0.008366\n",
              "18        Extra Trees Classifier           accuracy  0.957373  0.031154\n",
              "19        Extra Trees Classifier          precision  0.928049  0.083627\n",
              "20        Extra Trees Classifier             recall  0.934409  0.035153\n",
              "21        Extra Trees Classifier                 f1  0.938269  0.038864\n",
              "22        Extra Trees Classifier  average_precision  0.987586  0.010249\n",
              "23        Extra Trees Classifier            roc_auc  0.992662  0.005664\n",
              "24                XGB Classifier           accuracy  0.954810  0.036704\n",
              "25                XGB Classifier          precision  0.932003  0.059224\n",
              "26                XGB Classifier             recall  0.953978  0.032991\n",
              "27                XGB Classifier                 f1  0.942466  0.044819\n",
              "28                XGB Classifier  average_precision  0.986303  0.010568\n",
              "29                XGB Classifier            roc_auc  0.989867  0.008321\n",
              "30         KNeighbors Classifier           accuracy  0.949810  0.030568\n",
              "31         KNeighbors Classifier          precision  0.941650  0.051325\n",
              "32         KNeighbors Classifier             recall  0.927742  0.037787\n",
              "33         KNeighbors Classifier                 f1  0.934166  0.039448\n",
              "34         KNeighbors Classifier  average_precision  0.971150  0.026925\n",
              "35         KNeighbors Classifier            roc_auc  0.978638  0.019606\n",
              "36                SVM Classifier           accuracy  0.959873  0.024160\n",
              "37                SVM Classifier          precision  0.948978  0.042245\n",
              "38                SVM Classifier             recall  0.947527  0.025711\n",
              "39                SVM Classifier                 f1  0.947927  0.030157\n",
              "40                SVM Classifier  average_precision  0.988331  0.011410\n",
              "41                SVM Classifier            roc_auc  0.989764  0.010724"
            ]
          },
          "metadata": {},
          "execution_count": 25
        }
      ]
    },
    {
      "cell_type": "code",
      "metadata": {
        "scrolled": true,
        "colab": {
          "base_uri": "https://localhost:8080/",
          "height": 362
        },
        "id": "IHnLyoHrgTHS",
        "outputId": "75ad24cf-070a-44a3-d9ab-c8f778210366"
      },
      "source": [
        "trainPerformanceData_pvt=pd.pivot_table(trainPerformanceData,index=[\"Algorithm\"],values=[\"CV mean\"],columns=[\"Scoring Name\"],aggfunc=[np.min])\n",
        "trainPerformanceData_pvt"
      ],
      "execution_count": 26,
      "outputs": [
        {
          "output_type": "execute_result",
          "data": {
            "text/html": [
              "<div>\n",
              "<style scoped>\n",
              "    .dataframe tbody tr th:only-of-type {\n",
              "        vertical-align: middle;\n",
              "    }\n",
              "\n",
              "    .dataframe tbody tr th {\n",
              "        vertical-align: top;\n",
              "    }\n",
              "\n",
              "    .dataframe thead tr th {\n",
              "        text-align: left;\n",
              "    }\n",
              "\n",
              "    .dataframe thead tr:last-of-type th {\n",
              "        text-align: right;\n",
              "    }\n",
              "</style>\n",
              "<table border=\"1\" class=\"dataframe\">\n",
              "  <thead>\n",
              "    <tr>\n",
              "      <th></th>\n",
              "      <th colspan=\"6\" halign=\"left\">amin</th>\n",
              "    </tr>\n",
              "    <tr>\n",
              "      <th></th>\n",
              "      <th colspan=\"6\" halign=\"left\">CV mean</th>\n",
              "    </tr>\n",
              "    <tr>\n",
              "      <th>Scoring Name</th>\n",
              "      <th>accuracy</th>\n",
              "      <th>average_precision</th>\n",
              "      <th>f1</th>\n",
              "      <th>precision</th>\n",
              "      <th>recall</th>\n",
              "      <th>roc_auc</th>\n",
              "    </tr>\n",
              "    <tr>\n",
              "      <th>Algorithm</th>\n",
              "      <th></th>\n",
              "      <th></th>\n",
              "      <th></th>\n",
              "      <th></th>\n",
              "      <th></th>\n",
              "      <th></th>\n",
              "    </tr>\n",
              "  </thead>\n",
              "  <tbody>\n",
              "    <tr>\n",
              "      <th>Extra Trees Classifier</th>\n",
              "      <td>0.957373</td>\n",
              "      <td>0.987586</td>\n",
              "      <td>0.938269</td>\n",
              "      <td>0.928049</td>\n",
              "      <td>0.934409</td>\n",
              "      <td>0.992662</td>\n",
              "    </tr>\n",
              "    <tr>\n",
              "      <th>Gradient Boosting Classifier</th>\n",
              "      <td>0.952278</td>\n",
              "      <td>0.986916</td>\n",
              "      <td>0.941718</td>\n",
              "      <td>0.937639</td>\n",
              "      <td>0.947312</td>\n",
              "      <td>0.991894</td>\n",
              "    </tr>\n",
              "    <tr>\n",
              "      <th>KNeighbors Classifier</th>\n",
              "      <td>0.949810</td>\n",
              "      <td>0.971150</td>\n",
              "      <td>0.934166</td>\n",
              "      <td>0.941650</td>\n",
              "      <td>0.927742</td>\n",
              "      <td>0.978638</td>\n",
              "    </tr>\n",
              "    <tr>\n",
              "      <th>Logistic Regression</th>\n",
              "      <td>0.972373</td>\n",
              "      <td>0.994018</td>\n",
              "      <td>0.962802</td>\n",
              "      <td>0.980417</td>\n",
              "      <td>0.947527</td>\n",
              "      <td>0.994295</td>\n",
              "    </tr>\n",
              "    <tr>\n",
              "      <th>Random Forest Classifier</th>\n",
              "      <td>0.954873</td>\n",
              "      <td>0.989392</td>\n",
              "      <td>0.938669</td>\n",
              "      <td>0.937885</td>\n",
              "      <td>0.934194</td>\n",
              "      <td>0.991946</td>\n",
              "    </tr>\n",
              "    <tr>\n",
              "      <th>SVM Classifier</th>\n",
              "      <td>0.959873</td>\n",
              "      <td>0.988331</td>\n",
              "      <td>0.947927</td>\n",
              "      <td>0.948978</td>\n",
              "      <td>0.947527</td>\n",
              "      <td>0.989764</td>\n",
              "    </tr>\n",
              "    <tr>\n",
              "      <th>XGB Classifier</th>\n",
              "      <td>0.954810</td>\n",
              "      <td>0.986303</td>\n",
              "      <td>0.942466</td>\n",
              "      <td>0.932003</td>\n",
              "      <td>0.953978</td>\n",
              "      <td>0.989867</td>\n",
              "    </tr>\n",
              "  </tbody>\n",
              "</table>\n",
              "</div>"
            ],
            "text/plain": [
              "                                  amin                    ...                    \n",
              "                               CV mean                    ...                    \n",
              "Scoring Name                  accuracy average_precision  ...    recall   roc_auc\n",
              "Algorithm                                                 ...                    \n",
              "Extra Trees Classifier        0.957373          0.987586  ...  0.934409  0.992662\n",
              "Gradient Boosting Classifier  0.952278          0.986916  ...  0.947312  0.991894\n",
              "KNeighbors Classifier         0.949810          0.971150  ...  0.927742  0.978638\n",
              "Logistic Regression           0.972373          0.994018  ...  0.947527  0.994295\n",
              "Random Forest Classifier      0.954873          0.989392  ...  0.934194  0.991946\n",
              "SVM Classifier                0.959873          0.988331  ...  0.947527  0.989764\n",
              "XGB Classifier                0.954810          0.986303  ...  0.953978  0.989867\n",
              "\n",
              "[7 rows x 6 columns]"
            ]
          },
          "metadata": {},
          "execution_count": 26
        }
      ]
    },
    {
      "cell_type": "code",
      "metadata": {
        "scrolled": true,
        "colab": {
          "base_uri": "https://localhost:8080/",
          "height": 269
        },
        "id": "ygeat48agTHT",
        "outputId": "27459c42-ae37-473a-bfba-472361eb4f4c"
      },
      "source": [
        "testPerformanceData.sort_values(by=['Algorithm'])"
      ],
      "execution_count": 27,
      "outputs": [
        {
          "output_type": "execute_result",
          "data": {
            "text/html": [
              "<div>\n",
              "<style scoped>\n",
              "    .dataframe tbody tr th:only-of-type {\n",
              "        vertical-align: middle;\n",
              "    }\n",
              "\n",
              "    .dataframe tbody tr th {\n",
              "        vertical-align: top;\n",
              "    }\n",
              "\n",
              "    .dataframe thead th {\n",
              "        text-align: right;\n",
              "    }\n",
              "</style>\n",
              "<table border=\"1\" class=\"dataframe\">\n",
              "  <thead>\n",
              "    <tr style=\"text-align: right;\">\n",
              "      <th></th>\n",
              "      <th>Algorithm</th>\n",
              "      <th>Accuracy</th>\n",
              "      <th>AUC</th>\n",
              "      <th>Precision</th>\n",
              "      <th>Recall</th>\n",
              "      <th>F1</th>\n",
              "    </tr>\n",
              "  </thead>\n",
              "  <tbody>\n",
              "    <tr>\n",
              "      <th>3</th>\n",
              "      <td>Extra Trees Classifier</td>\n",
              "      <td>0.959064</td>\n",
              "      <td>0.949324</td>\n",
              "      <td>0.964912</td>\n",
              "      <td>0.916667</td>\n",
              "      <td>0.940171</td>\n",
              "    </tr>\n",
              "    <tr>\n",
              "      <th>2</th>\n",
              "      <td>Gradient Boosting Classifier</td>\n",
              "      <td>0.912281</td>\n",
              "      <td>0.901802</td>\n",
              "      <td>0.881356</td>\n",
              "      <td>0.866667</td>\n",
              "      <td>0.873950</td>\n",
              "    </tr>\n",
              "    <tr>\n",
              "      <th>5</th>\n",
              "      <td>KNeighbors Classifier</td>\n",
              "      <td>0.947368</td>\n",
              "      <td>0.932658</td>\n",
              "      <td>0.963636</td>\n",
              "      <td>0.883333</td>\n",
              "      <td>0.921739</td>\n",
              "    </tr>\n",
              "    <tr>\n",
              "      <th>0</th>\n",
              "      <td>Logistic Regression</td>\n",
              "      <td>0.959064</td>\n",
              "      <td>0.949324</td>\n",
              "      <td>0.964912</td>\n",
              "      <td>0.916667</td>\n",
              "      <td>0.940171</td>\n",
              "    </tr>\n",
              "    <tr>\n",
              "      <th>1</th>\n",
              "      <td>Random Forest Classifier</td>\n",
              "      <td>0.935673</td>\n",
              "      <td>0.927477</td>\n",
              "      <td>0.915254</td>\n",
              "      <td>0.900000</td>\n",
              "      <td>0.907563</td>\n",
              "    </tr>\n",
              "    <tr>\n",
              "      <th>6</th>\n",
              "      <td>SVM Classifier</td>\n",
              "      <td>0.953216</td>\n",
              "      <td>0.940991</td>\n",
              "      <td>0.964286</td>\n",
              "      <td>0.900000</td>\n",
              "      <td>0.931034</td>\n",
              "    </tr>\n",
              "    <tr>\n",
              "      <th>4</th>\n",
              "      <td>XGB Classifier</td>\n",
              "      <td>0.964912</td>\n",
              "      <td>0.961486</td>\n",
              "      <td>0.950000</td>\n",
              "      <td>0.950000</td>\n",
              "      <td>0.950000</td>\n",
              "    </tr>\n",
              "  </tbody>\n",
              "</table>\n",
              "</div>"
            ],
            "text/plain": [
              "                      Algorithm  Accuracy  ...    Recall        F1\n",
              "3        Extra Trees Classifier  0.959064  ...  0.916667  0.940171\n",
              "2  Gradient Boosting Classifier  0.912281  ...  0.866667  0.873950\n",
              "5         KNeighbors Classifier  0.947368  ...  0.883333  0.921739\n",
              "0           Logistic Regression  0.959064  ...  0.916667  0.940171\n",
              "1      Random Forest Classifier  0.935673  ...  0.900000  0.907563\n",
              "6                SVM Classifier  0.953216  ...  0.900000  0.931034\n",
              "4                XGB Classifier  0.964912  ...  0.950000  0.950000\n",
              "\n",
              "[7 rows x 6 columns]"
            ]
          },
          "metadata": {},
          "execution_count": 27
        }
      ]
    },
    {
      "cell_type": "code",
      "metadata": {
        "colab": {
          "base_uri": "https://localhost:8080/",
          "height": 278
        },
        "id": "ZeXWwz1EgTHT",
        "outputId": "51580466-5df9-4efc-b8b9-723b8d1c8cac"
      },
      "source": [
        "# plotting the coefficient score \n",
        "fig, ax = plt.subplots(figsize =(6, 4)) \n",
        "  \n",
        "color =['tab:blue', 'tab:orange', 'tab:green', 'tab:red', 'tab:purple', 'tab:olive', 'tab:cyan'] \n",
        "  \n",
        "ax.barh(testPerformanceData[\"Algorithm\"], testPerformanceData['AUC'], color = color) \n",
        "  \n",
        "#ax.spines['bottom'].set_position('zero') \n",
        "plt.style.use('ggplot') \n",
        "plt.ylabel('Algorithm')\n",
        "plt.xlabel('AUC')\n",
        "#plt.title('AUC value of Algorithms ')\n",
        "plt.show() "
      ],
      "execution_count": 28,
      "outputs": [
        {
          "output_type": "display_data",
          "data": {
            "image/png": "[encoded data removed]",
            "text/plain": [
              "<Figure size 432x288 with 1 Axes>"
            ]
          },
          "metadata": {
            "needs_background": "light"
          }
        }
      ]
    },
    {
      "cell_type": "markdown",
      "metadata": {
        "id": "DUX56CHwgTHT"
      },
      "source": [
        "## Conclusions"
      ]
    },
    {
      "cell_type": "markdown",
      "metadata": {
        "id": "uUHnNOnKgTHT"
      },
      "source": [
        "Thus, the most significant features in predicting malignant or benign for cancer patients obtained by algorithms are texture_mean, area_mean, concavity_mean, area_se, concavity_se, fractal_dimension_se, smoothness_worst, concavity_worst, symmetry_worst, fractal_dimension_worst.\n",
        "To obtain best results from predictive model, many different models are trained, optimized, and evaluated using 16 set of features. During this process the feature set itself is culled using model-specific methods. Each model and subset of features is evaluated using Accuracy, AUC and sensitivity using a 5-fold cross-validation. Best results are obtained with Logistic regression, with the random forest feature set culled to 10 features. Above table shows the performance measures of the classification techniques. The logistic regression achieved an accuracy and AUC of 0.977 and 0.971 on test data."
      ]
    }
  ]
}